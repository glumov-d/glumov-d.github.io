{
  "nbformat": 4,
  "nbformat_minor": 0,
  "metadata": {
    "colab": {
      "provenance": [],
      "gpuType": "T4"
    },
    "kernelspec": {
      "name": "python3",
      "display_name": "Python 3"
    },
    "language_info": {
      "name": "python"
    },
    "widgets": {
      "application/vnd.jupyter.widget-state+json": {
        "c6d8460bd9a541b4972dac125e65bb73": {
          "model_module": "@jupyter-widgets/controls",
          "model_name": "HBoxModel",
          "model_module_version": "1.5.0",
          "state": {
            "_dom_classes": [],
            "_model_module": "@jupyter-widgets/controls",
            "_model_module_version": "1.5.0",
            "_model_name": "HBoxModel",
            "_view_count": null,
            "_view_module": "@jupyter-widgets/controls",
            "_view_module_version": "1.5.0",
            "_view_name": "HBoxView",
            "box_style": "",
            "children": [
              "IPY_MODEL_4eef5b38942c4483bf360e1d25fe8cd4",
              "IPY_MODEL_0d7b7b95510949b7a25b2039e612a6e4",
              "IPY_MODEL_a5900b542dc9460b9055ba216f4b49c6"
            ],
            "layout": "IPY_MODEL_89b88061df3a48d397a0b689892dd00d"
          }
        },
        "4eef5b38942c4483bf360e1d25fe8cd4": {
          "model_module": "@jupyter-widgets/controls",
          "model_name": "HTMLModel",
          "model_module_version": "1.5.0",
          "state": {
            "_dom_classes": [],
            "_model_module": "@jupyter-widgets/controls",
            "_model_module_version": "1.5.0",
            "_model_name": "HTMLModel",
            "_view_count": null,
            "_view_module": "@jupyter-widgets/controls",
            "_view_module_version": "1.5.0",
            "_view_name": "HTMLView",
            "description": "",
            "description_tooltip": null,
            "layout": "IPY_MODEL_fe91136260954578a5551d78e1bcf22d",
            "placeholder": "​",
            "style": "IPY_MODEL_f7e43b9dc0e34390b054a1c64df8bd07",
            "value": "tokenizer_config.json: 100%"
          }
        },
        "0d7b7b95510949b7a25b2039e612a6e4": {
          "model_module": "@jupyter-widgets/controls",
          "model_name": "FloatProgressModel",
          "model_module_version": "1.5.0",
          "state": {
            "_dom_classes": [],
            "_model_module": "@jupyter-widgets/controls",
            "_model_module_version": "1.5.0",
            "_model_name": "FloatProgressModel",
            "_view_count": null,
            "_view_module": "@jupyter-widgets/controls",
            "_view_module_version": "1.5.0",
            "_view_name": "ProgressView",
            "bar_style": "success",
            "description": "",
            "description_tooltip": null,
            "layout": "IPY_MODEL_82977354bc304eff94af75bb363cb327",
            "max": 24,
            "min": 0,
            "orientation": "horizontal",
            "style": "IPY_MODEL_0b9df3309f184ade82a5217d658aab53",
            "value": 24
          }
        },
        "a5900b542dc9460b9055ba216f4b49c6": {
          "model_module": "@jupyter-widgets/controls",
          "model_name": "HTMLModel",
          "model_module_version": "1.5.0",
          "state": {
            "_dom_classes": [],
            "_model_module": "@jupyter-widgets/controls",
            "_model_module_version": "1.5.0",
            "_model_name": "HTMLModel",
            "_view_count": null,
            "_view_module": "@jupyter-widgets/controls",
            "_view_module_version": "1.5.0",
            "_view_name": "HTMLView",
            "description": "",
            "description_tooltip": null,
            "layout": "IPY_MODEL_aae9fafcc27c42ba882f499e8441f6dc",
            "placeholder": "​",
            "style": "IPY_MODEL_eacba46488e74cbfaa2f050d0d737f84",
            "value": " 24.0/24.0 [00:00&lt;00:00, 1.47kB/s]"
          }
        },
        "89b88061df3a48d397a0b689892dd00d": {
          "model_module": "@jupyter-widgets/base",
          "model_name": "LayoutModel",
          "model_module_version": "1.2.0",
          "state": {
            "_model_module": "@jupyter-widgets/base",
            "_model_module_version": "1.2.0",
            "_model_name": "LayoutModel",
            "_view_count": null,
            "_view_module": "@jupyter-widgets/base",
            "_view_module_version": "1.2.0",
            "_view_name": "LayoutView",
            "align_content": null,
            "align_items": null,
            "align_self": null,
            "border": null,
            "bottom": null,
            "display": null,
            "flex": null,
            "flex_flow": null,
            "grid_area": null,
            "grid_auto_columns": null,
            "grid_auto_flow": null,
            "grid_auto_rows": null,
            "grid_column": null,
            "grid_gap": null,
            "grid_row": null,
            "grid_template_areas": null,
            "grid_template_columns": null,
            "grid_template_rows": null,
            "height": null,
            "justify_content": null,
            "justify_items": null,
            "left": null,
            "margin": null,
            "max_height": null,
            "max_width": null,
            "min_height": null,
            "min_width": null,
            "object_fit": null,
            "object_position": null,
            "order": null,
            "overflow": null,
            "overflow_x": null,
            "overflow_y": null,
            "padding": null,
            "right": null,
            "top": null,
            "visibility": null,
            "width": null
          }
        },
        "fe91136260954578a5551d78e1bcf22d": {
          "model_module": "@jupyter-widgets/base",
          "model_name": "LayoutModel",
          "model_module_version": "1.2.0",
          "state": {
            "_model_module": "@jupyter-widgets/base",
            "_model_module_version": "1.2.0",
            "_model_name": "LayoutModel",
            "_view_count": null,
            "_view_module": "@jupyter-widgets/base",
            "_view_module_version": "1.2.0",
            "_view_name": "LayoutView",
            "align_content": null,
            "align_items": null,
            "align_self": null,
            "border": null,
            "bottom": null,
            "display": null,
            "flex": null,
            "flex_flow": null,
            "grid_area": null,
            "grid_auto_columns": null,
            "grid_auto_flow": null,
            "grid_auto_rows": null,
            "grid_column": null,
            "grid_gap": null,
            "grid_row": null,
            "grid_template_areas": null,
            "grid_template_columns": null,
            "grid_template_rows": null,
            "height": null,
            "justify_content": null,
            "justify_items": null,
            "left": null,
            "margin": null,
            "max_height": null,
            "max_width": null,
            "min_height": null,
            "min_width": null,
            "object_fit": null,
            "object_position": null,
            "order": null,
            "overflow": null,
            "overflow_x": null,
            "overflow_y": null,
            "padding": null,
            "right": null,
            "top": null,
            "visibility": null,
            "width": null
          }
        },
        "f7e43b9dc0e34390b054a1c64df8bd07": {
          "model_module": "@jupyter-widgets/controls",
          "model_name": "DescriptionStyleModel",
          "model_module_version": "1.5.0",
          "state": {
            "_model_module": "@jupyter-widgets/controls",
            "_model_module_version": "1.5.0",
            "_model_name": "DescriptionStyleModel",
            "_view_count": null,
            "_view_module": "@jupyter-widgets/base",
            "_view_module_version": "1.2.0",
            "_view_name": "StyleView",
            "description_width": ""
          }
        },
        "82977354bc304eff94af75bb363cb327": {
          "model_module": "@jupyter-widgets/base",
          "model_name": "LayoutModel",
          "model_module_version": "1.2.0",
          "state": {
            "_model_module": "@jupyter-widgets/base",
            "_model_module_version": "1.2.0",
            "_model_name": "LayoutModel",
            "_view_count": null,
            "_view_module": "@jupyter-widgets/base",
            "_view_module_version": "1.2.0",
            "_view_name": "LayoutView",
            "align_content": null,
            "align_items": null,
            "align_self": null,
            "border": null,
            "bottom": null,
            "display": null,
            "flex": null,
            "flex_flow": null,
            "grid_area": null,
            "grid_auto_columns": null,
            "grid_auto_flow": null,
            "grid_auto_rows": null,
            "grid_column": null,
            "grid_gap": null,
            "grid_row": null,
            "grid_template_areas": null,
            "grid_template_columns": null,
            "grid_template_rows": null,
            "height": null,
            "justify_content": null,
            "justify_items": null,
            "left": null,
            "margin": null,
            "max_height": null,
            "max_width": null,
            "min_height": null,
            "min_width": null,
            "object_fit": null,
            "object_position": null,
            "order": null,
            "overflow": null,
            "overflow_x": null,
            "overflow_y": null,
            "padding": null,
            "right": null,
            "top": null,
            "visibility": null,
            "width": null
          }
        },
        "0b9df3309f184ade82a5217d658aab53": {
          "model_module": "@jupyter-widgets/controls",
          "model_name": "ProgressStyleModel",
          "model_module_version": "1.5.0",
          "state": {
            "_model_module": "@jupyter-widgets/controls",
            "_model_module_version": "1.5.0",
            "_model_name": "ProgressStyleModel",
            "_view_count": null,
            "_view_module": "@jupyter-widgets/base",
            "_view_module_version": "1.2.0",
            "_view_name": "StyleView",
            "bar_color": null,
            "description_width": ""
          }
        },
        "aae9fafcc27c42ba882f499e8441f6dc": {
          "model_module": "@jupyter-widgets/base",
          "model_name": "LayoutModel",
          "model_module_version": "1.2.0",
          "state": {
            "_model_module": "@jupyter-widgets/base",
            "_model_module_version": "1.2.0",
            "_model_name": "LayoutModel",
            "_view_count": null,
            "_view_module": "@jupyter-widgets/base",
            "_view_module_version": "1.2.0",
            "_view_name": "LayoutView",
            "align_content": null,
            "align_items": null,
            "align_self": null,
            "border": null,
            "bottom": null,
            "display": null,
            "flex": null,
            "flex_flow": null,
            "grid_area": null,
            "grid_auto_columns": null,
            "grid_auto_flow": null,
            "grid_auto_rows": null,
            "grid_column": null,
            "grid_gap": null,
            "grid_row": null,
            "grid_template_areas": null,
            "grid_template_columns": null,
            "grid_template_rows": null,
            "height": null,
            "justify_content": null,
            "justify_items": null,
            "left": null,
            "margin": null,
            "max_height": null,
            "max_width": null,
            "min_height": null,
            "min_width": null,
            "object_fit": null,
            "object_position": null,
            "order": null,
            "overflow": null,
            "overflow_x": null,
            "overflow_y": null,
            "padding": null,
            "right": null,
            "top": null,
            "visibility": null,
            "width": null
          }
        },
        "eacba46488e74cbfaa2f050d0d737f84": {
          "model_module": "@jupyter-widgets/controls",
          "model_name": "DescriptionStyleModel",
          "model_module_version": "1.5.0",
          "state": {
            "_model_module": "@jupyter-widgets/controls",
            "_model_module_version": "1.5.0",
            "_model_name": "DescriptionStyleModel",
            "_view_count": null,
            "_view_module": "@jupyter-widgets/base",
            "_view_module_version": "1.2.0",
            "_view_name": "StyleView",
            "description_width": ""
          }
        },
        "41807687230f44f591f0c123337ae387": {
          "model_module": "@jupyter-widgets/controls",
          "model_name": "HBoxModel",
          "model_module_version": "1.5.0",
          "state": {
            "_dom_classes": [],
            "_model_module": "@jupyter-widgets/controls",
            "_model_module_version": "1.5.0",
            "_model_name": "HBoxModel",
            "_view_count": null,
            "_view_module": "@jupyter-widgets/controls",
            "_view_module_version": "1.5.0",
            "_view_name": "HBoxView",
            "box_style": "",
            "children": [
              "IPY_MODEL_dc017c92d56b495aad8ae96a256502b7",
              "IPY_MODEL_8a23b649391e45598b59cd3539578282",
              "IPY_MODEL_788b5b09c1d04e4ab3448b6d50e2d280"
            ],
            "layout": "IPY_MODEL_50a0374428b748ef81006efc3c258569"
          }
        },
        "dc017c92d56b495aad8ae96a256502b7": {
          "model_module": "@jupyter-widgets/controls",
          "model_name": "HTMLModel",
          "model_module_version": "1.5.0",
          "state": {
            "_dom_classes": [],
            "_model_module": "@jupyter-widgets/controls",
            "_model_module_version": "1.5.0",
            "_model_name": "HTMLModel",
            "_view_count": null,
            "_view_module": "@jupyter-widgets/controls",
            "_view_module_version": "1.5.0",
            "_view_name": "HTMLView",
            "description": "",
            "description_tooltip": null,
            "layout": "IPY_MODEL_eb917e3a69f24e94a1125c0ba71408bc",
            "placeholder": "​",
            "style": "IPY_MODEL_3bb39db3bb23422d93b78ff787b71412",
            "value": "config.json: 100%"
          }
        },
        "8a23b649391e45598b59cd3539578282": {
          "model_module": "@jupyter-widgets/controls",
          "model_name": "FloatProgressModel",
          "model_module_version": "1.5.0",
          "state": {
            "_dom_classes": [],
            "_model_module": "@jupyter-widgets/controls",
            "_model_module_version": "1.5.0",
            "_model_name": "FloatProgressModel",
            "_view_count": null,
            "_view_module": "@jupyter-widgets/controls",
            "_view_module_version": "1.5.0",
            "_view_name": "ProgressView",
            "bar_style": "success",
            "description": "",
            "description_tooltip": null,
            "layout": "IPY_MODEL_88d679a74efc41f2b05f3eb956585930",
            "max": 642,
            "min": 0,
            "orientation": "horizontal",
            "style": "IPY_MODEL_333e2ca425f8491c9ba4e5567590e204",
            "value": 642
          }
        },
        "788b5b09c1d04e4ab3448b6d50e2d280": {
          "model_module": "@jupyter-widgets/controls",
          "model_name": "HTMLModel",
          "model_module_version": "1.5.0",
          "state": {
            "_dom_classes": [],
            "_model_module": "@jupyter-widgets/controls",
            "_model_module_version": "1.5.0",
            "_model_name": "HTMLModel",
            "_view_count": null,
            "_view_module": "@jupyter-widgets/controls",
            "_view_module_version": "1.5.0",
            "_view_name": "HTMLView",
            "description": "",
            "description_tooltip": null,
            "layout": "IPY_MODEL_6fccb71881604371a27b1a6b8abd6a97",
            "placeholder": "​",
            "style": "IPY_MODEL_be0bbb55a9c947789c2d9fac26a62784",
            "value": " 642/642 [00:00&lt;00:00, 21.8kB/s]"
          }
        },
        "50a0374428b748ef81006efc3c258569": {
          "model_module": "@jupyter-widgets/base",
          "model_name": "LayoutModel",
          "model_module_version": "1.2.0",
          "state": {
            "_model_module": "@jupyter-widgets/base",
            "_model_module_version": "1.2.0",
            "_model_name": "LayoutModel",
            "_view_count": null,
            "_view_module": "@jupyter-widgets/base",
            "_view_module_version": "1.2.0",
            "_view_name": "LayoutView",
            "align_content": null,
            "align_items": null,
            "align_self": null,
            "border": null,
            "bottom": null,
            "display": null,
            "flex": null,
            "flex_flow": null,
            "grid_area": null,
            "grid_auto_columns": null,
            "grid_auto_flow": null,
            "grid_auto_rows": null,
            "grid_column": null,
            "grid_gap": null,
            "grid_row": null,
            "grid_template_areas": null,
            "grid_template_columns": null,
            "grid_template_rows": null,
            "height": null,
            "justify_content": null,
            "justify_items": null,
            "left": null,
            "margin": null,
            "max_height": null,
            "max_width": null,
            "min_height": null,
            "min_width": null,
            "object_fit": null,
            "object_position": null,
            "order": null,
            "overflow": null,
            "overflow_x": null,
            "overflow_y": null,
            "padding": null,
            "right": null,
            "top": null,
            "visibility": null,
            "width": null
          }
        },
        "eb917e3a69f24e94a1125c0ba71408bc": {
          "model_module": "@jupyter-widgets/base",
          "model_name": "LayoutModel",
          "model_module_version": "1.2.0",
          "state": {
            "_model_module": "@jupyter-widgets/base",
            "_model_module_version": "1.2.0",
            "_model_name": "LayoutModel",
            "_view_count": null,
            "_view_module": "@jupyter-widgets/base",
            "_view_module_version": "1.2.0",
            "_view_name": "LayoutView",
            "align_content": null,
            "align_items": null,
            "align_self": null,
            "border": null,
            "bottom": null,
            "display": null,
            "flex": null,
            "flex_flow": null,
            "grid_area": null,
            "grid_auto_columns": null,
            "grid_auto_flow": null,
            "grid_auto_rows": null,
            "grid_column": null,
            "grid_gap": null,
            "grid_row": null,
            "grid_template_areas": null,
            "grid_template_columns": null,
            "grid_template_rows": null,
            "height": null,
            "justify_content": null,
            "justify_items": null,
            "left": null,
            "margin": null,
            "max_height": null,
            "max_width": null,
            "min_height": null,
            "min_width": null,
            "object_fit": null,
            "object_position": null,
            "order": null,
            "overflow": null,
            "overflow_x": null,
            "overflow_y": null,
            "padding": null,
            "right": null,
            "top": null,
            "visibility": null,
            "width": null
          }
        },
        "3bb39db3bb23422d93b78ff787b71412": {
          "model_module": "@jupyter-widgets/controls",
          "model_name": "DescriptionStyleModel",
          "model_module_version": "1.5.0",
          "state": {
            "_model_module": "@jupyter-widgets/controls",
            "_model_module_version": "1.5.0",
            "_model_name": "DescriptionStyleModel",
            "_view_count": null,
            "_view_module": "@jupyter-widgets/base",
            "_view_module_version": "1.2.0",
            "_view_name": "StyleView",
            "description_width": ""
          }
        },
        "88d679a74efc41f2b05f3eb956585930": {
          "model_module": "@jupyter-widgets/base",
          "model_name": "LayoutModel",
          "model_module_version": "1.2.0",
          "state": {
            "_model_module": "@jupyter-widgets/base",
            "_model_module_version": "1.2.0",
            "_model_name": "LayoutModel",
            "_view_count": null,
            "_view_module": "@jupyter-widgets/base",
            "_view_module_version": "1.2.0",
            "_view_name": "LayoutView",
            "align_content": null,
            "align_items": null,
            "align_self": null,
            "border": null,
            "bottom": null,
            "display": null,
            "flex": null,
            "flex_flow": null,
            "grid_area": null,
            "grid_auto_columns": null,
            "grid_auto_flow": null,
            "grid_auto_rows": null,
            "grid_column": null,
            "grid_gap": null,
            "grid_row": null,
            "grid_template_areas": null,
            "grid_template_columns": null,
            "grid_template_rows": null,
            "height": null,
            "justify_content": null,
            "justify_items": null,
            "left": null,
            "margin": null,
            "max_height": null,
            "max_width": null,
            "min_height": null,
            "min_width": null,
            "object_fit": null,
            "object_position": null,
            "order": null,
            "overflow": null,
            "overflow_x": null,
            "overflow_y": null,
            "padding": null,
            "right": null,
            "top": null,
            "visibility": null,
            "width": null
          }
        },
        "333e2ca425f8491c9ba4e5567590e204": {
          "model_module": "@jupyter-widgets/controls",
          "model_name": "ProgressStyleModel",
          "model_module_version": "1.5.0",
          "state": {
            "_model_module": "@jupyter-widgets/controls",
            "_model_module_version": "1.5.0",
            "_model_name": "ProgressStyleModel",
            "_view_count": null,
            "_view_module": "@jupyter-widgets/base",
            "_view_module_version": "1.2.0",
            "_view_name": "StyleView",
            "bar_color": null,
            "description_width": ""
          }
        },
        "6fccb71881604371a27b1a6b8abd6a97": {
          "model_module": "@jupyter-widgets/base",
          "model_name": "LayoutModel",
          "model_module_version": "1.2.0",
          "state": {
            "_model_module": "@jupyter-widgets/base",
            "_model_module_version": "1.2.0",
            "_model_name": "LayoutModel",
            "_view_count": null,
            "_view_module": "@jupyter-widgets/base",
            "_view_module_version": "1.2.0",
            "_view_name": "LayoutView",
            "align_content": null,
            "align_items": null,
            "align_self": null,
            "border": null,
            "bottom": null,
            "display": null,
            "flex": null,
            "flex_flow": null,
            "grid_area": null,
            "grid_auto_columns": null,
            "grid_auto_flow": null,
            "grid_auto_rows": null,
            "grid_column": null,
            "grid_gap": null,
            "grid_row": null,
            "grid_template_areas": null,
            "grid_template_columns": null,
            "grid_template_rows": null,
            "height": null,
            "justify_content": null,
            "justify_items": null,
            "left": null,
            "margin": null,
            "max_height": null,
            "max_width": null,
            "min_height": null,
            "min_width": null,
            "object_fit": null,
            "object_position": null,
            "order": null,
            "overflow": null,
            "overflow_x": null,
            "overflow_y": null,
            "padding": null,
            "right": null,
            "top": null,
            "visibility": null,
            "width": null
          }
        },
        "be0bbb55a9c947789c2d9fac26a62784": {
          "model_module": "@jupyter-widgets/controls",
          "model_name": "DescriptionStyleModel",
          "model_module_version": "1.5.0",
          "state": {
            "_model_module": "@jupyter-widgets/controls",
            "_model_module_version": "1.5.0",
            "_model_name": "DescriptionStyleModel",
            "_view_count": null,
            "_view_module": "@jupyter-widgets/base",
            "_view_module_version": "1.2.0",
            "_view_name": "StyleView",
            "description_width": ""
          }
        },
        "6658cc2d7d6e4e108ffdc56999585b0e": {
          "model_module": "@jupyter-widgets/controls",
          "model_name": "HBoxModel",
          "model_module_version": "1.5.0",
          "state": {
            "_dom_classes": [],
            "_model_module": "@jupyter-widgets/controls",
            "_model_module_version": "1.5.0",
            "_model_name": "HBoxModel",
            "_view_count": null,
            "_view_module": "@jupyter-widgets/controls",
            "_view_module_version": "1.5.0",
            "_view_name": "HBoxView",
            "box_style": "",
            "children": [
              "IPY_MODEL_d4d41fb955f14e859e49f2fbde5a1070",
              "IPY_MODEL_0c6b725b1cbe465bb533b27ecfc40169",
              "IPY_MODEL_3c1bb3bced704ab3acaad72a3f28578f"
            ],
            "layout": "IPY_MODEL_e1fa7ff1f1474173beeec61965356d1d"
          }
        },
        "d4d41fb955f14e859e49f2fbde5a1070": {
          "model_module": "@jupyter-widgets/controls",
          "model_name": "HTMLModel",
          "model_module_version": "1.5.0",
          "state": {
            "_dom_classes": [],
            "_model_module": "@jupyter-widgets/controls",
            "_model_module_version": "1.5.0",
            "_model_name": "HTMLModel",
            "_view_count": null,
            "_view_module": "@jupyter-widgets/controls",
            "_view_module_version": "1.5.0",
            "_view_name": "HTMLView",
            "description": "",
            "description_tooltip": null,
            "layout": "IPY_MODEL_7d45c1f44dc7421ba3eebe6a2a8e6055",
            "placeholder": "​",
            "style": "IPY_MODEL_854d29d7119b4f428d9a2e03133672f9",
            "value": "vocab.txt: 100%"
          }
        },
        "0c6b725b1cbe465bb533b27ecfc40169": {
          "model_module": "@jupyter-widgets/controls",
          "model_name": "FloatProgressModel",
          "model_module_version": "1.5.0",
          "state": {
            "_dom_classes": [],
            "_model_module": "@jupyter-widgets/controls",
            "_model_module_version": "1.5.0",
            "_model_name": "FloatProgressModel",
            "_view_count": null,
            "_view_module": "@jupyter-widgets/controls",
            "_view_module_version": "1.5.0",
            "_view_name": "ProgressView",
            "bar_style": "success",
            "description": "",
            "description_tooltip": null,
            "layout": "IPY_MODEL_9c5b7355be3e4c87b3e017a6339a7039",
            "max": 1649718,
            "min": 0,
            "orientation": "horizontal",
            "style": "IPY_MODEL_45548792aaf644e78fa3ba6191b09345",
            "value": 1649718
          }
        },
        "3c1bb3bced704ab3acaad72a3f28578f": {
          "model_module": "@jupyter-widgets/controls",
          "model_name": "HTMLModel",
          "model_module_version": "1.5.0",
          "state": {
            "_dom_classes": [],
            "_model_module": "@jupyter-widgets/controls",
            "_model_module_version": "1.5.0",
            "_model_name": "HTMLModel",
            "_view_count": null,
            "_view_module": "@jupyter-widgets/controls",
            "_view_module_version": "1.5.0",
            "_view_name": "HTMLView",
            "description": "",
            "description_tooltip": null,
            "layout": "IPY_MODEL_1f9f21ce1adc427d80809d61ff68b7aa",
            "placeholder": "​",
            "style": "IPY_MODEL_cf8de3a7e77847808eee9022ab3ee328",
            "value": " 1.65M/1.65M [00:00&lt;00:00, 3.28MB/s]"
          }
        },
        "e1fa7ff1f1474173beeec61965356d1d": {
          "model_module": "@jupyter-widgets/base",
          "model_name": "LayoutModel",
          "model_module_version": "1.2.0",
          "state": {
            "_model_module": "@jupyter-widgets/base",
            "_model_module_version": "1.2.0",
            "_model_name": "LayoutModel",
            "_view_count": null,
            "_view_module": "@jupyter-widgets/base",
            "_view_module_version": "1.2.0",
            "_view_name": "LayoutView",
            "align_content": null,
            "align_items": null,
            "align_self": null,
            "border": null,
            "bottom": null,
            "display": null,
            "flex": null,
            "flex_flow": null,
            "grid_area": null,
            "grid_auto_columns": null,
            "grid_auto_flow": null,
            "grid_auto_rows": null,
            "grid_column": null,
            "grid_gap": null,
            "grid_row": null,
            "grid_template_areas": null,
            "grid_template_columns": null,
            "grid_template_rows": null,
            "height": null,
            "justify_content": null,
            "justify_items": null,
            "left": null,
            "margin": null,
            "max_height": null,
            "max_width": null,
            "min_height": null,
            "min_width": null,
            "object_fit": null,
            "object_position": null,
            "order": null,
            "overflow": null,
            "overflow_x": null,
            "overflow_y": null,
            "padding": null,
            "right": null,
            "top": null,
            "visibility": null,
            "width": null
          }
        },
        "7d45c1f44dc7421ba3eebe6a2a8e6055": {
          "model_module": "@jupyter-widgets/base",
          "model_name": "LayoutModel",
          "model_module_version": "1.2.0",
          "state": {
            "_model_module": "@jupyter-widgets/base",
            "_model_module_version": "1.2.0",
            "_model_name": "LayoutModel",
            "_view_count": null,
            "_view_module": "@jupyter-widgets/base",
            "_view_module_version": "1.2.0",
            "_view_name": "LayoutView",
            "align_content": null,
            "align_items": null,
            "align_self": null,
            "border": null,
            "bottom": null,
            "display": null,
            "flex": null,
            "flex_flow": null,
            "grid_area": null,
            "grid_auto_columns": null,
            "grid_auto_flow": null,
            "grid_auto_rows": null,
            "grid_column": null,
            "grid_gap": null,
            "grid_row": null,
            "grid_template_areas": null,
            "grid_template_columns": null,
            "grid_template_rows": null,
            "height": null,
            "justify_content": null,
            "justify_items": null,
            "left": null,
            "margin": null,
            "max_height": null,
            "max_width": null,
            "min_height": null,
            "min_width": null,
            "object_fit": null,
            "object_position": null,
            "order": null,
            "overflow": null,
            "overflow_x": null,
            "overflow_y": null,
            "padding": null,
            "right": null,
            "top": null,
            "visibility": null,
            "width": null
          }
        },
        "854d29d7119b4f428d9a2e03133672f9": {
          "model_module": "@jupyter-widgets/controls",
          "model_name": "DescriptionStyleModel",
          "model_module_version": "1.5.0",
          "state": {
            "_model_module": "@jupyter-widgets/controls",
            "_model_module_version": "1.5.0",
            "_model_name": "DescriptionStyleModel",
            "_view_count": null,
            "_view_module": "@jupyter-widgets/base",
            "_view_module_version": "1.2.0",
            "_view_name": "StyleView",
            "description_width": ""
          }
        },
        "9c5b7355be3e4c87b3e017a6339a7039": {
          "model_module": "@jupyter-widgets/base",
          "model_name": "LayoutModel",
          "model_module_version": "1.2.0",
          "state": {
            "_model_module": "@jupyter-widgets/base",
            "_model_module_version": "1.2.0",
            "_model_name": "LayoutModel",
            "_view_count": null,
            "_view_module": "@jupyter-widgets/base",
            "_view_module_version": "1.2.0",
            "_view_name": "LayoutView",
            "align_content": null,
            "align_items": null,
            "align_self": null,
            "border": null,
            "bottom": null,
            "display": null,
            "flex": null,
            "flex_flow": null,
            "grid_area": null,
            "grid_auto_columns": null,
            "grid_auto_flow": null,
            "grid_auto_rows": null,
            "grid_column": null,
            "grid_gap": null,
            "grid_row": null,
            "grid_template_areas": null,
            "grid_template_columns": null,
            "grid_template_rows": null,
            "height": null,
            "justify_content": null,
            "justify_items": null,
            "left": null,
            "margin": null,
            "max_height": null,
            "max_width": null,
            "min_height": null,
            "min_width": null,
            "object_fit": null,
            "object_position": null,
            "order": null,
            "overflow": null,
            "overflow_x": null,
            "overflow_y": null,
            "padding": null,
            "right": null,
            "top": null,
            "visibility": null,
            "width": null
          }
        },
        "45548792aaf644e78fa3ba6191b09345": {
          "model_module": "@jupyter-widgets/controls",
          "model_name": "ProgressStyleModel",
          "model_module_version": "1.5.0",
          "state": {
            "_model_module": "@jupyter-widgets/controls",
            "_model_module_version": "1.5.0",
            "_model_name": "ProgressStyleModel",
            "_view_count": null,
            "_view_module": "@jupyter-widgets/base",
            "_view_module_version": "1.2.0",
            "_view_name": "StyleView",
            "bar_color": null,
            "description_width": ""
          }
        },
        "1f9f21ce1adc427d80809d61ff68b7aa": {
          "model_module": "@jupyter-widgets/base",
          "model_name": "LayoutModel",
          "model_module_version": "1.2.0",
          "state": {
            "_model_module": "@jupyter-widgets/base",
            "_model_module_version": "1.2.0",
            "_model_name": "LayoutModel",
            "_view_count": null,
            "_view_module": "@jupyter-widgets/base",
            "_view_module_version": "1.2.0",
            "_view_name": "LayoutView",
            "align_content": null,
            "align_items": null,
            "align_self": null,
            "border": null,
            "bottom": null,
            "display": null,
            "flex": null,
            "flex_flow": null,
            "grid_area": null,
            "grid_auto_columns": null,
            "grid_auto_flow": null,
            "grid_auto_rows": null,
            "grid_column": null,
            "grid_gap": null,
            "grid_row": null,
            "grid_template_areas": null,
            "grid_template_columns": null,
            "grid_template_rows": null,
            "height": null,
            "justify_content": null,
            "justify_items": null,
            "left": null,
            "margin": null,
            "max_height": null,
            "max_width": null,
            "min_height": null,
            "min_width": null,
            "object_fit": null,
            "object_position": null,
            "order": null,
            "overflow": null,
            "overflow_x": null,
            "overflow_y": null,
            "padding": null,
            "right": null,
            "top": null,
            "visibility": null,
            "width": null
          }
        },
        "cf8de3a7e77847808eee9022ab3ee328": {
          "model_module": "@jupyter-widgets/controls",
          "model_name": "DescriptionStyleModel",
          "model_module_version": "1.5.0",
          "state": {
            "_model_module": "@jupyter-widgets/controls",
            "_model_module_version": "1.5.0",
            "_model_name": "DescriptionStyleModel",
            "_view_count": null,
            "_view_module": "@jupyter-widgets/base",
            "_view_module_version": "1.2.0",
            "_view_name": "StyleView",
            "description_width": ""
          }
        },
        "fae48d1cbc04404192a16db8a3c8830d": {
          "model_module": "@jupyter-widgets/controls",
          "model_name": "HBoxModel",
          "model_module_version": "1.5.0",
          "state": {
            "_dom_classes": [],
            "_model_module": "@jupyter-widgets/controls",
            "_model_module_version": "1.5.0",
            "_model_name": "HBoxModel",
            "_view_count": null,
            "_view_module": "@jupyter-widgets/controls",
            "_view_module_version": "1.5.0",
            "_view_name": "HBoxView",
            "box_style": "",
            "children": [
              "IPY_MODEL_336e3700bd464bf2b15097b190cce16c",
              "IPY_MODEL_21cda5d7f6a0488aaa1d6ac1d4b2a6b4",
              "IPY_MODEL_bc7a7ac37533487fb622d0d975dc9d36"
            ],
            "layout": "IPY_MODEL_7a7e6d87c8dd4c28a9239d40837abceb"
          }
        },
        "336e3700bd464bf2b15097b190cce16c": {
          "model_module": "@jupyter-widgets/controls",
          "model_name": "HTMLModel",
          "model_module_version": "1.5.0",
          "state": {
            "_dom_classes": [],
            "_model_module": "@jupyter-widgets/controls",
            "_model_module_version": "1.5.0",
            "_model_name": "HTMLModel",
            "_view_count": null,
            "_view_module": "@jupyter-widgets/controls",
            "_view_module_version": "1.5.0",
            "_view_name": "HTMLView",
            "description": "",
            "description_tooltip": null,
            "layout": "IPY_MODEL_449851802a2b413e925d0451e6681e4b",
            "placeholder": "​",
            "style": "IPY_MODEL_5b971ff6d8ec48d9a22f6691d8f8076f",
            "value": "special_tokens_map.json: 100%"
          }
        },
        "21cda5d7f6a0488aaa1d6ac1d4b2a6b4": {
          "model_module": "@jupyter-widgets/controls",
          "model_name": "FloatProgressModel",
          "model_module_version": "1.5.0",
          "state": {
            "_dom_classes": [],
            "_model_module": "@jupyter-widgets/controls",
            "_model_module_version": "1.5.0",
            "_model_name": "FloatProgressModel",
            "_view_count": null,
            "_view_module": "@jupyter-widgets/controls",
            "_view_module_version": "1.5.0",
            "_view_name": "ProgressView",
            "bar_style": "success",
            "description": "",
            "description_tooltip": null,
            "layout": "IPY_MODEL_16ca4142b4074394bfdb6649c2d3e011",
            "max": 112,
            "min": 0,
            "orientation": "horizontal",
            "style": "IPY_MODEL_cfd9c53423814fd9a61d57252bf56ed9",
            "value": 112
          }
        },
        "bc7a7ac37533487fb622d0d975dc9d36": {
          "model_module": "@jupyter-widgets/controls",
          "model_name": "HTMLModel",
          "model_module_version": "1.5.0",
          "state": {
            "_dom_classes": [],
            "_model_module": "@jupyter-widgets/controls",
            "_model_module_version": "1.5.0",
            "_model_name": "HTMLModel",
            "_view_count": null,
            "_view_module": "@jupyter-widgets/controls",
            "_view_module_version": "1.5.0",
            "_view_name": "HTMLView",
            "description": "",
            "description_tooltip": null,
            "layout": "IPY_MODEL_769c88c9cc3f4b5f9d3a970bb4362fa3",
            "placeholder": "​",
            "style": "IPY_MODEL_bc18002e9c9745078f687f47bd4581cb",
            "value": " 112/112 [00:00&lt;00:00, 2.97kB/s]"
          }
        },
        "7a7e6d87c8dd4c28a9239d40837abceb": {
          "model_module": "@jupyter-widgets/base",
          "model_name": "LayoutModel",
          "model_module_version": "1.2.0",
          "state": {
            "_model_module": "@jupyter-widgets/base",
            "_model_module_version": "1.2.0",
            "_model_name": "LayoutModel",
            "_view_count": null,
            "_view_module": "@jupyter-widgets/base",
            "_view_module_version": "1.2.0",
            "_view_name": "LayoutView",
            "align_content": null,
            "align_items": null,
            "align_self": null,
            "border": null,
            "bottom": null,
            "display": null,
            "flex": null,
            "flex_flow": null,
            "grid_area": null,
            "grid_auto_columns": null,
            "grid_auto_flow": null,
            "grid_auto_rows": null,
            "grid_column": null,
            "grid_gap": null,
            "grid_row": null,
            "grid_template_areas": null,
            "grid_template_columns": null,
            "grid_template_rows": null,
            "height": null,
            "justify_content": null,
            "justify_items": null,
            "left": null,
            "margin": null,
            "max_height": null,
            "max_width": null,
            "min_height": null,
            "min_width": null,
            "object_fit": null,
            "object_position": null,
            "order": null,
            "overflow": null,
            "overflow_x": null,
            "overflow_y": null,
            "padding": null,
            "right": null,
            "top": null,
            "visibility": null,
            "width": null
          }
        },
        "449851802a2b413e925d0451e6681e4b": {
          "model_module": "@jupyter-widgets/base",
          "model_name": "LayoutModel",
          "model_module_version": "1.2.0",
          "state": {
            "_model_module": "@jupyter-widgets/base",
            "_model_module_version": "1.2.0",
            "_model_name": "LayoutModel",
            "_view_count": null,
            "_view_module": "@jupyter-widgets/base",
            "_view_module_version": "1.2.0",
            "_view_name": "LayoutView",
            "align_content": null,
            "align_items": null,
            "align_self": null,
            "border": null,
            "bottom": null,
            "display": null,
            "flex": null,
            "flex_flow": null,
            "grid_area": null,
            "grid_auto_columns": null,
            "grid_auto_flow": null,
            "grid_auto_rows": null,
            "grid_column": null,
            "grid_gap": null,
            "grid_row": null,
            "grid_template_areas": null,
            "grid_template_columns": null,
            "grid_template_rows": null,
            "height": null,
            "justify_content": null,
            "justify_items": null,
            "left": null,
            "margin": null,
            "max_height": null,
            "max_width": null,
            "min_height": null,
            "min_width": null,
            "object_fit": null,
            "object_position": null,
            "order": null,
            "overflow": null,
            "overflow_x": null,
            "overflow_y": null,
            "padding": null,
            "right": null,
            "top": null,
            "visibility": null,
            "width": null
          }
        },
        "5b971ff6d8ec48d9a22f6691d8f8076f": {
          "model_module": "@jupyter-widgets/controls",
          "model_name": "DescriptionStyleModel",
          "model_module_version": "1.5.0",
          "state": {
            "_model_module": "@jupyter-widgets/controls",
            "_model_module_version": "1.5.0",
            "_model_name": "DescriptionStyleModel",
            "_view_count": null,
            "_view_module": "@jupyter-widgets/base",
            "_view_module_version": "1.2.0",
            "_view_name": "StyleView",
            "description_width": ""
          }
        },
        "16ca4142b4074394bfdb6649c2d3e011": {
          "model_module": "@jupyter-widgets/base",
          "model_name": "LayoutModel",
          "model_module_version": "1.2.0",
          "state": {
            "_model_module": "@jupyter-widgets/base",
            "_model_module_version": "1.2.0",
            "_model_name": "LayoutModel",
            "_view_count": null,
            "_view_module": "@jupyter-widgets/base",
            "_view_module_version": "1.2.0",
            "_view_name": "LayoutView",
            "align_content": null,
            "align_items": null,
            "align_self": null,
            "border": null,
            "bottom": null,
            "display": null,
            "flex": null,
            "flex_flow": null,
            "grid_area": null,
            "grid_auto_columns": null,
            "grid_auto_flow": null,
            "grid_auto_rows": null,
            "grid_column": null,
            "grid_gap": null,
            "grid_row": null,
            "grid_template_areas": null,
            "grid_template_columns": null,
            "grid_template_rows": null,
            "height": null,
            "justify_content": null,
            "justify_items": null,
            "left": null,
            "margin": null,
            "max_height": null,
            "max_width": null,
            "min_height": null,
            "min_width": null,
            "object_fit": null,
            "object_position": null,
            "order": null,
            "overflow": null,
            "overflow_x": null,
            "overflow_y": null,
            "padding": null,
            "right": null,
            "top": null,
            "visibility": null,
            "width": null
          }
        },
        "cfd9c53423814fd9a61d57252bf56ed9": {
          "model_module": "@jupyter-widgets/controls",
          "model_name": "ProgressStyleModel",
          "model_module_version": "1.5.0",
          "state": {
            "_model_module": "@jupyter-widgets/controls",
            "_model_module_version": "1.5.0",
            "_model_name": "ProgressStyleModel",
            "_view_count": null,
            "_view_module": "@jupyter-widgets/base",
            "_view_module_version": "1.2.0",
            "_view_name": "StyleView",
            "bar_color": null,
            "description_width": ""
          }
        },
        "769c88c9cc3f4b5f9d3a970bb4362fa3": {
          "model_module": "@jupyter-widgets/base",
          "model_name": "LayoutModel",
          "model_module_version": "1.2.0",
          "state": {
            "_model_module": "@jupyter-widgets/base",
            "_model_module_version": "1.2.0",
            "_model_name": "LayoutModel",
            "_view_count": null,
            "_view_module": "@jupyter-widgets/base",
            "_view_module_version": "1.2.0",
            "_view_name": "LayoutView",
            "align_content": null,
            "align_items": null,
            "align_self": null,
            "border": null,
            "bottom": null,
            "display": null,
            "flex": null,
            "flex_flow": null,
            "grid_area": null,
            "grid_auto_columns": null,
            "grid_auto_flow": null,
            "grid_auto_rows": null,
            "grid_column": null,
            "grid_gap": null,
            "grid_row": null,
            "grid_template_areas": null,
            "grid_template_columns": null,
            "grid_template_rows": null,
            "height": null,
            "justify_content": null,
            "justify_items": null,
            "left": null,
            "margin": null,
            "max_height": null,
            "max_width": null,
            "min_height": null,
            "min_width": null,
            "object_fit": null,
            "object_position": null,
            "order": null,
            "overflow": null,
            "overflow_x": null,
            "overflow_y": null,
            "padding": null,
            "right": null,
            "top": null,
            "visibility": null,
            "width": null
          }
        },
        "bc18002e9c9745078f687f47bd4581cb": {
          "model_module": "@jupyter-widgets/controls",
          "model_name": "DescriptionStyleModel",
          "model_module_version": "1.5.0",
          "state": {
            "_model_module": "@jupyter-widgets/controls",
            "_model_module_version": "1.5.0",
            "_model_name": "DescriptionStyleModel",
            "_view_count": null,
            "_view_module": "@jupyter-widgets/base",
            "_view_module_version": "1.2.0",
            "_view_name": "StyleView",
            "description_width": ""
          }
        },
        "e1af52172749480892c97c1f0d3abc19": {
          "model_module": "@jupyter-widgets/controls",
          "model_name": "HBoxModel",
          "model_module_version": "1.5.0",
          "state": {
            "_dom_classes": [],
            "_model_module": "@jupyter-widgets/controls",
            "_model_module_version": "1.5.0",
            "_model_name": "HBoxModel",
            "_view_count": null,
            "_view_module": "@jupyter-widgets/controls",
            "_view_module_version": "1.5.0",
            "_view_name": "HBoxView",
            "box_style": "",
            "children": [
              "IPY_MODEL_4dff7fca23db45d3a6b82410aceb9e96",
              "IPY_MODEL_0d3f0aa32f6c4da49ed05c5d760f3567",
              "IPY_MODEL_e8ba2d4c729449f99751930e083c9dcd"
            ],
            "layout": "IPY_MODEL_53fc4ef491b74a3397360f2efef68eeb"
          }
        },
        "4dff7fca23db45d3a6b82410aceb9e96": {
          "model_module": "@jupyter-widgets/controls",
          "model_name": "HTMLModel",
          "model_module_version": "1.5.0",
          "state": {
            "_dom_classes": [],
            "_model_module": "@jupyter-widgets/controls",
            "_model_module_version": "1.5.0",
            "_model_name": "HTMLModel",
            "_view_count": null,
            "_view_module": "@jupyter-widgets/controls",
            "_view_module_version": "1.5.0",
            "_view_name": "HTMLView",
            "description": "",
            "description_tooltip": null,
            "layout": "IPY_MODEL_b531304576bd432498809fac59216de6",
            "placeholder": "​",
            "style": "IPY_MODEL_255326b158f84482bd5fd3f82fbec51c",
            "value": "pytorch_model.bin: 100%"
          }
        },
        "0d3f0aa32f6c4da49ed05c5d760f3567": {
          "model_module": "@jupyter-widgets/controls",
          "model_name": "FloatProgressModel",
          "model_module_version": "1.5.0",
          "state": {
            "_dom_classes": [],
            "_model_module": "@jupyter-widgets/controls",
            "_model_module_version": "1.5.0",
            "_model_name": "FloatProgressModel",
            "_view_count": null,
            "_view_module": "@jupyter-widgets/controls",
            "_view_module_version": "1.5.0",
            "_view_name": "ProgressView",
            "bar_style": "success",
            "description": "",
            "description_tooltip": null,
            "layout": "IPY_MODEL_9bf7cbee439444beac5feef94efc36e8",
            "max": 714355318,
            "min": 0,
            "orientation": "horizontal",
            "style": "IPY_MODEL_e54c994421974deeaca2ab821a63c2e7",
            "value": 714355318
          }
        },
        "e8ba2d4c729449f99751930e083c9dcd": {
          "model_module": "@jupyter-widgets/controls",
          "model_name": "HTMLModel",
          "model_module_version": "1.5.0",
          "state": {
            "_dom_classes": [],
            "_model_module": "@jupyter-widgets/controls",
            "_model_module_version": "1.5.0",
            "_model_name": "HTMLModel",
            "_view_count": null,
            "_view_module": "@jupyter-widgets/controls",
            "_view_module_version": "1.5.0",
            "_view_name": "HTMLView",
            "description": "",
            "description_tooltip": null,
            "layout": "IPY_MODEL_d021f3b4ef1240919f1300d38eba0d7c",
            "placeholder": "​",
            "style": "IPY_MODEL_e0c13ec8df2d48bf9d29ce64a1249ace",
            "value": " 714M/714M [00:12&lt;00:00, 26.5MB/s]"
          }
        },
        "53fc4ef491b74a3397360f2efef68eeb": {
          "model_module": "@jupyter-widgets/base",
          "model_name": "LayoutModel",
          "model_module_version": "1.2.0",
          "state": {
            "_model_module": "@jupyter-widgets/base",
            "_model_module_version": "1.2.0",
            "_model_name": "LayoutModel",
            "_view_count": null,
            "_view_module": "@jupyter-widgets/base",
            "_view_module_version": "1.2.0",
            "_view_name": "LayoutView",
            "align_content": null,
            "align_items": null,
            "align_self": null,
            "border": null,
            "bottom": null,
            "display": null,
            "flex": null,
            "flex_flow": null,
            "grid_area": null,
            "grid_auto_columns": null,
            "grid_auto_flow": null,
            "grid_auto_rows": null,
            "grid_column": null,
            "grid_gap": null,
            "grid_row": null,
            "grid_template_areas": null,
            "grid_template_columns": null,
            "grid_template_rows": null,
            "height": null,
            "justify_content": null,
            "justify_items": null,
            "left": null,
            "margin": null,
            "max_height": null,
            "max_width": null,
            "min_height": null,
            "min_width": null,
            "object_fit": null,
            "object_position": null,
            "order": null,
            "overflow": null,
            "overflow_x": null,
            "overflow_y": null,
            "padding": null,
            "right": null,
            "top": null,
            "visibility": null,
            "width": null
          }
        },
        "b531304576bd432498809fac59216de6": {
          "model_module": "@jupyter-widgets/base",
          "model_name": "LayoutModel",
          "model_module_version": "1.2.0",
          "state": {
            "_model_module": "@jupyter-widgets/base",
            "_model_module_version": "1.2.0",
            "_model_name": "LayoutModel",
            "_view_count": null,
            "_view_module": "@jupyter-widgets/base",
            "_view_module_version": "1.2.0",
            "_view_name": "LayoutView",
            "align_content": null,
            "align_items": null,
            "align_self": null,
            "border": null,
            "bottom": null,
            "display": null,
            "flex": null,
            "flex_flow": null,
            "grid_area": null,
            "grid_auto_columns": null,
            "grid_auto_flow": null,
            "grid_auto_rows": null,
            "grid_column": null,
            "grid_gap": null,
            "grid_row": null,
            "grid_template_areas": null,
            "grid_template_columns": null,
            "grid_template_rows": null,
            "height": null,
            "justify_content": null,
            "justify_items": null,
            "left": null,
            "margin": null,
            "max_height": null,
            "max_width": null,
            "min_height": null,
            "min_width": null,
            "object_fit": null,
            "object_position": null,
            "order": null,
            "overflow": null,
            "overflow_x": null,
            "overflow_y": null,
            "padding": null,
            "right": null,
            "top": null,
            "visibility": null,
            "width": null
          }
        },
        "255326b158f84482bd5fd3f82fbec51c": {
          "model_module": "@jupyter-widgets/controls",
          "model_name": "DescriptionStyleModel",
          "model_module_version": "1.5.0",
          "state": {
            "_model_module": "@jupyter-widgets/controls",
            "_model_module_version": "1.5.0",
            "_model_name": "DescriptionStyleModel",
            "_view_count": null,
            "_view_module": "@jupyter-widgets/base",
            "_view_module_version": "1.2.0",
            "_view_name": "StyleView",
            "description_width": ""
          }
        },
        "9bf7cbee439444beac5feef94efc36e8": {
          "model_module": "@jupyter-widgets/base",
          "model_name": "LayoutModel",
          "model_module_version": "1.2.0",
          "state": {
            "_model_module": "@jupyter-widgets/base",
            "_model_module_version": "1.2.0",
            "_model_name": "LayoutModel",
            "_view_count": null,
            "_view_module": "@jupyter-widgets/base",
            "_view_module_version": "1.2.0",
            "_view_name": "LayoutView",
            "align_content": null,
            "align_items": null,
            "align_self": null,
            "border": null,
            "bottom": null,
            "display": null,
            "flex": null,
            "flex_flow": null,
            "grid_area": null,
            "grid_auto_columns": null,
            "grid_auto_flow": null,
            "grid_auto_rows": null,
            "grid_column": null,
            "grid_gap": null,
            "grid_row": null,
            "grid_template_areas": null,
            "grid_template_columns": null,
            "grid_template_rows": null,
            "height": null,
            "justify_content": null,
            "justify_items": null,
            "left": null,
            "margin": null,
            "max_height": null,
            "max_width": null,
            "min_height": null,
            "min_width": null,
            "object_fit": null,
            "object_position": null,
            "order": null,
            "overflow": null,
            "overflow_x": null,
            "overflow_y": null,
            "padding": null,
            "right": null,
            "top": null,
            "visibility": null,
            "width": null
          }
        },
        "e54c994421974deeaca2ab821a63c2e7": {
          "model_module": "@jupyter-widgets/controls",
          "model_name": "ProgressStyleModel",
          "model_module_version": "1.5.0",
          "state": {
            "_model_module": "@jupyter-widgets/controls",
            "_model_module_version": "1.5.0",
            "_model_name": "ProgressStyleModel",
            "_view_count": null,
            "_view_module": "@jupyter-widgets/base",
            "_view_module_version": "1.2.0",
            "_view_name": "StyleView",
            "bar_color": null,
            "description_width": ""
          }
        },
        "d021f3b4ef1240919f1300d38eba0d7c": {
          "model_module": "@jupyter-widgets/base",
          "model_name": "LayoutModel",
          "model_module_version": "1.2.0",
          "state": {
            "_model_module": "@jupyter-widgets/base",
            "_model_module_version": "1.2.0",
            "_model_name": "LayoutModel",
            "_view_count": null,
            "_view_module": "@jupyter-widgets/base",
            "_view_module_version": "1.2.0",
            "_view_name": "LayoutView",
            "align_content": null,
            "align_items": null,
            "align_self": null,
            "border": null,
            "bottom": null,
            "display": null,
            "flex": null,
            "flex_flow": null,
            "grid_area": null,
            "grid_auto_columns": null,
            "grid_auto_flow": null,
            "grid_auto_rows": null,
            "grid_column": null,
            "grid_gap": null,
            "grid_row": null,
            "grid_template_areas": null,
            "grid_template_columns": null,
            "grid_template_rows": null,
            "height": null,
            "justify_content": null,
            "justify_items": null,
            "left": null,
            "margin": null,
            "max_height": null,
            "max_width": null,
            "min_height": null,
            "min_width": null,
            "object_fit": null,
            "object_position": null,
            "order": null,
            "overflow": null,
            "overflow_x": null,
            "overflow_y": null,
            "padding": null,
            "right": null,
            "top": null,
            "visibility": null,
            "width": null
          }
        },
        "e0c13ec8df2d48bf9d29ce64a1249ace": {
          "model_module": "@jupyter-widgets/controls",
          "model_name": "DescriptionStyleModel",
          "model_module_version": "1.5.0",
          "state": {
            "_model_module": "@jupyter-widgets/controls",
            "_model_module_version": "1.5.0",
            "_model_name": "DescriptionStyleModel",
            "_view_count": null,
            "_view_module": "@jupyter-widgets/base",
            "_view_module_version": "1.2.0",
            "_view_name": "StyleView",
            "description_width": ""
          }
        },
        "a95aa8c45cd34366a0f68598277104be": {
          "model_module": "@jupyter-widgets/controls",
          "model_name": "HBoxModel",
          "model_module_version": "1.5.0",
          "state": {
            "_dom_classes": [],
            "_model_module": "@jupyter-widgets/controls",
            "_model_module_version": "1.5.0",
            "_model_name": "HBoxModel",
            "_view_count": null,
            "_view_module": "@jupyter-widgets/controls",
            "_view_module_version": "1.5.0",
            "_view_name": "HBoxView",
            "box_style": "",
            "children": [
              "IPY_MODEL_76a84893affa4ce09f24dfcad97b4b1a",
              "IPY_MODEL_ed7f8f74389541899758114a043e8c0b",
              "IPY_MODEL_e3fcc58b7e7549d593c67a30406370cd"
            ],
            "layout": "IPY_MODEL_69ad7594fef24b538ca9e361db8321e7"
          }
        },
        "76a84893affa4ce09f24dfcad97b4b1a": {
          "model_module": "@jupyter-widgets/controls",
          "model_name": "HTMLModel",
          "model_module_version": "1.5.0",
          "state": {
            "_dom_classes": [],
            "_model_module": "@jupyter-widgets/controls",
            "_model_module_version": "1.5.0",
            "_model_name": "HTMLModel",
            "_view_count": null,
            "_view_module": "@jupyter-widgets/controls",
            "_view_module_version": "1.5.0",
            "_view_name": "HTMLView",
            "description": "",
            "description_tooltip": null,
            "layout": "IPY_MODEL_07a3db748c6f4b88a2187d52a0262c82",
            "placeholder": "​",
            "style": "IPY_MODEL_ba12a0bcd9f7438896a144138e1dbf09",
            "value": "Map: 100%"
          }
        },
        "ed7f8f74389541899758114a043e8c0b": {
          "model_module": "@jupyter-widgets/controls",
          "model_name": "FloatProgressModel",
          "model_module_version": "1.5.0",
          "state": {
            "_dom_classes": [],
            "_model_module": "@jupyter-widgets/controls",
            "_model_module_version": "1.5.0",
            "_model_name": "FloatProgressModel",
            "_view_count": null,
            "_view_module": "@jupyter-widgets/controls",
            "_view_module_version": "1.5.0",
            "_view_name": "ProgressView",
            "bar_style": "success",
            "description": "",
            "description_tooltip": null,
            "layout": "IPY_MODEL_ed3c1423fc854b78851535549cb6ff7b",
            "max": 2508,
            "min": 0,
            "orientation": "horizontal",
            "style": "IPY_MODEL_bd8a5fd547254320a0197f53268ad331",
            "value": 2508
          }
        },
        "e3fcc58b7e7549d593c67a30406370cd": {
          "model_module": "@jupyter-widgets/controls",
          "model_name": "HTMLModel",
          "model_module_version": "1.5.0",
          "state": {
            "_dom_classes": [],
            "_model_module": "@jupyter-widgets/controls",
            "_model_module_version": "1.5.0",
            "_model_name": "HTMLModel",
            "_view_count": null,
            "_view_module": "@jupyter-widgets/controls",
            "_view_module_version": "1.5.0",
            "_view_name": "HTMLView",
            "description": "",
            "description_tooltip": null,
            "layout": "IPY_MODEL_9e94c948c0a84e1da34c0318371e131c",
            "placeholder": "​",
            "style": "IPY_MODEL_b16a09477de54c31b48378c095a7971b",
            "value": " 2508/2508 [00:06&lt;00:00, 407.75 examples/s]"
          }
        },
        "69ad7594fef24b538ca9e361db8321e7": {
          "model_module": "@jupyter-widgets/base",
          "model_name": "LayoutModel",
          "model_module_version": "1.2.0",
          "state": {
            "_model_module": "@jupyter-widgets/base",
            "_model_module_version": "1.2.0",
            "_model_name": "LayoutModel",
            "_view_count": null,
            "_view_module": "@jupyter-widgets/base",
            "_view_module_version": "1.2.0",
            "_view_name": "LayoutView",
            "align_content": null,
            "align_items": null,
            "align_self": null,
            "border": null,
            "bottom": null,
            "display": null,
            "flex": null,
            "flex_flow": null,
            "grid_area": null,
            "grid_auto_columns": null,
            "grid_auto_flow": null,
            "grid_auto_rows": null,
            "grid_column": null,
            "grid_gap": null,
            "grid_row": null,
            "grid_template_areas": null,
            "grid_template_columns": null,
            "grid_template_rows": null,
            "height": null,
            "justify_content": null,
            "justify_items": null,
            "left": null,
            "margin": null,
            "max_height": null,
            "max_width": null,
            "min_height": null,
            "min_width": null,
            "object_fit": null,
            "object_position": null,
            "order": null,
            "overflow": null,
            "overflow_x": null,
            "overflow_y": null,
            "padding": null,
            "right": null,
            "top": null,
            "visibility": null,
            "width": null
          }
        },
        "07a3db748c6f4b88a2187d52a0262c82": {
          "model_module": "@jupyter-widgets/base",
          "model_name": "LayoutModel",
          "model_module_version": "1.2.0",
          "state": {
            "_model_module": "@jupyter-widgets/base",
            "_model_module_version": "1.2.0",
            "_model_name": "LayoutModel",
            "_view_count": null,
            "_view_module": "@jupyter-widgets/base",
            "_view_module_version": "1.2.0",
            "_view_name": "LayoutView",
            "align_content": null,
            "align_items": null,
            "align_self": null,
            "border": null,
            "bottom": null,
            "display": null,
            "flex": null,
            "flex_flow": null,
            "grid_area": null,
            "grid_auto_columns": null,
            "grid_auto_flow": null,
            "grid_auto_rows": null,
            "grid_column": null,
            "grid_gap": null,
            "grid_row": null,
            "grid_template_areas": null,
            "grid_template_columns": null,
            "grid_template_rows": null,
            "height": null,
            "justify_content": null,
            "justify_items": null,
            "left": null,
            "margin": null,
            "max_height": null,
            "max_width": null,
            "min_height": null,
            "min_width": null,
            "object_fit": null,
            "object_position": null,
            "order": null,
            "overflow": null,
            "overflow_x": null,
            "overflow_y": null,
            "padding": null,
            "right": null,
            "top": null,
            "visibility": null,
            "width": null
          }
        },
        "ba12a0bcd9f7438896a144138e1dbf09": {
          "model_module": "@jupyter-widgets/controls",
          "model_name": "DescriptionStyleModel",
          "model_module_version": "1.5.0",
          "state": {
            "_model_module": "@jupyter-widgets/controls",
            "_model_module_version": "1.5.0",
            "_model_name": "DescriptionStyleModel",
            "_view_count": null,
            "_view_module": "@jupyter-widgets/base",
            "_view_module_version": "1.2.0",
            "_view_name": "StyleView",
            "description_width": ""
          }
        },
        "ed3c1423fc854b78851535549cb6ff7b": {
          "model_module": "@jupyter-widgets/base",
          "model_name": "LayoutModel",
          "model_module_version": "1.2.0",
          "state": {
            "_model_module": "@jupyter-widgets/base",
            "_model_module_version": "1.2.0",
            "_model_name": "LayoutModel",
            "_view_count": null,
            "_view_module": "@jupyter-widgets/base",
            "_view_module_version": "1.2.0",
            "_view_name": "LayoutView",
            "align_content": null,
            "align_items": null,
            "align_self": null,
            "border": null,
            "bottom": null,
            "display": null,
            "flex": null,
            "flex_flow": null,
            "grid_area": null,
            "grid_auto_columns": null,
            "grid_auto_flow": null,
            "grid_auto_rows": null,
            "grid_column": null,
            "grid_gap": null,
            "grid_row": null,
            "grid_template_areas": null,
            "grid_template_columns": null,
            "grid_template_rows": null,
            "height": null,
            "justify_content": null,
            "justify_items": null,
            "left": null,
            "margin": null,
            "max_height": null,
            "max_width": null,
            "min_height": null,
            "min_width": null,
            "object_fit": null,
            "object_position": null,
            "order": null,
            "overflow": null,
            "overflow_x": null,
            "overflow_y": null,
            "padding": null,
            "right": null,
            "top": null,
            "visibility": null,
            "width": null
          }
        },
        "bd8a5fd547254320a0197f53268ad331": {
          "model_module": "@jupyter-widgets/controls",
          "model_name": "ProgressStyleModel",
          "model_module_version": "1.5.0",
          "state": {
            "_model_module": "@jupyter-widgets/controls",
            "_model_module_version": "1.5.0",
            "_model_name": "ProgressStyleModel",
            "_view_count": null,
            "_view_module": "@jupyter-widgets/base",
            "_view_module_version": "1.2.0",
            "_view_name": "StyleView",
            "bar_color": null,
            "description_width": ""
          }
        },
        "9e94c948c0a84e1da34c0318371e131c": {
          "model_module": "@jupyter-widgets/base",
          "model_name": "LayoutModel",
          "model_module_version": "1.2.0",
          "state": {
            "_model_module": "@jupyter-widgets/base",
            "_model_module_version": "1.2.0",
            "_model_name": "LayoutModel",
            "_view_count": null,
            "_view_module": "@jupyter-widgets/base",
            "_view_module_version": "1.2.0",
            "_view_name": "LayoutView",
            "align_content": null,
            "align_items": null,
            "align_self": null,
            "border": null,
            "bottom": null,
            "display": null,
            "flex": null,
            "flex_flow": null,
            "grid_area": null,
            "grid_auto_columns": null,
            "grid_auto_flow": null,
            "grid_auto_rows": null,
            "grid_column": null,
            "grid_gap": null,
            "grid_row": null,
            "grid_template_areas": null,
            "grid_template_columns": null,
            "grid_template_rows": null,
            "height": null,
            "justify_content": null,
            "justify_items": null,
            "left": null,
            "margin": null,
            "max_height": null,
            "max_width": null,
            "min_height": null,
            "min_width": null,
            "object_fit": null,
            "object_position": null,
            "order": null,
            "overflow": null,
            "overflow_x": null,
            "overflow_y": null,
            "padding": null,
            "right": null,
            "top": null,
            "visibility": null,
            "width": null
          }
        },
        "b16a09477de54c31b48378c095a7971b": {
          "model_module": "@jupyter-widgets/controls",
          "model_name": "DescriptionStyleModel",
          "model_module_version": "1.5.0",
          "state": {
            "_model_module": "@jupyter-widgets/controls",
            "_model_module_version": "1.5.0",
            "_model_name": "DescriptionStyleModel",
            "_view_count": null,
            "_view_module": "@jupyter-widgets/base",
            "_view_module_version": "1.2.0",
            "_view_name": "StyleView",
            "description_width": ""
          }
        },
        "f2094b67202c4ff487d1dcc6178455db": {
          "model_module": "@jupyter-widgets/controls",
          "model_name": "HBoxModel",
          "model_module_version": "1.5.0",
          "state": {
            "_dom_classes": [],
            "_model_module": "@jupyter-widgets/controls",
            "_model_module_version": "1.5.0",
            "_model_name": "HBoxModel",
            "_view_count": null,
            "_view_module": "@jupyter-widgets/controls",
            "_view_module_version": "1.5.0",
            "_view_name": "HBoxView",
            "box_style": "",
            "children": [
              "IPY_MODEL_761de8dbd8d74d6b81f426fb237da1e3",
              "IPY_MODEL_1a0f64e7f45a4be0b9477c51eb967bdc",
              "IPY_MODEL_742b054ac9844a82a451909ed209b110"
            ],
            "layout": "IPY_MODEL_7fed317383294468986488d556ea5779"
          }
        },
        "761de8dbd8d74d6b81f426fb237da1e3": {
          "model_module": "@jupyter-widgets/controls",
          "model_name": "HTMLModel",
          "model_module_version": "1.5.0",
          "state": {
            "_dom_classes": [],
            "_model_module": "@jupyter-widgets/controls",
            "_model_module_version": "1.5.0",
            "_model_name": "HTMLModel",
            "_view_count": null,
            "_view_module": "@jupyter-widgets/controls",
            "_view_module_version": "1.5.0",
            "_view_name": "HTMLView",
            "description": "",
            "description_tooltip": null,
            "layout": "IPY_MODEL_e832f7e2f3d3458d9406c4972112c1b9",
            "placeholder": "​",
            "style": "IPY_MODEL_cbda7fa65b0641bc990b94327675369a",
            "value": "Map: 100%"
          }
        },
        "1a0f64e7f45a4be0b9477c51eb967bdc": {
          "model_module": "@jupyter-widgets/controls",
          "model_name": "FloatProgressModel",
          "model_module_version": "1.5.0",
          "state": {
            "_dom_classes": [],
            "_model_module": "@jupyter-widgets/controls",
            "_model_module_version": "1.5.0",
            "_model_name": "FloatProgressModel",
            "_view_count": null,
            "_view_module": "@jupyter-widgets/controls",
            "_view_module_version": "1.5.0",
            "_view_name": "ProgressView",
            "bar_style": "success",
            "description": "",
            "description_tooltip": null,
            "layout": "IPY_MODEL_e57f7ad0e3144d15a7be6c0425086ba1",
            "max": 512,
            "min": 0,
            "orientation": "horizontal",
            "style": "IPY_MODEL_e8a8427eaf4443a4b9a7cec239a7aa41",
            "value": 512
          }
        },
        "742b054ac9844a82a451909ed209b110": {
          "model_module": "@jupyter-widgets/controls",
          "model_name": "HTMLModel",
          "model_module_version": "1.5.0",
          "state": {
            "_dom_classes": [],
            "_model_module": "@jupyter-widgets/controls",
            "_model_module_version": "1.5.0",
            "_model_name": "HTMLModel",
            "_view_count": null,
            "_view_module": "@jupyter-widgets/controls",
            "_view_module_version": "1.5.0",
            "_view_name": "HTMLView",
            "description": "",
            "description_tooltip": null,
            "layout": "IPY_MODEL_cf1e27e3b8354fabaa3a1dbed264ba8b",
            "placeholder": "​",
            "style": "IPY_MODEL_a8986150b99f49758f1e68c3bd2a69a1",
            "value": " 512/512 [00:02&lt;00:00, 251.41 examples/s]"
          }
        },
        "7fed317383294468986488d556ea5779": {
          "model_module": "@jupyter-widgets/base",
          "model_name": "LayoutModel",
          "model_module_version": "1.2.0",
          "state": {
            "_model_module": "@jupyter-widgets/base",
            "_model_module_version": "1.2.0",
            "_model_name": "LayoutModel",
            "_view_count": null,
            "_view_module": "@jupyter-widgets/base",
            "_view_module_version": "1.2.0",
            "_view_name": "LayoutView",
            "align_content": null,
            "align_items": null,
            "align_self": null,
            "border": null,
            "bottom": null,
            "display": null,
            "flex": null,
            "flex_flow": null,
            "grid_area": null,
            "grid_auto_columns": null,
            "grid_auto_flow": null,
            "grid_auto_rows": null,
            "grid_column": null,
            "grid_gap": null,
            "grid_row": null,
            "grid_template_areas": null,
            "grid_template_columns": null,
            "grid_template_rows": null,
            "height": null,
            "justify_content": null,
            "justify_items": null,
            "left": null,
            "margin": null,
            "max_height": null,
            "max_width": null,
            "min_height": null,
            "min_width": null,
            "object_fit": null,
            "object_position": null,
            "order": null,
            "overflow": null,
            "overflow_x": null,
            "overflow_y": null,
            "padding": null,
            "right": null,
            "top": null,
            "visibility": null,
            "width": null
          }
        },
        "e832f7e2f3d3458d9406c4972112c1b9": {
          "model_module": "@jupyter-widgets/base",
          "model_name": "LayoutModel",
          "model_module_version": "1.2.0",
          "state": {
            "_model_module": "@jupyter-widgets/base",
            "_model_module_version": "1.2.0",
            "_model_name": "LayoutModel",
            "_view_count": null,
            "_view_module": "@jupyter-widgets/base",
            "_view_module_version": "1.2.0",
            "_view_name": "LayoutView",
            "align_content": null,
            "align_items": null,
            "align_self": null,
            "border": null,
            "bottom": null,
            "display": null,
            "flex": null,
            "flex_flow": null,
            "grid_area": null,
            "grid_auto_columns": null,
            "grid_auto_flow": null,
            "grid_auto_rows": null,
            "grid_column": null,
            "grid_gap": null,
            "grid_row": null,
            "grid_template_areas": null,
            "grid_template_columns": null,
            "grid_template_rows": null,
            "height": null,
            "justify_content": null,
            "justify_items": null,
            "left": null,
            "margin": null,
            "max_height": null,
            "max_width": null,
            "min_height": null,
            "min_width": null,
            "object_fit": null,
            "object_position": null,
            "order": null,
            "overflow": null,
            "overflow_x": null,
            "overflow_y": null,
            "padding": null,
            "right": null,
            "top": null,
            "visibility": null,
            "width": null
          }
        },
        "cbda7fa65b0641bc990b94327675369a": {
          "model_module": "@jupyter-widgets/controls",
          "model_name": "DescriptionStyleModel",
          "model_module_version": "1.5.0",
          "state": {
            "_model_module": "@jupyter-widgets/controls",
            "_model_module_version": "1.5.0",
            "_model_name": "DescriptionStyleModel",
            "_view_count": null,
            "_view_module": "@jupyter-widgets/base",
            "_view_module_version": "1.2.0",
            "_view_name": "StyleView",
            "description_width": ""
          }
        },
        "e57f7ad0e3144d15a7be6c0425086ba1": {
          "model_module": "@jupyter-widgets/base",
          "model_name": "LayoutModel",
          "model_module_version": "1.2.0",
          "state": {
            "_model_module": "@jupyter-widgets/base",
            "_model_module_version": "1.2.0",
            "_model_name": "LayoutModel",
            "_view_count": null,
            "_view_module": "@jupyter-widgets/base",
            "_view_module_version": "1.2.0",
            "_view_name": "LayoutView",
            "align_content": null,
            "align_items": null,
            "align_self": null,
            "border": null,
            "bottom": null,
            "display": null,
            "flex": null,
            "flex_flow": null,
            "grid_area": null,
            "grid_auto_columns": null,
            "grid_auto_flow": null,
            "grid_auto_rows": null,
            "grid_column": null,
            "grid_gap": null,
            "grid_row": null,
            "grid_template_areas": null,
            "grid_template_columns": null,
            "grid_template_rows": null,
            "height": null,
            "justify_content": null,
            "justify_items": null,
            "left": null,
            "margin": null,
            "max_height": null,
            "max_width": null,
            "min_height": null,
            "min_width": null,
            "object_fit": null,
            "object_position": null,
            "order": null,
            "overflow": null,
            "overflow_x": null,
            "overflow_y": null,
            "padding": null,
            "right": null,
            "top": null,
            "visibility": null,
            "width": null
          }
        },
        "e8a8427eaf4443a4b9a7cec239a7aa41": {
          "model_module": "@jupyter-widgets/controls",
          "model_name": "ProgressStyleModel",
          "model_module_version": "1.5.0",
          "state": {
            "_model_module": "@jupyter-widgets/controls",
            "_model_module_version": "1.5.0",
            "_model_name": "ProgressStyleModel",
            "_view_count": null,
            "_view_module": "@jupyter-widgets/base",
            "_view_module_version": "1.2.0",
            "_view_name": "StyleView",
            "bar_color": null,
            "description_width": ""
          }
        },
        "cf1e27e3b8354fabaa3a1dbed264ba8b": {
          "model_module": "@jupyter-widgets/base",
          "model_name": "LayoutModel",
          "model_module_version": "1.2.0",
          "state": {
            "_model_module": "@jupyter-widgets/base",
            "_model_module_version": "1.2.0",
            "_model_name": "LayoutModel",
            "_view_count": null,
            "_view_module": "@jupyter-widgets/base",
            "_view_module_version": "1.2.0",
            "_view_name": "LayoutView",
            "align_content": null,
            "align_items": null,
            "align_self": null,
            "border": null,
            "bottom": null,
            "display": null,
            "flex": null,
            "flex_flow": null,
            "grid_area": null,
            "grid_auto_columns": null,
            "grid_auto_flow": null,
            "grid_auto_rows": null,
            "grid_column": null,
            "grid_gap": null,
            "grid_row": null,
            "grid_template_areas": null,
            "grid_template_columns": null,
            "grid_template_rows": null,
            "height": null,
            "justify_content": null,
            "justify_items": null,
            "left": null,
            "margin": null,
            "max_height": null,
            "max_width": null,
            "min_height": null,
            "min_width": null,
            "object_fit": null,
            "object_position": null,
            "order": null,
            "overflow": null,
            "overflow_x": null,
            "overflow_y": null,
            "padding": null,
            "right": null,
            "top": null,
            "visibility": null,
            "width": null
          }
        },
        "a8986150b99f49758f1e68c3bd2a69a1": {
          "model_module": "@jupyter-widgets/controls",
          "model_name": "DescriptionStyleModel",
          "model_module_version": "1.5.0",
          "state": {
            "_model_module": "@jupyter-widgets/controls",
            "_model_module_version": "1.5.0",
            "_model_name": "DescriptionStyleModel",
            "_view_count": null,
            "_view_module": "@jupyter-widgets/base",
            "_view_module_version": "1.2.0",
            "_view_name": "StyleView",
            "description_width": ""
          }
        },
        "aa7530bd43204d8196ab1c921e57e614": {
          "model_module": "@jupyter-widgets/controls",
          "model_name": "HBoxModel",
          "model_module_version": "1.5.0",
          "state": {
            "_dom_classes": [],
            "_model_module": "@jupyter-widgets/controls",
            "_model_module_version": "1.5.0",
            "_model_name": "HBoxModel",
            "_view_count": null,
            "_view_module": "@jupyter-widgets/controls",
            "_view_module_version": "1.5.0",
            "_view_name": "HBoxView",
            "box_style": "",
            "children": [
              "IPY_MODEL_562da4830d264371b802b307780140be",
              "IPY_MODEL_9fcc9dd56fcd44759d5f7a8ff011e8b8",
              "IPY_MODEL_daa063e4a94c46678b47f93fcaf83806"
            ],
            "layout": "IPY_MODEL_f8f04d392d6946b1a171b4cf8d448c15"
          }
        },
        "562da4830d264371b802b307780140be": {
          "model_module": "@jupyter-widgets/controls",
          "model_name": "HTMLModel",
          "model_module_version": "1.5.0",
          "state": {
            "_dom_classes": [],
            "_model_module": "@jupyter-widgets/controls",
            "_model_module_version": "1.5.0",
            "_model_name": "HTMLModel",
            "_view_count": null,
            "_view_module": "@jupyter-widgets/controls",
            "_view_module_version": "1.5.0",
            "_view_name": "HTMLView",
            "description": "",
            "description_tooltip": null,
            "layout": "IPY_MODEL_78a525e6ce234db5b433ddb7f6339001",
            "placeholder": "​",
            "style": "IPY_MODEL_f8555eb970a44cefa6184cb17a203b72",
            "value": "Map: 100%"
          }
        },
        "9fcc9dd56fcd44759d5f7a8ff011e8b8": {
          "model_module": "@jupyter-widgets/controls",
          "model_name": "FloatProgressModel",
          "model_module_version": "1.5.0",
          "state": {
            "_dom_classes": [],
            "_model_module": "@jupyter-widgets/controls",
            "_model_module_version": "1.5.0",
            "_model_name": "FloatProgressModel",
            "_view_count": null,
            "_view_module": "@jupyter-widgets/controls",
            "_view_module_version": "1.5.0",
            "_view_name": "ProgressView",
            "bar_style": "success",
            "description": "",
            "description_tooltip": null,
            "layout": "IPY_MODEL_b974c65f5927421aa7540b14edcda436",
            "max": 536,
            "min": 0,
            "orientation": "horizontal",
            "style": "IPY_MODEL_c0627af5c6b44931b99e11105921949d",
            "value": 536
          }
        },
        "daa063e4a94c46678b47f93fcaf83806": {
          "model_module": "@jupyter-widgets/controls",
          "model_name": "HTMLModel",
          "model_module_version": "1.5.0",
          "state": {
            "_dom_classes": [],
            "_model_module": "@jupyter-widgets/controls",
            "_model_module_version": "1.5.0",
            "_model_name": "HTMLModel",
            "_view_count": null,
            "_view_module": "@jupyter-widgets/controls",
            "_view_module_version": "1.5.0",
            "_view_name": "HTMLView",
            "description": "",
            "description_tooltip": null,
            "layout": "IPY_MODEL_763e3fafe0ac4a81bd15f1091bb86891",
            "placeholder": "​",
            "style": "IPY_MODEL_b0b79cb1effa495e95f3e3eeba013ce3",
            "value": " 536/536 [00:01&lt;00:00, 283.13 examples/s]"
          }
        },
        "f8f04d392d6946b1a171b4cf8d448c15": {
          "model_module": "@jupyter-widgets/base",
          "model_name": "LayoutModel",
          "model_module_version": "1.2.0",
          "state": {
            "_model_module": "@jupyter-widgets/base",
            "_model_module_version": "1.2.0",
            "_model_name": "LayoutModel",
            "_view_count": null,
            "_view_module": "@jupyter-widgets/base",
            "_view_module_version": "1.2.0",
            "_view_name": "LayoutView",
            "align_content": null,
            "align_items": null,
            "align_self": null,
            "border": null,
            "bottom": null,
            "display": null,
            "flex": null,
            "flex_flow": null,
            "grid_area": null,
            "grid_auto_columns": null,
            "grid_auto_flow": null,
            "grid_auto_rows": null,
            "grid_column": null,
            "grid_gap": null,
            "grid_row": null,
            "grid_template_areas": null,
            "grid_template_columns": null,
            "grid_template_rows": null,
            "height": null,
            "justify_content": null,
            "justify_items": null,
            "left": null,
            "margin": null,
            "max_height": null,
            "max_width": null,
            "min_height": null,
            "min_width": null,
            "object_fit": null,
            "object_position": null,
            "order": null,
            "overflow": null,
            "overflow_x": null,
            "overflow_y": null,
            "padding": null,
            "right": null,
            "top": null,
            "visibility": null,
            "width": null
          }
        },
        "78a525e6ce234db5b433ddb7f6339001": {
          "model_module": "@jupyter-widgets/base",
          "model_name": "LayoutModel",
          "model_module_version": "1.2.0",
          "state": {
            "_model_module": "@jupyter-widgets/base",
            "_model_module_version": "1.2.0",
            "_model_name": "LayoutModel",
            "_view_count": null,
            "_view_module": "@jupyter-widgets/base",
            "_view_module_version": "1.2.0",
            "_view_name": "LayoutView",
            "align_content": null,
            "align_items": null,
            "align_self": null,
            "border": null,
            "bottom": null,
            "display": null,
            "flex": null,
            "flex_flow": null,
            "grid_area": null,
            "grid_auto_columns": null,
            "grid_auto_flow": null,
            "grid_auto_rows": null,
            "grid_column": null,
            "grid_gap": null,
            "grid_row": null,
            "grid_template_areas": null,
            "grid_template_columns": null,
            "grid_template_rows": null,
            "height": null,
            "justify_content": null,
            "justify_items": null,
            "left": null,
            "margin": null,
            "max_height": null,
            "max_width": null,
            "min_height": null,
            "min_width": null,
            "object_fit": null,
            "object_position": null,
            "order": null,
            "overflow": null,
            "overflow_x": null,
            "overflow_y": null,
            "padding": null,
            "right": null,
            "top": null,
            "visibility": null,
            "width": null
          }
        },
        "f8555eb970a44cefa6184cb17a203b72": {
          "model_module": "@jupyter-widgets/controls",
          "model_name": "DescriptionStyleModel",
          "model_module_version": "1.5.0",
          "state": {
            "_model_module": "@jupyter-widgets/controls",
            "_model_module_version": "1.5.0",
            "_model_name": "DescriptionStyleModel",
            "_view_count": null,
            "_view_module": "@jupyter-widgets/base",
            "_view_module_version": "1.2.0",
            "_view_name": "StyleView",
            "description_width": ""
          }
        },
        "b974c65f5927421aa7540b14edcda436": {
          "model_module": "@jupyter-widgets/base",
          "model_name": "LayoutModel",
          "model_module_version": "1.2.0",
          "state": {
            "_model_module": "@jupyter-widgets/base",
            "_model_module_version": "1.2.0",
            "_model_name": "LayoutModel",
            "_view_count": null,
            "_view_module": "@jupyter-widgets/base",
            "_view_module_version": "1.2.0",
            "_view_name": "LayoutView",
            "align_content": null,
            "align_items": null,
            "align_self": null,
            "border": null,
            "bottom": null,
            "display": null,
            "flex": null,
            "flex_flow": null,
            "grid_area": null,
            "grid_auto_columns": null,
            "grid_auto_flow": null,
            "grid_auto_rows": null,
            "grid_column": null,
            "grid_gap": null,
            "grid_row": null,
            "grid_template_areas": null,
            "grid_template_columns": null,
            "grid_template_rows": null,
            "height": null,
            "justify_content": null,
            "justify_items": null,
            "left": null,
            "margin": null,
            "max_height": null,
            "max_width": null,
            "min_height": null,
            "min_width": null,
            "object_fit": null,
            "object_position": null,
            "order": null,
            "overflow": null,
            "overflow_x": null,
            "overflow_y": null,
            "padding": null,
            "right": null,
            "top": null,
            "visibility": null,
            "width": null
          }
        },
        "c0627af5c6b44931b99e11105921949d": {
          "model_module": "@jupyter-widgets/controls",
          "model_name": "ProgressStyleModel",
          "model_module_version": "1.5.0",
          "state": {
            "_model_module": "@jupyter-widgets/controls",
            "_model_module_version": "1.5.0",
            "_model_name": "ProgressStyleModel",
            "_view_count": null,
            "_view_module": "@jupyter-widgets/base",
            "_view_module_version": "1.2.0",
            "_view_name": "StyleView",
            "bar_color": null,
            "description_width": ""
          }
        },
        "763e3fafe0ac4a81bd15f1091bb86891": {
          "model_module": "@jupyter-widgets/base",
          "model_name": "LayoutModel",
          "model_module_version": "1.2.0",
          "state": {
            "_model_module": "@jupyter-widgets/base",
            "_model_module_version": "1.2.0",
            "_model_name": "LayoutModel",
            "_view_count": null,
            "_view_module": "@jupyter-widgets/base",
            "_view_module_version": "1.2.0",
            "_view_name": "LayoutView",
            "align_content": null,
            "align_items": null,
            "align_self": null,
            "border": null,
            "bottom": null,
            "display": null,
            "flex": null,
            "flex_flow": null,
            "grid_area": null,
            "grid_auto_columns": null,
            "grid_auto_flow": null,
            "grid_auto_rows": null,
            "grid_column": null,
            "grid_gap": null,
            "grid_row": null,
            "grid_template_areas": null,
            "grid_template_columns": null,
            "grid_template_rows": null,
            "height": null,
            "justify_content": null,
            "justify_items": null,
            "left": null,
            "margin": null,
            "max_height": null,
            "max_width": null,
            "min_height": null,
            "min_width": null,
            "object_fit": null,
            "object_position": null,
            "order": null,
            "overflow": null,
            "overflow_x": null,
            "overflow_y": null,
            "padding": null,
            "right": null,
            "top": null,
            "visibility": null,
            "width": null
          }
        },
        "b0b79cb1effa495e95f3e3eeba013ce3": {
          "model_module": "@jupyter-widgets/controls",
          "model_name": "DescriptionStyleModel",
          "model_module_version": "1.5.0",
          "state": {
            "_model_module": "@jupyter-widgets/controls",
            "_model_module_version": "1.5.0",
            "_model_name": "DescriptionStyleModel",
            "_view_count": null,
            "_view_module": "@jupyter-widgets/base",
            "_view_module_version": "1.2.0",
            "_view_name": "StyleView",
            "description_width": ""
          }
        }
      }
    },
    "accelerator": "GPU"
  },
  "cells": [
    {
      "cell_type": "markdown",
      "source": [
        "# 📈 ПРОЕКТ 📊\n",
        "\n",
        "# 🔍 АНАЛИЗ ДАТАСЕТА В КОНТЕКСТЕ NLP 🔎"
      ],
      "metadata": {
        "id": "6DotQy_IgD4U"
      }
    },
    {
      "cell_type": "markdown",
      "source": [
        "<h1>Содержание<span class=\"tocSkip\"></span></h1>\n",
        "<div class=\"toc\">\n",
        "    <ul class=\"toc-item\">\n",
        "        <li><span><span class=\"toc-item-num\">1&nbsp;&nbsp;</span>Загрузка данных</a></span></li>\n",
        "        <li><span><span class=\"toc-item-num\">2&nbsp;&nbsp;</span>Исследование датасета</a></span></li>\n",
        "        <li><span><span class=\"toc-item-num\">3&nbsp;&nbsp;</span>Токенизация и обучение модели</a></span></li>\n",
        "        <li><span><span class=\"toc-item-num\">4&nbsp;&nbsp;</span>Вычисление метрик и визуализация</a></span></li>\n",
        "        <li><span><span class=\"toc-item-num\">5&nbsp;&nbsp;</span>Вывод по исследованию</a></span></li>\n",
        "    </ul>"
      ],
      "metadata": {
        "id": "Sil-awYVhbNW"
      }
    },
    {
      "cell_type": "markdown",
      "source": [
        "# 📝 Описание проекта:  \n",
        "\n",
        "<div style=\"border:solid green 3px; padding: 20px\">\n",
        "    \n",
        "В рамках проекта мы исследуем датасет с корпусом текстов с указанием тэгов. Обучим модель, вычислим метрики и визуализируем выходные данные. По окончании проекта сделаем общий вывод.\n"
      ],
      "metadata": {
        "id": "n5k2IlwXi6ub"
      }
    },
    {
      "cell_type": "markdown",
      "source": [
        "# 📂 Описание данных:\n",
        "\n",
        "<div style=\"border:solid green 3px; padding: 20px\">\n",
        "\n",
        "Нам дан датасет с портала Hugging Face под названием 'graviada/russian-ner-runne', предназначенный для задач распознавания именованных сущностей на русском языке."
      ],
      "metadata": {
        "id": "wqIesi_3lA7W"
      }
    },
    {
      "cell_type": "markdown",
      "source": [
        "# 🎯 Цель проекта:\n",
        "\n",
        "<div style=\"border:solid green 3px; padding: 20px\">\n",
        "    \n",
        "Обучить на предоставленном датасете модель для выполнения задачи NER в рамках NLP.\n"
      ],
      "metadata": {
        "id": "0saHnoyVl731"
      }
    },
    {
      "cell_type": "markdown",
      "source": [
        "# 📅 План действий:\n",
        "\n",
        "<div style=\"border:solid green 3px; padding: 20px\">\n",
        "\n",
        "1. Загрузить все необходимые для проекта библиотеки;\n",
        "2. Исследовать и описать датасет;\n",
        "3. Провести токенизацию корпусов текстов;\n",
        "4. Обучить модель и рассчитать метрики качества;\n",
        "5. Провести визуализацию полученных данных;\n",
        "6. Сделать вывод по результатам проекта.\n"
      ],
      "metadata": {
        "id": "AKnV-4dimL0_"
      }
    },
    {
      "cell_type": "markdown",
      "source": [
        "## Загрузка данных"
      ],
      "metadata": {
        "id": "y34STWf7nT5t"
      }
    },
    {
      "cell_type": "markdown",
      "source": [
        "<div style=\"border:solid green 2px; padding: 5px\">\n",
        "    \n",
        "    установим необходимые библиотеки для работы с моделью обработки естественного языка:\n"
      ],
      "metadata": {
        "id": "xxBALFNVnXjV"
      }
    },
    {
      "cell_type": "code",
      "execution_count": 12,
      "metadata": {
        "id": "-rK1QR1Uo-47",
        "colab": {
          "base_uri": "https://localhost:8080/"
        },
        "outputId": "e1f3794c-5567-46e4-b337-ae909f486822"
      },
      "outputs": [
        {
          "output_type": "stream",
          "name": "stdout",
          "text": [
            "Collecting ru-core-news-sm==3.8.0\n",
            "  Downloading https://github.com/explosion/spacy-models/releases/download/ru_core_news_sm-3.8.0/ru_core_news_sm-3.8.0-py3-none-any.whl (15.3 MB)\n",
            "\u001b[2K     \u001b[90m━━━━━━━━━━━━━━━━━━━━━━━━━━━━━━━━━━━━━━━━\u001b[0m \u001b[32m15.3/15.3 MB\u001b[0m \u001b[31m84.1 MB/s\u001b[0m eta \u001b[36m0:00:00\u001b[0m\n",
            "\u001b[?25hRequirement already satisfied: pymorphy3>=1.0.0 in /usr/local/lib/python3.10/dist-packages (from ru-core-news-sm==3.8.0) (2.0.2)\n",
            "Requirement already satisfied: dawg-python>=0.7.1 in /usr/local/lib/python3.10/dist-packages (from pymorphy3>=1.0.0->ru-core-news-sm==3.8.0) (0.7.2)\n",
            "Requirement already satisfied: pymorphy3-dicts-ru in /usr/local/lib/python3.10/dist-packages (from pymorphy3>=1.0.0->ru-core-news-sm==3.8.0) (2.4.417150.4580142)\n",
            "\u001b[38;5;2m✔ Download and installation successful\u001b[0m\n",
            "You can now load the package via spacy.load('ru_core_news_sm')\n",
            "\u001b[38;5;3m⚠ Restart to reload dependencies\u001b[0m\n",
            "If you are in a Jupyter or Colab notebook, you may need to restart Python in\n",
            "order to load all the package's dependencies. You can do this by selecting the\n",
            "'Restart kernel' or 'Restart runtime' option.\n"
          ]
        }
      ],
      "source": [
        "!pip install spacy==3.8.0 -qq\n",
        "!pip install datasets -qq\n",
        "!pip install tensorflow transformers -qq\n",
        "!python -m spacy download ru_core_news_sm"
      ]
    },
    {
      "cell_type": "markdown",
      "source": [
        "<div style=\"border:solid green 2px; padding: 5px\">\n",
        "    \n",
        "    импортируем необходимые библиотеки:\n",
        "\n",
        "\n"
      ],
      "metadata": {
        "id": "MKiBwMSxn7Td"
      }
    },
    {
      "cell_type": "code",
      "source": [
        "import torch\n",
        "import spacy\n",
        "import matplotlib.pyplot as plt\n",
        "from transformers import AutoTokenizer, AutoModelForTokenClassification, Trainer, TrainingArguments\n",
        "from sklearn.metrics import accuracy_score, classification_report\n",
        "from datasets import load_dataset"
      ],
      "metadata": {
        "id": "r-J0VCxlpH3D"
      },
      "execution_count": 13,
      "outputs": []
    },
    {
      "cell_type": "markdown",
      "source": [
        "<div style=\"border:solid green 2px; padding: 5px\">\n",
        "    \n",
        "    выгружаем датасет и сохраняем его в переменную:"
      ],
      "metadata": {
        "id": "V1gmh84WpMvw"
      }
    },
    {
      "cell_type": "code",
      "source": [
        "ds = load_dataset(\"graviada/russian-ner-runne\")"
      ],
      "metadata": {
        "id": "ljPanSZUpKwY"
      },
      "execution_count": 14,
      "outputs": []
    },
    {
      "cell_type": "markdown",
      "source": [
        "<div style=\"border:solid green 2px; padding: 5px\">\n",
        "    \n",
        "    напечатаем общую структуру датасета:"
      ],
      "metadata": {
        "id": "x5vevWwepWFl"
      }
    },
    {
      "cell_type": "code",
      "source": [
        "print(ds)"
      ],
      "metadata": {
        "colab": {
          "base_uri": "https://localhost:8080/"
        },
        "id": "_GjFFysmOMBF",
        "outputId": "e547fd4f-9052-49c0-ac15-bb20f9e51720"
      },
      "execution_count": 15,
      "outputs": [
        {
          "output_type": "stream",
          "name": "stdout",
          "text": [
            "DatasetDict({\n",
            "    train: Dataset({\n",
            "        features: ['tokens', 'tags'],\n",
            "        num_rows: 2508\n",
            "    })\n",
            "    test: Dataset({\n",
            "        features: ['tokens', 'tags'],\n",
            "        num_rows: 512\n",
            "    })\n",
            "    dev: Dataset({\n",
            "        features: ['tokens', 'tags'],\n",
            "        num_rows: 536\n",
            "    })\n",
            "})\n"
          ]
        }
      ]
    },
    {
      "cell_type": "markdown",
      "source": [
        "<div style=\"border:solid green 2px; padding: 5px\">\n",
        "    \n",
        "    видим, что датасет в виде словаря состоит из трёх блоков - train, test и dev;\n",
        "    test и dev содержат примерно по 20% от тренировочного набора;\n",
        "    данные всех блоков разделены на токены и метки;\n",
        "    \n",
        "    напишем функцию, которая отобразит тексты с соответствующими тэгами на каждом из трёх поддатасетов в наборе, на печать выведем по три корпуса с каждого набора:"
      ],
      "metadata": {
        "id": "KIdlv-U6pzXV"
      }
    },
    {
      "cell_type": "code",
      "source": [
        "num_to_print = 3\n",
        "\n",
        "all_datasets = {\n",
        "    \"Train\": ds['train'],\n",
        "    \"Dev\": ds['dev'],\n",
        "    \"Test\": ds['test']\n",
        "}\n",
        "\n",
        "for dataset_name, dataset in all_datasets.items():\n",
        "    print(f\"--- {dataset_name} Dataset ---\")\n",
        "    for i in range(min(num_to_print, len(dataset))):\n",
        "        print(f\"Токены: {dataset[i]['tokens']}\")\n",
        "        print(f\"Тэги: {dataset[i]['tags']}\")\n",
        "        print()"
      ],
      "metadata": {
        "colab": {
          "base_uri": "https://localhost:8080/"
        },
        "id": "WIsq-MBZx1dq",
        "outputId": "7a9303ad-5d7e-4986-de23-60a82641efb8"
      },
      "execution_count": 16,
      "outputs": [
        {
          "output_type": "stream",
          "name": "stdout",
          "text": [
            "--- Train Dataset ---\n",
            "Токены: ['Нурсултан', 'Назарбаев', 'назначил', 'дату', 'внеочередных', 'президентских', 'выборов', 'Согласно', 'опубликованному', 'указу', 'о', 'проведении', 'выборов', 'правительству', 'и', 'Центризбиркому', 'Казахстана', 'поручено', 'принять', 'необходимые', 'меры', 'по', 'организационному', 'и', 'финансовому', 'обеспечению', 'внеочередных', 'президентских', 'выборов']\n",
            "Тэги: [44, 45, 0, 0, 0, 48, 17, 0, 0, 0, 0, 0, 18, 38, 0, 38, 7, 0, 0, 0, 0, 0, 0, 0, 0, 0, 0, 48, 17]\n",
            "\n",
            "Токены: ['Отметим', 'также', 'что', 'Нурсултан', 'Назарбаев', 'подписал', 'ранее', 'принятый', 'парламентом', 'конституционный', 'закон', 'О', 'внесении', 'дополнений', 'и', 'изменений', 'в', 'некоторые', 'конституционные', 'законы', 'Республики', 'Казахстан', 'конституционные', 'законы', 'Республики', 'Казахстан', 'устанавливающий', 'возможность', 'проведения', 'в', 'Казахстане', 'внеочередных', 'президентских', 'выборов']\n",
            "Тэги: [0, 0, 0, 44, 45, 18, 0, 0, 38, 26, 27, 26, 27, 27, 27, 27, 27, 27, 27, 27, 27, 27, 26, 27, 7, 8, 0, 0, 0, 0, 7, 0, 48, 17]\n",
            "\n",
            "Токены: ['РБК', 'напоминает', 'что', '31', 'января', 'президент', 'Казахстана', 'обратился', 'в', 'ходе', 'телеобращения', 'к', 'гражданам', 'Казахстана', 'с', 'предложением', 'провести', 'досрочные', 'президентские', 'выборы']\n",
            "Тэги: [38, 0, 0, 11, 12, 48, 7, 0, 0, 0, 18, 0, 0, 7, 0, 0, 0, 0, 48, 17]\n",
            "\n",
            "--- Dev Dataset ---\n",
            "Токены: ['Семья', 'Обамы', 'приобрела', 'дом', 'в', 'Вашингтоне', 'за', 'млн', 'долларов', 'Барак', 'Обама', 'Бывший', 'президент', 'США', 'Барак', 'Обама', 'с', 'женой', 'Мишель', 'приобрели', 'жильё', 'в', 'Вашингтоне', 'недалеко', 'от', 'Белого', 'дома']\n",
            "Тэги: [22, 21, 18, 17, 0, 5, 0, 31, 31, 44, 45, 0, 48, 7, 44, 45, 0, 0, 44, 18, 17, 0, 5, 0, 0, 19, 20]\n",
            "\n",
            "Токены: ['После', 'окончания', 'срока', 'работы', 'на', 'посту', 'президента', 'в', 'январе', 'супруги', 'арендовали', 'особняк', 'в', 'стиле', 'эпохи', 'Тюдоров', 'в', 'престижном', 'районе', 'столицы', 'США', 'Калорама', 'где', 'долгое', 'время', 'селились', 'дипломаты', 'лоббисты', 'и', 'политики']\n",
            "Тэги: [0, 0, 0, 0, 0, 0, 48, 11, 12, 0, 0, 0, 0, 0, 0, 22, 0, 0, 0, 5, 6, 15, 0, 0, 0, 0, 48, 48, 0, 48]\n",
            "\n",
            "Токены: ['Младшей', 'дочери', 'Барака', 'и', 'Мишель', 'Саше', 'осталось', 'ещё', 'два', 'года', 'до', 'окончания', 'частной', 'школы', 'в', 'Вашингтоне']\n",
            "Тэги: [0, 0, 44, 0, 44, 44, 0, 0, 11, 12, 0, 0, 0, 0, 0, 5]\n",
            "\n",
            "--- Test Dataset ---\n",
            "Токены: ['Рэпер', 'Децл', 'умер', 'после', 'концерта', 'в', 'Ижевске', 'Кирилл', 'Децл', 'Толмацкий', 'Децл', 'Толмацкий', 'в', '2007', 'году']\n",
            "Тэги: [48, 44, 18, 0, 18, 0, 5, 44, 45, 45, 44, 0, 11, 12, 12]\n",
            "\n",
            "Токены: ['Фото', 'Александра', 'Плющева', '3', 'февраля', '2019', 'года', 'в', '6', 'часов', 'утра', 'по', 'московскому', 'времени', '3', 'февраля', '2019', 'года', 'в', '6', 'часов', 'утра', 'по', 'московскому', 'времени', 'отец', 'рэпера', 'Кирилла', 'Толмацкого', 'больше', 'известного', 'как', 'Децл', 'сообщил', 'о', 'смерти', 'артиста']\n",
            "Тэги: [0, 44, 45, 54, 55, 55, 55, 55, 55, 55, 55, 55, 55, 55, 11, 12, 12, 12, 0, 0, 0, 0, 0, 0, 0, 0, 48, 44, 45, 0, 0, 0, 44, 0, 0, 18, 48]\n",
            "\n",
            "Токены: ['В', 'одной', 'из', 'социальных', 'сетей', 'Александр', 'Толмацкий', 'оставил', 'сообщение', 'из', 'трёх', 'слов', 'Кирилла', 'больше', 'нет', 'Позднее', 'эту', 'информацию', 'подтвердил', 'концертный', 'директор', 'музыканта', 'Павел', 'Беленец']\n",
            "Тэги: [0, 0, 0, 0, 0, 44, 45, 0, 0, 0, 34, 0, 44, 0, 0, 0, 0, 0, 0, 48, 49, 48, 44, 45]\n",
            "\n"
          ]
        }
      ]
    },
    {
      "cell_type": "markdown",
      "source": [
        "\n",
        "<div style=\"border:solid green 2px; padding: 5px\">\n",
        "    \n",
        "    посчитаем, сколько уникальных тэгов во всех трёх блоках, для этого создадим функцию, которая будет проходить по каждому набору данных в датасете и записывать все уникальные тэги и выведет отсортированный список, также сохраним в переменную и выведем общее количество уникальных тэгов:"
      ],
      "metadata": {
        "id": "-BifbEpyw-WZ"
      }
    },
    {
      "cell_type": "code",
      "source": [
        "unique_tags = set()\n",
        "\n",
        "for split in ds.keys():\n",
        "    for entry in ds[split]:\n",
        "        unique_tags.update(entry['tags'])\n",
        "\n",
        "unique_tags_list = sorted(list(unique_tags))\n",
        "num_labels = len(unique_tags_list)\n",
        "\n",
        "print(\"Уникальные метки:\")\n",
        "print(unique_tags_list)\n",
        "print(\"Количество уникальных меток:\")\n",
        "print(num_labels)"
      ],
      "metadata": {
        "colab": {
          "base_uri": "https://localhost:8080/"
        },
        "id": "1fbV4TKQPbR_",
        "outputId": "1b036760-13ac-4535-93a9-5c08f256b952"
      },
      "execution_count": 17,
      "outputs": [
        {
          "output_type": "stream",
          "name": "stdout",
          "text": [
            "Уникальные метки:\n",
            "[0, 1, 2, 3, 4, 5, 6, 7, 8, 9, 10, 11, 12, 13, 14, 15, 16, 17, 18, 19, 20, 21, 22, 23, 24, 25, 26, 27, 28, 29, 30, 31, 32, 33, 34, 35, 36, 37, 38, 39, 40, 41, 42, 43, 44, 45, 46, 47, 48, 49, 50, 51, 52, 53, 54, 55, 56, 57]\n",
            "Количество уникальных меток:\n",
            "58\n"
          ]
        }
      ]
    },
    {
      "cell_type": "markdown",
      "source": [
        "<div style=\"border:solid green 2px; padding: 5px\">\n",
        "    \n",
        "    так как информации о наименовании меток у нас нет, выведем список каждой метки; для этого при помощи функции, которая будет проходить по каждому тэгу, к каждому тэгу припишет соотносящиеся слова из корпуса текстов и напечатаем на экране каждую цифру метки со словами (для примера выведем первые три метки):"
      ],
      "metadata": {
        "id": "R4f3AxvqsyNn"
      }
    },
    {
      "cell_type": "code",
      "source": [
        "def get_tokens_by_tags(dataset_dict, tags_range):\n",
        "    tokens_with_tags = {tag: [] for tag in tags_range}\n",
        "\n",
        "    for split in dataset_dict:\n",
        "        dataset = dataset_dict[split]\n",
        "\n",
        "        for entry in dataset:\n",
        "            tokens = entry['tokens']\n",
        "            tags = entry['tags']\n",
        "\n",
        "            for token, token_tag in zip(tokens, tags):\n",
        "                if token_tag in tags_range:\n",
        "                    tokens_with_tags[token_tag].append(token)\n",
        "\n",
        "    return tokens_with_tags\n",
        "\n",
        "tags_to_find = [1, 2, 3]\n",
        "tokens_by_tags = get_tokens_by_tags(ds, tags_to_find)\n",
        "\n",
        "for tag, tokens in tokens_by_tags.items():\n",
        "    print(f\"Токены с тегом {tag}: {tokens}\")"
      ],
      "metadata": {
        "colab": {
          "base_uri": "https://localhost:8080/"
        },
        "id": "BBISTCaGOwzC",
        "outputId": "02528ca6-7476-432a-d70e-60ac3d2160a1"
      },
      "execution_count": 18,
      "outputs": [
        {
          "output_type": "stream",
          "name": "stdout",
          "text": [
            "Токены с тегом 1: ['годовщины', '18', 'лет', 'лет', 'один', 'год', 'лет', '20', 'лет', 'лет', 'лет', 'лет', 'году', 'лет', 'лет', 'год', 'года', 'лет', 'лет', 'лет', 'года', 'года', 'лет', 'года', 'лет', 'лет', 'год', 'года', 'лет', 'года', 'год', 'возраста', 'летний', 'лет', 'подростковом', 'возрасте', 'лет', 'тысяч', 'лет', 'годовщины', '50', 'лет', '45', 'лет', 'лет', 'лет', 'лет', 'лет', 'лет', 'лет', 'года', 'лет', 'лет', 'лет', 'лет', 'младше', '45', 'лет', 'год', 'младше', '45', 'лет', 'годовщине', 'годовщине', 'года', 'лет', 'лет', 'лет', 'год', 'года', 'года', 'годовщина', 'лет', 'лет', 'лет', 'годовщины', 'году', 'лет', 'году', 'год', 'год', 'лет', 'года', 'год', 'летний', 'года', 'лет', '35', 'лет', 'летний', 'лет', 'лет', 'лет', 'лет', 'лет', 'года', 'младше', '45', 'лет', '29', 'лет', 'лет', 'летний', 'лет', 'лет', 'лет', 'лет', 'года', 'лет', 'и', '359', 'дней', 'лет', 'лет', '100', 'лет', 'лет', '6', 'до', '18', 'лет', 'лет', 'лет', 'лет', 'летний', 'лет', 'год', 'лет', 'лет', 'лет', 'лет', 'годовщины', 'лет', 'лет', 'и', '253', 'дня', 'лет', 'лет', '60', 'год', 'года', 'лет', 'лет', 'лет', 'лет', 'году', 'лет', 'полгода', 'старше', 'лет', 'лет', 'лет', 'лет', 'году', '23', 'года', 'лет', 'лет', 'лет', 'лет', '12', 'лет', 'лет', 'старше', '40', 'лет', '25', 'до', '33', 'лет', 'лет', 'лет', 'годовщины', 'лет', 'лет', 'лет', 'годовщины', 'годовщине', 'годовщины', 'было', 'и', 'двух', 'лет', 'лет', 'возраста', 'летняя', 'лет', 'лет', 'лет', 'лет', 'день', 'рождения', 'лет', 'лет', 'и', '54', 'дня', '85', 'году', 'лет', 'года', 'года', 'лет', 'и', '137', 'дней', '90', 'лет', 'месяцев', 'лет', 'лет', 'лет', 'года', 'лет', 'лет', 'лет', 'года', 'летним', 'лет', 'лет', 'лет', 'лет', 'пяти', 'лет', 'года', 'годовщину', '25', 'до', '80', 'лет', 'лет', 'году', 'году', 'года', 'года', 'лет', 'лет', 'года', 'год', 'лет', 'лет', 'лет', 'лет', 'год', 'года', 'лет', 'лет', 'лет', 'лет', 'годовщиной', 'летний', 'лет', 'лет', 'лет', 'год', 'лет', '60', 'лет', '65', 'лет', '55', 'лет', '60', 'позже', '45', 'лет', 'лет', 'лет', 'года', '13', 'до', '16', 'лет', 'года', 'лет', 'лет', 'лет', 'году', 'годовщину', 'лет', 'лет', '70', 'лет']\n",
            "Токены с тегом 2: ['старше', 'четырёхлетия', '38', '36', 'сорокатрехлетней', 'сорок', '85', 'лет', '27', '34', '75', '19', '65', '21', '84', 'девятилетней', '35', '61', '53', '11', '9', 'Семидесятишестилетний', '60', '73', '34', '35', '34', '26', '40', '31', '52', '30', '20', '19', '32', '61', '30', '20', 'пенсионного', 'двенадцатилетний', '70', 'в', '20', 'семь', 'Восьмидесятилетний', 'до', 'примерно', '93', '86', '28', '19', '95', '95', '94', '94', '95', '99', '90', '69', 'не', 'тридцатилетней', '81', 'не', 'пятнадцатимесячная', 'двухлетняя', 'девятнадцатилетней', '91', '47', '46', '26', '70', '41', '21', '44', '14', '50', '50', 'на', '56', '31', '31', '31', '29', '35', '22', '51', 'Шестидесятивосьмилетняя', '22', '25', '32', 'моложе', '37', '22', '30', '86', '46', '43', 'не', 'старше', '50', '28', '57', '65', '60', '65', '23', '114', '115', '115', 'более', '59', 'от', '20', '35', '50', '28', '31', '15', '27', '27', '45', '116', '115', '80', 'Девятнадцатилетний', '50', 'за', '81', '63', '55', '90', '6', '12', '42', 'на', '59', 'на', '73', '73', 'Тридцатичетырёхлетний', '86', '17', 'трёхлетний', '66', 'В', '19', '60', '16', '10', '9', '8', 'до', '35', 'не', 'от', '35', '23', '27', '37', '90', 'двухлетний', 'двухлетний', 'пятилетнюю', 'не', 'средних', 'молодой', 'среднего', '18', '49', '65', '60', '113', '108', '107', '116', 'на', '85', '53', '103', '117', 'больше', 'шесть', '60', '100', '70', '101', 'столетия', '15', '93', '55', '71', '40', '77', '13', 'несовершеннолетних', 'столетнего', '89', '19', 'до', '64', 'сорокалетнего', 'от', '90', '24', 'сорокалетней', '63', '67', '100', '54', '71', '85', '85', '85', '125', '61', 'десятилетняя', '64', '68', '49', '92', '90', 'семилетний', '52', 'двадцатилетний', '8', '59', '21', '85', 'до', 'до', 'в', 'в', 'не', 'пять', '13', '30', '52', 'несовершеннолетние', 'от', '52', '78', '14', '19', '85', '39', '97', 'старше']\n",
            "Токены с тегом 3: ['Заслуженный', 'Народный', 'Мисс', 'Мисс', 'Мисс', 'заслуженным', 'Самым', 'самым', 'ценным', 'самым', 'самым', 'тренером', 'премии', 'премии', 'фотография', 'главного', 'золото', 'Серебро', 'олимпийская', 'Бронза', 'чемпионке', 'серебряный', 'чемпионка', 'чемпионка', 'серебряный', 'Первая', 'чемпионкой', 'Чемпионы', 'чемпионский', 'чемпионский', 'награду', 'чемпионское', 'шестикратным', 'чемпионом', 'Чемпион', 'бронзовые', 'серебряную', 'бронзовыми', 'серебряную', 'чемпионом', 'Человеком', 'Человеком', 'Человеком', 'Народному', 'народному', 'Государственной', 'нобелевский', 'Нобелевской', 'второе', 'Герою', 'Гонкуровскую', 'Гонкуровской', 'Золотой', 'Сезар', 'номинант', 'Лучший', 'ордена', 'Почётного', 'ордена', 'За', 'золотую', 'Серебрянaя', 'золотую', 'бронзы', 'золотых', 'золотые', 'серебряной', 'Героя', 'Кубок', 'орденом', 'орденом', 'Орден', 'орден', 'Абелевской', 'Абелевской', 'За', 'International', 'почетными', 'чемпиона', 'серебряные', 'бронзовым', 'четырёхкратной', 'чемпионкой', 'трёхкратной', 'Героя', 'Нобелевскую', 'Нобелевскую', 'премии', 'первенство', 'первенство', 'чемпион', 'чемпион', 'Чемпиону', 'чемпионом', 'единый', 'чемпион', 'чемпион', 'стипендиатов', 'Кубок', 'золотой', 'лучшему', 'лучшему', 'чемпиона', 'Золотой', 'лучшей', 'Golden', 'Golden', 'Golden', 'заслуженный', 'Орденом', 'Книгу', 'заслуженный', 'Заслуженной', 'золотую', 'золото', 'Второе', 'бронзу', 'чемпионка', 'олимпийская', 'Олимпийскую', 'бронзу', 'олимпийской', 'Человеком', 'олимпийского', 'золотую', 'золотую', 'серебро', 'золотой', 'серебро', 'орденом', 'Книги', 'Герою', 'Нобелевские', 'Нобелевская', 'премию', 'Букеровской', 'финалистом', 'золото', 'Нобелевскую', 'Нобелевскую', 'Премия', 'нобелевском', 'Нобелевские', 'Золотую', 'премии', 'Премия', 'Нобелевские', 'золото', 'бронзовым', 'серебряный', 'Бронзовая', 'Норрис', 'лучший', 'Конн', 'Лучшая', 'Нобелевской', 'Нобелевской', 'олимпийской', 'Золотая', 'Оскара', 'лучший', 'лучшим', 'Награда', 'лучшую', 'чемпионов', 'рыцари', 'чемпионом', 'чемпионом', 'Героя', 'Героя', 'чемпион', 'Чемпионами', 'Лучшим', 'медалью', 'За', 'орденом', 'чемпион', 'чемпионом', 'народный', 'чемпион', 'олимпийская', 'чемпиона', 'Филдсовскую', 'Филдсовская', 'медаль', 'Герой', 'Народного', 'Нобелевскую', 'Нобелевская', 'нобелевского', 'Нобелевскую', 'премии', 'Нобелевскую', 'Орден', 'орденом', 'Народного', 'орденом', 'Нобелевский', 'Нобелевский', 'нобелевского', 'За', 'За', 'Благодарность', 'Оскар', 'премий', 'Новой', 'премия', 'Lerici', 'Венец', 'Новая', 'народного', 'заслуженная', 'Народная', 'заслуженной', 'заслуженной', 'народной', 'народной', 'Государственной', 'Государственной', 'Знка', 'орденом', 'Дружбы', 'Почётный', 'Сталинской', 'чемпионский', 'чемпионом', 'Золотой', 'лучшему', 'Золотой', 'игроком', 'Золотой', 'Золотой', 'Золотой', 'лучшему', 'Мисс', 'Мисс', 'Оскар', 'абсолютным', 'чемпионом', 'абсолютным', 'чемпионом', 'кубка', 'поясов', 'абсолютным', 'чемпионом', 'Медалью', 'ордена', 'медалью', 'ордена', 'медалью', 'медалью', 'ордена', 'Бронзовый', 'заслуженный', 'бронзовый', 'За', 'Бронзовой', 'Пурпурным', 'Пурпурное', 'Медаль', 'Шукшинской', 'премии', 'орден', 'медаль', 'Ленинской', 'Государственных', 'Герой', 'чемпион', 'чемпион', 'титул', 'межконтинентальным', 'чемпиона', 'Народного', 'чемпионский', 'народный', 'премии', 'премии', 'победитель', 'орденов', 'ордена', 'полному', 'За', 'Золотых', 'Grammy', 'лауреат']\n"
          ]
        }
      ]
    },
    {
      "cell_type": "markdown",
      "source": [
        "<div style=\"border:solid green 2px; padding: 5px\">\n",
        "    \n",
        "    на основании полученных данных из текстов впишем определение меток в виде лэйблов, далее создадим словари для преобразования меток в идентификаторы и обратно, напечатаем примеры для проверки:"
      ],
      "metadata": {
        "id": "Qtzb7HD6ux7a"
      }
    },
    {
      "cell_type": "code",
      "source": [
        "labels = [\n",
        "    \"O\", \"B-AGE\", \"I-AGE\", \"B-AWARD\", \"I-AWARD\",\n",
        "    \"B-GEO\", \"I-GEO\", \"B-COUNTRY\", \"I-COUNTRY\",\n",
        "    \"B-CRIMES\", \"I-CRIMES\", \"B-DATE\", \"I-DATE\",\n",
        "    \"B-DISEASE\", \"I-DISEASE\", \"B-DISTRICT\", \"I-DISTRICT\",\n",
        "    \"B-MISC\", \"I-MISC\", \"B-PLACES\", \"I-PLACES\",\n",
        "    \"B-FAMILY\", \"I-FAMILY\", \"B-PARTY\", \"I-PARTY\",\n",
        "    \"B-LANG\", \"B-LAW\", \"I-LAW\", \"B-LOC\", \"I-LOC\",\n",
        "    \"B-NUM\", \"I-NUM\", \"B-NATION\", \"I-NATION\",\n",
        "    \"B-NEAR\", \"I-NEAR\", \"B-ORDINAL\", \"I-ORDINAL\",\n",
        "    \"B-ORG\", \"I-ORG\", \"B-CASE\", \"I-CASE\",\n",
        "    \"B-PERCENT\", \"I-PERCENT\", \"B-PER\", \"I-PER\",\n",
        "    \"B-NET\", \"I-NET\", \"B-PROF\", \"I-PROF\",\n",
        "    \"B-RELIGION\", \"I-RELIGION\", \"B-STATE\", \"I-STATE\",\n",
        "    \"B-TIME\", \"I-TIME\", \"B-TITLE\", \"I-TITLE\"\n",
        "]\n",
        "\n",
        "label_to_id = {label: i for i, label in enumerate(labels)}\n",
        "id_to_label = {i: label for i, label in enumerate(labels)}\n",
        "\n",
        "print(f\"Метка '{labels[1]}' соответствует ID:\", label_to_id['B-AGE'])\n",
        "print(f\"ID '{labels[56].index}' соответствует метке:\", id_to_label[57])"
      ],
      "metadata": {
        "id": "QGIpAuqkjMsX",
        "outputId": "a9690afd-acea-40c6-ec73-b55eb876f73d",
        "colab": {
          "base_uri": "https://localhost:8080/"
        }
      },
      "execution_count": 19,
      "outputs": [
        {
          "output_type": "stream",
          "name": "stdout",
          "text": [
            "Метка 'B-AGE' соответствует ID: 1\n",
            "ID '<built-in method index of str object at 0x7f1e40343df0>' соответствует метке: I-TITLE\n"
          ]
        }
      ]
    },
    {
      "cell_type": "markdown",
      "source": [
        "<div style=\"border:solid green 2px; padding: 5px\">\n",
        "    \n",
        "    модель будем использовать \"DeepPavlov/rubert-base-cased\", данная модель работает с русскими текстами, также в переменную запишем токенайзер:"
      ],
      "metadata": {
        "id": "tX6Lmzcozal5"
      }
    },
    {
      "cell_type": "code",
      "source": [
        "pt_model = \"DeepPavlov/rubert-base-cased\"\n",
        "tokenizer = AutoTokenizer.from_pretrained(pt_model, clean_up_tokenization_spaces=True)"
      ],
      "metadata": {
        "colab": {
          "base_uri": "https://localhost:8080/",
          "height": 145,
          "referenced_widgets": [
            "c6d8460bd9a541b4972dac125e65bb73",
            "4eef5b38942c4483bf360e1d25fe8cd4",
            "0d7b7b95510949b7a25b2039e612a6e4",
            "a5900b542dc9460b9055ba216f4b49c6",
            "89b88061df3a48d397a0b689892dd00d",
            "fe91136260954578a5551d78e1bcf22d",
            "f7e43b9dc0e34390b054a1c64df8bd07",
            "82977354bc304eff94af75bb363cb327",
            "0b9df3309f184ade82a5217d658aab53",
            "aae9fafcc27c42ba882f499e8441f6dc",
            "eacba46488e74cbfaa2f050d0d737f84",
            "41807687230f44f591f0c123337ae387",
            "dc017c92d56b495aad8ae96a256502b7",
            "8a23b649391e45598b59cd3539578282",
            "788b5b09c1d04e4ab3448b6d50e2d280",
            "50a0374428b748ef81006efc3c258569",
            "eb917e3a69f24e94a1125c0ba71408bc",
            "3bb39db3bb23422d93b78ff787b71412",
            "88d679a74efc41f2b05f3eb956585930",
            "333e2ca425f8491c9ba4e5567590e204",
            "6fccb71881604371a27b1a6b8abd6a97",
            "be0bbb55a9c947789c2d9fac26a62784",
            "6658cc2d7d6e4e108ffdc56999585b0e",
            "d4d41fb955f14e859e49f2fbde5a1070",
            "0c6b725b1cbe465bb533b27ecfc40169",
            "3c1bb3bced704ab3acaad72a3f28578f",
            "e1fa7ff1f1474173beeec61965356d1d",
            "7d45c1f44dc7421ba3eebe6a2a8e6055",
            "854d29d7119b4f428d9a2e03133672f9",
            "9c5b7355be3e4c87b3e017a6339a7039",
            "45548792aaf644e78fa3ba6191b09345",
            "1f9f21ce1adc427d80809d61ff68b7aa",
            "cf8de3a7e77847808eee9022ab3ee328",
            "fae48d1cbc04404192a16db8a3c8830d",
            "336e3700bd464bf2b15097b190cce16c",
            "21cda5d7f6a0488aaa1d6ac1d4b2a6b4",
            "bc7a7ac37533487fb622d0d975dc9d36",
            "7a7e6d87c8dd4c28a9239d40837abceb",
            "449851802a2b413e925d0451e6681e4b",
            "5b971ff6d8ec48d9a22f6691d8f8076f",
            "16ca4142b4074394bfdb6649c2d3e011",
            "cfd9c53423814fd9a61d57252bf56ed9",
            "769c88c9cc3f4b5f9d3a970bb4362fa3",
            "bc18002e9c9745078f687f47bd4581cb"
          ]
        },
        "id": "6RnHuuo2wq1W",
        "outputId": "62342b2c-5cef-4b95-a038-b256145b93c4"
      },
      "execution_count": 20,
      "outputs": [
        {
          "output_type": "display_data",
          "data": {
            "text/plain": [
              "tokenizer_config.json:   0%|          | 0.00/24.0 [00:00<?, ?B/s]"
            ],
            "application/vnd.jupyter.widget-view+json": {
              "version_major": 2,
              "version_minor": 0,
              "model_id": "c6d8460bd9a541b4972dac125e65bb73"
            }
          },
          "metadata": {}
        },
        {
          "output_type": "display_data",
          "data": {
            "text/plain": [
              "config.json:   0%|          | 0.00/642 [00:00<?, ?B/s]"
            ],
            "application/vnd.jupyter.widget-view+json": {
              "version_major": 2,
              "version_minor": 0,
              "model_id": "41807687230f44f591f0c123337ae387"
            }
          },
          "metadata": {}
        },
        {
          "output_type": "display_data",
          "data": {
            "text/plain": [
              "vocab.txt:   0%|          | 0.00/1.65M [00:00<?, ?B/s]"
            ],
            "application/vnd.jupyter.widget-view+json": {
              "version_major": 2,
              "version_minor": 0,
              "model_id": "6658cc2d7d6e4e108ffdc56999585b0e"
            }
          },
          "metadata": {}
        },
        {
          "output_type": "display_data",
          "data": {
            "text/plain": [
              "special_tokens_map.json:   0%|          | 0.00/112 [00:00<?, ?B/s]"
            ],
            "application/vnd.jupyter.widget-view+json": {
              "version_major": 2,
              "version_minor": 0,
              "model_id": "fae48d1cbc04404192a16db8a3c8830d"
            }
          },
          "metadata": {}
        }
      ]
    },
    {
      "cell_type": "markdown",
      "source": [
        "<div style=\"border:solid green 2px; padding: 5px\">\n",
        "    \n",
        "    проверим работу токенайзера на строках стихотворения:"
      ],
      "metadata": {
        "id": "_sFn9fLx56fy"
      }
    },
    {
      "cell_type": "code",
      "source": [
        "sample_verse = \"Светла над миром, как звезда, Родина моя!\"\n",
        "\n",
        "tokens = tokenizer.tokenize(sample_verse)\n",
        "print(\"Токены:\", tokens)\n",
        "\n",
        "token_ids = tokenizer.encode(sample_verse)\n",
        "print(\"Идентификаторы токенов:\", token_ids)"
      ],
      "metadata": {
        "colab": {
          "base_uri": "https://localhost:8080/"
        },
        "id": "jGtoTJvFdxdA",
        "outputId": "4b2e04f8-ff4e-41a2-ce5c-3ee423c30bd0"
      },
      "execution_count": 21,
      "outputs": [
        {
          "output_type": "stream",
          "name": "stdout",
          "text": [
            "Токены: ['Светл', '##а', 'над', 'миром', ',', 'как', 'звезда', ',', 'Родина', 'моя', '!']\n",
            "Идентификаторы токенов: [101, 44285, 626, 4700, 31912, 128, 2739, 22826, 128, 35408, 35125, 106, 102]\n"
          ]
        }
      ]
    },
    {
      "cell_type": "markdown",
      "source": [
        "<div style=\"border:solid green 2px; padding: 5px\">\n",
        "    \n",
        "    загрузим предобученную модель для токенов с классификацией, приведём все параметры модели к смежному формату памяти для оптимизации работы с тензорами в PyTorch:"
      ],
      "metadata": {
        "id": "vIsqpHWH0lx7"
      }
    },
    {
      "cell_type": "code",
      "source": [
        "model = AutoModelForTokenClassification.from_pretrained(pt_model, num_labels=num_labels)\n",
        "for param in model.parameters():\n",
        "  param.data = param.data.contiguous()"
      ],
      "metadata": {
        "colab": {
          "base_uri": "https://localhost:8080/",
          "height": 104,
          "referenced_widgets": [
            "e1af52172749480892c97c1f0d3abc19",
            "4dff7fca23db45d3a6b82410aceb9e96",
            "0d3f0aa32f6c4da49ed05c5d760f3567",
            "e8ba2d4c729449f99751930e083c9dcd",
            "53fc4ef491b74a3397360f2efef68eeb",
            "b531304576bd432498809fac59216de6",
            "255326b158f84482bd5fd3f82fbec51c",
            "9bf7cbee439444beac5feef94efc36e8",
            "e54c994421974deeaca2ab821a63c2e7",
            "d021f3b4ef1240919f1300d38eba0d7c",
            "e0c13ec8df2d48bf9d29ce64a1249ace"
          ]
        },
        "id": "yUdI-aXzg3PK",
        "outputId": "79882611-006b-4d88-80f2-9845a27f14e7"
      },
      "execution_count": 22,
      "outputs": [
        {
          "output_type": "display_data",
          "data": {
            "text/plain": [
              "pytorch_model.bin:   0%|          | 0.00/714M [00:00<?, ?B/s]"
            ],
            "application/vnd.jupyter.widget-view+json": {
              "version_major": 2,
              "version_minor": 0,
              "model_id": "e1af52172749480892c97c1f0d3abc19"
            }
          },
          "metadata": {}
        },
        {
          "output_type": "stream",
          "name": "stderr",
          "text": [
            "Some weights of BertForTokenClassification were not initialized from the model checkpoint at DeepPavlov/rubert-base-cased and are newly initialized: ['classifier.bias', 'classifier.weight']\n",
            "You should probably TRAIN this model on a down-stream task to be able to use it for predictions and inference.\n"
          ]
        }
      ]
    },
    {
      "cell_type": "markdown",
      "source": [
        "<div style=\"border:solid green 2px; padding: 5px\">\n",
        "    \n",
        "    напишем функцию, которая нормализует тэги, что потребуется для обучения модели, затем токенизирует входные примеры и выровнит метки;\n",
        "    метки, выходящие за пределы допустимого диапазона, изменяются на -100 для последующего использования в обучении модели, затем функция возвращает словарь с токенизированными данными и соответствующими метками, далее через лямбда-функцию проводим токенизацию и сохраняем в переменную:"
      ],
      "metadata": {
        "id": "tCfmJm-t1fUS"
      }
    },
    {
      "cell_type": "code",
      "source": [
        "def normalize_labels(labels, num_labels):\n",
        "    return [min(max(label, 0), num_labels - 1) for label in labels]\n",
        "\n",
        "def tokenize_and_align_labels(examples, tokenizer, num_labels):\n",
        "    tokenized_inputs = tokenizer(\n",
        "        examples['tokens'],\n",
        "        truncation=True,\n",
        "        padding='max_length',\n",
        "        max_length=512,\n",
        "        is_split_into_words=True\n",
        "    )\n",
        "\n",
        "    labels = []\n",
        "    for i, label in enumerate(examples['tags']):\n",
        "        label_ids = normalize_labels(label + [-100] * (len(tokenized_inputs['input_ids'][i]) - len(label)), num_labels)\n",
        "        labels.append(torch.tensor(label_ids).contiguous())\n",
        "\n",
        "    tokenized_inputs['labels'] = torch.stack(labels)\n",
        "    return tokenized_inputs\n",
        "\n",
        "tokenized_datasets = ds.map(lambda examples: tokenize_and_align_labels(examples, tokenizer, num_labels), batched=True)"
      ],
      "metadata": {
        "id": "uzBZ0ChSSANW",
        "colab": {
          "base_uri": "https://localhost:8080/",
          "height": 113,
          "referenced_widgets": [
            "a95aa8c45cd34366a0f68598277104be",
            "76a84893affa4ce09f24dfcad97b4b1a",
            "ed7f8f74389541899758114a043e8c0b",
            "e3fcc58b7e7549d593c67a30406370cd",
            "69ad7594fef24b538ca9e361db8321e7",
            "07a3db748c6f4b88a2187d52a0262c82",
            "ba12a0bcd9f7438896a144138e1dbf09",
            "ed3c1423fc854b78851535549cb6ff7b",
            "bd8a5fd547254320a0197f53268ad331",
            "9e94c948c0a84e1da34c0318371e131c",
            "b16a09477de54c31b48378c095a7971b",
            "f2094b67202c4ff487d1dcc6178455db",
            "761de8dbd8d74d6b81f426fb237da1e3",
            "1a0f64e7f45a4be0b9477c51eb967bdc",
            "742b054ac9844a82a451909ed209b110",
            "7fed317383294468986488d556ea5779",
            "e832f7e2f3d3458d9406c4972112c1b9",
            "cbda7fa65b0641bc990b94327675369a",
            "e57f7ad0e3144d15a7be6c0425086ba1",
            "e8a8427eaf4443a4b9a7cec239a7aa41",
            "cf1e27e3b8354fabaa3a1dbed264ba8b",
            "a8986150b99f49758f1e68c3bd2a69a1",
            "aa7530bd43204d8196ab1c921e57e614",
            "562da4830d264371b802b307780140be",
            "9fcc9dd56fcd44759d5f7a8ff011e8b8",
            "daa063e4a94c46678b47f93fcaf83806",
            "f8f04d392d6946b1a171b4cf8d448c15",
            "78a525e6ce234db5b433ddb7f6339001",
            "f8555eb970a44cefa6184cb17a203b72",
            "b974c65f5927421aa7540b14edcda436",
            "c0627af5c6b44931b99e11105921949d",
            "763e3fafe0ac4a81bd15f1091bb86891",
            "b0b79cb1effa495e95f3e3eeba013ce3"
          ]
        },
        "outputId": "d614a07e-6f58-4d92-8f7b-3764d9b6071c"
      },
      "execution_count": 23,
      "outputs": [
        {
          "output_type": "display_data",
          "data": {
            "text/plain": [
              "Map:   0%|          | 0/2508 [00:00<?, ? examples/s]"
            ],
            "application/vnd.jupyter.widget-view+json": {
              "version_major": 2,
              "version_minor": 0,
              "model_id": "a95aa8c45cd34366a0f68598277104be"
            }
          },
          "metadata": {}
        },
        {
          "output_type": "display_data",
          "data": {
            "text/plain": [
              "Map:   0%|          | 0/512 [00:00<?, ? examples/s]"
            ],
            "application/vnd.jupyter.widget-view+json": {
              "version_major": 2,
              "version_minor": 0,
              "model_id": "f2094b67202c4ff487d1dcc6178455db"
            }
          },
          "metadata": {}
        },
        {
          "output_type": "display_data",
          "data": {
            "text/plain": [
              "Map:   0%|          | 0/536 [00:00<?, ? examples/s]"
            ],
            "application/vnd.jupyter.widget-view+json": {
              "version_major": 2,
              "version_minor": 0,
              "model_id": "aa7530bd43204d8196ab1c921e57e614"
            }
          },
          "metadata": {}
        }
      ]
    },
    {
      "cell_type": "markdown",
      "source": [
        "<div style=\"border:solid green 2px; padding: 5px\">\n",
        "    \n",
        "    посмотрим на результат токенизации, для этого напишем функцию, которая выведет список уникальных меток и их количество по каждому поднабору данных:"
      ],
      "metadata": {
        "id": "ODA1njVW4Tl6"
      }
    },
    {
      "cell_type": "code",
      "source": [
        "unique_labels = set()\n",
        "\n",
        "for split in ['train', 'test', 'dev']:\n",
        "    for example in tokenized_datasets[split]:\n",
        "        unique_labels.update(example['labels'])\n",
        "\n",
        "print(unique_labels)\n",
        "print(len(unique_labels))"
      ],
      "metadata": {
        "colab": {
          "base_uri": "https://localhost:8080/"
        },
        "id": "w2r0chuFU4DU",
        "outputId": "234c4bde-6fd5-4a5b-852b-e93d59dad10f"
      },
      "execution_count": 24,
      "outputs": [
        {
          "output_type": "stream",
          "name": "stdout",
          "text": [
            "{0, 1, 2, 3, 4, 5, 6, 7, 8, 9, 10, 11, 12, 13, 14, 15, 16, 17, 18, 19, 20, 21, 22, 23, 24, 25, 26, 27, 28, 29, 30, 31, 32, 33, 34, 35, 36, 37, 38, 39, 40, 41, 42, 43, 44, 45, 46, 47, 48, 49, 50, 51, 52, 53, 54, 55, 56, 57}\n",
            "58\n"
          ]
        }
      ]
    },
    {
      "cell_type": "markdown",
      "source": [
        "<div style=\"border:solid green 2px; padding: 5px\">\n",
        "    \n",
        "    задаём гиперпараметры для модели, достаточные для обучения в пределах заданных значений ОЗУ:"
      ],
      "metadata": {
        "id": "bl9FkjAq22fK"
      }
    },
    {
      "cell_type": "code",
      "source": [
        "training_args = TrainingArguments(\n",
        "    output_dir='./results',\n",
        "    eval_strategy=\"epoch\",\n",
        "    learning_rate=3e-5,\n",
        "    per_device_train_batch_size=8,\n",
        "    num_train_epochs=3,\n",
        "    gradient_accumulation_steps=2,\n",
        "    logging_steps=100,\n",
        ")"
      ],
      "metadata": {
        "id": "aF4x3w_eiDQA"
      },
      "execution_count": 25,
      "outputs": []
    },
    {
      "cell_type": "markdown",
      "source": [
        "<div style=\"border:solid green 2px; padding: 5px\">\n",
        "    \n",
        "    запускаем обучение модели на тренировочной и валидационных выборках, сохраняем в переменную:"
      ],
      "metadata": {
        "id": "7x-j7nQY44G6"
      }
    },
    {
      "cell_type": "code",
      "source": [
        "trainer = Trainer(\n",
        "    model=model,\n",
        "    args=training_args,\n",
        "    train_dataset=tokenized_datasets['train'],\n",
        "    eval_dataset=tokenized_datasets['dev'],\n",
        ")\n",
        "\n",
        "trainer.train()"
      ],
      "metadata": {
        "colab": {
          "base_uri": "https://localhost:8080/",
          "height": 204
        },
        "id": "hmBDrS-oR5qq",
        "outputId": "a3d78678-6bb3-4344-94be-633eab509ed7"
      },
      "execution_count": 26,
      "outputs": [
        {
          "output_type": "display_data",
          "data": {
            "text/plain": [
              "<IPython.core.display.HTML object>"
            ],
            "text/html": [
              "\n",
              "    <div>\n",
              "      \n",
              "      <progress value='471' max='471' style='width:300px; height:20px; vertical-align: middle;'></progress>\n",
              "      [471/471 13:02, Epoch 3/3]\n",
              "    </div>\n",
              "    <table border=\"1\" class=\"dataframe\">\n",
              "  <thead>\n",
              " <tr style=\"text-align: left;\">\n",
              "      <th>Epoch</th>\n",
              "      <th>Training Loss</th>\n",
              "      <th>Validation Loss</th>\n",
              "    </tr>\n",
              "  </thead>\n",
              "  <tbody>\n",
              "    <tr>\n",
              "      <td>1</td>\n",
              "      <td>0.264500</td>\n",
              "      <td>0.113659</td>\n",
              "    </tr>\n",
              "    <tr>\n",
              "      <td>2</td>\n",
              "      <td>0.098400</td>\n",
              "      <td>0.096213</td>\n",
              "    </tr>\n",
              "    <tr>\n",
              "      <td>3</td>\n",
              "      <td>0.092000</td>\n",
              "      <td>0.091432</td>\n",
              "    </tr>\n",
              "  </tbody>\n",
              "</table><p>"
            ]
          },
          "metadata": {}
        },
        {
          "output_type": "execute_result",
          "data": {
            "text/plain": [
              "TrainOutput(global_step=471, training_loss=0.13396909535563928, metrics={'train_runtime': 787.6687, 'train_samples_per_second': 9.552, 'train_steps_per_second': 0.598, 'total_flos': 1966992167264256.0, 'train_loss': 0.13396909535563928, 'epoch': 3.0})"
            ]
          },
          "metadata": {},
          "execution_count": 26
        }
      ]
    },
    {
      "cell_type": "markdown",
      "source": [
        "<div style=\"border:solid green 2px; padding: 5px\">\n",
        "    \n",
        "    сделаем предсказание меток на тестовом наборе данных с использованием обученной модели, преобразуем метки в плоские списки, генерируем и печатаем отчёт о классификации:"
      ],
      "metadata": {
        "id": "n0DHUPFR8WL4"
      }
    },
    {
      "cell_type": "code",
      "source": [
        "predictions = trainer.predict(tokenized_datasets['test'])\n",
        "y_pred = predictions.predictions.argmax(-1)\n",
        "\n",
        "predicted_labels = [[id_to_label[label] for label in pred if label != -100] for pred in y_pred]\n",
        "\n",
        "y_true = [tags for tags in tokenized_datasets['test']['labels']]\n",
        "\n",
        "true_flat = [id_to_label[tag] for sublist in y_true for tag in sublist if tag != -100]\n",
        "pred_flat = [tag for sublist in predicted_labels for tag in sublist]\n",
        "\n",
        "report = classification_report(true_flat, pred_flat, zero_division=0, output_dict=True)\n",
        "\n",
        "if \"O\" in report:\n",
        "    del report[\"O\"]\n",
        "\n",
        "print(\"Отчёт о классификации:\", report)"
      ],
      "metadata": {
        "colab": {
          "base_uri": "https://localhost:8080/",
          "height": 54
        },
        "id": "XCNAr7jbE32l",
        "outputId": "9a244421-276e-4383-8646-8fbee9081291"
      },
      "execution_count": 27,
      "outputs": [
        {
          "output_type": "display_data",
          "data": {
            "text/plain": [
              "<IPython.core.display.HTML object>"
            ],
            "text/html": []
          },
          "metadata": {}
        },
        {
          "output_type": "stream",
          "name": "stdout",
          "text": [
            "Отчёт о классификации: {'B-AGE': {'precision': 0.0, 'recall': 0.0, 'f1-score': 0.0, 'support': 62.0}, 'B-AWARD': {'precision': 0.0, 'recall': 0.0, 'f1-score': 0.0, 'support': 78.0}, 'B-CASE': {'precision': 0.0, 'recall': 0.0, 'f1-score': 0.0, 'support': 11.0}, 'B-COUNTRY': {'precision': 0.3346938775510204, 'recall': 0.24260355029585798, 'f1-score': 0.28130360205831906, 'support': 338.0}, 'B-CRIMES': {'precision': 0.0, 'recall': 0.0, 'f1-score': 0.0, 'support': 24.0}, 'B-DATE': {'precision': 0.42953020134228187, 'recall': 0.15274463007159905, 'f1-score': 0.22535211267605634, 'support': 419.0}, 'B-DISEASE': {'precision': 0.0, 'recall': 0.0, 'f1-score': 0.0, 'support': 45.0}, 'B-DISTRICT': {'precision': 0.0, 'recall': 0.0, 'f1-score': 0.0, 'support': 16.0}, 'B-FAMILY': {'precision': 0.0, 'recall': 0.0, 'f1-score': 0.0, 'support': 3.0}, 'B-GEO': {'precision': 0.2, 'recall': 0.017241379310344827, 'f1-score': 0.031746031746031744, 'support': 174.0}, 'B-LANG': {'precision': 0.0, 'recall': 0.0, 'f1-score': 0.0, 'support': 2.0}, 'B-LAW': {'precision': 0.0, 'recall': 0.0, 'f1-score': 0.0, 'support': 35.0}, 'B-LOC': {'precision': 0.0, 'recall': 0.0, 'f1-score': 0.0, 'support': 34.0}, 'B-MISC': {'precision': 0.26993865030674846, 'recall': 0.12188365650969529, 'f1-score': 0.16793893129770993, 'support': 361.0}, 'B-NATION': {'precision': 0.0, 'recall': 0.0, 'f1-score': 0.0, 'support': 58.0}, 'B-NEAR': {'precision': 0.3333333333333333, 'recall': 0.12195121951219512, 'f1-score': 0.17857142857142858, 'support': 164.0}, 'B-NET': {'precision': 0.0, 'recall': 0.0, 'f1-score': 0.0, 'support': 28.0}, 'B-NUM': {'precision': 0.0, 'recall': 0.0, 'f1-score': 0.0, 'support': 30.0}, 'B-ORDINAL': {'precision': 0.0, 'recall': 0.0, 'f1-score': 0.0, 'support': 75.0}, 'B-ORG': {'precision': 0.4492753623188406, 'recall': 0.15577889447236182, 'f1-score': 0.23134328358208955, 'support': 398.0}, 'B-PARTY': {'precision': 0.0, 'recall': 0.0, 'f1-score': 0.0, 'support': 28.0}, 'B-PER': {'precision': 0.3885350318471338, 'recall': 0.3784119106699752, 'f1-score': 0.3834066624764299, 'support': 806.0}, 'B-PERCENT': {'precision': 0.0, 'recall': 0.0, 'f1-score': 0.0, 'support': 3.0}, 'B-PLACES': {'precision': 0.0, 'recall': 0.0, 'f1-score': 0.0, 'support': 53.0}, 'B-PROF': {'precision': 0.3543307086614173, 'recall': 0.16453382084095064, 'f1-score': 0.2247191011235955, 'support': 547.0}, 'B-RELIGION': {'precision': 0.0, 'recall': 0.0, 'f1-score': 0.0, 'support': 17.0}, 'B-STATE': {'precision': 0.0, 'recall': 0.0, 'f1-score': 0.0, 'support': 92.0}, 'B-TIME': {'precision': 0.0, 'recall': 0.0, 'f1-score': 0.0, 'support': 38.0}, 'B-TITLE': {'precision': 0.0, 'recall': 0.0, 'f1-score': 0.0, 'support': 58.0}, 'I-AGE': {'precision': 0.0, 'recall': 0.0, 'f1-score': 0.0, 'support': 47.0}, 'I-AWARD': {'precision': 0.0, 'recall': 0.0, 'f1-score': 0.0, 'support': 150.0}, 'I-CASE': {'precision': 0.0, 'recall': 0.0, 'f1-score': 0.0, 'support': 13.0}, 'I-COUNTRY': {'precision': 0.0, 'recall': 0.0, 'f1-score': 0.0, 'support': 13.0}, 'I-CRIMES': {'precision': 0.0, 'recall': 0.0, 'f1-score': 0.0, 'support': 38.0}, 'I-DATE': {'precision': 0.4848993288590604, 'recall': 0.7127003699136868, 'f1-score': 0.5771342985521717, 'support': 811.0}, 'I-DISEASE': {'precision': 0.0, 'recall': 0.0, 'f1-score': 0.0, 'support': 34.0}, 'I-DISTRICT': {'precision': 0.0, 'recall': 0.0, 'f1-score': 0.0, 'support': 6.0}, 'I-FAMILY': {'precision': 0.0, 'recall': 0.0, 'f1-score': 0.0, 'support': 7.0}, 'I-GEO': {'precision': 0.0, 'recall': 0.0, 'f1-score': 0.0, 'support': 3.0}, 'I-LAW': {'precision': 0.536697247706422, 'recall': 0.7222222222222222, 'f1-score': 0.6157894736842106, 'support': 162.0}, 'I-LOC': {'precision': 0.0, 'recall': 0.0, 'f1-score': 0.0, 'support': 8.0}, 'I-MISC': {'precision': 0.29464285714285715, 'recall': 0.061452513966480445, 'f1-score': 0.1016949152542373, 'support': 537.0}, 'I-NATION': {'precision': 0.0, 'recall': 0.0, 'f1-score': 0.0, 'support': 1.0}, 'I-NEAR': {'precision': 0.0, 'recall': 0.0, 'f1-score': 0.0, 'support': 53.0}, 'I-NET': {'precision': 0.0, 'recall': 0.0, 'f1-score': 0.0, 'support': 7.0}, 'I-NUM': {'precision': 0.6785714285714286, 'recall': 0.2835820895522388, 'f1-score': 0.4, 'support': 67.0}, 'I-ORG': {'precision': 0.351981351981352, 'recall': 0.3393258426966292, 'f1-score': 0.34553775743707094, 'support': 445.0}, 'I-PARTY': {'precision': 0.0, 'recall': 0.0, 'f1-score': 0.0, 'support': 5.0}, 'I-PER': {'precision': 0.46494464944649444, 'recall': 0.3987341772151899, 'f1-score': 0.4293015332197615, 'support': 632.0}, 'I-PERCENT': {'precision': 0.0, 'recall': 0.0, 'f1-score': 0.0, 'support': 3.0}, 'I-PLACES': {'precision': 0.6875, 'recall': 0.13095238095238096, 'f1-score': 0.22, 'support': 84.0}, 'I-PROF': {'precision': 0.38580246913580246, 'recall': 0.4045307443365696, 'f1-score': 0.3949447077409163, 'support': 309.0}, 'I-STATE': {'precision': 0.0, 'recall': 0.0, 'f1-score': 0.0, 'support': 26.0}, 'I-TIME': {'precision': 0.9166666666666666, 'recall': 0.12790697674418605, 'f1-score': 0.22448979591836735, 'support': 86.0}, 'I-TITLE': {'precision': 0.0, 'recall': 0.0, 'f1-score': 0.0, 'support': 73.0}, 'accuracy': 0.97515869140625, 'macro avg': {'precision': 0.15261777423977557, 'recall': 0.09880660187816541, 'f1-score': 0.10757453268678172, 'support': 262144.0}, 'weighted avg': {'precision': 0.9663743880194449, 'recall': 0.97515869140625, 'f1-score': 0.9699018296358495, 'support': 262144.0}}\n"
          ]
        }
      ]
    },
    {
      "cell_type": "markdown",
      "source": [
        "<div style=\"border:solid green 2px; padding: 5px\">\n",
        "    \n",
        "    визуализируем данные по метрикам на столбчатой диаграмме:"
      ],
      "metadata": {
        "id": "gjgVvJyPCse1"
      }
    },
    {
      "cell_type": "code",
      "source": [
        "precision = []\n",
        "recall = []\n",
        "f1_score = []\n",
        "labels_vis = []\n",
        "\n",
        "for label, metrics in report.items():\n",
        "    if isinstance(metrics, dict):\n",
        "        labels_vis.append(label)\n",
        "        precision.append(metrics['precision'])\n",
        "        recall.append(metrics['recall'])\n",
        "        f1_score.append(metrics['f1-score'])\n",
        "\n",
        "plt.figure(figsize=(10, 6))\n",
        "x = range(len(labels_vis))\n",
        "\n",
        "plt.bar(x, precision, width=0.2, label='Precision', color='b', align='center')\n",
        "plt.bar([p + 0.2 for p in x], recall, width=0.2, label='Recall', color='g', align='center')\n",
        "plt.bar([p + 0.4 for p in x], f1_score, width=0.2, label='F1 Score', color='r', align='center')\n",
        "\n",
        "plt.xticks([p + 0.2 for p in x], labels_vis, rotation=80)\n",
        "plt.xlabel('Лейблы')\n",
        "plt.ylabel('Значения')\n",
        "plt.title('Precision, Recall и F1-мера для лейблов NER')\n",
        "plt.legend()\n",
        "plt.tight_layout()\n",
        "plt.show()"
      ],
      "metadata": {
        "colab": {
          "base_uri": "https://localhost:8080/",
          "height": 607
        },
        "id": "ipwlP_7p-ydX",
        "outputId": "618f227d-fe74-432b-8bcd-f85998cd3611"
      },
      "execution_count": 28,
      "outputs": [
        {
          "output_type": "display_data",
          "data": {
            "text/plain": [
              "<Figure size 1000x600 with 1 Axes>"
            ],
            "image/png": "[encoded data removed]"
          },
          "metadata": {}
        }
      ]
    },
    {
      "cell_type": "markdown",
      "source": [
        "<div style=\"border:solid green 2px; padding: 5px\">\n",
        "    \n",
        "    видим, что модель лучше всего справляется с такими тэгами, как DATE, LAW, NUM, PER, TIME\n",
        "\n",
        "    для просмотра результатов предсказаний, выведем ограниченное количество корпусов текстов и посмотрим, как модель распределила парсинг и NER (для примера, сделаем фильтр по частям речи):"
      ],
      "metadata": {
        "id": "pQ0r4yinD3NU"
      }
    },
    {
      "cell_type": "code",
      "source": [
        "nlp = spacy.load(\"ru_core_news_sm\")\n",
        "\n",
        "max_sentences = 5\n",
        "\n",
        "for i in range(min(len(predicted_labels), max_sentences)):\n",
        "    text = \" \".join(ds['test']['tokens'][i])\n",
        "    doc = nlp(text)\n",
        "\n",
        "    print(f\"Предложение: {text}\")\n",
        "    print(\"Результаты NER:\")\n",
        "\n",
        "    for entity in doc.ents:\n",
        "        print(f\" - {entity.text}: {entity.label_}\")\n",
        "    print()\n",
        "    print(\"Результаты парсинга:\")\n",
        "\n",
        "    for token in doc:\n",
        "        if token.pos_ in {\"NOUN\", \"VERB\"}:\n",
        "            print(f'Текст: {token.text}, Часть речи: {token.pos_}, Зависимость: {token.dep_}, Ключевое слово: {token.head.text}')\n",
        "\n",
        "    print(\"\\n\" + \"=\"*50 + \"\\n\")"
      ],
      "metadata": {
        "id": "C0UgmKhsMMwm",
        "colab": {
          "base_uri": "https://localhost:8080/"
        },
        "outputId": "6e69c2d1-fe3c-456c-abdf-8e570526370c"
      },
      "execution_count": 29,
      "outputs": [
        {
          "output_type": "stream",
          "name": "stdout",
          "text": [
            "Предложение: Рэпер Децл умер после концерта в Ижевске Кирилл Децл Толмацкий Децл Толмацкий в 2007 году\n",
            "Результаты NER:\n",
            " - Децл: PER\n",
            " - Ижевске: LOC\n",
            " - Кирилл Децл Толмацкий: PER\n",
            " - Децл Толмацкий: PER\n",
            "\n",
            "Результаты парсинга:\n",
            "Текст: Рэпер, Часть речи: NOUN, Зависимость: nsubj, Ключевое слово: умер\n",
            "Текст: умер, Часть речи: VERB, Зависимость: ROOT, Ключевое слово: умер\n",
            "Текст: концерта, Часть речи: NOUN, Зависимость: obl, Ключевое слово: умер\n",
            "Текст: году, Часть речи: NOUN, Зависимость: obl, Ключевое слово: умер\n",
            "\n",
            "==================================================\n",
            "\n",
            "Предложение: Фото Александра Плющева 3 февраля 2019 года в 6 часов утра по московскому времени 3 февраля 2019 года в 6 часов утра по московскому времени отец рэпера Кирилла Толмацкого больше известного как Децл сообщил о смерти артиста\n",
            "Результаты NER:\n",
            " - Александра Плющева: PER\n",
            " - Кирилла Толмацкого: PER\n",
            " - Децл: PER\n",
            "\n",
            "Результаты парсинга:\n",
            "Текст: Фото, Часть речи: NOUN, Зависимость: nsubj, Ключевое слово: сообщил\n",
            "Текст: февраля, Часть речи: NOUN, Зависимость: flat, Ключевое слово: 3\n",
            "Текст: года, Часть речи: NOUN, Зависимость: nmod, Ключевое слово: 3\n",
            "Текст: часов, Часть речи: NOUN, Зависимость: nmod, Ключевое слово: Фото\n",
            "Текст: утра, Часть речи: NOUN, Зависимость: nmod, Ключевое слово: часов\n",
            "Текст: времени, Часть речи: NOUN, Зависимость: nmod, Ключевое слово: часов\n",
            "Текст: февраля, Часть речи: NOUN, Зависимость: flat, Ключевое слово: 3\n",
            "Текст: года, Часть речи: NOUN, Зависимость: nmod, Ключевое слово: 3\n",
            "Текст: часов, Часть речи: NOUN, Зависимость: nmod, Ключевое слово: Фото\n",
            "Текст: утра, Часть речи: NOUN, Зависимость: nmod, Ключевое слово: часов\n",
            "Текст: времени, Часть речи: NOUN, Зависимость: nmod, Ключевое слово: часов\n",
            "Текст: отец, Часть речи: NOUN, Зависимость: nsubj, Ключевое слово: сообщил\n",
            "Текст: рэпера, Часть речи: NOUN, Зависимость: nmod, Ключевое слово: отец\n",
            "Текст: сообщил, Часть речи: VERB, Зависимость: ROOT, Ключевое слово: сообщил\n",
            "Текст: смерти, Часть речи: NOUN, Зависимость: obl, Ключевое слово: сообщил\n",
            "Текст: артиста, Часть речи: NOUN, Зависимость: nmod, Ключевое слово: смерти\n",
            "\n",
            "==================================================\n",
            "\n",
            "Предложение: В одной из социальных сетей Александр Толмацкий оставил сообщение из трёх слов Кирилла больше нет Позднее эту информацию подтвердил концертный директор музыканта Павел Беленец\n",
            "Результаты NER:\n",
            " - Александр Толмацкий: PER\n",
            " - Кирилла: PER\n",
            " - Павел Беленец: PER\n",
            "\n",
            "Результаты парсинга:\n",
            "Текст: сетей, Часть речи: NOUN, Зависимость: nmod, Ключевое слово: одной\n",
            "Текст: оставил, Часть речи: VERB, Зависимость: ROOT, Ключевое слово: оставил\n",
            "Текст: сообщение, Часть речи: NOUN, Зависимость: obj, Ключевое слово: оставил\n",
            "Текст: слов, Часть речи: NOUN, Зависимость: nmod, Ключевое слово: сообщение\n",
            "Текст: нет, Часть речи: VERB, Зависимость: conj, Ключевое слово: оставил\n",
            "Текст: информацию, Часть речи: NOUN, Зависимость: obj, Ключевое слово: подтвердил\n",
            "Текст: подтвердил, Часть речи: VERB, Зависимость: parataxis, Ключевое слово: оставил\n",
            "Текст: директор, Часть речи: NOUN, Зависимость: nsubj, Ключевое слово: подтвердил\n",
            "Текст: музыканта, Часть речи: NOUN, Зависимость: nmod, Ключевое слово: директор\n",
            "\n",
            "==================================================\n",
            "\n",
            "Предложение: Сегодня ночью он выступал в Ижевске\n",
            "Результаты NER:\n",
            " - Ижевске: LOC\n",
            "\n",
            "Результаты парсинга:\n",
            "Текст: ночью, Часть речи: NOUN, Зависимость: obl, Ключевое слово: Сегодня\n",
            "Текст: выступал, Часть речи: VERB, Зависимость: ROOT, Ключевое слово: выступал\n",
            "\n",
            "==================================================\n",
            "\n",
            "Предложение: После выступления пошел в гримерку через несколько минут ему стало плохо\n",
            "Результаты NER:\n",
            "\n",
            "Результаты парсинга:\n",
            "Текст: выступления, Часть речи: NOUN, Зависимость: obl, Ключевое слово: пошел\n",
            "Текст: пошел, Часть речи: VERB, Зависимость: ROOT, Ключевое слово: пошел\n",
            "Текст: гримерку, Часть речи: NOUN, Зависимость: obl, Ключевое слово: пошел\n",
            "Текст: минут, Часть речи: NOUN, Зависимость: obl, Ключевое слово: стало\n",
            "Текст: стало, Часть речи: VERB, Зависимость: conj, Ключевое слово: пошел\n",
            "\n",
            "==================================================\n",
            "\n"
          ]
        }
      ]
    },
    {
      "cell_type": "markdown",
      "source": [
        "<div style=\"border:solid green 4px; padding: 15px\">\n",
        "\n",
        "# ИТОГОВЫЙ ВЫВОД:\n",
        "\n",
        "##1. Загрузка данных:\n",
        "    \n",
        "    а) Подгрузили необходимые библиотеки;\n",
        "    \n",
        "    б) Изучили структуру датасета;\n",
        "    \n",
        "    в) Провели предобработку тэгов датасета;\n",
        "    \n",
        "##2. Загрузка модели:\n",
        "    \n",
        "    а) Выбрали модель для обучения;\n",
        "    \n",
        "    б) Реализовали и проверили токенайзер;\n",
        "    \n",
        "    в) Загрузили и настроили предобученную модель;\n",
        "\n",
        "##3. Подготовка данных:\n",
        "\n",
        "    а) Нормализовали тэги в выборках;\n",
        "    \n",
        "    б) Провели токенизацию датасета;\n",
        "    \n",
        "    в) Проверили результат токенизации;\n",
        "    \n",
        "##4. Обучение модели:\n",
        "\n",
        "    а) Подобрали подходящие гиперпараметры;\n",
        "    \n",
        "    б) Обучили модель на данных;\n",
        "    \n",
        "    в) Вывели отчёт о классификации;\n",
        "\n",
        "##5. Дополнительная обработка:\n",
        "\n",
        "    а) Визуализировали метрики качества;\n",
        "    \n",
        "    б) Провели парсинг и процедуру NER;\n",
        "    \n",
        "    в) Написали итоговый вывод.\n",
        "\n",
        "<div style=\"border-radius: 15px; border: 3px solid indigo; padding: 15px;\">\n",
        "\n",
        "# ЗАКЛЮЧЕНИЕ:\n",
        "\n",
        "    Модель обучилась на трёх эпохах, в результате третьей эпохи loss составил\t9.2% и\t9.14% на тренировочной и валидационных выборках соответственно.\n",
        "    По результатам исследования датасета можем выделить, что прогнозируемость модели к меткам различна, лучшие метки по предсказанию - DATE, LAW, NUM, PER, TIME.\n",
        "    Также был проведён парсинг и NER данных, выгрузили какое-то число предложений с разбором от модели, где она успешно справилась с обработкой текста.\n",
        "\n",
        "    Что можно улучшить:\n",
        "    Можно было бы подобрать наиболее оптимальные гиперпараметры для модели, однако ограниченные ресурсы сервера позволили обучиться только на текущих."
      ],
      "metadata": {
        "id": "-xxVLQPJSxpz"
      }
    }
  ]
}