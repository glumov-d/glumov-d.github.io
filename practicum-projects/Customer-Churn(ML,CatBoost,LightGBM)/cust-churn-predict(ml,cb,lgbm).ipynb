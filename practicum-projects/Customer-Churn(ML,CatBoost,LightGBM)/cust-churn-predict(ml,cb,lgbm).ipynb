{
 "cells": [
  {
   "cell_type": "markdown",
   "id": "9db144d6",
   "metadata": {},
   "source": [
    "# 📈 ПРОЕКТ 📊"
   ]
  },
  {
   "cell_type": "markdown",
   "id": "b8a1ac01",
   "metadata": {},
   "source": [
    "# 🔍 МОДЕЛЬ ПРОГНОЗИРОВАНИЯ ОТТОКА КЛИЕНТОВ 🔎"
   ]
  },
  {
   "cell_type": "markdown",
   "id": "7fb84157",
   "metadata": {
    "toc": true
   },
   "source": [
    "<h1>Содержание<span class=\"tocSkip\"></span></h1>\n",
    "<div class=\"toc\"><ul class=\"toc-item\"><li><span><a href=\"#Загрузка-данных\" data-toc-modified-id=\"Загрузка-данных-1\"><span class=\"toc-item-num\">1&nbsp;&nbsp;</span>Загрузка данных</a></span></li><li><span><a href=\"#Исследовательский-анализ-и-предобработка-данных\" data-toc-modified-id=\"Исследовательский-анализ-и-предобработка-данных-2\"><span class=\"toc-item-num\">2&nbsp;&nbsp;</span>Исследовательский анализ и предобработка данных</a></span></li><li><span><a href=\"#Объединение-данных\" data-toc-modified-id=\"Объединение-данных-3\"><span class=\"toc-item-num\">3&nbsp;&nbsp;</span>Объединение данных</a></span></li><li><span><a href=\"#Исследовательский-анализ-и-предобработка-данных-объединённого-датафрейма\" data-toc-modified-id=\"Исследовательский-анализ-и-предобработка-данных-объединённого-датафрейма-4\"><span class=\"toc-item-num\">4&nbsp;&nbsp;</span>Исследовательский анализ и предобработка данных объединённого датафрейма</a></span></li><li><span><a href=\"#Подготовка-данных\" data-toc-modified-id=\"Подготовка-данных-5\"><span class=\"toc-item-num\">5&nbsp;&nbsp;</span>Подготовка данных</a></span></li><li><span><a href=\"#Обучение-моделей-машинного-обучения\" data-toc-modified-id=\"Обучение-моделей-машинного-обучения-6\"><span class=\"toc-item-num\">6&nbsp;&nbsp;</span>Обучение моделей машинного обучения</a></span></li><li><span><a href=\"#Проверка-лучшей-модели\" data-toc-modified-id=\"Проверка-лучшей-модели-7\"><span class=\"toc-item-num\">7&nbsp;&nbsp;</span>Проверка лучшей модели</a></span></li><li><span><a href=\"#Общий-вывод-и-рекомендации-заказчику\" data-toc-modified-id=\"Общий-вывод-и-рекомендации-заказчику-8\"><span class=\"toc-item-num\">8&nbsp;&nbsp;</span>Общий вывод и рекомендации заказчику</a></span></li></ul></div>"
   ]
  },
  {
   "cell_type": "markdown",
   "id": "64ef4c3c",
   "metadata": {},
   "source": [
    "## Загрузка данных"
   ]
  },
  {
   "cell_type": "markdown",
   "id": "45c9befc",
   "metadata": {},
   "source": [
    "<div style=\"border:solid green 2px; padding: 5px\">\n",
    "    \n",
    "    загружаем актуальную версию scikit-learn и phik:"
   ]
  },
  {
   "cell_type": "code",
   "execution_count": 1,
   "id": "49c8627a",
   "metadata": {},
   "outputs": [],
   "source": [
    "!pip install --upgrade -qq pip\n",
    "\n",
    "!pip install --upgrade -qq scikit-learn\n",
    "\n",
    "!pip install phik -qq"
   ]
  },
  {
   "cell_type": "markdown",
   "id": "fe8a819c",
   "metadata": {},
   "source": [
    "<div style=\"border:solid green 2px; padding: 5px\">\n",
    "    \n",
    "    проверяем, что версия sklearn обновилась до последней:"
   ]
  },
  {
   "cell_type": "code",
   "execution_count": 2,
   "id": "d4c48062",
   "metadata": {},
   "outputs": [
    {
     "name": "stdout",
     "output_type": "stream",
     "text": [
      "1.5.1\n"
     ]
    }
   ],
   "source": [
    "import sklearn\n",
    "print(sklearn.__version__)"
   ]
  },
  {
   "cell_type": "markdown",
   "id": "44e37e98",
   "metadata": {},
   "source": [
    "<div style=\"border:solid green 2px; padding: 5px\">\n",
    "    \n",
    "    импортируем библиотеки, необходимые нам в работе, также фиксируем RS, заданный нам ментором:\n"
   ]
  },
  {
   "cell_type": "code",
   "execution_count": 3,
   "id": "2d4ba52e",
   "metadata": {},
   "outputs": [],
   "source": [
    "import os\n",
    "import re\n",
    "import pandas as pd\n",
    "import numpy as np\n",
    "import matplotlib.pyplot as plt\n",
    "import seaborn as sns\n",
    "import phik\n",
    "\n",
    "from phik import phik_matrix\n",
    "\n",
    "from sklearn.preprocessing import OneHotEncoder, StandardScaler\n",
    "from sklearn.metrics import ConfusionMatrixDisplay, RocCurveDisplay, roc_curve, roc_auc_score, accuracy_score, auc\n",
    "from sklearn.model_selection import train_test_split, GridSearchCV\n",
    "from sklearn.pipeline import Pipeline\n",
    "\n",
    "import lightgbm as lgb\n",
    "from sklearn.ensemble import RandomForestClassifier\n",
    "from sklearn.linear_model import LogisticRegression\n",
    "from catboost import CatBoostClassifier\n",
    "\n",
    "RANDOM_STATE = 60524"
   ]
  },
  {
   "cell_type": "markdown",
   "id": "b2b65940",
   "metadata": {},
   "source": [
    "## Исследовательский анализ и предобработка данных"
   ]
  },
  {
   "cell_type": "markdown",
   "id": "a26fd125",
   "metadata": {},
   "source": [
    "<div style=\"border:solid green 2px; padding: 5px\">\n",
    "    \n",
    "    подгружаем первый файл (contract_new.csv), \n",
    "    сохраняем в переменную и выводим в виде таблиц и детализированных отчётов для изучения:\n"
   ]
  },
  {
   "cell_type": "code",
   "execution_count": 4,
   "id": "677d1a86",
   "metadata": {},
   "outputs": [
    {
     "name": "stdout",
     "output_type": "stream",
     "text": [
      "<class 'pandas.core.frame.DataFrame'>\n",
      "RangeIndex: 7043 entries, 0 to 7042\n",
      "Data columns (total 8 columns):\n",
      " #   Column            Non-Null Count  Dtype  \n",
      "---  ------            --------------  -----  \n",
      " 0   customerID        7043 non-null   object \n",
      " 1   BeginDate         7043 non-null   object \n",
      " 2   EndDate           7043 non-null   object \n",
      " 3   Type              7043 non-null   object \n",
      " 4   PaperlessBilling  7043 non-null   object \n",
      " 5   PaymentMethod     7043 non-null   object \n",
      " 6   MonthlyCharges    7043 non-null   float64\n",
      " 7   TotalCharges      7043 non-null   object \n",
      "dtypes: float64(1), object(7)\n",
      "memory usage: 440.3+ KB\n",
      "\n",
      "       MonthlyCharges\n",
      "count     7043.000000\n",
      "mean        64.761692\n",
      "std         30.090047\n",
      "min         18.250000\n",
      "25%         35.500000\n",
      "50%         70.350000\n",
      "75%         89.850000\n",
      "max        118.750000\n",
      "\n"
     ]
    },
    {
     "data": {
      "text/html": [
       "<div>\n",
       "<style scoped>\n",
       "    .dataframe tbody tr th:only-of-type {\n",
       "        vertical-align: middle;\n",
       "    }\n",
       "\n",
       "    .dataframe tbody tr th {\n",
       "        vertical-align: top;\n",
       "    }\n",
       "\n",
       "    .dataframe thead th {\n",
       "        text-align: right;\n",
       "    }\n",
       "</style>\n",
       "<table border=\"1\" class=\"dataframe\">\n",
       "  <thead>\n",
       "    <tr style=\"text-align: right;\">\n",
       "      <th></th>\n",
       "      <th>customerID</th>\n",
       "      <th>BeginDate</th>\n",
       "      <th>EndDate</th>\n",
       "      <th>Type</th>\n",
       "      <th>PaperlessBilling</th>\n",
       "      <th>PaymentMethod</th>\n",
       "      <th>MonthlyCharges</th>\n",
       "      <th>TotalCharges</th>\n",
       "    </tr>\n",
       "  </thead>\n",
       "  <tbody>\n",
       "    <tr>\n",
       "      <th>0</th>\n",
       "      <td>7590-VHVEG</td>\n",
       "      <td>2020-01-01</td>\n",
       "      <td>No</td>\n",
       "      <td>Month-to-month</td>\n",
       "      <td>Yes</td>\n",
       "      <td>Electronic check</td>\n",
       "      <td>29.85</td>\n",
       "      <td>31.04</td>\n",
       "    </tr>\n",
       "    <tr>\n",
       "      <th>1</th>\n",
       "      <td>5575-GNVDE</td>\n",
       "      <td>2017-04-01</td>\n",
       "      <td>No</td>\n",
       "      <td>One year</td>\n",
       "      <td>No</td>\n",
       "      <td>Mailed check</td>\n",
       "      <td>56.95</td>\n",
       "      <td>2071.84</td>\n",
       "    </tr>\n",
       "    <tr>\n",
       "      <th>2</th>\n",
       "      <td>3668-QPYBK</td>\n",
       "      <td>2019-10-01</td>\n",
       "      <td>No</td>\n",
       "      <td>Month-to-month</td>\n",
       "      <td>Yes</td>\n",
       "      <td>Mailed check</td>\n",
       "      <td>53.85</td>\n",
       "      <td>226.17</td>\n",
       "    </tr>\n",
       "    <tr>\n",
       "      <th>3</th>\n",
       "      <td>7795-CFOCW</td>\n",
       "      <td>2016-05-01</td>\n",
       "      <td>No</td>\n",
       "      <td>One year</td>\n",
       "      <td>No</td>\n",
       "      <td>Bank transfer (automatic)</td>\n",
       "      <td>42.30</td>\n",
       "      <td>1960.6</td>\n",
       "    </tr>\n",
       "    <tr>\n",
       "      <th>4</th>\n",
       "      <td>9237-HQITU</td>\n",
       "      <td>2019-09-01</td>\n",
       "      <td>No</td>\n",
       "      <td>Month-to-month</td>\n",
       "      <td>Yes</td>\n",
       "      <td>Electronic check</td>\n",
       "      <td>70.70</td>\n",
       "      <td>353.5</td>\n",
       "    </tr>\n",
       "  </tbody>\n",
       "</table>\n",
       "</div>"
      ],
      "text/plain": [
       "   customerID   BeginDate EndDate            Type PaperlessBilling  \\\n",
       "0  7590-VHVEG  2020-01-01      No  Month-to-month              Yes   \n",
       "1  5575-GNVDE  2017-04-01      No        One year               No   \n",
       "2  3668-QPYBK  2019-10-01      No  Month-to-month              Yes   \n",
       "3  7795-CFOCW  2016-05-01      No        One year               No   \n",
       "4  9237-HQITU  2019-09-01      No  Month-to-month              Yes   \n",
       "\n",
       "               PaymentMethod  MonthlyCharges TotalCharges  \n",
       "0           Electronic check           29.85        31.04  \n",
       "1               Mailed check           56.95      2071.84  \n",
       "2               Mailed check           53.85       226.17  \n",
       "3  Bank transfer (automatic)           42.30       1960.6  \n",
       "4           Electronic check           70.70        353.5  "
      ]
     },
     "metadata": {},
     "output_type": "display_data"
    }
   ],
   "source": [
    "contract = pd.read_csv('/datasets/contract_new.csv')\n",
    "\n",
    "contract.info()\n",
    "print()\n",
    "print(contract.describe())\n",
    "print()\n",
    "display(contract.head())"
   ]
  },
  {
   "cell_type": "markdown",
   "id": "ece9e7e8",
   "metadata": {},
   "source": [
    "<div style=\"border:solid green 2px; padding: 5px\">\n",
    "    \n",
    "    из первого, что бросается в глаза, видим отсутствие пропусков, неверное указание типа данных \n",
    "    в столбцах BeginDate и TotalCharges, также для удобства приведём названия столбцов в \"змеиный\" формат\n",
    "    \n",
    "    подгружаем второй файл (personal_new.csv), \n",
    "    сохраняем в переменную и выводим в виде таблиц и детализированных отчётов для изучения:"
   ]
  },
  {
   "cell_type": "code",
   "execution_count": 5,
   "id": "6911f7ca",
   "metadata": {},
   "outputs": [
    {
     "name": "stdout",
     "output_type": "stream",
     "text": [
      "<class 'pandas.core.frame.DataFrame'>\n",
      "RangeIndex: 7043 entries, 0 to 7042\n",
      "Data columns (total 5 columns):\n",
      " #   Column         Non-Null Count  Dtype \n",
      "---  ------         --------------  ----- \n",
      " 0   customerID     7043 non-null   object\n",
      " 1   gender         7043 non-null   object\n",
      " 2   SeniorCitizen  7043 non-null   int64 \n",
      " 3   Partner        7043 non-null   object\n",
      " 4   Dependents     7043 non-null   object\n",
      "dtypes: int64(1), object(4)\n",
      "memory usage: 275.2+ KB\n",
      "\n",
      "       SeniorCitizen\n",
      "count    7043.000000\n",
      "mean        0.162147\n",
      "std         0.368612\n",
      "min         0.000000\n",
      "25%         0.000000\n",
      "50%         0.000000\n",
      "75%         0.000000\n",
      "max         1.000000\n",
      "\n"
     ]
    },
    {
     "data": {
      "text/html": [
       "<div>\n",
       "<style scoped>\n",
       "    .dataframe tbody tr th:only-of-type {\n",
       "        vertical-align: middle;\n",
       "    }\n",
       "\n",
       "    .dataframe tbody tr th {\n",
       "        vertical-align: top;\n",
       "    }\n",
       "\n",
       "    .dataframe thead th {\n",
       "        text-align: right;\n",
       "    }\n",
       "</style>\n",
       "<table border=\"1\" class=\"dataframe\">\n",
       "  <thead>\n",
       "    <tr style=\"text-align: right;\">\n",
       "      <th></th>\n",
       "      <th>customerID</th>\n",
       "      <th>gender</th>\n",
       "      <th>SeniorCitizen</th>\n",
       "      <th>Partner</th>\n",
       "      <th>Dependents</th>\n",
       "    </tr>\n",
       "  </thead>\n",
       "  <tbody>\n",
       "    <tr>\n",
       "      <th>0</th>\n",
       "      <td>7590-VHVEG</td>\n",
       "      <td>Female</td>\n",
       "      <td>0</td>\n",
       "      <td>Yes</td>\n",
       "      <td>No</td>\n",
       "    </tr>\n",
       "    <tr>\n",
       "      <th>1</th>\n",
       "      <td>5575-GNVDE</td>\n",
       "      <td>Male</td>\n",
       "      <td>0</td>\n",
       "      <td>No</td>\n",
       "      <td>No</td>\n",
       "    </tr>\n",
       "    <tr>\n",
       "      <th>2</th>\n",
       "      <td>3668-QPYBK</td>\n",
       "      <td>Male</td>\n",
       "      <td>0</td>\n",
       "      <td>No</td>\n",
       "      <td>No</td>\n",
       "    </tr>\n",
       "    <tr>\n",
       "      <th>3</th>\n",
       "      <td>7795-CFOCW</td>\n",
       "      <td>Male</td>\n",
       "      <td>0</td>\n",
       "      <td>No</td>\n",
       "      <td>No</td>\n",
       "    </tr>\n",
       "    <tr>\n",
       "      <th>4</th>\n",
       "      <td>9237-HQITU</td>\n",
       "      <td>Female</td>\n",
       "      <td>0</td>\n",
       "      <td>No</td>\n",
       "      <td>No</td>\n",
       "    </tr>\n",
       "  </tbody>\n",
       "</table>\n",
       "</div>"
      ],
      "text/plain": [
       "   customerID  gender  SeniorCitizen Partner Dependents\n",
       "0  7590-VHVEG  Female              0     Yes         No\n",
       "1  5575-GNVDE    Male              0      No         No\n",
       "2  3668-QPYBK    Male              0      No         No\n",
       "3  7795-CFOCW    Male              0      No         No\n",
       "4  9237-HQITU  Female              0      No         No"
      ]
     },
     "metadata": {},
     "output_type": "display_data"
    }
   ],
   "source": [
    "personal = pd.read_csv('/datasets/personal_new.csv')\n",
    "\n",
    "personal.info()\n",
    "print()\n",
    "print(personal.describe())\n",
    "print()\n",
    "display(personal.head())"
   ]
  },
  {
   "cell_type": "markdown",
   "id": "8c187cbe",
   "metadata": {},
   "source": [
    "<div style=\"border:solid green 2px; padding: 5px\">\n",
    "    \n",
    "    во втором файле ничего требующего капитального ремонта в глаза не бросается, \n",
    "    разве что косметический ремонт в названиях столбцов\n",
    "    \n",
    "    подгружаем третий файл (internet_new.csv), \n",
    "    сохраняем в переменную и выводим в виде таблиц и детализированных отчётов для изучения:"
   ]
  },
  {
   "cell_type": "code",
   "execution_count": 6,
   "id": "b960a5b1",
   "metadata": {},
   "outputs": [
    {
     "name": "stdout",
     "output_type": "stream",
     "text": [
      "<class 'pandas.core.frame.DataFrame'>\n",
      "RangeIndex: 5517 entries, 0 to 5516\n",
      "Data columns (total 8 columns):\n",
      " #   Column            Non-Null Count  Dtype \n",
      "---  ------            --------------  ----- \n",
      " 0   customerID        5517 non-null   object\n",
      " 1   InternetService   5517 non-null   object\n",
      " 2   OnlineSecurity    5517 non-null   object\n",
      " 3   OnlineBackup      5517 non-null   object\n",
      " 4   DeviceProtection  5517 non-null   object\n",
      " 5   TechSupport       5517 non-null   object\n",
      " 6   StreamingTV       5517 non-null   object\n",
      " 7   StreamingMovies   5517 non-null   object\n",
      "dtypes: object(8)\n",
      "memory usage: 344.9+ KB\n",
      "\n",
      "        customerID InternetService OnlineSecurity OnlineBackup  \\\n",
      "count         5517            5517           5517         5517   \n",
      "unique        5517               2              2            2   \n",
      "top     9470-YFUYI     Fiber optic             No           No   \n",
      "freq             1            3096           3498         3088   \n",
      "\n",
      "       DeviceProtection TechSupport StreamingTV StreamingMovies  \n",
      "count              5517        5517        5517            5517  \n",
      "unique                2           2           2               2  \n",
      "top                  No          No          No              No  \n",
      "freq               3095        3473        2810            2785  \n",
      "\n"
     ]
    },
    {
     "data": {
      "text/html": [
       "<div>\n",
       "<style scoped>\n",
       "    .dataframe tbody tr th:only-of-type {\n",
       "        vertical-align: middle;\n",
       "    }\n",
       "\n",
       "    .dataframe tbody tr th {\n",
       "        vertical-align: top;\n",
       "    }\n",
       "\n",
       "    .dataframe thead th {\n",
       "        text-align: right;\n",
       "    }\n",
       "</style>\n",
       "<table border=\"1\" class=\"dataframe\">\n",
       "  <thead>\n",
       "    <tr style=\"text-align: right;\">\n",
       "      <th></th>\n",
       "      <th>customerID</th>\n",
       "      <th>InternetService</th>\n",
       "      <th>OnlineSecurity</th>\n",
       "      <th>OnlineBackup</th>\n",
       "      <th>DeviceProtection</th>\n",
       "      <th>TechSupport</th>\n",
       "      <th>StreamingTV</th>\n",
       "      <th>StreamingMovies</th>\n",
       "    </tr>\n",
       "  </thead>\n",
       "  <tbody>\n",
       "    <tr>\n",
       "      <th>0</th>\n",
       "      <td>7590-VHVEG</td>\n",
       "      <td>DSL</td>\n",
       "      <td>No</td>\n",
       "      <td>Yes</td>\n",
       "      <td>No</td>\n",
       "      <td>No</td>\n",
       "      <td>No</td>\n",
       "      <td>No</td>\n",
       "    </tr>\n",
       "    <tr>\n",
       "      <th>1</th>\n",
       "      <td>5575-GNVDE</td>\n",
       "      <td>DSL</td>\n",
       "      <td>Yes</td>\n",
       "      <td>No</td>\n",
       "      <td>Yes</td>\n",
       "      <td>No</td>\n",
       "      <td>No</td>\n",
       "      <td>No</td>\n",
       "    </tr>\n",
       "    <tr>\n",
       "      <th>2</th>\n",
       "      <td>3668-QPYBK</td>\n",
       "      <td>DSL</td>\n",
       "      <td>Yes</td>\n",
       "      <td>Yes</td>\n",
       "      <td>No</td>\n",
       "      <td>No</td>\n",
       "      <td>No</td>\n",
       "      <td>No</td>\n",
       "    </tr>\n",
       "    <tr>\n",
       "      <th>3</th>\n",
       "      <td>7795-CFOCW</td>\n",
       "      <td>DSL</td>\n",
       "      <td>Yes</td>\n",
       "      <td>No</td>\n",
       "      <td>Yes</td>\n",
       "      <td>Yes</td>\n",
       "      <td>No</td>\n",
       "      <td>No</td>\n",
       "    </tr>\n",
       "    <tr>\n",
       "      <th>4</th>\n",
       "      <td>9237-HQITU</td>\n",
       "      <td>Fiber optic</td>\n",
       "      <td>No</td>\n",
       "      <td>No</td>\n",
       "      <td>No</td>\n",
       "      <td>No</td>\n",
       "      <td>No</td>\n",
       "      <td>No</td>\n",
       "    </tr>\n",
       "  </tbody>\n",
       "</table>\n",
       "</div>"
      ],
      "text/plain": [
       "   customerID InternetService OnlineSecurity OnlineBackup DeviceProtection  \\\n",
       "0  7590-VHVEG             DSL             No          Yes               No   \n",
       "1  5575-GNVDE             DSL            Yes           No              Yes   \n",
       "2  3668-QPYBK             DSL            Yes          Yes               No   \n",
       "3  7795-CFOCW             DSL            Yes           No              Yes   \n",
       "4  9237-HQITU     Fiber optic             No           No               No   \n",
       "\n",
       "  TechSupport StreamingTV StreamingMovies  \n",
       "0          No          No              No  \n",
       "1          No          No              No  \n",
       "2          No          No              No  \n",
       "3         Yes          No              No  \n",
       "4          No          No              No  "
      ]
     },
     "metadata": {},
     "output_type": "display_data"
    }
   ],
   "source": [
    "internet = pd.read_csv('/datasets/internet_new.csv')\n",
    "\n",
    "internet.info()\n",
    "print()\n",
    "print(internet.describe())\n",
    "print()\n",
    "display(internet.head())"
   ]
  },
  {
   "cell_type": "markdown",
   "id": "b3186b99",
   "metadata": {},
   "source": [
    "<div style=\"border:solid green 2px; padding: 5px\">\n",
    "    \n",
    "    в третьем файле количество строк (абонентов) отличается (5517 из 7043), \n",
    "    видимо это то количество пользователей,     которые используют интернет\n",
    "    \n",
    "    подгружаем последний файл (phone_new.csv), \n",
    "    сохраняем в переменную и выводим в виде таблиц и детализированных отчётов для изучения:"
   ]
  },
  {
   "cell_type": "code",
   "execution_count": 7,
   "id": "1987192c",
   "metadata": {},
   "outputs": [
    {
     "name": "stdout",
     "output_type": "stream",
     "text": [
      "<class 'pandas.core.frame.DataFrame'>\n",
      "RangeIndex: 6361 entries, 0 to 6360\n",
      "Data columns (total 2 columns):\n",
      " #   Column         Non-Null Count  Dtype \n",
      "---  ------         --------------  ----- \n",
      " 0   customerID     6361 non-null   object\n",
      " 1   MultipleLines  6361 non-null   object\n",
      "dtypes: object(2)\n",
      "memory usage: 99.5+ KB\n",
      "\n",
      "        customerID MultipleLines\n",
      "count         6361          6361\n",
      "unique        6361             2\n",
      "top     6479-SZPLM            No\n",
      "freq             1          3390\n",
      "\n"
     ]
    },
    {
     "data": {
      "text/html": [
       "<div>\n",
       "<style scoped>\n",
       "    .dataframe tbody tr th:only-of-type {\n",
       "        vertical-align: middle;\n",
       "    }\n",
       "\n",
       "    .dataframe tbody tr th {\n",
       "        vertical-align: top;\n",
       "    }\n",
       "\n",
       "    .dataframe thead th {\n",
       "        text-align: right;\n",
       "    }\n",
       "</style>\n",
       "<table border=\"1\" class=\"dataframe\">\n",
       "  <thead>\n",
       "    <tr style=\"text-align: right;\">\n",
       "      <th></th>\n",
       "      <th>customerID</th>\n",
       "      <th>MultipleLines</th>\n",
       "    </tr>\n",
       "  </thead>\n",
       "  <tbody>\n",
       "    <tr>\n",
       "      <th>0</th>\n",
       "      <td>5575-GNVDE</td>\n",
       "      <td>No</td>\n",
       "    </tr>\n",
       "    <tr>\n",
       "      <th>1</th>\n",
       "      <td>3668-QPYBK</td>\n",
       "      <td>No</td>\n",
       "    </tr>\n",
       "    <tr>\n",
       "      <th>2</th>\n",
       "      <td>9237-HQITU</td>\n",
       "      <td>No</td>\n",
       "    </tr>\n",
       "    <tr>\n",
       "      <th>3</th>\n",
       "      <td>9305-CDSKC</td>\n",
       "      <td>Yes</td>\n",
       "    </tr>\n",
       "    <tr>\n",
       "      <th>4</th>\n",
       "      <td>1452-KIOVK</td>\n",
       "      <td>Yes</td>\n",
       "    </tr>\n",
       "  </tbody>\n",
       "</table>\n",
       "</div>"
      ],
      "text/plain": [
       "   customerID MultipleLines\n",
       "0  5575-GNVDE            No\n",
       "1  3668-QPYBK            No\n",
       "2  9237-HQITU            No\n",
       "3  9305-CDSKC           Yes\n",
       "4  1452-KIOVK           Yes"
      ]
     },
     "metadata": {},
     "output_type": "display_data"
    }
   ],
   "source": [
    "phone = pd.read_csv('/datasets/phone_new.csv')\n",
    "\n",
    "phone.info()\n",
    "print()\n",
    "print(phone.describe())\n",
    "print()\n",
    "display(phone.head())"
   ]
  },
  {
   "cell_type": "markdown",
   "id": "07ab44d7",
   "metadata": {},
   "source": [
    "<div style=\"border:solid green 2px; padding: 5px\">\n",
    "    \n",
    "    в последнем файле 6361 строк, теперь приступим к предобработке данных:"
   ]
  },
  {
   "cell_type": "code",
   "execution_count": 8,
   "id": "7a782683",
   "metadata": {},
   "outputs": [
    {
     "name": "stdout",
     "output_type": "stream",
     "text": [
      "[' ' '100.17' '100.19' ... '998.89' '999.6' '999.9']\n"
     ]
    }
   ],
   "source": [
    "unique_total_charges = contract['TotalCharges'].unique()\n",
    "print(np.sort(unique_total_charges))"
   ]
  },
  {
   "cell_type": "markdown",
   "id": "751256b6",
   "metadata": {},
   "source": [
    "<div style=\"border:solid green 2px; padding: 5px\">\n",
    "    \n",
    "    в столбце видим пустые строки ' ', которые система не выдавала как пустые, \n",
    "    но при этом не давала нам поменять тип данных на нужный, \n",
    "    поменяем их на пустые строки, изменим тип данных и посчитаем:\n",
    "    "
   ]
  },
  {
   "cell_type": "code",
   "execution_count": 9,
   "id": "8ba26b25",
   "metadata": {},
   "outputs": [
    {
     "name": "stdout",
     "output_type": "stream",
     "text": [
      "11\n"
     ]
    }
   ],
   "source": [
    "contract['TotalCharges'] = contract['TotalCharges'].replace(' ', np.nan).astype(float)\n",
    "print(contract['TotalCharges'].isna().sum())"
   ]
  },
  {
   "cell_type": "markdown",
   "id": "58734688",
   "metadata": {},
   "source": [
    "<div style=\"border:solid green 2px; padding: 5px\">\n",
    "    \n",
    "    11 штук, немного, выведем строки с ними:\n",
    "    "
   ]
  },
  {
   "cell_type": "code",
   "execution_count": 10,
   "id": "e1f9921a",
   "metadata": {
    "scrolled": true
   },
   "outputs": [
    {
     "data": {
      "text/html": [
       "<div>\n",
       "<style scoped>\n",
       "    .dataframe tbody tr th:only-of-type {\n",
       "        vertical-align: middle;\n",
       "    }\n",
       "\n",
       "    .dataframe tbody tr th {\n",
       "        vertical-align: top;\n",
       "    }\n",
       "\n",
       "    .dataframe thead th {\n",
       "        text-align: right;\n",
       "    }\n",
       "</style>\n",
       "<table border=\"1\" class=\"dataframe\">\n",
       "  <thead>\n",
       "    <tr style=\"text-align: right;\">\n",
       "      <th></th>\n",
       "      <th>customerID</th>\n",
       "      <th>BeginDate</th>\n",
       "      <th>EndDate</th>\n",
       "      <th>Type</th>\n",
       "      <th>PaperlessBilling</th>\n",
       "      <th>PaymentMethod</th>\n",
       "      <th>MonthlyCharges</th>\n",
       "      <th>TotalCharges</th>\n",
       "    </tr>\n",
       "  </thead>\n",
       "  <tbody>\n",
       "    <tr>\n",
       "      <th>488</th>\n",
       "      <td>4472-LVYGI</td>\n",
       "      <td>2020-02-01</td>\n",
       "      <td>No</td>\n",
       "      <td>Two year</td>\n",
       "      <td>Yes</td>\n",
       "      <td>Bank transfer (automatic)</td>\n",
       "      <td>52.55</td>\n",
       "      <td>NaN</td>\n",
       "    </tr>\n",
       "    <tr>\n",
       "      <th>753</th>\n",
       "      <td>3115-CZMZD</td>\n",
       "      <td>2020-02-01</td>\n",
       "      <td>No</td>\n",
       "      <td>Two year</td>\n",
       "      <td>No</td>\n",
       "      <td>Mailed check</td>\n",
       "      <td>20.25</td>\n",
       "      <td>NaN</td>\n",
       "    </tr>\n",
       "    <tr>\n",
       "      <th>936</th>\n",
       "      <td>5709-LVOEQ</td>\n",
       "      <td>2020-02-01</td>\n",
       "      <td>No</td>\n",
       "      <td>Two year</td>\n",
       "      <td>No</td>\n",
       "      <td>Mailed check</td>\n",
       "      <td>80.85</td>\n",
       "      <td>NaN</td>\n",
       "    </tr>\n",
       "    <tr>\n",
       "      <th>1082</th>\n",
       "      <td>4367-NUYAO</td>\n",
       "      <td>2020-02-01</td>\n",
       "      <td>No</td>\n",
       "      <td>Two year</td>\n",
       "      <td>No</td>\n",
       "      <td>Mailed check</td>\n",
       "      <td>25.75</td>\n",
       "      <td>NaN</td>\n",
       "    </tr>\n",
       "    <tr>\n",
       "      <th>1340</th>\n",
       "      <td>1371-DWPAZ</td>\n",
       "      <td>2020-02-01</td>\n",
       "      <td>No</td>\n",
       "      <td>Two year</td>\n",
       "      <td>No</td>\n",
       "      <td>Credit card (automatic)</td>\n",
       "      <td>56.05</td>\n",
       "      <td>NaN</td>\n",
       "    </tr>\n",
       "    <tr>\n",
       "      <th>3331</th>\n",
       "      <td>7644-OMVMY</td>\n",
       "      <td>2020-02-01</td>\n",
       "      <td>No</td>\n",
       "      <td>Two year</td>\n",
       "      <td>No</td>\n",
       "      <td>Mailed check</td>\n",
       "      <td>19.85</td>\n",
       "      <td>NaN</td>\n",
       "    </tr>\n",
       "    <tr>\n",
       "      <th>3826</th>\n",
       "      <td>3213-VVOLG</td>\n",
       "      <td>2020-02-01</td>\n",
       "      <td>No</td>\n",
       "      <td>Two year</td>\n",
       "      <td>No</td>\n",
       "      <td>Mailed check</td>\n",
       "      <td>25.35</td>\n",
       "      <td>NaN</td>\n",
       "    </tr>\n",
       "    <tr>\n",
       "      <th>4380</th>\n",
       "      <td>2520-SGTTA</td>\n",
       "      <td>2020-02-01</td>\n",
       "      <td>No</td>\n",
       "      <td>Two year</td>\n",
       "      <td>No</td>\n",
       "      <td>Mailed check</td>\n",
       "      <td>20.00</td>\n",
       "      <td>NaN</td>\n",
       "    </tr>\n",
       "    <tr>\n",
       "      <th>5218</th>\n",
       "      <td>2923-ARZLG</td>\n",
       "      <td>2020-02-01</td>\n",
       "      <td>No</td>\n",
       "      <td>One year</td>\n",
       "      <td>Yes</td>\n",
       "      <td>Mailed check</td>\n",
       "      <td>19.70</td>\n",
       "      <td>NaN</td>\n",
       "    </tr>\n",
       "    <tr>\n",
       "      <th>6670</th>\n",
       "      <td>4075-WKNIU</td>\n",
       "      <td>2020-02-01</td>\n",
       "      <td>No</td>\n",
       "      <td>Two year</td>\n",
       "      <td>No</td>\n",
       "      <td>Mailed check</td>\n",
       "      <td>73.35</td>\n",
       "      <td>NaN</td>\n",
       "    </tr>\n",
       "    <tr>\n",
       "      <th>6754</th>\n",
       "      <td>2775-SEFEE</td>\n",
       "      <td>2020-02-01</td>\n",
       "      <td>No</td>\n",
       "      <td>Two year</td>\n",
       "      <td>Yes</td>\n",
       "      <td>Bank transfer (automatic)</td>\n",
       "      <td>61.90</td>\n",
       "      <td>NaN</td>\n",
       "    </tr>\n",
       "  </tbody>\n",
       "</table>\n",
       "</div>"
      ],
      "text/plain": [
       "      customerID   BeginDate EndDate      Type PaperlessBilling  \\\n",
       "488   4472-LVYGI  2020-02-01      No  Two year              Yes   \n",
       "753   3115-CZMZD  2020-02-01      No  Two year               No   \n",
       "936   5709-LVOEQ  2020-02-01      No  Two year               No   \n",
       "1082  4367-NUYAO  2020-02-01      No  Two year               No   \n",
       "1340  1371-DWPAZ  2020-02-01      No  Two year               No   \n",
       "3331  7644-OMVMY  2020-02-01      No  Two year               No   \n",
       "3826  3213-VVOLG  2020-02-01      No  Two year               No   \n",
       "4380  2520-SGTTA  2020-02-01      No  Two year               No   \n",
       "5218  2923-ARZLG  2020-02-01      No  One year              Yes   \n",
       "6670  4075-WKNIU  2020-02-01      No  Two year               No   \n",
       "6754  2775-SEFEE  2020-02-01      No  Two year              Yes   \n",
       "\n",
       "                  PaymentMethod  MonthlyCharges  TotalCharges  \n",
       "488   Bank transfer (automatic)           52.55           NaN  \n",
       "753                Mailed check           20.25           NaN  \n",
       "936                Mailed check           80.85           NaN  \n",
       "1082               Mailed check           25.75           NaN  \n",
       "1340    Credit card (automatic)           56.05           NaN  \n",
       "3331               Mailed check           19.85           NaN  \n",
       "3826               Mailed check           25.35           NaN  \n",
       "4380               Mailed check           20.00           NaN  \n",
       "5218               Mailed check           19.70           NaN  \n",
       "6670               Mailed check           73.35           NaN  \n",
       "6754  Bank transfer (automatic)           61.90           NaN  "
      ]
     },
     "metadata": {},
     "output_type": "display_data"
    }
   ],
   "source": [
    "contract_nan = contract[contract.isnull().any(axis=1)]\n",
    "display(contract_nan)"
   ]
  },
  {
   "cell_type": "markdown",
   "id": "21fa582f",
   "metadata": {},
   "source": [
    "<div style=\"border:solid green 2px; padding: 5px\">\n",
    "    \n",
    "    ага, видим, что это абоненты, которые оформили контракт 2020-02-01 (новые абоненты),\n",
    "    посмотрим на минимальные и максимальные даты заключения контрактов:"
   ]
  },
  {
   "cell_type": "code",
   "execution_count": 11,
   "id": "6e94472c",
   "metadata": {},
   "outputs": [
    {
     "name": "stdout",
     "output_type": "stream",
     "text": [
      "2013-10-01\n",
      "2020-02-01\n"
     ]
    }
   ],
   "source": [
    "print(contract['BeginDate'].min())\n",
    "print(contract['BeginDate'].max())"
   ]
  },
  {
   "cell_type": "markdown",
   "id": "d8549403",
   "metadata": {},
   "source": [
    "<div style=\"border:solid green 2px; padding: 5px\">\n",
    "    \n",
    "    теперь ясно, ошибки нет, это самые последние абоненты, \n",
    "    у которых по алгоритму данные за отчётный период ещё не прогрузились;\n",
    "    запишем их текущие (месячные) траты в общие траты, чтобы убрать пропуски и сразу проверим:"
   ]
  },
  {
   "cell_type": "code",
   "execution_count": 12,
   "id": "59796987",
   "metadata": {},
   "outputs": [
    {
     "name": "stdout",
     "output_type": "stream",
     "text": [
      "0\n"
     ]
    }
   ],
   "source": [
    "contract['TotalCharges'].fillna(contract['MonthlyCharges'], inplace=True)\n",
    "print(contract['TotalCharges'].isna().sum())"
   ]
  },
  {
   "cell_type": "markdown",
   "id": "fa241f01",
   "metadata": {},
   "source": [
    "<div style=\"border:solid green 2px; padding: 5px\">\n",
    "    \n",
    "    всё получилось; изменяем тип данных на датах, проверяем результат:"
   ]
  },
  {
   "cell_type": "code",
   "execution_count": 13,
   "id": "5057f613",
   "metadata": {},
   "outputs": [
    {
     "name": "stdout",
     "output_type": "stream",
     "text": [
      "<class 'pandas.core.frame.DataFrame'>\n",
      "RangeIndex: 7043 entries, 0 to 7042\n",
      "Data columns (total 8 columns):\n",
      " #   Column            Non-Null Count  Dtype         \n",
      "---  ------            --------------  -----         \n",
      " 0   customerID        7043 non-null   object        \n",
      " 1   BeginDate         7043 non-null   datetime64[ns]\n",
      " 2   EndDate           7043 non-null   object        \n",
      " 3   Type              7043 non-null   object        \n",
      " 4   PaperlessBilling  7043 non-null   object        \n",
      " 5   PaymentMethod     7043 non-null   object        \n",
      " 6   MonthlyCharges    7043 non-null   float64       \n",
      " 7   TotalCharges      7043 non-null   float64       \n",
      "dtypes: datetime64[ns](1), float64(2), object(5)\n",
      "memory usage: 440.3+ KB\n"
     ]
    }
   ],
   "source": [
    "contract['BeginDate'] = pd.to_datetime(contract['BeginDate'])\n",
    "contract.info()"
   ]
  },
  {
   "cell_type": "markdown",
   "id": "ed6c798e",
   "metadata": {},
   "source": [
    "<div style=\"border:solid green 2px; padding: 5px\">\n",
    "    \n",
    "    займёмся названиями столбцов и приведём их к змеиному формату, попутно проверяя результат:"
   ]
  },
  {
   "cell_type": "code",
   "execution_count": 14,
   "id": "86af2f5d",
   "metadata": {},
   "outputs": [
    {
     "data": {
      "text/plain": [
       "Index(['customerID', 'BeginDate', 'EndDate', 'Type', 'PaperlessBilling',\n",
       "       'PaymentMethod', 'MonthlyCharges', 'TotalCharges'],\n",
       "      dtype='object')"
      ]
     },
     "execution_count": 14,
     "metadata": {},
     "output_type": "execute_result"
    }
   ],
   "source": [
    "contract.columns"
   ]
  },
  {
   "cell_type": "code",
   "execution_count": 15,
   "id": "75ee050f",
   "metadata": {},
   "outputs": [
    {
     "data": {
      "text/html": [
       "<div>\n",
       "<style scoped>\n",
       "    .dataframe tbody tr th:only-of-type {\n",
       "        vertical-align: middle;\n",
       "    }\n",
       "\n",
       "    .dataframe tbody tr th {\n",
       "        vertical-align: top;\n",
       "    }\n",
       "\n",
       "    .dataframe thead th {\n",
       "        text-align: right;\n",
       "    }\n",
       "</style>\n",
       "<table border=\"1\" class=\"dataframe\">\n",
       "  <thead>\n",
       "    <tr style=\"text-align: right;\">\n",
       "      <th></th>\n",
       "      <th>customer_id</th>\n",
       "      <th>begin_date</th>\n",
       "      <th>end_date</th>\n",
       "      <th>type</th>\n",
       "      <th>paperless_billing</th>\n",
       "      <th>payment_method</th>\n",
       "      <th>monthly_charges</th>\n",
       "      <th>total_charges</th>\n",
       "    </tr>\n",
       "  </thead>\n",
       "  <tbody>\n",
       "    <tr>\n",
       "      <th>0</th>\n",
       "      <td>7590-VHVEG</td>\n",
       "      <td>2020-01-01</td>\n",
       "      <td>No</td>\n",
       "      <td>Month-to-month</td>\n",
       "      <td>Yes</td>\n",
       "      <td>Electronic check</td>\n",
       "      <td>29.85</td>\n",
       "      <td>31.04</td>\n",
       "    </tr>\n",
       "    <tr>\n",
       "      <th>1</th>\n",
       "      <td>5575-GNVDE</td>\n",
       "      <td>2017-04-01</td>\n",
       "      <td>No</td>\n",
       "      <td>One year</td>\n",
       "      <td>No</td>\n",
       "      <td>Mailed check</td>\n",
       "      <td>56.95</td>\n",
       "      <td>2071.84</td>\n",
       "    </tr>\n",
       "    <tr>\n",
       "      <th>2</th>\n",
       "      <td>3668-QPYBK</td>\n",
       "      <td>2019-10-01</td>\n",
       "      <td>No</td>\n",
       "      <td>Month-to-month</td>\n",
       "      <td>Yes</td>\n",
       "      <td>Mailed check</td>\n",
       "      <td>53.85</td>\n",
       "      <td>226.17</td>\n",
       "    </tr>\n",
       "    <tr>\n",
       "      <th>3</th>\n",
       "      <td>7795-CFOCW</td>\n",
       "      <td>2016-05-01</td>\n",
       "      <td>No</td>\n",
       "      <td>One year</td>\n",
       "      <td>No</td>\n",
       "      <td>Bank transfer (automatic)</td>\n",
       "      <td>42.30</td>\n",
       "      <td>1960.60</td>\n",
       "    </tr>\n",
       "    <tr>\n",
       "      <th>4</th>\n",
       "      <td>9237-HQITU</td>\n",
       "      <td>2019-09-01</td>\n",
       "      <td>No</td>\n",
       "      <td>Month-to-month</td>\n",
       "      <td>Yes</td>\n",
       "      <td>Electronic check</td>\n",
       "      <td>70.70</td>\n",
       "      <td>353.50</td>\n",
       "    </tr>\n",
       "  </tbody>\n",
       "</table>\n",
       "</div>"
      ],
      "text/plain": [
       "  customer_id begin_date end_date            type paperless_billing  \\\n",
       "0  7590-VHVEG 2020-01-01       No  Month-to-month               Yes   \n",
       "1  5575-GNVDE 2017-04-01       No        One year                No   \n",
       "2  3668-QPYBK 2019-10-01       No  Month-to-month               Yes   \n",
       "3  7795-CFOCW 2016-05-01       No        One year                No   \n",
       "4  9237-HQITU 2019-09-01       No  Month-to-month               Yes   \n",
       "\n",
       "              payment_method  monthly_charges  total_charges  \n",
       "0           Electronic check            29.85          31.04  \n",
       "1               Mailed check            56.95        2071.84  \n",
       "2               Mailed check            53.85         226.17  \n",
       "3  Bank transfer (automatic)            42.30        1960.60  \n",
       "4           Electronic check            70.70         353.50  "
      ]
     },
     "metadata": {},
     "output_type": "display_data"
    }
   ],
   "source": [
    "contract.columns = ['customer_id', 'begin_date','end_date', 'type', 'paperless_billing', \n",
    "                    'payment_method', 'monthly_charges', 'total_charges']\n",
    "display(contract.head())"
   ]
  },
  {
   "cell_type": "code",
   "execution_count": 16,
   "id": "4597b09d",
   "metadata": {},
   "outputs": [
    {
     "data": {
      "text/plain": [
       "Index(['customerID', 'gender', 'SeniorCitizen', 'Partner', 'Dependents'], dtype='object')"
      ]
     },
     "execution_count": 16,
     "metadata": {},
     "output_type": "execute_result"
    }
   ],
   "source": [
    "personal.columns"
   ]
  },
  {
   "cell_type": "code",
   "execution_count": 17,
   "id": "8752ef5b",
   "metadata": {},
   "outputs": [
    {
     "data": {
      "text/html": [
       "<div>\n",
       "<style scoped>\n",
       "    .dataframe tbody tr th:only-of-type {\n",
       "        vertical-align: middle;\n",
       "    }\n",
       "\n",
       "    .dataframe tbody tr th {\n",
       "        vertical-align: top;\n",
       "    }\n",
       "\n",
       "    .dataframe thead th {\n",
       "        text-align: right;\n",
       "    }\n",
       "</style>\n",
       "<table border=\"1\" class=\"dataframe\">\n",
       "  <thead>\n",
       "    <tr style=\"text-align: right;\">\n",
       "      <th></th>\n",
       "      <th>customer_id</th>\n",
       "      <th>gender</th>\n",
       "      <th>senior_citizen</th>\n",
       "      <th>partner</th>\n",
       "      <th>dependents</th>\n",
       "    </tr>\n",
       "  </thead>\n",
       "  <tbody>\n",
       "    <tr>\n",
       "      <th>0</th>\n",
       "      <td>7590-VHVEG</td>\n",
       "      <td>Female</td>\n",
       "      <td>0</td>\n",
       "      <td>Yes</td>\n",
       "      <td>No</td>\n",
       "    </tr>\n",
       "    <tr>\n",
       "      <th>1</th>\n",
       "      <td>5575-GNVDE</td>\n",
       "      <td>Male</td>\n",
       "      <td>0</td>\n",
       "      <td>No</td>\n",
       "      <td>No</td>\n",
       "    </tr>\n",
       "    <tr>\n",
       "      <th>2</th>\n",
       "      <td>3668-QPYBK</td>\n",
       "      <td>Male</td>\n",
       "      <td>0</td>\n",
       "      <td>No</td>\n",
       "      <td>No</td>\n",
       "    </tr>\n",
       "    <tr>\n",
       "      <th>3</th>\n",
       "      <td>7795-CFOCW</td>\n",
       "      <td>Male</td>\n",
       "      <td>0</td>\n",
       "      <td>No</td>\n",
       "      <td>No</td>\n",
       "    </tr>\n",
       "    <tr>\n",
       "      <th>4</th>\n",
       "      <td>9237-HQITU</td>\n",
       "      <td>Female</td>\n",
       "      <td>0</td>\n",
       "      <td>No</td>\n",
       "      <td>No</td>\n",
       "    </tr>\n",
       "  </tbody>\n",
       "</table>\n",
       "</div>"
      ],
      "text/plain": [
       "  customer_id  gender  senior_citizen partner dependents\n",
       "0  7590-VHVEG  Female               0     Yes         No\n",
       "1  5575-GNVDE    Male               0      No         No\n",
       "2  3668-QPYBK    Male               0      No         No\n",
       "3  7795-CFOCW    Male               0      No         No\n",
       "4  9237-HQITU  Female               0      No         No"
      ]
     },
     "metadata": {},
     "output_type": "display_data"
    }
   ],
   "source": [
    "personal.columns = ['customer_id', 'gender', 'senior_citizen', 'partner', 'dependents']\n",
    "display(personal.head())"
   ]
  },
  {
   "cell_type": "code",
   "execution_count": 18,
   "id": "5bc345ff",
   "metadata": {
    "scrolled": true
   },
   "outputs": [
    {
     "data": {
      "text/plain": [
       "Index(['customerID', 'InternetService', 'OnlineSecurity', 'OnlineBackup',\n",
       "       'DeviceProtection', 'TechSupport', 'StreamingTV', 'StreamingMovies'],\n",
       "      dtype='object')"
      ]
     },
     "execution_count": 18,
     "metadata": {},
     "output_type": "execute_result"
    }
   ],
   "source": [
    "internet.columns"
   ]
  },
  {
   "cell_type": "code",
   "execution_count": 19,
   "id": "07b91d9b",
   "metadata": {},
   "outputs": [
    {
     "data": {
      "text/html": [
       "<div>\n",
       "<style scoped>\n",
       "    .dataframe tbody tr th:only-of-type {\n",
       "        vertical-align: middle;\n",
       "    }\n",
       "\n",
       "    .dataframe tbody tr th {\n",
       "        vertical-align: top;\n",
       "    }\n",
       "\n",
       "    .dataframe thead th {\n",
       "        text-align: right;\n",
       "    }\n",
       "</style>\n",
       "<table border=\"1\" class=\"dataframe\">\n",
       "  <thead>\n",
       "    <tr style=\"text-align: right;\">\n",
       "      <th></th>\n",
       "      <th>customer_id</th>\n",
       "      <th>internet_service</th>\n",
       "      <th>online_security</th>\n",
       "      <th>online_backup</th>\n",
       "      <th>device_protection</th>\n",
       "      <th>tech_support</th>\n",
       "      <th>streaming_tv</th>\n",
       "      <th>streaming_movies</th>\n",
       "    </tr>\n",
       "  </thead>\n",
       "  <tbody>\n",
       "    <tr>\n",
       "      <th>0</th>\n",
       "      <td>7590-VHVEG</td>\n",
       "      <td>DSL</td>\n",
       "      <td>No</td>\n",
       "      <td>Yes</td>\n",
       "      <td>No</td>\n",
       "      <td>No</td>\n",
       "      <td>No</td>\n",
       "      <td>No</td>\n",
       "    </tr>\n",
       "    <tr>\n",
       "      <th>1</th>\n",
       "      <td>5575-GNVDE</td>\n",
       "      <td>DSL</td>\n",
       "      <td>Yes</td>\n",
       "      <td>No</td>\n",
       "      <td>Yes</td>\n",
       "      <td>No</td>\n",
       "      <td>No</td>\n",
       "      <td>No</td>\n",
       "    </tr>\n",
       "    <tr>\n",
       "      <th>2</th>\n",
       "      <td>3668-QPYBK</td>\n",
       "      <td>DSL</td>\n",
       "      <td>Yes</td>\n",
       "      <td>Yes</td>\n",
       "      <td>No</td>\n",
       "      <td>No</td>\n",
       "      <td>No</td>\n",
       "      <td>No</td>\n",
       "    </tr>\n",
       "    <tr>\n",
       "      <th>3</th>\n",
       "      <td>7795-CFOCW</td>\n",
       "      <td>DSL</td>\n",
       "      <td>Yes</td>\n",
       "      <td>No</td>\n",
       "      <td>Yes</td>\n",
       "      <td>Yes</td>\n",
       "      <td>No</td>\n",
       "      <td>No</td>\n",
       "    </tr>\n",
       "    <tr>\n",
       "      <th>4</th>\n",
       "      <td>9237-HQITU</td>\n",
       "      <td>Fiber optic</td>\n",
       "      <td>No</td>\n",
       "      <td>No</td>\n",
       "      <td>No</td>\n",
       "      <td>No</td>\n",
       "      <td>No</td>\n",
       "      <td>No</td>\n",
       "    </tr>\n",
       "  </tbody>\n",
       "</table>\n",
       "</div>"
      ],
      "text/plain": [
       "  customer_id internet_service online_security online_backup  \\\n",
       "0  7590-VHVEG              DSL              No           Yes   \n",
       "1  5575-GNVDE              DSL             Yes            No   \n",
       "2  3668-QPYBK              DSL             Yes           Yes   \n",
       "3  7795-CFOCW              DSL             Yes            No   \n",
       "4  9237-HQITU      Fiber optic              No            No   \n",
       "\n",
       "  device_protection tech_support streaming_tv streaming_movies  \n",
       "0                No           No           No               No  \n",
       "1               Yes           No           No               No  \n",
       "2                No           No           No               No  \n",
       "3               Yes          Yes           No               No  \n",
       "4                No           No           No               No  "
      ]
     },
     "metadata": {},
     "output_type": "display_data"
    }
   ],
   "source": [
    "internet.columns = ['customer_id', 'internet_service', 'online_security', 'online_backup',\n",
    "                    'device_protection', 'tech_support', 'streaming_tv', 'streaming_movies']\n",
    "display(internet.head())"
   ]
  },
  {
   "cell_type": "code",
   "execution_count": 20,
   "id": "00872aa0",
   "metadata": {},
   "outputs": [
    {
     "data": {
      "text/plain": [
       "Index(['customerID', 'MultipleLines'], dtype='object')"
      ]
     },
     "execution_count": 20,
     "metadata": {},
     "output_type": "execute_result"
    }
   ],
   "source": [
    "phone.columns"
   ]
  },
  {
   "cell_type": "code",
   "execution_count": 21,
   "id": "fedf3b6e",
   "metadata": {},
   "outputs": [
    {
     "data": {
      "text/html": [
       "<div>\n",
       "<style scoped>\n",
       "    .dataframe tbody tr th:only-of-type {\n",
       "        vertical-align: middle;\n",
       "    }\n",
       "\n",
       "    .dataframe tbody tr th {\n",
       "        vertical-align: top;\n",
       "    }\n",
       "\n",
       "    .dataframe thead th {\n",
       "        text-align: right;\n",
       "    }\n",
       "</style>\n",
       "<table border=\"1\" class=\"dataframe\">\n",
       "  <thead>\n",
       "    <tr style=\"text-align: right;\">\n",
       "      <th></th>\n",
       "      <th>customer_id</th>\n",
       "      <th>multiple_lines</th>\n",
       "    </tr>\n",
       "  </thead>\n",
       "  <tbody>\n",
       "    <tr>\n",
       "      <th>0</th>\n",
       "      <td>5575-GNVDE</td>\n",
       "      <td>No</td>\n",
       "    </tr>\n",
       "    <tr>\n",
       "      <th>1</th>\n",
       "      <td>3668-QPYBK</td>\n",
       "      <td>No</td>\n",
       "    </tr>\n",
       "    <tr>\n",
       "      <th>2</th>\n",
       "      <td>9237-HQITU</td>\n",
       "      <td>No</td>\n",
       "    </tr>\n",
       "    <tr>\n",
       "      <th>3</th>\n",
       "      <td>9305-CDSKC</td>\n",
       "      <td>Yes</td>\n",
       "    </tr>\n",
       "    <tr>\n",
       "      <th>4</th>\n",
       "      <td>1452-KIOVK</td>\n",
       "      <td>Yes</td>\n",
       "    </tr>\n",
       "  </tbody>\n",
       "</table>\n",
       "</div>"
      ],
      "text/plain": [
       "  customer_id multiple_lines\n",
       "0  5575-GNVDE             No\n",
       "1  3668-QPYBK             No\n",
       "2  9237-HQITU             No\n",
       "3  9305-CDSKC            Yes\n",
       "4  1452-KIOVK            Yes"
      ]
     },
     "metadata": {},
     "output_type": "display_data"
    }
   ],
   "source": [
    "phone.columns = ['customer_id', 'multiple_lines']\n",
    "display(phone.head())"
   ]
  },
  {
   "cell_type": "markdown",
   "id": "4584a968",
   "metadata": {},
   "source": [
    "<div style=\"border:solid green 2px; padding: 5px\">\n",
    "    \n",
    "    к таблицам пользователей интернета и телефона добавим столбец с цифрами 1, что будет указывать, \n",
    "    что конкретный customer_id является пользователем телефона либо интернета либо обеими услугами одновременно,\n",
    "    данный способ может помочь модели машинного обучения повысить качество прогнозирования:"
   ]
  },
  {
   "cell_type": "code",
   "execution_count": 22,
   "id": "e57d12ac",
   "metadata": {},
   "outputs": [
    {
     "data": {
      "text/html": [
       "<div>\n",
       "<style scoped>\n",
       "    .dataframe tbody tr th:only-of-type {\n",
       "        vertical-align: middle;\n",
       "    }\n",
       "\n",
       "    .dataframe tbody tr th {\n",
       "        vertical-align: top;\n",
       "    }\n",
       "\n",
       "    .dataframe thead th {\n",
       "        text-align: right;\n",
       "    }\n",
       "</style>\n",
       "<table border=\"1\" class=\"dataframe\">\n",
       "  <thead>\n",
       "    <tr style=\"text-align: right;\">\n",
       "      <th></th>\n",
       "      <th>customer_id</th>\n",
       "      <th>internet_service</th>\n",
       "      <th>online_security</th>\n",
       "      <th>online_backup</th>\n",
       "      <th>device_protection</th>\n",
       "      <th>tech_support</th>\n",
       "      <th>streaming_tv</th>\n",
       "      <th>streaming_movies</th>\n",
       "      <th>internet_user</th>\n",
       "    </tr>\n",
       "  </thead>\n",
       "  <tbody>\n",
       "    <tr>\n",
       "      <th>0</th>\n",
       "      <td>7590-VHVEG</td>\n",
       "      <td>DSL</td>\n",
       "      <td>No</td>\n",
       "      <td>Yes</td>\n",
       "      <td>No</td>\n",
       "      <td>No</td>\n",
       "      <td>No</td>\n",
       "      <td>No</td>\n",
       "      <td>1</td>\n",
       "    </tr>\n",
       "    <tr>\n",
       "      <th>1</th>\n",
       "      <td>5575-GNVDE</td>\n",
       "      <td>DSL</td>\n",
       "      <td>Yes</td>\n",
       "      <td>No</td>\n",
       "      <td>Yes</td>\n",
       "      <td>No</td>\n",
       "      <td>No</td>\n",
       "      <td>No</td>\n",
       "      <td>1</td>\n",
       "    </tr>\n",
       "    <tr>\n",
       "      <th>2</th>\n",
       "      <td>3668-QPYBK</td>\n",
       "      <td>DSL</td>\n",
       "      <td>Yes</td>\n",
       "      <td>Yes</td>\n",
       "      <td>No</td>\n",
       "      <td>No</td>\n",
       "      <td>No</td>\n",
       "      <td>No</td>\n",
       "      <td>1</td>\n",
       "    </tr>\n",
       "    <tr>\n",
       "      <th>3</th>\n",
       "      <td>7795-CFOCW</td>\n",
       "      <td>DSL</td>\n",
       "      <td>Yes</td>\n",
       "      <td>No</td>\n",
       "      <td>Yes</td>\n",
       "      <td>Yes</td>\n",
       "      <td>No</td>\n",
       "      <td>No</td>\n",
       "      <td>1</td>\n",
       "    </tr>\n",
       "    <tr>\n",
       "      <th>4</th>\n",
       "      <td>9237-HQITU</td>\n",
       "      <td>Fiber optic</td>\n",
       "      <td>No</td>\n",
       "      <td>No</td>\n",
       "      <td>No</td>\n",
       "      <td>No</td>\n",
       "      <td>No</td>\n",
       "      <td>No</td>\n",
       "      <td>1</td>\n",
       "    </tr>\n",
       "  </tbody>\n",
       "</table>\n",
       "</div>"
      ],
      "text/plain": [
       "  customer_id internet_service online_security online_backup  \\\n",
       "0  7590-VHVEG              DSL              No           Yes   \n",
       "1  5575-GNVDE              DSL             Yes            No   \n",
       "2  3668-QPYBK              DSL             Yes           Yes   \n",
       "3  7795-CFOCW              DSL             Yes            No   \n",
       "4  9237-HQITU      Fiber optic              No            No   \n",
       "\n",
       "  device_protection tech_support streaming_tv streaming_movies  internet_user  \n",
       "0                No           No           No               No              1  \n",
       "1               Yes           No           No               No              1  \n",
       "2                No           No           No               No              1  \n",
       "3               Yes          Yes           No               No              1  \n",
       "4                No           No           No               No              1  "
      ]
     },
     "metadata": {},
     "output_type": "display_data"
    },
    {
     "data": {
      "text/html": [
       "<div>\n",
       "<style scoped>\n",
       "    .dataframe tbody tr th:only-of-type {\n",
       "        vertical-align: middle;\n",
       "    }\n",
       "\n",
       "    .dataframe tbody tr th {\n",
       "        vertical-align: top;\n",
       "    }\n",
       "\n",
       "    .dataframe thead th {\n",
       "        text-align: right;\n",
       "    }\n",
       "</style>\n",
       "<table border=\"1\" class=\"dataframe\">\n",
       "  <thead>\n",
       "    <tr style=\"text-align: right;\">\n",
       "      <th></th>\n",
       "      <th>customer_id</th>\n",
       "      <th>multiple_lines</th>\n",
       "      <th>phone_user</th>\n",
       "    </tr>\n",
       "  </thead>\n",
       "  <tbody>\n",
       "    <tr>\n",
       "      <th>0</th>\n",
       "      <td>5575-GNVDE</td>\n",
       "      <td>No</td>\n",
       "      <td>1</td>\n",
       "    </tr>\n",
       "    <tr>\n",
       "      <th>1</th>\n",
       "      <td>3668-QPYBK</td>\n",
       "      <td>No</td>\n",
       "      <td>1</td>\n",
       "    </tr>\n",
       "    <tr>\n",
       "      <th>2</th>\n",
       "      <td>9237-HQITU</td>\n",
       "      <td>No</td>\n",
       "      <td>1</td>\n",
       "    </tr>\n",
       "    <tr>\n",
       "      <th>3</th>\n",
       "      <td>9305-CDSKC</td>\n",
       "      <td>Yes</td>\n",
       "      <td>1</td>\n",
       "    </tr>\n",
       "    <tr>\n",
       "      <th>4</th>\n",
       "      <td>1452-KIOVK</td>\n",
       "      <td>Yes</td>\n",
       "      <td>1</td>\n",
       "    </tr>\n",
       "  </tbody>\n",
       "</table>\n",
       "</div>"
      ],
      "text/plain": [
       "  customer_id multiple_lines  phone_user\n",
       "0  5575-GNVDE             No           1\n",
       "1  3668-QPYBK             No           1\n",
       "2  9237-HQITU             No           1\n",
       "3  9305-CDSKC            Yes           1\n",
       "4  1452-KIOVK            Yes           1"
      ]
     },
     "metadata": {},
     "output_type": "display_data"
    }
   ],
   "source": [
    "internet['internet_user'] = 1\n",
    "phone['phone_user'] = 1\n",
    "\n",
    "display(internet.head())\n",
    "display(phone.head())"
   ]
  },
  {
   "cell_type": "markdown",
   "id": "b6e1ad11",
   "metadata": {},
   "source": [
    "<div style=\"border:solid green 2px; padding: 5px\">\n",
    "    \n",
    "    создадим функцию, чтобы просмотреть уникальные отсортированные значения всех столбцов каждого файла:"
   ]
  },
  {
   "cell_type": "code",
   "execution_count": 23,
   "id": "f1f541ca",
   "metadata": {},
   "outputs": [],
   "source": [
    "def rows(data):\n",
    "    for column in data.columns:\n",
    "        print('Уникальные значения столбца', column)\n",
    "        print(data[column].sort_values().unique())"
   ]
  },
  {
   "cell_type": "code",
   "execution_count": 24,
   "id": "86edad1e",
   "metadata": {},
   "outputs": [
    {
     "name": "stdout",
     "output_type": "stream",
     "text": [
      "Уникальные значения столбца customer_id\n",
      "['0002-ORFBO' '0003-MKNFE' '0004-TLHLJ' ... '9992-UJOEL' '9993-LHIEB'\n",
      " '9995-HOTOH']\n",
      "Уникальные значения столбца begin_date\n",
      "['2013-10-01T00:00:00.000000000' '2013-11-01T00:00:00.000000000'\n",
      " '2013-12-01T00:00:00.000000000' '2014-01-01T00:00:00.000000000'\n",
      " '2014-02-01T00:00:00.000000000' '2014-03-01T00:00:00.000000000'\n",
      " '2014-04-01T00:00:00.000000000' '2014-05-01T00:00:00.000000000'\n",
      " '2014-06-01T00:00:00.000000000' '2014-07-01T00:00:00.000000000'\n",
      " '2014-08-01T00:00:00.000000000' '2014-09-01T00:00:00.000000000'\n",
      " '2014-10-01T00:00:00.000000000' '2014-11-01T00:00:00.000000000'\n",
      " '2014-12-01T00:00:00.000000000' '2015-01-01T00:00:00.000000000'\n",
      " '2015-02-01T00:00:00.000000000' '2015-03-01T00:00:00.000000000'\n",
      " '2015-04-01T00:00:00.000000000' '2015-05-01T00:00:00.000000000'\n",
      " '2015-06-01T00:00:00.000000000' '2015-07-01T00:00:00.000000000'\n",
      " '2015-08-01T00:00:00.000000000' '2015-09-01T00:00:00.000000000'\n",
      " '2015-10-01T00:00:00.000000000' '2015-11-01T00:00:00.000000000'\n",
      " '2015-12-01T00:00:00.000000000' '2016-01-01T00:00:00.000000000'\n",
      " '2016-02-01T00:00:00.000000000' '2016-03-01T00:00:00.000000000'\n",
      " '2016-04-01T00:00:00.000000000' '2016-05-01T00:00:00.000000000'\n",
      " '2016-06-01T00:00:00.000000000' '2016-07-01T00:00:00.000000000'\n",
      " '2016-08-01T00:00:00.000000000' '2016-09-01T00:00:00.000000000'\n",
      " '2016-10-01T00:00:00.000000000' '2016-11-01T00:00:00.000000000'\n",
      " '2016-12-01T00:00:00.000000000' '2017-01-01T00:00:00.000000000'\n",
      " '2017-02-01T00:00:00.000000000' '2017-03-01T00:00:00.000000000'\n",
      " '2017-04-01T00:00:00.000000000' '2017-05-01T00:00:00.000000000'\n",
      " '2017-06-01T00:00:00.000000000' '2017-07-01T00:00:00.000000000'\n",
      " '2017-08-01T00:00:00.000000000' '2017-09-01T00:00:00.000000000'\n",
      " '2017-10-01T00:00:00.000000000' '2017-11-01T00:00:00.000000000'\n",
      " '2017-12-01T00:00:00.000000000' '2018-01-01T00:00:00.000000000'\n",
      " '2018-02-01T00:00:00.000000000' '2018-03-01T00:00:00.000000000'\n",
      " '2018-04-01T00:00:00.000000000' '2018-05-01T00:00:00.000000000'\n",
      " '2018-06-01T00:00:00.000000000' '2018-07-01T00:00:00.000000000'\n",
      " '2018-08-01T00:00:00.000000000' '2018-09-01T00:00:00.000000000'\n",
      " '2018-10-01T00:00:00.000000000' '2018-11-01T00:00:00.000000000'\n",
      " '2018-12-01T00:00:00.000000000' '2019-01-01T00:00:00.000000000'\n",
      " '2019-02-01T00:00:00.000000000' '2019-03-01T00:00:00.000000000'\n",
      " '2019-04-01T00:00:00.000000000' '2019-05-01T00:00:00.000000000'\n",
      " '2019-06-01T00:00:00.000000000' '2019-07-01T00:00:00.000000000'\n",
      " '2019-08-01T00:00:00.000000000' '2019-09-01T00:00:00.000000000'\n",
      " '2019-10-01T00:00:00.000000000' '2019-11-01T00:00:00.000000000'\n",
      " '2019-12-01T00:00:00.000000000' '2020-01-01T00:00:00.000000000'\n",
      " '2020-02-01T00:00:00.000000000']\n",
      "Уникальные значения столбца end_date\n",
      "['2014-06-01' '2014-09-01' '2014-10-01' '2014-11-01' '2014-12-01'\n",
      " '2015-01-01' '2015-02-01' '2015-03-01' '2015-04-01' '2015-05-01'\n",
      " '2015-06-01' '2015-07-01' '2015-08-01' '2015-09-01' '2015-10-01'\n",
      " '2015-11-01' '2015-12-01' '2016-01-01' '2016-02-01' '2016-03-01'\n",
      " '2016-04-01' '2016-05-01' '2016-06-01' '2016-07-01' '2016-08-01'\n",
      " '2016-09-01' '2016-10-01' '2016-11-01' '2016-12-01' '2017-01-01'\n",
      " '2017-02-01' '2017-03-01' '2017-04-01' '2017-05-01' '2017-06-01'\n",
      " '2017-07-01' '2017-08-01' '2017-09-01' '2017-10-01' '2017-11-01'\n",
      " '2017-12-01' '2018-01-01' '2018-02-01' '2018-03-01' '2018-04-01'\n",
      " '2018-05-01' '2018-06-01' '2018-07-01' '2018-08-01' '2018-09-01'\n",
      " '2018-10-01' '2018-11-01' '2018-12-01' '2019-01-01' '2019-02-01'\n",
      " '2019-03-01' '2019-04-01' '2019-05-01' '2019-06-01' '2019-07-01'\n",
      " '2019-08-01' '2019-09-01' '2019-10-01' '2019-11-01' '2019-12-01'\n",
      " '2020-01-01' 'No']\n",
      "Уникальные значения столбца type\n",
      "['Month-to-month' 'One year' 'Two year']\n",
      "Уникальные значения столбца paperless_billing\n",
      "['No' 'Yes']\n",
      "Уникальные значения столбца payment_method\n",
      "['Bank transfer (automatic)' 'Credit card (automatic)' 'Electronic check'\n",
      " 'Mailed check']\n",
      "Уникальные значения столбца monthly_charges\n",
      "[ 18.25  18.4   18.55 ... 118.6  118.65 118.75]\n",
      "Уникальные значения столбца total_charges\n",
      "[  19.05   19.1    19.19 ... 9068.36 9218.88 9221.38]\n"
     ]
    }
   ],
   "source": [
    "rows(contract)"
   ]
  },
  {
   "cell_type": "markdown",
   "id": "0d6711f4",
   "metadata": {},
   "source": [
    "<div style=\"border:solid green 2px; padding: 5px\">\n",
    "    \n",
    "    видим, что конец контракта (end_date) обозначается датами, \n",
    "    для модели МО будет понятнее указание факта разрыва вместо даты ('Yes','No' или '1' и '0'),\n",
    "    остальные значения столбцов подозрений не вызывают\n",
    "    \n",
    "    удалять столбец не будем, создадим новый 'is_exited' со значениями 0 и 1, \n",
    "    проверяем и смотрим уникальные значения следующих файлов:"
   ]
  },
  {
   "cell_type": "code",
   "execution_count": 25,
   "id": "8f86e9a0",
   "metadata": {},
   "outputs": [
    {
     "data": {
      "text/html": [
       "<div>\n",
       "<style scoped>\n",
       "    .dataframe tbody tr th:only-of-type {\n",
       "        vertical-align: middle;\n",
       "    }\n",
       "\n",
       "    .dataframe tbody tr th {\n",
       "        vertical-align: top;\n",
       "    }\n",
       "\n",
       "    .dataframe thead th {\n",
       "        text-align: right;\n",
       "    }\n",
       "</style>\n",
       "<table border=\"1\" class=\"dataframe\">\n",
       "  <thead>\n",
       "    <tr style=\"text-align: right;\">\n",
       "      <th></th>\n",
       "      <th>customer_id</th>\n",
       "      <th>begin_date</th>\n",
       "      <th>end_date</th>\n",
       "      <th>type</th>\n",
       "      <th>paperless_billing</th>\n",
       "      <th>payment_method</th>\n",
       "      <th>monthly_charges</th>\n",
       "      <th>total_charges</th>\n",
       "      <th>is_exited</th>\n",
       "    </tr>\n",
       "  </thead>\n",
       "  <tbody>\n",
       "    <tr>\n",
       "      <th>0</th>\n",
       "      <td>7590-VHVEG</td>\n",
       "      <td>2020-01-01</td>\n",
       "      <td>No</td>\n",
       "      <td>Month-to-month</td>\n",
       "      <td>Yes</td>\n",
       "      <td>Electronic check</td>\n",
       "      <td>29.85</td>\n",
       "      <td>31.04</td>\n",
       "      <td>0</td>\n",
       "    </tr>\n",
       "    <tr>\n",
       "      <th>1</th>\n",
       "      <td>5575-GNVDE</td>\n",
       "      <td>2017-04-01</td>\n",
       "      <td>No</td>\n",
       "      <td>One year</td>\n",
       "      <td>No</td>\n",
       "      <td>Mailed check</td>\n",
       "      <td>56.95</td>\n",
       "      <td>2071.84</td>\n",
       "      <td>0</td>\n",
       "    </tr>\n",
       "    <tr>\n",
       "      <th>2</th>\n",
       "      <td>3668-QPYBK</td>\n",
       "      <td>2019-10-01</td>\n",
       "      <td>No</td>\n",
       "      <td>Month-to-month</td>\n",
       "      <td>Yes</td>\n",
       "      <td>Mailed check</td>\n",
       "      <td>53.85</td>\n",
       "      <td>226.17</td>\n",
       "      <td>0</td>\n",
       "    </tr>\n",
       "    <tr>\n",
       "      <th>3</th>\n",
       "      <td>7795-CFOCW</td>\n",
       "      <td>2016-05-01</td>\n",
       "      <td>No</td>\n",
       "      <td>One year</td>\n",
       "      <td>No</td>\n",
       "      <td>Bank transfer (automatic)</td>\n",
       "      <td>42.30</td>\n",
       "      <td>1960.60</td>\n",
       "      <td>0</td>\n",
       "    </tr>\n",
       "    <tr>\n",
       "      <th>4</th>\n",
       "      <td>9237-HQITU</td>\n",
       "      <td>2019-09-01</td>\n",
       "      <td>No</td>\n",
       "      <td>Month-to-month</td>\n",
       "      <td>Yes</td>\n",
       "      <td>Electronic check</td>\n",
       "      <td>70.70</td>\n",
       "      <td>353.50</td>\n",
       "      <td>0</td>\n",
       "    </tr>\n",
       "  </tbody>\n",
       "</table>\n",
       "</div>"
      ],
      "text/plain": [
       "  customer_id begin_date end_date            type paperless_billing  \\\n",
       "0  7590-VHVEG 2020-01-01       No  Month-to-month               Yes   \n",
       "1  5575-GNVDE 2017-04-01       No        One year                No   \n",
       "2  3668-QPYBK 2019-10-01       No  Month-to-month               Yes   \n",
       "3  7795-CFOCW 2016-05-01       No        One year                No   \n",
       "4  9237-HQITU 2019-09-01       No  Month-to-month               Yes   \n",
       "\n",
       "              payment_method  monthly_charges  total_charges  is_exited  \n",
       "0           Electronic check            29.85          31.04          0  \n",
       "1               Mailed check            56.95        2071.84          0  \n",
       "2               Mailed check            53.85         226.17          0  \n",
       "3  Bank transfer (automatic)            42.30        1960.60          0  \n",
       "4           Electronic check            70.70         353.50          0  "
      ]
     },
     "metadata": {},
     "output_type": "display_data"
    }
   ],
   "source": [
    "contract['is_exited'] = contract['end_date'].apply(lambda x: 0 if x == 'No' else 1)\n",
    "display(contract.head())"
   ]
  },
  {
   "cell_type": "code",
   "execution_count": 26,
   "id": "d2eb6c7c",
   "metadata": {},
   "outputs": [
    {
     "name": "stdout",
     "output_type": "stream",
     "text": [
      "Уникальные значения столбца customer_id\n",
      "['0002-ORFBO' '0003-MKNFE' '0004-TLHLJ' ... '9992-UJOEL' '9993-LHIEB'\n",
      " '9995-HOTOH']\n",
      "Уникальные значения столбца gender\n",
      "['Female' 'Male']\n",
      "Уникальные значения столбца senior_citizen\n",
      "[0 1]\n",
      "Уникальные значения столбца partner\n",
      "['No' 'Yes']\n",
      "Уникальные значения столбца dependents\n",
      "['No' 'Yes']\n"
     ]
    }
   ],
   "source": [
    "rows(personal)"
   ]
  },
  {
   "cell_type": "code",
   "execution_count": 27,
   "id": "010cad03",
   "metadata": {},
   "outputs": [
    {
     "name": "stdout",
     "output_type": "stream",
     "text": [
      "Уникальные значения столбца customer_id\n",
      "['0002-ORFBO' '0003-MKNFE' '0004-TLHLJ' ... '9992-UJOEL' '9993-LHIEB'\n",
      " '9995-HOTOH']\n",
      "Уникальные значения столбца internet_service\n",
      "['DSL' 'Fiber optic']\n",
      "Уникальные значения столбца online_security\n",
      "['No' 'Yes']\n",
      "Уникальные значения столбца online_backup\n",
      "['No' 'Yes']\n",
      "Уникальные значения столбца device_protection\n",
      "['No' 'Yes']\n",
      "Уникальные значения столбца tech_support\n",
      "['No' 'Yes']\n",
      "Уникальные значения столбца streaming_tv\n",
      "['No' 'Yes']\n",
      "Уникальные значения столбца streaming_movies\n",
      "['No' 'Yes']\n",
      "Уникальные значения столбца internet_user\n",
      "[1]\n"
     ]
    }
   ],
   "source": [
    "rows(internet)"
   ]
  },
  {
   "cell_type": "code",
   "execution_count": 28,
   "id": "e26f14d5",
   "metadata": {},
   "outputs": [
    {
     "name": "stdout",
     "output_type": "stream",
     "text": [
      "Уникальные значения столбца customer_id\n",
      "['0002-ORFBO' '0003-MKNFE' '0004-TLHLJ' ... '9992-RRAMN' '9992-UJOEL'\n",
      " '9993-LHIEB']\n",
      "Уникальные значения столбца multiple_lines\n",
      "['No' 'Yes']\n",
      "Уникальные значения столбца phone_user\n",
      "[1]\n"
     ]
    }
   ],
   "source": [
    "rows(phone)"
   ]
  },
  {
   "cell_type": "markdown",
   "id": "15ccb70b",
   "metadata": {},
   "source": [
    "<div style=\"border:solid green 2px; padding: 5px\">\n",
    "    \n",
    "    уникальные значения вопросов не вызывают, ошибок нет;\n",
    "    проверим отсутствие дубликатов в customer_id во всех файлах при помощи функции:\n",
    "    "
   ]
  },
  {
   "cell_type": "code",
   "execution_count": 29,
   "id": "badbdd05",
   "metadata": {},
   "outputs": [
    {
     "name": "stdout",
     "output_type": "stream",
     "text": [
      "Дубликатов в столбце customer_id в файле contract НЕ обнаружено\n",
      "Дубликатов в столбце customer_id в файле personal НЕ обнаружено\n",
      "Дубликатов в столбце customer_id в файле internet НЕ обнаружено\n",
      "Дубликатов в столбце customer_id в файле phone НЕ обнаружено\n"
     ]
    }
   ],
   "source": [
    "def duplicates(df, name):\n",
    "    if df['customer_id'].duplicated().any():\n",
    "        print(f'ЕСТЬ дубликаты в столбце customer_id в файле {name}')\n",
    "    else:\n",
    "        print(f'Дубликатов в столбце customer_id в файле {name} НЕ обнаружено')\n",
    "\n",
    "datasets = {'contract': contract, 'personal': personal, 'internet': internet, 'phone': phone}\n",
    "\n",
    "for name, df in datasets.items():\n",
    "    duplicates(df, name)"
   ]
  },
  {
   "cell_type": "markdown",
   "id": "eb2944aa",
   "metadata": {},
   "source": [
    "<div style=\"border:solid green 2px; padding: 5px\">\n",
    "    \n",
    "    дубликаты отсутствуют, файлы приведены в порядок"
   ]
  },
  {
   "cell_type": "markdown",
   "id": "967671a5",
   "metadata": {},
   "source": [
    "<div style=\"border:solid green 3px; padding: 15px\"> \n",
    "    \n",
    "# Промежуточный вывод:\n",
    "    \n",
    "1. подгрузили необходимые библиотеки;\n",
    "2. изучили файлы, скорректировали типы данных;\n",
    "3. привели названия столбцов в змеиный формат;\n",
    "4. проанализировали уникальные значения, проверили на дубликаты;\n",
    "5. добавили 3 столбца, которые могут помочь модели в прогнозировании.\n"
   ]
  },
  {
   "cell_type": "markdown",
   "id": "b3b52ab3",
   "metadata": {},
   "source": [
    "## Объединение данных"
   ]
  },
  {
   "cell_type": "markdown",
   "id": "a32c897b",
   "metadata": {},
   "source": [
    "<div style=\"border:solid green 2px; padding: 5px\">\n",
    "    \n",
    "    объединим предобработанные данные в один файл, проверим результат:"
   ]
  },
  {
   "cell_type": "code",
   "execution_count": 30,
   "id": "670ed5b5",
   "metadata": {},
   "outputs": [
    {
     "data": {
      "text/html": [
       "<div>\n",
       "<style scoped>\n",
       "    .dataframe tbody tr th:only-of-type {\n",
       "        vertical-align: middle;\n",
       "    }\n",
       "\n",
       "    .dataframe tbody tr th {\n",
       "        vertical-align: top;\n",
       "    }\n",
       "\n",
       "    .dataframe thead th {\n",
       "        text-align: right;\n",
       "    }\n",
       "</style>\n",
       "<table border=\"1\" class=\"dataframe\">\n",
       "  <thead>\n",
       "    <tr style=\"text-align: right;\">\n",
       "      <th></th>\n",
       "      <th>customer_id</th>\n",
       "      <th>begin_date</th>\n",
       "      <th>end_date</th>\n",
       "      <th>type</th>\n",
       "      <th>paperless_billing</th>\n",
       "      <th>payment_method</th>\n",
       "      <th>monthly_charges</th>\n",
       "      <th>total_charges</th>\n",
       "      <th>is_exited</th>\n",
       "      <th>gender</th>\n",
       "      <th>...</th>\n",
       "      <th>internet_service</th>\n",
       "      <th>online_security</th>\n",
       "      <th>online_backup</th>\n",
       "      <th>device_protection</th>\n",
       "      <th>tech_support</th>\n",
       "      <th>streaming_tv</th>\n",
       "      <th>streaming_movies</th>\n",
       "      <th>internet_user</th>\n",
       "      <th>multiple_lines</th>\n",
       "      <th>phone_user</th>\n",
       "    </tr>\n",
       "  </thead>\n",
       "  <tbody>\n",
       "    <tr>\n",
       "      <th>0</th>\n",
       "      <td>7590-VHVEG</td>\n",
       "      <td>2020-01-01</td>\n",
       "      <td>No</td>\n",
       "      <td>Month-to-month</td>\n",
       "      <td>Yes</td>\n",
       "      <td>Electronic check</td>\n",
       "      <td>29.85</td>\n",
       "      <td>31.04</td>\n",
       "      <td>0</td>\n",
       "      <td>Female</td>\n",
       "      <td>...</td>\n",
       "      <td>DSL</td>\n",
       "      <td>No</td>\n",
       "      <td>Yes</td>\n",
       "      <td>No</td>\n",
       "      <td>No</td>\n",
       "      <td>No</td>\n",
       "      <td>No</td>\n",
       "      <td>1.0</td>\n",
       "      <td>NaN</td>\n",
       "      <td>NaN</td>\n",
       "    </tr>\n",
       "    <tr>\n",
       "      <th>1</th>\n",
       "      <td>5575-GNVDE</td>\n",
       "      <td>2017-04-01</td>\n",
       "      <td>No</td>\n",
       "      <td>One year</td>\n",
       "      <td>No</td>\n",
       "      <td>Mailed check</td>\n",
       "      <td>56.95</td>\n",
       "      <td>2071.84</td>\n",
       "      <td>0</td>\n",
       "      <td>Male</td>\n",
       "      <td>...</td>\n",
       "      <td>DSL</td>\n",
       "      <td>Yes</td>\n",
       "      <td>No</td>\n",
       "      <td>Yes</td>\n",
       "      <td>No</td>\n",
       "      <td>No</td>\n",
       "      <td>No</td>\n",
       "      <td>1.0</td>\n",
       "      <td>No</td>\n",
       "      <td>1.0</td>\n",
       "    </tr>\n",
       "    <tr>\n",
       "      <th>2</th>\n",
       "      <td>3668-QPYBK</td>\n",
       "      <td>2019-10-01</td>\n",
       "      <td>No</td>\n",
       "      <td>Month-to-month</td>\n",
       "      <td>Yes</td>\n",
       "      <td>Mailed check</td>\n",
       "      <td>53.85</td>\n",
       "      <td>226.17</td>\n",
       "      <td>0</td>\n",
       "      <td>Male</td>\n",
       "      <td>...</td>\n",
       "      <td>DSL</td>\n",
       "      <td>Yes</td>\n",
       "      <td>Yes</td>\n",
       "      <td>No</td>\n",
       "      <td>No</td>\n",
       "      <td>No</td>\n",
       "      <td>No</td>\n",
       "      <td>1.0</td>\n",
       "      <td>No</td>\n",
       "      <td>1.0</td>\n",
       "    </tr>\n",
       "    <tr>\n",
       "      <th>3</th>\n",
       "      <td>7795-CFOCW</td>\n",
       "      <td>2016-05-01</td>\n",
       "      <td>No</td>\n",
       "      <td>One year</td>\n",
       "      <td>No</td>\n",
       "      <td>Bank transfer (automatic)</td>\n",
       "      <td>42.30</td>\n",
       "      <td>1960.60</td>\n",
       "      <td>0</td>\n",
       "      <td>Male</td>\n",
       "      <td>...</td>\n",
       "      <td>DSL</td>\n",
       "      <td>Yes</td>\n",
       "      <td>No</td>\n",
       "      <td>Yes</td>\n",
       "      <td>Yes</td>\n",
       "      <td>No</td>\n",
       "      <td>No</td>\n",
       "      <td>1.0</td>\n",
       "      <td>NaN</td>\n",
       "      <td>NaN</td>\n",
       "    </tr>\n",
       "    <tr>\n",
       "      <th>4</th>\n",
       "      <td>9237-HQITU</td>\n",
       "      <td>2019-09-01</td>\n",
       "      <td>No</td>\n",
       "      <td>Month-to-month</td>\n",
       "      <td>Yes</td>\n",
       "      <td>Electronic check</td>\n",
       "      <td>70.70</td>\n",
       "      <td>353.50</td>\n",
       "      <td>0</td>\n",
       "      <td>Female</td>\n",
       "      <td>...</td>\n",
       "      <td>Fiber optic</td>\n",
       "      <td>No</td>\n",
       "      <td>No</td>\n",
       "      <td>No</td>\n",
       "      <td>No</td>\n",
       "      <td>No</td>\n",
       "      <td>No</td>\n",
       "      <td>1.0</td>\n",
       "      <td>No</td>\n",
       "      <td>1.0</td>\n",
       "    </tr>\n",
       "  </tbody>\n",
       "</table>\n",
       "<p>5 rows × 23 columns</p>\n",
       "</div>"
      ],
      "text/plain": [
       "  customer_id begin_date end_date            type paperless_billing  \\\n",
       "0  7590-VHVEG 2020-01-01       No  Month-to-month               Yes   \n",
       "1  5575-GNVDE 2017-04-01       No        One year                No   \n",
       "2  3668-QPYBK 2019-10-01       No  Month-to-month               Yes   \n",
       "3  7795-CFOCW 2016-05-01       No        One year                No   \n",
       "4  9237-HQITU 2019-09-01       No  Month-to-month               Yes   \n",
       "\n",
       "              payment_method  monthly_charges  total_charges  is_exited  \\\n",
       "0           Electronic check            29.85          31.04          0   \n",
       "1               Mailed check            56.95        2071.84          0   \n",
       "2               Mailed check            53.85         226.17          0   \n",
       "3  Bank transfer (automatic)            42.30        1960.60          0   \n",
       "4           Electronic check            70.70         353.50          0   \n",
       "\n",
       "   gender  ...  internet_service online_security online_backup  \\\n",
       "0  Female  ...               DSL              No           Yes   \n",
       "1    Male  ...               DSL             Yes            No   \n",
       "2    Male  ...               DSL             Yes           Yes   \n",
       "3    Male  ...               DSL             Yes            No   \n",
       "4  Female  ...       Fiber optic              No            No   \n",
       "\n",
       "  device_protection tech_support streaming_tv streaming_movies internet_user  \\\n",
       "0                No           No           No               No           1.0   \n",
       "1               Yes           No           No               No           1.0   \n",
       "2                No           No           No               No           1.0   \n",
       "3               Yes          Yes           No               No           1.0   \n",
       "4                No           No           No               No           1.0   \n",
       "\n",
       "  multiple_lines phone_user  \n",
       "0            NaN        NaN  \n",
       "1             No        1.0  \n",
       "2             No        1.0  \n",
       "3            NaN        NaN  \n",
       "4             No        1.0  \n",
       "\n",
       "[5 rows x 23 columns]"
      ]
     },
     "metadata": {},
     "output_type": "display_data"
    }
   ],
   "source": [
    "data = contract.merge(personal, on='customer_id', how='left')\n",
    "data = data.merge(internet, on='customer_id', how='left')\n",
    "data = data.merge(phone, on='customer_id', how='left')\n",
    "\n",
    "display(data.head())"
   ]
  },
  {
   "cell_type": "markdown",
   "id": "acae9498",
   "metadata": {},
   "source": [
    "## Исследовательский анализ и предобработка данных объединённого датафрейма"
   ]
  },
  {
   "cell_type": "markdown",
   "id": "420eba05",
   "metadata": {},
   "source": [
    "<div style=\"border:solid green 2px; padding: 5px\">\n",
    "    \n",
    "    при помощи лямбда-функции заполним нулями internet_user и phone_user тех пользователей, \n",
    "    кто не является пользователем конкретной услуги, сразу проверим результат:"
   ]
  },
  {
   "cell_type": "code",
   "execution_count": 31,
   "id": "9a42f365",
   "metadata": {},
   "outputs": [
    {
     "data": {
      "text/html": [
       "<div>\n",
       "<style scoped>\n",
       "    .dataframe tbody tr th:only-of-type {\n",
       "        vertical-align: middle;\n",
       "    }\n",
       "\n",
       "    .dataframe tbody tr th {\n",
       "        vertical-align: top;\n",
       "    }\n",
       "\n",
       "    .dataframe thead th {\n",
       "        text-align: right;\n",
       "    }\n",
       "</style>\n",
       "<table border=\"1\" class=\"dataframe\">\n",
       "  <thead>\n",
       "    <tr style=\"text-align: right;\">\n",
       "      <th></th>\n",
       "      <th>customer_id</th>\n",
       "      <th>begin_date</th>\n",
       "      <th>end_date</th>\n",
       "      <th>type</th>\n",
       "      <th>paperless_billing</th>\n",
       "      <th>payment_method</th>\n",
       "      <th>monthly_charges</th>\n",
       "      <th>total_charges</th>\n",
       "      <th>is_exited</th>\n",
       "      <th>gender</th>\n",
       "      <th>...</th>\n",
       "      <th>internet_service</th>\n",
       "      <th>online_security</th>\n",
       "      <th>online_backup</th>\n",
       "      <th>device_protection</th>\n",
       "      <th>tech_support</th>\n",
       "      <th>streaming_tv</th>\n",
       "      <th>streaming_movies</th>\n",
       "      <th>internet_user</th>\n",
       "      <th>multiple_lines</th>\n",
       "      <th>phone_user</th>\n",
       "    </tr>\n",
       "  </thead>\n",
       "  <tbody>\n",
       "    <tr>\n",
       "      <th>0</th>\n",
       "      <td>7590-VHVEG</td>\n",
       "      <td>2020-01-01</td>\n",
       "      <td>No</td>\n",
       "      <td>Month-to-month</td>\n",
       "      <td>Yes</td>\n",
       "      <td>Electronic check</td>\n",
       "      <td>29.85</td>\n",
       "      <td>31.04</td>\n",
       "      <td>0</td>\n",
       "      <td>Female</td>\n",
       "      <td>...</td>\n",
       "      <td>DSL</td>\n",
       "      <td>No</td>\n",
       "      <td>Yes</td>\n",
       "      <td>No</td>\n",
       "      <td>No</td>\n",
       "      <td>No</td>\n",
       "      <td>No</td>\n",
       "      <td>1</td>\n",
       "      <td>NaN</td>\n",
       "      <td>0</td>\n",
       "    </tr>\n",
       "    <tr>\n",
       "      <th>1</th>\n",
       "      <td>5575-GNVDE</td>\n",
       "      <td>2017-04-01</td>\n",
       "      <td>No</td>\n",
       "      <td>One year</td>\n",
       "      <td>No</td>\n",
       "      <td>Mailed check</td>\n",
       "      <td>56.95</td>\n",
       "      <td>2071.84</td>\n",
       "      <td>0</td>\n",
       "      <td>Male</td>\n",
       "      <td>...</td>\n",
       "      <td>DSL</td>\n",
       "      <td>Yes</td>\n",
       "      <td>No</td>\n",
       "      <td>Yes</td>\n",
       "      <td>No</td>\n",
       "      <td>No</td>\n",
       "      <td>No</td>\n",
       "      <td>1</td>\n",
       "      <td>No</td>\n",
       "      <td>1</td>\n",
       "    </tr>\n",
       "    <tr>\n",
       "      <th>2</th>\n",
       "      <td>3668-QPYBK</td>\n",
       "      <td>2019-10-01</td>\n",
       "      <td>No</td>\n",
       "      <td>Month-to-month</td>\n",
       "      <td>Yes</td>\n",
       "      <td>Mailed check</td>\n",
       "      <td>53.85</td>\n",
       "      <td>226.17</td>\n",
       "      <td>0</td>\n",
       "      <td>Male</td>\n",
       "      <td>...</td>\n",
       "      <td>DSL</td>\n",
       "      <td>Yes</td>\n",
       "      <td>Yes</td>\n",
       "      <td>No</td>\n",
       "      <td>No</td>\n",
       "      <td>No</td>\n",
       "      <td>No</td>\n",
       "      <td>1</td>\n",
       "      <td>No</td>\n",
       "      <td>1</td>\n",
       "    </tr>\n",
       "    <tr>\n",
       "      <th>3</th>\n",
       "      <td>7795-CFOCW</td>\n",
       "      <td>2016-05-01</td>\n",
       "      <td>No</td>\n",
       "      <td>One year</td>\n",
       "      <td>No</td>\n",
       "      <td>Bank transfer (automatic)</td>\n",
       "      <td>42.30</td>\n",
       "      <td>1960.60</td>\n",
       "      <td>0</td>\n",
       "      <td>Male</td>\n",
       "      <td>...</td>\n",
       "      <td>DSL</td>\n",
       "      <td>Yes</td>\n",
       "      <td>No</td>\n",
       "      <td>Yes</td>\n",
       "      <td>Yes</td>\n",
       "      <td>No</td>\n",
       "      <td>No</td>\n",
       "      <td>1</td>\n",
       "      <td>NaN</td>\n",
       "      <td>0</td>\n",
       "    </tr>\n",
       "    <tr>\n",
       "      <th>4</th>\n",
       "      <td>9237-HQITU</td>\n",
       "      <td>2019-09-01</td>\n",
       "      <td>No</td>\n",
       "      <td>Month-to-month</td>\n",
       "      <td>Yes</td>\n",
       "      <td>Electronic check</td>\n",
       "      <td>70.70</td>\n",
       "      <td>353.50</td>\n",
       "      <td>0</td>\n",
       "      <td>Female</td>\n",
       "      <td>...</td>\n",
       "      <td>Fiber optic</td>\n",
       "      <td>No</td>\n",
       "      <td>No</td>\n",
       "      <td>No</td>\n",
       "      <td>No</td>\n",
       "      <td>No</td>\n",
       "      <td>No</td>\n",
       "      <td>1</td>\n",
       "      <td>No</td>\n",
       "      <td>1</td>\n",
       "    </tr>\n",
       "  </tbody>\n",
       "</table>\n",
       "<p>5 rows × 23 columns</p>\n",
       "</div>"
      ],
      "text/plain": [
       "  customer_id begin_date end_date            type paperless_billing  \\\n",
       "0  7590-VHVEG 2020-01-01       No  Month-to-month               Yes   \n",
       "1  5575-GNVDE 2017-04-01       No        One year                No   \n",
       "2  3668-QPYBK 2019-10-01       No  Month-to-month               Yes   \n",
       "3  7795-CFOCW 2016-05-01       No        One year                No   \n",
       "4  9237-HQITU 2019-09-01       No  Month-to-month               Yes   \n",
       "\n",
       "              payment_method  monthly_charges  total_charges  is_exited  \\\n",
       "0           Electronic check            29.85          31.04          0   \n",
       "1               Mailed check            56.95        2071.84          0   \n",
       "2               Mailed check            53.85         226.17          0   \n",
       "3  Bank transfer (automatic)            42.30        1960.60          0   \n",
       "4           Electronic check            70.70         353.50          0   \n",
       "\n",
       "   gender  ...  internet_service online_security online_backup  \\\n",
       "0  Female  ...               DSL              No           Yes   \n",
       "1    Male  ...               DSL             Yes            No   \n",
       "2    Male  ...               DSL             Yes           Yes   \n",
       "3    Male  ...               DSL             Yes            No   \n",
       "4  Female  ...       Fiber optic              No            No   \n",
       "\n",
       "  device_protection tech_support streaming_tv streaming_movies internet_user  \\\n",
       "0                No           No           No               No             1   \n",
       "1               Yes           No           No               No             1   \n",
       "2                No           No           No               No             1   \n",
       "3               Yes          Yes           No               No             1   \n",
       "4                No           No           No               No             1   \n",
       "\n",
       "  multiple_lines phone_user  \n",
       "0            NaN          0  \n",
       "1             No          1  \n",
       "2             No          1  \n",
       "3            NaN          0  \n",
       "4             No          1  \n",
       "\n",
       "[5 rows x 23 columns]"
      ]
     },
     "metadata": {},
     "output_type": "display_data"
    }
   ],
   "source": [
    "data['internet_user'] = data['streaming_movies'].apply(lambda x: 0 if pd.isnull(x) else 1)\n",
    "data['phone_user'] = data['multiple_lines'].apply(lambda x: 0 if pd.isnull(x) else 1)\n",
    "\n",
    "display(data.head())"
   ]
  },
  {
   "cell_type": "markdown",
   "id": "00a1b688",
   "metadata": {},
   "source": [
    "<div style=\"border:solid green 2px; padding: 5px\">\n",
    "    \n",
    "    заполним пустые строки после объединения \"заглушкой\" и проверим результат:"
   ]
  },
  {
   "cell_type": "code",
   "execution_count": 32,
   "id": "8172856c",
   "metadata": {},
   "outputs": [
    {
     "data": {
      "text/plain": [
       "customer_id          0\n",
       "begin_date           0\n",
       "end_date             0\n",
       "type                 0\n",
       "paperless_billing    0\n",
       "payment_method       0\n",
       "monthly_charges      0\n",
       "total_charges        0\n",
       "is_exited            0\n",
       "gender               0\n",
       "senior_citizen       0\n",
       "partner              0\n",
       "dependents           0\n",
       "internet_service     0\n",
       "online_security      0\n",
       "online_backup        0\n",
       "device_protection    0\n",
       "tech_support         0\n",
       "streaming_tv         0\n",
       "streaming_movies     0\n",
       "internet_user        0\n",
       "multiple_lines       0\n",
       "phone_user           0\n",
       "dtype: int64"
      ]
     },
     "execution_count": 32,
     "metadata": {},
     "output_type": "execute_result"
    }
   ],
   "source": [
    "data.fillna('N/D', inplace=True)\n",
    "data.isna().sum()"
   ]
  },
  {
   "cell_type": "markdown",
   "id": "64ca8941",
   "metadata": {},
   "source": [
    "<div style=\"border:solid green 2px; padding: 5px\">\n",
    "    \n",
    "    создадим новый столбец с продолжительностью контракта, для активных абонентов выберем дату условно 2020-02-15\n",
    "    как текущую, чтобы корректно рассчитать продолжительность всех без исключения абонентов:"
   ]
  },
  {
   "cell_type": "code",
   "execution_count": 33,
   "id": "c821e0e6",
   "metadata": {},
   "outputs": [
    {
     "data": {
      "text/html": [
       "<div>\n",
       "<style scoped>\n",
       "    .dataframe tbody tr th:only-of-type {\n",
       "        vertical-align: middle;\n",
       "    }\n",
       "\n",
       "    .dataframe tbody tr th {\n",
       "        vertical-align: top;\n",
       "    }\n",
       "\n",
       "    .dataframe thead th {\n",
       "        text-align: right;\n",
       "    }\n",
       "</style>\n",
       "<table border=\"1\" class=\"dataframe\">\n",
       "  <thead>\n",
       "    <tr style=\"text-align: right;\">\n",
       "      <th></th>\n",
       "      <th>customer_id</th>\n",
       "      <th>begin_date</th>\n",
       "      <th>end_date</th>\n",
       "      <th>type</th>\n",
       "      <th>paperless_billing</th>\n",
       "      <th>payment_method</th>\n",
       "      <th>monthly_charges</th>\n",
       "      <th>total_charges</th>\n",
       "      <th>is_exited</th>\n",
       "      <th>gender</th>\n",
       "      <th>...</th>\n",
       "      <th>online_security</th>\n",
       "      <th>online_backup</th>\n",
       "      <th>device_protection</th>\n",
       "      <th>tech_support</th>\n",
       "      <th>streaming_tv</th>\n",
       "      <th>streaming_movies</th>\n",
       "      <th>internet_user</th>\n",
       "      <th>multiple_lines</th>\n",
       "      <th>phone_user</th>\n",
       "      <th>contract_duration</th>\n",
       "    </tr>\n",
       "  </thead>\n",
       "  <tbody>\n",
       "    <tr>\n",
       "      <th>0</th>\n",
       "      <td>7590-VHVEG</td>\n",
       "      <td>2020-01-01</td>\n",
       "      <td>2020-02-01</td>\n",
       "      <td>Month-to-month</td>\n",
       "      <td>Yes</td>\n",
       "      <td>Electronic check</td>\n",
       "      <td>29.85</td>\n",
       "      <td>31.04</td>\n",
       "      <td>0</td>\n",
       "      <td>Female</td>\n",
       "      <td>...</td>\n",
       "      <td>No</td>\n",
       "      <td>Yes</td>\n",
       "      <td>No</td>\n",
       "      <td>No</td>\n",
       "      <td>No</td>\n",
       "      <td>No</td>\n",
       "      <td>1</td>\n",
       "      <td>N/D</td>\n",
       "      <td>0</td>\n",
       "      <td>31</td>\n",
       "    </tr>\n",
       "    <tr>\n",
       "      <th>1</th>\n",
       "      <td>5575-GNVDE</td>\n",
       "      <td>2017-04-01</td>\n",
       "      <td>2020-02-01</td>\n",
       "      <td>One year</td>\n",
       "      <td>No</td>\n",
       "      <td>Mailed check</td>\n",
       "      <td>56.95</td>\n",
       "      <td>2071.84</td>\n",
       "      <td>0</td>\n",
       "      <td>Male</td>\n",
       "      <td>...</td>\n",
       "      <td>Yes</td>\n",
       "      <td>No</td>\n",
       "      <td>Yes</td>\n",
       "      <td>No</td>\n",
       "      <td>No</td>\n",
       "      <td>No</td>\n",
       "      <td>1</td>\n",
       "      <td>No</td>\n",
       "      <td>1</td>\n",
       "      <td>1036</td>\n",
       "    </tr>\n",
       "    <tr>\n",
       "      <th>2</th>\n",
       "      <td>3668-QPYBK</td>\n",
       "      <td>2019-10-01</td>\n",
       "      <td>2020-02-01</td>\n",
       "      <td>Month-to-month</td>\n",
       "      <td>Yes</td>\n",
       "      <td>Mailed check</td>\n",
       "      <td>53.85</td>\n",
       "      <td>226.17</td>\n",
       "      <td>0</td>\n",
       "      <td>Male</td>\n",
       "      <td>...</td>\n",
       "      <td>Yes</td>\n",
       "      <td>Yes</td>\n",
       "      <td>No</td>\n",
       "      <td>No</td>\n",
       "      <td>No</td>\n",
       "      <td>No</td>\n",
       "      <td>1</td>\n",
       "      <td>No</td>\n",
       "      <td>1</td>\n",
       "      <td>123</td>\n",
       "    </tr>\n",
       "    <tr>\n",
       "      <th>3</th>\n",
       "      <td>7795-CFOCW</td>\n",
       "      <td>2016-05-01</td>\n",
       "      <td>2020-02-01</td>\n",
       "      <td>One year</td>\n",
       "      <td>No</td>\n",
       "      <td>Bank transfer (automatic)</td>\n",
       "      <td>42.30</td>\n",
       "      <td>1960.60</td>\n",
       "      <td>0</td>\n",
       "      <td>Male</td>\n",
       "      <td>...</td>\n",
       "      <td>Yes</td>\n",
       "      <td>No</td>\n",
       "      <td>Yes</td>\n",
       "      <td>Yes</td>\n",
       "      <td>No</td>\n",
       "      <td>No</td>\n",
       "      <td>1</td>\n",
       "      <td>N/D</td>\n",
       "      <td>0</td>\n",
       "      <td>1371</td>\n",
       "    </tr>\n",
       "    <tr>\n",
       "      <th>4</th>\n",
       "      <td>9237-HQITU</td>\n",
       "      <td>2019-09-01</td>\n",
       "      <td>2020-02-01</td>\n",
       "      <td>Month-to-month</td>\n",
       "      <td>Yes</td>\n",
       "      <td>Electronic check</td>\n",
       "      <td>70.70</td>\n",
       "      <td>353.50</td>\n",
       "      <td>0</td>\n",
       "      <td>Female</td>\n",
       "      <td>...</td>\n",
       "      <td>No</td>\n",
       "      <td>No</td>\n",
       "      <td>No</td>\n",
       "      <td>No</td>\n",
       "      <td>No</td>\n",
       "      <td>No</td>\n",
       "      <td>1</td>\n",
       "      <td>No</td>\n",
       "      <td>1</td>\n",
       "      <td>153</td>\n",
       "    </tr>\n",
       "  </tbody>\n",
       "</table>\n",
       "<p>5 rows × 24 columns</p>\n",
       "</div>"
      ],
      "text/plain": [
       "  customer_id begin_date   end_date            type paperless_billing  \\\n",
       "0  7590-VHVEG 2020-01-01 2020-02-01  Month-to-month               Yes   \n",
       "1  5575-GNVDE 2017-04-01 2020-02-01        One year                No   \n",
       "2  3668-QPYBK 2019-10-01 2020-02-01  Month-to-month               Yes   \n",
       "3  7795-CFOCW 2016-05-01 2020-02-01        One year                No   \n",
       "4  9237-HQITU 2019-09-01 2020-02-01  Month-to-month               Yes   \n",
       "\n",
       "              payment_method  monthly_charges  total_charges  is_exited  \\\n",
       "0           Electronic check            29.85          31.04          0   \n",
       "1               Mailed check            56.95        2071.84          0   \n",
       "2               Mailed check            53.85         226.17          0   \n",
       "3  Bank transfer (automatic)            42.30        1960.60          0   \n",
       "4           Electronic check            70.70         353.50          0   \n",
       "\n",
       "   gender  ...  online_security online_backup device_protection tech_support  \\\n",
       "0  Female  ...               No           Yes                No           No   \n",
       "1    Male  ...              Yes            No               Yes           No   \n",
       "2    Male  ...              Yes           Yes                No           No   \n",
       "3    Male  ...              Yes            No               Yes          Yes   \n",
       "4  Female  ...               No            No                No           No   \n",
       "\n",
       "  streaming_tv streaming_movies internet_user multiple_lines phone_user  \\\n",
       "0           No               No             1            N/D          0   \n",
       "1           No               No             1             No          1   \n",
       "2           No               No             1             No          1   \n",
       "3           No               No             1            N/D          0   \n",
       "4           No               No             1             No          1   \n",
       "\n",
       "  contract_duration  \n",
       "0                31  \n",
       "1              1036  \n",
       "2               123  \n",
       "3              1371  \n",
       "4               153  \n",
       "\n",
       "[5 rows x 24 columns]"
      ]
     },
     "metadata": {},
     "output_type": "display_data"
    }
   ],
   "source": [
    "data['end_date'] = data['end_date'].replace('No', '2020-02-01')\n",
    "data['end_date'] = pd.to_datetime(data['end_date'])\n",
    "data['contract_duration'] = (data['end_date'] - data['begin_date']).dt.days\n",
    "display(data.head())"
   ]
  },
  {
   "cell_type": "markdown",
   "id": "85b3a108",
   "metadata": {},
   "source": [
    "<div style=\"border:solid green 2px; padding: 5px\">\n",
    "    \n",
    "    можно посмотреть, есть ли у нас пользователи, которые вообще не используют никаких услуг:"
   ]
  },
  {
   "cell_type": "code",
   "execution_count": 34,
   "id": "d2c1a192",
   "metadata": {},
   "outputs": [
    {
     "name": "stdout",
     "output_type": "stream",
     "text": [
      "Количество строк с 'internet_user' и 'phone_user' равными 0 одновременно: 0\n"
     ]
    }
   ],
   "source": [
    "data_no_serv = len(data[(data['internet_user'] == 0) & (data['phone_user'] == 0)])\n",
    "print(f\"Количество строк с 'internet_user' и 'phone_user' равными 0 одновременно: {data_no_serv}\")"
   ]
  },
  {
   "cell_type": "markdown",
   "id": "1350d36a",
   "metadata": {},
   "source": [
    "<div style=\"border:solid green 2px; padding: 5px\">\n",
    "    \n",
    "    \"пустых\" пользователей нет, это означает, что модель не будет обучаться на пустых данных,\n",
    "    что могло бы снизить качество прогнозирования\n",
    "    \n",
    "    переведём тип данных на object на неколичественных признаках, выведем info для проверки:"
   ]
  },
  {
   "cell_type": "code",
   "execution_count": 35,
   "id": "cc550490",
   "metadata": {},
   "outputs": [
    {
     "name": "stdout",
     "output_type": "stream",
     "text": [
      "<class 'pandas.core.frame.DataFrame'>\n",
      "Int64Index: 7043 entries, 0 to 7042\n",
      "Data columns (total 24 columns):\n",
      " #   Column             Non-Null Count  Dtype         \n",
      "---  ------             --------------  -----         \n",
      " 0   customer_id        7043 non-null   object        \n",
      " 1   begin_date         7043 non-null   datetime64[ns]\n",
      " 2   end_date           7043 non-null   datetime64[ns]\n",
      " 3   type               7043 non-null   object        \n",
      " 4   paperless_billing  7043 non-null   object        \n",
      " 5   payment_method     7043 non-null   object        \n",
      " 6   monthly_charges    7043 non-null   float64       \n",
      " 7   total_charges      7043 non-null   float64       \n",
      " 8   is_exited          7043 non-null   object        \n",
      " 9   gender             7043 non-null   object        \n",
      " 10  senior_citizen     7043 non-null   object        \n",
      " 11  partner            7043 non-null   object        \n",
      " 12  dependents         7043 non-null   object        \n",
      " 13  internet_service   7043 non-null   object        \n",
      " 14  online_security    7043 non-null   object        \n",
      " 15  online_backup      7043 non-null   object        \n",
      " 16  device_protection  7043 non-null   object        \n",
      " 17  tech_support       7043 non-null   object        \n",
      " 18  streaming_tv       7043 non-null   object        \n",
      " 19  streaming_movies   7043 non-null   object        \n",
      " 20  internet_user      7043 non-null   object        \n",
      " 21  multiple_lines     7043 non-null   object        \n",
      " 22  phone_user         7043 non-null   object        \n",
      " 23  contract_duration  7043 non-null   int64         \n",
      "dtypes: datetime64[ns](2), float64(2), int64(1), object(19)\n",
      "memory usage: 1.3+ MB\n"
     ]
    }
   ],
   "source": [
    "data['phone_user'] = data['phone_user'].astype(object)\n",
    "data['internet_user'] = data['internet_user'].astype(object)\n",
    "data['senior_citizen'] = data['senior_citizen'].astype(object)\n",
    "data['is_exited'] = data['is_exited'].astype(object)\n",
    "\n",
    "data.info()"
   ]
  },
  {
   "cell_type": "markdown",
   "id": "6d2bade1",
   "metadata": {},
   "source": [
    "<div style=\"border:solid green 2px; padding: 5px\">\n",
    "    \n",
    "    построим графики по распределению категориальных признаков:"
   ]
  },
  {
   "cell_type": "code",
   "execution_count": 36,
   "id": "9ec6e55f",
   "metadata": {},
   "outputs": [
    {
     "data": {
      "image/png": "[encoded data removed]",
      "text/plain": [
       "<Figure size 504x288 with 1 Axes>"
      ]
     },
     "metadata": {
      "needs_background": "light"
     },
     "output_type": "display_data"
    },
    {
     "data": {
      "image/png": "[encoded data removed]",
      "text/plain": [
       "<Figure size 504x288 with 1 Axes>"
      ]
     },
     "metadata": {
      "needs_background": "light"
     },
     "output_type": "display_data"
    },
    {
     "data": {
      "image/png": "[encoded data removed]",
      "text/plain": [
       "<Figure size 504x288 with 1 Axes>"
      ]
     },
     "metadata": {
      "needs_background": "light"
     },
     "output_type": "display_data"
    },
    {
     "data": {
      "image/png": "[encoded data removed]",
      "text/plain": [
       "<Figure size 504x288 with 1 Axes>"
      ]
     },
     "metadata": {
      "needs_background": "light"
     },
     "output_type": "display_data"
    },
    {
     "data": {
      "image/png": "[encoded data removed]",
      "text/plain": [
       "<Figure size 504x288 with 1 Axes>"
      ]
     },
     "metadata": {
      "needs_background": "light"
     },
     "output_type": "display_data"
    },
    {
     "data": {
      "image/png": "[encoded data removed]",
      "text/plain": [
       "<Figure size 504x288 with 1 Axes>"
      ]
     },
     "metadata": {
      "needs_background": "light"
     },
     "output_type": "display_data"
    },
    {
     "data": {
      "image/png": "[encoded data removed]",
      "text/plain": [
       "<Figure size 504x288 with 1 Axes>"
      ]
     },
     "metadata": {
      "needs_background": "light"
     },
     "output_type": "display_data"
    },
    {
     "data": {
      "image/png": "[encoded data removed]",
      "text/plain": [
       "<Figure size 504x288 with 1 Axes>"
      ]
     },
     "metadata": {
      "needs_background": "light"
     },
     "output_type": "display_data"
    },
    {
     "data": {
      "image/png": "[encoded data removed]",
      "text/plain": [
       "<Figure size 504x288 with 1 Axes>"
      ]
     },
     "metadata": {
      "needs_background": "light"
     },
     "output_type": "display_data"
    },
    {
     "data": {
      "image/png": "[encoded data removed]",
      "text/plain": [
       "<Figure size 504x288 with 1 Axes>"
      ]
     },
     "metadata": {
      "needs_background": "light"
     },
     "output_type": "display_data"
    },
    {
     "data": {
      "image/png": "[encoded data removed]",
      "text/plain": [
       "<Figure size 504x288 with 1 Axes>"
      ]
     },
     "metadata": {
      "needs_background": "light"
     },
     "output_type": "display_data"
    },
    {
     "data": {
      "image/png": "[encoded data removed]",
      "text/plain": [
       "<Figure size 504x288 with 1 Axes>"
      ]
     },
     "metadata": {
      "needs_background": "light"
     },
     "output_type": "display_data"
    },
    {
     "data": {
      "image/png": "[encoded data removed]",
      "text/plain": [
       "<Figure size 504x288 with 1 Axes>"
      ]
     },
     "metadata": {
      "needs_background": "light"
     },
     "output_type": "display_data"
    },
    {
     "data": {
      "image/png": "[encoded data removed]",
      "text/plain": [
       "<Figure size 504x288 with 1 Axes>"
      ]
     },
     "metadata": {
      "needs_background": "light"
     },
     "output_type": "display_data"
    },
    {
     "data": {
      "image/png": "[encoded data removed]",
      "text/plain": [
       "<Figure size 504x288 with 1 Axes>"
      ]
     },
     "metadata": {
      "needs_background": "light"
     },
     "output_type": "display_data"
    },
    {
     "data": {
      "image/png": "[encoded data removed]",
      "text/plain": [
       "<Figure size 504x288 with 1 Axes>"
      ]
     },
     "metadata": {
      "needs_background": "light"
     },
     "output_type": "display_data"
    },
    {
     "data": {
      "image/png": "[encoded data removed]",
      "text/plain": [
       "<Figure size 504x288 with 1 Axes>"
      ]
     },
     "metadata": {
      "needs_background": "light"
     },
     "output_type": "display_data"
    },
    {
     "data": {
      "image/png": "[encoded data removed]",
      "text/plain": [
       "<Figure size 504x288 with 1 Axes>"
      ]
     },
     "metadata": {
      "needs_background": "light"
     },
     "output_type": "display_data"
    }
   ],
   "source": [
    "def countplot(data, x, title):\n",
    "    plt.figure(figsize=(7, 4))\n",
    "    sns.countplot(x=x, data=data)\n",
    "    plt.title(title)\n",
    "    plt.xlabel('Категория')\n",
    "    plt.ylabel('Количество')\n",
    "    plt.xticks(rotation=7)\n",
    "    plt.show()\n",
    "\n",
    "categorical_features = ['type', 'paperless_billing', 'payment_method', 'is_exited', 'gender','senior_citizen', \n",
    "                        'partner', 'dependents', 'internet_service', 'online_security', 'online_backup', \n",
    "                        'device_protection', 'tech_support', 'streaming_tv', 'streaming_movies', 'internet_user', \n",
    "                        'multiple_lines', 'phone_user']\n",
    "\n",
    "for feature in categorical_features:\n",
    "    countplot(data, feature, f'Распределение признака {feature}')"
   ]
  },
  {
   "cell_type": "markdown",
   "id": "7b9bfcab",
   "metadata": {},
   "source": [
    "<div style=\"border:solid green 2px; padding: 5px\">\n",
    "    \n",
    "    видим, что расторгнувших контракт стремится к соотношению 1 к 6, не пользующихся услугой интернета - чуть меньше, чем 1 к 4, а не испольующих телефонные услуги - и вовсе 1 к 10\n",
    "    \n",
    "    также видим популярность типа оплаты month-to-month, предпочтение к оплате paperless_billing, соответственно\n",
    "    популярный метод оплаты electronic check, равенство по половому признаку и наличию супруга, по подключение услуг\n",
    "    streaming_tv и streaming_movies, соотношение 1 к 6 пенсионеров, большинство не имеют иждивенцев, \n",
    "    не используют услугу online security, tech_support, multiple_lines, примерное равенство DSL и Fiber optic, \n",
    "    использование услуг online_backup, device_protection\n",
    "        \n",
    "    глянем, как распределяются количественные признаки на гистограммах:"
   ]
  },
  {
   "cell_type": "code",
   "execution_count": 37,
   "id": "c5456ccb",
   "metadata": {},
   "outputs": [
    {
     "data": {
      "image/png": "[encoded data removed]",
      "text/plain": [
       "<Figure size 1008x432 with 1 Axes>"
      ]
     },
     "metadata": {
      "needs_background": "light"
     },
     "output_type": "display_data"
    },
    {
     "data": {
      "image/png": "[encoded data removed]",
      "text/plain": [
       "<Figure size 1008x432 with 1 Axes>"
      ]
     },
     "metadata": {
      "needs_background": "light"
     },
     "output_type": "display_data"
    },
    {
     "data": {
      "image/png": "[encoded data removed]",
      "text/plain": [
       "<Figure size 1008x432 with 1 Axes>"
      ]
     },
     "metadata": {
      "needs_background": "light"
     },
     "output_type": "display_data"
    }
   ],
   "source": [
    "def hist(data, column, color):\n",
    "    plt.figure(figsize=(14, 6))\n",
    "    plt.hist(data[column], bins=50, color=color, edgecolor='black')\n",
    "    plt.title('Распределение ' + column)\n",
    "    plt.xlabel(column)\n",
    "    plt.ylabel('Количество')\n",
    "    plt.grid(axis='y', alpha=0.75)\n",
    "    plt.show()\n",
    "\n",
    "hist(data, 'monthly_charges', 'dodgerblue')\n",
    "hist(data, 'total_charges', 'mediumseagreen')\n",
    "hist(data, 'contract_duration', 'coral')"
   ]
  },
  {
   "cell_type": "markdown",
   "id": "26fa7d5a",
   "metadata": {},
   "source": [
    "<div style=\"border:solid green 2px; padding: 5px\">\n",
    "    \n",
    "    у многих ежемесячные траты не превышают 25 у.е., по всей видимости используют самый базовый пакет услуг, \n",
    "    а из разряда общих трат большая часть тратит примерно до 500 у.е.\n",
    "    \n",
    "    по длительности контракта заметим, как постепенно общая длительность угасает, есть смысл делать скидки для \"старичков\"\n",
    "        \n",
    "    также интересно будет посмотреть данные признаки на \"ящиках с усами\":"
   ]
  },
  {
   "cell_type": "code",
   "execution_count": 38,
   "id": "94be4970",
   "metadata": {},
   "outputs": [
    {
     "data": {
      "image/png": "[encoded data removed]",
      "text/plain": [
       "<Figure size 720x216 with 1 Axes>"
      ]
     },
     "metadata": {
      "needs_background": "light"
     },
     "output_type": "display_data"
    },
    {
     "data": {
      "image/png": "[encoded data removed]",
      "text/plain": [
       "<Figure size 720x216 with 1 Axes>"
      ]
     },
     "metadata": {
      "needs_background": "light"
     },
     "output_type": "display_data"
    },
    {
     "data": {
      "image/png": "[encoded data removed]",
      "text/plain": [
       "<Figure size 720x216 with 1 Axes>"
      ]
     },
     "metadata": {
      "needs_background": "light"
     },
     "output_type": "display_data"
    }
   ],
   "source": [
    "def boxplot(data, column, color):\n",
    "    plt.figure(figsize=(10, 3))\n",
    "    sns.boxplot(x=data[column], color=color)\n",
    "    plt.title('Диаграмма размаха ' + column)\n",
    "    plt.xlabel(column)\n",
    "    plt.ylabel('Значение')\n",
    "    plt.grid(axis='y', alpha=0.75)\n",
    "    plt.show()\n",
    "\n",
    "boxplot(data, 'monthly_charges', 'dodgerblue')\n",
    "boxplot(data, 'total_charges', 'mediumseagreen')\n",
    "boxplot(data, 'contract_duration', 'coral')"
   ]
  },
  {
   "cell_type": "markdown",
   "id": "2d875a47",
   "metadata": {},
   "source": [
    "<div style=\"border:solid green 2px; padding: 5px\">\n",
    "    \n",
    "    в общих тратах видим много выбросов - это те самые преданные пользователи, \n",
    "    которые пользуются услугами компании очень продолжительное время\n",
    "    \n",
    "    по длительности контрактов видим перекос в меньшую сторону\n",
    "    \n",
    "    проведём корреляционный анализ признаков методом Phi_K:"
   ]
  },
  {
   "cell_type": "code",
   "execution_count": 39,
   "id": "437da602",
   "metadata": {
    "scrolled": true
   },
   "outputs": [
    {
     "data": {
      "image/png": "[encoded data removed]",
      "text/plain": [
       "<Figure size 1008x576 with 2 Axes>"
      ]
     },
     "metadata": {
      "needs_background": "light"
     },
     "output_type": "display_data"
    }
   ],
   "source": [
    "data_corr = data.drop(['customer_id', 'begin_date', 'end_date'], axis=1)\n",
    "interval_columns = ['monthly_charges', 'total_charges', 'contract_duration']\n",
    "\n",
    "correlation_matrix = phik_matrix(data_corr, interval_columns)\n",
    "\n",
    "plt.figure(figsize=(14, 8))\n",
    "sns.heatmap(correlation_matrix, annot=True, cmap='coolwarm')\n",
    "plt.title('Корреляционная матрица Phi_K')\n",
    "plt.show()"
   ]
  },
  {
   "cell_type": "markdown",
   "id": "88c9f115",
   "metadata": {},
   "source": [
    "<div style=\"border:solid green 2px; padding: 5px\">\n",
    "    \n",
    "    что можем наблюдать: streaming_tv и streaming_movies имеют схожую корреляцию, пол (gender) практически \n",
    "    ни с чем не коррелирует;\n",
    "    \n",
    "    видим высокую корреляцию среди ежемесячных трат ('monthly_charges') и общих трат ('total_charges') \n",
    "    с остальными признаками;\n",
    "    \n",
    "    нужный нам признак, является ли абонент действующим или нет ('is_exited'), коррелируется более менее (> 0.2) \n",
    "    с признаками: 'payment_method', 'monthly_charges', 'total_charges', 'partner', 'contract_duration'; \n",
    "    данные признаки помогут нам лучше спрогнозировать возможный разрыв контракта"
   ]
  },
  {
   "cell_type": "markdown",
   "id": "b05a35a0",
   "metadata": {},
   "source": [
    "<div style=\"border:solid green 3px; padding: 15px\"> \n",
    "\n",
    "# Промежуточный вывод:\n",
    "    \n",
    "\n",
    "1. Объединили предобработанные файлы в один по столбцу 'customer_id';\n",
    "    \n",
    "2. Предобработали объединённый файл;\n",
    "\n",
    "3. При помощи гистограмм визуализировали распределение и соотношения признаков;\n",
    "\n",
    "4. При помощи диаграмм размаха визуализировали траты пользователей;\n",
    "\n",
    "5. Провели корреляционный анализ, сделали выводы.\n"
   ]
  },
  {
   "cell_type": "markdown",
   "id": "3a3d6d7f",
   "metadata": {},
   "source": [
    "## Подготовка данных"
   ]
  },
  {
   "cell_type": "markdown",
   "id": "443ec6a2",
   "metadata": {},
   "source": [
    "<div style=\"border:solid green 2px; padding: 5px\">\n",
    "    \n",
    "    начинаем подготовку данных для обучения модели, сохраним требуемые столбцы в переменные, \n",
    "    разделим их на количественные, категориальные и общие:"
   ]
  },
  {
   "cell_type": "code",
   "execution_count": 40,
   "id": "d486c626",
   "metadata": {},
   "outputs": [],
   "source": [
    "act_cols =      ['payment_method', \n",
    "                 'partner',\n",
    "                 'monthly_charges',\n",
    "                 'total_charges',\n",
    "                 'contract_duration',\n",
    "                'internet_user',\n",
    "                'multiple_lines',\n",
    "                'online_backup']\n",
    "\n",
    "cat_col_names = ['payment_method', \n",
    "                 'partner',\n",
    "                'internet_user',\n",
    "                'multiple_lines',\n",
    "                'online_backup',]\n",
    "\n",
    "num_col_names = ['monthly_charges',\n",
    "                 'total_charges',\n",
    "                'contract_duration']"
   ]
  },
  {
   "cell_type": "markdown",
   "id": "c7b47dbe",
   "metadata": {},
   "source": [
    "<div style=\"border:solid green 2px; padding: 5px\">\n",
    "    \n",
    "    сохраняем X и y с нужными столбцами, делим на три выборки - тренировочный, тестовый и валидационный;\n",
    "    при помощи stratify количественно уравновешиваем целевой признак в выборках:"
   ]
  },
  {
   "cell_type": "code",
   "execution_count": 41,
   "id": "bfdbace2",
   "metadata": {},
   "outputs": [],
   "source": [
    "X = data[act_cols]\n",
    "y = data['is_exited']\n",
    "\n",
    "X_train, X_test, y_train, y_test = train_test_split(\n",
    "    X, \n",
    "    y,\n",
    "    test_size=0.25,\n",
    "    random_state=RANDOM_STATE,\n",
    "    stratify=y)"
   ]
  },
  {
   "cell_type": "markdown",
   "id": "e6bf3ac0",
   "metadata": {},
   "source": [
    "<div style=\"border:solid green 2px; padding: 5px\">\n",
    "    \n",
    "    проводим кодирование и масштабирование выборок, сохраняем в переменные:"
   ]
  },
  {
   "cell_type": "code",
   "execution_count": 42,
   "id": "846695f7",
   "metadata": {},
   "outputs": [],
   "source": [
    "encoder = OneHotEncoder(sparse_output=False, drop='first', handle_unknown='ignore')\n",
    "scaler = StandardScaler()\n",
    "\n",
    "X_train_encoded = encoder.fit_transform(X_train[cat_col_names])\n",
    "X_test_encoded = encoder.transform(X_test[cat_col_names])\n",
    "\n",
    "X_train_scaled = scaler.fit_transform(X_train[num_col_names])\n",
    "X_test_scaled = scaler.transform(X_test[num_col_names])\n",
    "\n",
    "X_train_final = pd.concat([pd.DataFrame(X_train_encoded), pd.DataFrame(X_train_scaled, columns=num_col_names)], axis=1)\n",
    "X_test_final = pd.concat([pd.DataFrame(X_test_encoded), pd.DataFrame(X_test_scaled, columns=num_col_names)], axis=1)\n",
    "\n",
    "X_train_final.columns = X_train_final.columns.astype(str)\n",
    "X_test_final.columns = X_test_final.columns.astype(str)"
   ]
  },
  {
   "cell_type": "markdown",
   "id": "423f8f6c",
   "metadata": {},
   "source": [
    "<div style=\"border:solid green 2px; padding: 5px\">\n",
    "    \n",
    "    подготовка данных выполнена, время обучить модели машинного обучения:"
   ]
  },
  {
   "cell_type": "markdown",
   "id": "0af72e32",
   "metadata": {},
   "source": [
    "## Обучение моделей машинного обучения"
   ]
  },
  {
   "cell_type": "markdown",
   "id": "aebc036a",
   "metadata": {},
   "source": [
    "<div style=\"border:solid green 2px; padding: 5px\"> \n",
    "\n",
    "    при помощи GridSearchCV определим наилучшие гиперпараметры и обучим модель LogisticRegression:"
   ]
  },
  {
   "cell_type": "code",
   "execution_count": 43,
   "id": "c090d40e",
   "metadata": {
    "scrolled": true
   },
   "outputs": [
    {
     "name": "stdout",
     "output_type": "stream",
     "text": [
      "Наилучшие параметры модели LogisticRegression: {'lr__C': 1, 'lr__penalty': 'l2', 'lr__solver': 'liblinear'}\n",
      "Качество модели по кросс-валидации: 0.7316294389825094\n",
      "CPU times: user 5.58 s, sys: 2.77 s, total: 8.34 s\n",
      "Wall time: 8.36 s\n"
     ]
    }
   ],
   "source": [
    "%%time\n",
    "\n",
    "threshold = 0.5\n",
    "y_train_binary = (y_train >= threshold).astype(int)\n",
    "\n",
    "lr = LogisticRegression(random_state=RANDOM_STATE)\n",
    "\n",
    "pipeline = Pipeline([\n",
    "    ('lr', lr)\n",
    "])\n",
    "\n",
    "param_grid = {\n",
    "    'lr__C': [0.1, 1, 10, 100],\n",
    "    'lr__penalty': ['l1', 'l2'],\n",
    "    'lr__solver': ['liblinear']\n",
    "}\n",
    "\n",
    "grid_search_lr = GridSearchCV(pipeline, param_grid, cv=5, scoring='roc_auc', error_score='raise')\n",
    "grid_search_lr.fit(X_train_final, y_train_binary)\n",
    "\n",
    "best_params = grid_search_lr.best_params_\n",
    "\n",
    "print('Наилучшие параметры модели LogisticRegression:', best_params)\n",
    "print(f'Качество модели по кросс-валидации: {grid_search_lr.best_score_}')\n",
    "\n",
    "# Наилучшие параметры модели RandomForestClassifier: \n",
    "# {'lr__C': 1, 'lr__penalty': 'l2', 'lr__solver': 'liblinear'}"
   ]
  },
  {
   "cell_type": "markdown",
   "id": "5c6ec0b1",
   "metadata": {},
   "source": [
    "<div style=\"border:solid green 2px; padding: 5px\"> \n",
    "    \n",
    "    при помощи GridSearchCV определим наилучшие гиперпараметры и обучим модель RandomForestClassifier:"
   ]
  },
  {
   "cell_type": "code",
   "execution_count": 44,
   "id": "15b122d4",
   "metadata": {},
   "outputs": [
    {
     "name": "stdout",
     "output_type": "stream",
     "text": [
      "Наилучшие параметры модели RandomForestClassifier: {'rf__max_depth': 5, 'rf__min_samples_leaf': 3, 'rf__min_samples_split': 2, 'rf__n_estimators': 100}\n",
      "Качество модели по кросс-валидации: 0.7985991868139783\n",
      "CPU times: user 19.3 s, sys: 0 ns, total: 19.3 s\n",
      "Wall time: 19.3 s\n"
     ]
    }
   ],
   "source": [
    "%%time\n",
    "\n",
    "rf = RandomForestClassifier(random_state=RANDOM_STATE)\n",
    "\n",
    "pipeline = Pipeline([\n",
    "    ('rf', rf)\n",
    "])\n",
    "\n",
    "param_grid = {\n",
    "    'rf__n_estimators': [50, 100],\n",
    "    'rf__max_depth': [5, 10],\n",
    "    'rf__min_samples_split': [2, 3],\n",
    "    'rf__min_samples_leaf': [2, 3]\n",
    "}\n",
    "\n",
    "grid_search_rf = GridSearchCV(pipeline, param_grid, cv=5, scoring='roc_auc')\n",
    "grid_search_rf.fit(X_train_final, y_train_binary)\n",
    "\n",
    "best_params = grid_search_rf.best_params_\n",
    "\n",
    "print('Наилучшие параметры модели RandomForestClassifier:', best_params)\n",
    "print(f'Качество модели по кросс-валидации: {grid_search_rf.best_score_}')\n",
    "\n",
    "# Наилучшие параметры модели RandomForestClassifier: \n",
    "# {'rf__max_depth': 10, 'rf__min_samples_leaf': 2, 'rf__min_samples_split': 2, 'rf__n_estimators': 100}"
   ]
  },
  {
   "cell_type": "markdown",
   "id": "b614a12b",
   "metadata": {},
   "source": [
    "<div style=\"border:solid green 2px; padding: 5px\"> \n",
    "    \n",
    "    при помощи GridSearchCV определим наилучшие гиперпараметры и обучим модель CatBoostClassifier:\n"
   ]
  },
  {
   "cell_type": "code",
   "execution_count": 45,
   "id": "b1018d61",
   "metadata": {},
   "outputs": [
    {
     "name": "stdout",
     "output_type": "stream",
     "text": [
      "Наилучшие параметры модели CatBoostClassifier: {'cb__iterations': 10, 'cb__learning_rate': 1}\n",
      "Качество модели по кросс-валидации: 0.7935717135467135\n",
      "CPU times: user 469 ms, sys: 42.7 ms, total: 512 ms\n",
      "Wall time: 8.25 s\n"
     ]
    }
   ],
   "source": [
    "%%time\n",
    "\n",
    "cb = CatBoostClassifier(loss_function=\"Logloss\", verbose=False, random_state=RANDOM_STATE)\n",
    "\n",
    "pipeline = Pipeline([\n",
    "    ('cb', cb)\n",
    "])\n",
    "\n",
    "param_grid = {\n",
    "    'cb__learning_rate': [0.1, 1],\n",
    "    'cb__iterations': [5, 10]\n",
    "}\n",
    "\n",
    "grid_search_cb = GridSearchCV(pipeline, param_grid, cv=5, scoring='roc_auc')\n",
    "grid_search_cb.fit(X_train_final, y_train_binary)\n",
    "\n",
    "best_params = grid_search_cb.best_params_\n",
    "\n",
    "print('Наилучшие параметры модели CatBoostClassifier:', best_params)\n",
    "print(f'Качество модели по кросс-валидации: {grid_search_cb.best_score_}')\n",
    "\n",
    "# Лучшие параметры модели CatBoostClassifier: {'cb__iterations': 10, 'cb__learning_rate': 1}"
   ]
  },
  {
   "cell_type": "markdown",
   "id": "5c2fd320",
   "metadata": {},
   "source": [
    "<div style=\"border:solid green 2px; padding: 5px\"> \n",
    "    \n",
    "    при помощи GridSearchCV определим наилучшие гиперпараметры и обучим модель LGBMClassifier:"
   ]
  },
  {
   "cell_type": "code",
   "execution_count": 46,
   "id": "6d20ffc4",
   "metadata": {},
   "outputs": [
    {
     "name": "stdout",
     "output_type": "stream",
     "text": [
      "Наилучшие параметры модели LGBMClassifier: {'boosting_type': 'gbdt', 'learning_rate': 0.1, 'max_depth': 3, 'metric': 'binary_logloss', 'n_estimators': 1000, 'num_leaves': 10, 'objective': 'binary'}\n",
      "Качество модели по кросс-валидации: 0.8821702862893199\n",
      "CPU times: user 2min 48s, sys: 1.26 s, total: 2min 49s\n",
      "Wall time: 2min 52s\n"
     ]
    }
   ],
   "source": [
    "%%time\n",
    "\n",
    "lg = lgb.LGBMClassifier(random_state=RANDOM_STATE)\n",
    "\n",
    "param_grid = {\n",
    "    'objective': ['binary'],\n",
    "    'metric': ['binary_logloss'],\n",
    "    'boosting_type': ['gbdt'],\n",
    "    'learning_rate': [0.01, 0.1],\n",
    "    'num_leaves': [10, 15],\n",
    "    'max_depth': [3, 5],\n",
    "    'n_estimators': [500, 1000],\n",
    "#    'num_threads': [1]\n",
    "}\n",
    "\n",
    "grid_search_lg = GridSearchCV(lg, param_grid, cv=5, scoring='roc_auc')\n",
    "grid_search_lg.fit(X_train_final, y_train_binary)\n",
    "\n",
    "best_params = grid_search_lg.best_params_\n",
    "\n",
    "print('Наилучшие параметры модели LGBMClassifier:', best_params)\n",
    "print(f'Качество модели по кросс-валидации: {grid_search_lg.best_score_}')\n",
    "\n",
    "# Наилучшие параметры модели LGBMClassifier: {'lg__boosting_type': 'gbdt', 'lg__learning_rate': 0.1, \n",
    "#'lg__max_depth': 5, 'lg__metric': 'binary_logloss', 'lg__num_leaves': 15, 'lg__objective': 'binary'}"
   ]
  },
  {
   "cell_type": "markdown",
   "id": "c9b70052",
   "metadata": {},
   "source": [
    "<div style=\"border:solid green 2px; padding: 5px\"> \n",
    "    \n",
    "    теперь сравним roc_auc всех моделей вместе:"
   ]
  },
  {
   "cell_type": "code",
   "execution_count": 47,
   "id": "f202fcaf",
   "metadata": {
    "scrolled": true
   },
   "outputs": [
    {
     "name": "stdout",
     "output_type": "stream",
     "text": [
      "Качество модели LogisticRegression по кросс-валидации: 0.7316294389825094\n",
      "Качество модели RandomForestClassifier по кросс-валидации: 0.7985991868139783\n",
      "Качество модели CatBoostClassifier по кросс-валидации: 0.7935717135467135\n",
      "Качество модели LGBMClassifier по кросс-валидации: 0.8821702862893199\n"
     ]
    }
   ],
   "source": [
    "print(f'Качество модели LogisticRegression по кросс-валидации: {grid_search_lr.best_score_}')\n",
    "print(f'Качество модели RandomForestClassifier по кросс-валидации: {grid_search_rf.best_score_}')\n",
    "print(f'Качество модели CatBoostClassifier по кросс-валидации: {grid_search_cb.best_score_}')\n",
    "print(f'Качество модели LGBMClassifier по кросс-валидации: {grid_search_lg.best_score_}')"
   ]
  },
  {
   "cell_type": "markdown",
   "id": "9e2bf750",
   "metadata": {},
   "source": [
    "<div style=\"border:solid green 2px; padding: 5px\"> \n",
    "    \n",
    "    видим, что LGBMClassifier единственная набравшая по качеству метрики > 0.85, \n",
    "    данную модель будем испытывать на тестовой выборке"
   ]
  },
  {
   "cell_type": "markdown",
   "id": "4c581004",
   "metadata": {},
   "source": [
    "<div style=\"border:solid green 3px; padding: 15px\"> \n",
    "\n",
    "# Промежуточный вывод:\n",
    "    \n",
    "1. выделили признаки, сохранили в переменные;\n",
    "2. разбили данные на 2 выборки;\n",
    "3. провели кодирование и масштабирование признаков;\n",
    "4. обучили 4 различные модели на наилучших гиперпараметрах;\n",
    "5. выбрали наилучшую модель исходя из лучшего показателя roc_auc_score."
   ]
  },
  {
   "cell_type": "markdown",
   "id": "da6bb29b",
   "metadata": {},
   "source": [
    "## Проверка лучшей модели"
   ]
  },
  {
   "cell_type": "markdown",
   "id": "f049d496",
   "metadata": {},
   "source": [
    "<div style=\"border:solid green 2px; padding: 5px\"> \n",
    "    \n",
    "    проверяем точность нашей наилучшей модели на тестовой выборке:"
   ]
  },
  {
   "cell_type": "code",
   "execution_count": 48,
   "id": "543c49cb",
   "metadata": {},
   "outputs": [
    {
     "name": "stdout",
     "output_type": "stream",
     "text": [
      "Точность модели LGBMClassifier на тестовых данных: 0.9131542885109507\n"
     ]
    }
   ],
   "source": [
    "y_test_binary = (y_test >= threshold).astype(int)\n",
    "\n",
    "y_pred_test = grid_search_lg.predict_proba(X_test_final)[:, 1]\n",
    "roc_auc_test = roc_auc_score(y_test_binary, y_pred_test)\n",
    "\n",
    "print('Точность модели LGBMClassifier на тестовых данных:', roc_auc_test)"
   ]
  },
  {
   "cell_type": "markdown",
   "id": "b1efea32",
   "metadata": {},
   "source": [
    "<div style=\"border:solid green 2px; padding: 5px\"> \n",
    "    \n",
    "    получили 91.31% на метрике ROC_AUC, посмотрим метрику качества Accuracy:"
   ]
  },
  {
   "cell_type": "code",
   "execution_count": 49,
   "id": "da8c3a93",
   "metadata": {},
   "outputs": [
    {
     "name": "stdout",
     "output_type": "stream",
     "text": [
      "0.9273140261215219\n"
     ]
    }
   ],
   "source": [
    "accuracy = accuracy_score(y_test_binary, y_pred_test.round())\n",
    "print(accuracy)"
   ]
  },
  {
   "cell_type": "markdown",
   "id": "e85166ee",
   "metadata": {},
   "source": [
    "<div style=\"border:solid green 2px; padding: 5px\"> \n",
    "    \n",
    "    метрика accuracy достигает 0.927, что не может не радовать"
   ]
  },
  {
   "cell_type": "markdown",
   "id": "8c5d9749",
   "metadata": {},
   "source": [
    "<div style=\"border:solid green 2px; padding: 5px\"> \n",
    "    \n",
    "    построим ROC-кривую итоговой модели:"
   ]
  },
  {
   "cell_type": "code",
   "execution_count": 50,
   "id": "4416e4f3",
   "metadata": {},
   "outputs": [
    {
     "data": {
      "image/png": "[encoded data removed]",
      "text/plain": [
       "<Figure size 720x432 with 1 Axes>"
      ]
     },
     "metadata": {
      "needs_background": "light"
     },
     "output_type": "display_data"
    }
   ],
   "source": [
    "fpr, tpr, threshold = roc_curve(y_test_binary, y_pred_test)\n",
    "roc_auc = auc(fpr, tpr)\n",
    "\n",
    "plt.figure(figsize=(10, 6))\n",
    "plt.plot(fpr, tpr, color='darkorange',\n",
    "         label='ROC кривая (метрика = %0.2f)' % roc_auc)\n",
    "plt.plot([0, 1], [0, 1], color='navy', linestyle='--')\n",
    "plt.xlim([0.0, 1.0])\n",
    "plt.ylim([0.0, 1.05])\n",
    "plt.xlabel('False Positive Rate')\n",
    "plt.ylabel('True Positive Rate')\n",
    "plt.title('ROC-кривая')\n",
    "plt.legend(loc=\"lower right\")\n",
    "plt.show()"
   ]
  },
  {
   "cell_type": "markdown",
   "id": "245ca37c",
   "metadata": {},
   "source": [
    "<div style=\"border:solid green 2px; padding: 5px\"> \n",
    "    \n",
    "    проверка лучшей модели на тестовых данных достигла результата 91.31%, \n",
    "    построим матрицу ошибок, она даёт понимание, как ошибается модель, что именно она предсказывает верно и неверно,\n",
    "    различая четыре вида предсказаний модели - True Positive, True Negative, False Positive и False Negative:"
   ]
  },
  {
   "cell_type": "code",
   "execution_count": 51,
   "id": "4dfd349d",
   "metadata": {},
   "outputs": [
    {
     "name": "stdout",
     "output_type": "stream",
     "text": [
      "В матрице по очереди указаны значения TN, FN, FP и TP:\n"
     ]
    },
    {
     "data": {
      "image/png": "[encoded data removed]",
      "text/plain": [
       "<Figure size 432x288 with 2 Axes>"
      ]
     },
     "metadata": {
      "needs_background": "light"
     },
     "output_type": "display_data"
    }
   ],
   "source": [
    "print('В матрице по очереди указаны значения TN, FN, FP и TP:')\n",
    "ConfusionMatrixDisplay.from_estimator(grid_search_lg, X_test_final, y_test_binary);"
   ]
  },
  {
   "cell_type": "markdown",
   "id": "61bef1e3",
   "metadata": {},
   "source": [
    "<div style=\"border:solid green 2px; padding: 5px\"> \n",
    "    \n",
    "    True Negative - 1462 из 1566 (93.35%) - абоненты, остающиеся активными, верно предсказанные моделью;\n",
    "    False Negative - 104 из 1566 (6.65%) - абоненты, остающиеся активными, НЕверно предсказанные моделью;\n",
    "    True Positive - 171 из 195 (87.69%) - абоненты, разорвавшие контракт, верно предсказанные моделью;\n",
    "    False Positive - 24 из 195 (12.31%) - абоненты, разорвавшие контракт, НЕверно предсказанные моделью;\n",
    "    \n",
    "    теперь можно посмотреть на важность признаков:"
   ]
  },
  {
   "cell_type": "code",
   "execution_count": 52,
   "id": "f8bd8f85",
   "metadata": {},
   "outputs": [
    {
     "data": {
      "image/png": "[encoded data removed]",
      "text/plain": [
       "<Figure size 432x288 with 1 Axes>"
      ]
     },
     "metadata": {
      "needs_background": "light"
     },
     "output_type": "display_data"
    }
   ],
   "source": [
    "importances = grid_search_lg.best_estimator_.feature_importances_\n",
    "\n",
    "plt.figure()\n",
    "plt.title('Важность признаков')\n",
    "indices = np.argsort(importances)[::-1]\n",
    "plt.barh(range(X_train_final.shape[1]), importances[indices], align=\"center\")\n",
    "plt.yticks(range(X_train_final.shape[1]), np.array(X_train_final.columns)[indices])\n",
    "plt.ylim([-1, X_train_final.shape[1]])\n",
    "plt.gca().invert_yaxis()\n",
    "plt.show()"
   ]
  },
  {
   "cell_type": "markdown",
   "id": "71817699",
   "metadata": {},
   "source": [
    "<div style=\"border:solid green 2px; padding: 5px\"> \n",
    "    \n",
    "    видим, что траты и длительность контракта играют существенную роль в решении абонентов сохранять контракт \n",
    "    или расторгнуть"
   ]
  },
  {
   "cell_type": "markdown",
   "id": "62b5b95a",
   "metadata": {},
   "source": [
    "## Общий вывод и рекомендации заказчику"
   ]
  },
  {
   "cell_type": "markdown",
   "id": "0caf1aae",
   "metadata": {},
   "source": [
    "<div style=\"border:solid green 4px; padding: 15px\"> \n",
    "\n",
    "# Итоговый вывод:\n",
    "    \n",
    "1. Провели подготовку данных:\n",
    "    \n",
    "    а) Обновили scikit-learn, подгрузили необходимые библиотеки;\n",
    "    \n",
    "    б) Изучили файлы, провели предобработку;\n",
    "    \n",
    "    в) Добавили признаки, которые помогут в обучении моделей;\n",
    "    \n",
    "2. Провели объединение и анализ файла:\n",
    "    \n",
    "    а) Объединили файлы в один по общему признаку;\n",
    "    \n",
    "    б) Визуализировали признаки при помощи гистограмм и \"ящиков с усами\";\n",
    "    \n",
    "    в) Провели корреляционный анализ и сделали вывод;\n",
    "\n",
    "3. Провели подготовку данных и обучение моделей:\n",
    "\n",
    "    а) Выделили признаки и сохранили в переменные;\n",
    "    \n",
    "    б) Разбили данные на выборки, обработали признаки;\n",
    "    \n",
    "    в) Обучили 4 модели и выбрали лучшую из них;\n",
    "    \n",
    "4. Дополнительно проверили лучшую модель:\n",
    "\n",
    "    а) Подтвердили высокий результат метрик AUC_ROC и Accuracy на тестовых данных;\n",
    "    \n",
    "    б) Визуализировали при помощи ROC-кривой и матрицы ошибок предсказанные значения;\n",
    "    \n",
    "    в) Вывели важность признаков и проанализировали значения;"
   ]
  },
  {
   "cell_type": "markdown",
   "id": "b5194709",
   "metadata": {},
   "source": [
    "<div style=\"border-radius: 15px; border: 3px solid indigo; padding: 15px;\">\n",
    "\n",
    "# ЗАКЛЮЧЕНИЕ: \n",
    "\n",
    "Заказчиком была поставлена задача создать модель, которая будет прогнозировать вероятность расторжения контракта абонентов; для решения этой задачи было привлечено 4 модели: LogisticRegression, RandomForestClassifier, CatBoostClassifier, LGBMClassifier. \n",
    "    \n",
    "Наилучшее значение по кросс-валидации показала модель LGBMClassifier со значением метрики AUC_ROC 0.882, а затем подтвердившая результат на тестовой выборке со значением AUC_ROC 0.913, при этом значение метрики Accuracy на тестовой выборке также показало высокое значение 0.927. \n",
    "    \n",
    "При обучении модели использовался RANDOM_STATE = 60524, были использованы наиболее весомые признаки исходя из корреляционной матрицы: 'payment_method', 'partner', 'monthly_charges', 'total_charges', 'contract_duration', 'internet_user', 'multiple_lines', 'online_backup', из них длительность контракта ('contract_duration') и пользователь интернета ('internet_user') были добавлены в результате предобработки признаков. \n",
    "    \n",
    "Из всего вышесказанного рекомендуется использовать заказчику модель LGBMClassifier для решения задач прогнозирования оттока абонентов."
   ]
  }
 ],
 "metadata": {
  "ExecuteTimeLog": [
   {
    "duration": 4,
    "start_time": "2024-05-06T12:45:25.352Z"
   },
   {
    "duration": 12566,
    "start_time": "2024-05-06T13:18:02.981Z"
   },
   {
    "duration": 722,
    "start_time": "2024-05-06T13:18:38.769Z"
   },
   {
    "duration": 893,
    "start_time": "2024-05-06T13:21:32.620Z"
   },
   {
    "duration": 5,
    "start_time": "2024-05-06T13:22:30.940Z"
   },
   {
    "duration": 194,
    "start_time": "2024-05-06T13:26:05.703Z"
   },
   {
    "duration": 98,
    "start_time": "2024-05-06T13:34:29.359Z"
   },
   {
    "duration": 119,
    "start_time": "2024-05-06T13:39:04.620Z"
   },
   {
    "duration": 71,
    "start_time": "2024-05-06T13:42:38.778Z"
   },
   {
    "duration": 139,
    "start_time": "2024-05-06T13:44:15.460Z"
   },
   {
    "duration": 11,
    "start_time": "2024-05-06T13:46:36.585Z"
   },
   {
    "duration": 16,
    "start_time": "2024-05-06T13:46:43.572Z"
   },
   {
    "duration": 127,
    "start_time": "2024-05-06T13:46:50.589Z"
   },
   {
    "duration": 13,
    "start_time": "2024-05-06T13:47:12.137Z"
   },
   {
    "duration": 12,
    "start_time": "2024-05-06T13:47:53.951Z"
   },
   {
    "duration": 5,
    "start_time": "2024-05-06T13:52:33.575Z"
   },
   {
    "duration": 5,
    "start_time": "2024-05-06T13:52:45.316Z"
   },
   {
    "duration": 21,
    "start_time": "2024-05-06T14:05:15.292Z"
   },
   {
    "duration": 6,
    "start_time": "2024-05-06T14:07:25.243Z"
   },
   {
    "duration": 7,
    "start_time": "2024-05-06T14:14:26.214Z"
   },
   {
    "duration": 9,
    "start_time": "2024-05-06T14:14:39.087Z"
   },
   {
    "duration": 12,
    "start_time": "2024-05-06T14:16:21.868Z"
   },
   {
    "duration": 9,
    "start_time": "2024-05-06T14:17:18.927Z"
   },
   {
    "duration": 13,
    "start_time": "2024-05-06T14:19:51.537Z"
   },
   {
    "duration": 73,
    "start_time": "2024-05-06T14:22:55.120Z"
   },
   {
    "duration": 11,
    "start_time": "2024-05-06T14:23:52.383Z"
   },
   {
    "duration": 8,
    "start_time": "2024-05-06T14:24:48.953Z"
   },
   {
    "duration": 6,
    "start_time": "2024-05-06T14:26:16.875Z"
   },
   {
    "duration": 15,
    "start_time": "2024-05-06T14:28:00.632Z"
   },
   {
    "duration": 6220,
    "start_time": "2024-05-06T14:28:53.374Z"
   },
   {
    "duration": 776,
    "start_time": "2024-05-06T14:28:59.596Z"
   },
   {
    "duration": 720,
    "start_time": "2024-05-06T14:29:00.374Z"
   },
   {
    "duration": 76,
    "start_time": "2024-05-06T14:29:01.096Z"
   },
   {
    "duration": 47,
    "start_time": "2024-05-06T14:29:01.174Z"
   },
   {
    "duration": 77,
    "start_time": "2024-05-06T14:29:01.223Z"
   },
   {
    "duration": 58,
    "start_time": "2024-05-06T14:29:01.302Z"
   },
   {
    "duration": 9,
    "start_time": "2024-05-06T14:29:01.361Z"
   },
   {
    "duration": 84,
    "start_time": "2024-05-06T14:29:01.372Z"
   },
   {
    "duration": 53,
    "start_time": "2024-05-06T14:29:01.459Z"
   },
   {
    "duration": 127,
    "start_time": "2024-05-06T14:29:01.514Z"
   },
   {
    "duration": 0,
    "start_time": "2024-05-06T14:29:01.643Z"
   },
   {
    "duration": 0,
    "start_time": "2024-05-06T14:29:01.644Z"
   },
   {
    "duration": 7,
    "start_time": "2024-05-06T14:29:38.607Z"
   },
   {
    "duration": 14,
    "start_time": "2024-05-06T14:31:31.155Z"
   },
   {
    "duration": 15,
    "start_time": "2024-05-06T14:31:39.272Z"
   },
   {
    "duration": 5,
    "start_time": "2024-05-06T14:32:57.469Z"
   },
   {
    "duration": 5,
    "start_time": "2024-05-06T14:33:06.122Z"
   },
   {
    "duration": 6,
    "start_time": "2024-05-06T14:33:17.119Z"
   },
   {
    "duration": 5,
    "start_time": "2024-05-06T14:34:39.456Z"
   },
   {
    "duration": 4,
    "start_time": "2024-05-06T14:38:48.323Z"
   },
   {
    "duration": 5,
    "start_time": "2024-05-06T14:39:11.912Z"
   },
   {
    "duration": 6,
    "start_time": "2024-05-06T14:39:21.890Z"
   },
   {
    "duration": 5,
    "start_time": "2024-05-06T14:39:27.087Z"
   },
   {
    "duration": 11,
    "start_time": "2024-05-06T14:39:37.163Z"
   },
   {
    "duration": 14,
    "start_time": "2024-05-06T14:39:41.303Z"
   },
   {
    "duration": 10,
    "start_time": "2024-05-06T14:40:26.218Z"
   },
   {
    "duration": 4,
    "start_time": "2024-05-06T14:40:29.259Z"
   },
   {
    "duration": 5,
    "start_time": "2024-05-06T14:41:32.605Z"
   },
   {
    "duration": 6230,
    "start_time": "2024-05-06T14:44:52.193Z"
   },
   {
    "duration": 687,
    "start_time": "2024-05-06T14:44:58.425Z"
   },
   {
    "duration": 737,
    "start_time": "2024-05-06T14:44:59.114Z"
   },
   {
    "duration": 69,
    "start_time": "2024-05-06T14:44:59.854Z"
   },
   {
    "duration": 41,
    "start_time": "2024-05-06T14:44:59.925Z"
   },
   {
    "duration": 68,
    "start_time": "2024-05-06T14:44:59.968Z"
   },
   {
    "duration": 98,
    "start_time": "2024-05-06T14:45:00.038Z"
   },
   {
    "duration": 9,
    "start_time": "2024-05-06T14:45:00.138Z"
   },
   {
    "duration": 80,
    "start_time": "2024-05-06T14:45:00.149Z"
   },
   {
    "duration": 70,
    "start_time": "2024-05-06T14:45:00.231Z"
   },
   {
    "duration": 208,
    "start_time": "2024-05-06T14:45:00.302Z"
   },
   {
    "duration": 120,
    "start_time": "2024-05-06T14:45:00.512Z"
   },
   {
    "duration": 103,
    "start_time": "2024-05-06T14:45:00.634Z"
   },
   {
    "duration": 89,
    "start_time": "2024-05-06T14:45:00.740Z"
   },
   {
    "duration": 469,
    "start_time": "2024-05-06T14:45:00.830Z"
   },
   {
    "duration": 0,
    "start_time": "2024-05-06T14:45:01.301Z"
   },
   {
    "duration": 0,
    "start_time": "2024-05-06T14:45:01.302Z"
   },
   {
    "duration": 17,
    "start_time": "2024-05-06T14:47:16.888Z"
   },
   {
    "duration": 16,
    "start_time": "2024-05-06T14:47:24.712Z"
   },
   {
    "duration": 4,
    "start_time": "2024-05-06T14:48:35.735Z"
   },
   {
    "duration": 12,
    "start_time": "2024-05-06T14:49:56.266Z"
   },
   {
    "duration": 9,
    "start_time": "2024-05-06T14:50:02.738Z"
   },
   {
    "duration": 5,
    "start_time": "2024-05-06T14:50:41.695Z"
   },
   {
    "duration": 11,
    "start_time": "2024-05-06T14:51:49.194Z"
   },
   {
    "duration": 4,
    "start_time": "2024-05-06T14:52:05.626Z"
   },
   {
    "duration": 53,
    "start_time": "2024-05-06T14:52:45.447Z"
   },
   {
    "duration": 309,
    "start_time": "2024-05-06T14:54:22.904Z"
   },
   {
    "duration": 7,
    "start_time": "2024-05-06T14:54:38.377Z"
   },
   {
    "duration": 4,
    "start_time": "2024-05-06T15:01:29.627Z"
   },
   {
    "duration": 16,
    "start_time": "2024-05-06T15:01:39.888Z"
   },
   {
    "duration": 11,
    "start_time": "2024-05-06T15:02:32.701Z"
   },
   {
    "duration": 16,
    "start_time": "2024-05-06T15:04:17.253Z"
   },
   {
    "duration": 3,
    "start_time": "2024-05-06T15:04:23.137Z"
   },
   {
    "duration": 21,
    "start_time": "2024-05-06T15:04:24.061Z"
   },
   {
    "duration": 16,
    "start_time": "2024-05-06T15:27:06.661Z"
   },
   {
    "duration": 41,
    "start_time": "2024-05-06T15:33:50.519Z"
   },
   {
    "duration": 18,
    "start_time": "2024-05-06T15:36:12.326Z"
   },
   {
    "duration": 17,
    "start_time": "2024-05-06T15:57:19.822Z"
   },
   {
    "duration": 26,
    "start_time": "2024-05-06T15:57:26.995Z"
   },
   {
    "duration": 26,
    "start_time": "2024-05-06T16:01:38.043Z"
   },
   {
    "duration": 35,
    "start_time": "2024-05-06T16:02:16.609Z"
   },
   {
    "duration": 14,
    "start_time": "2024-05-06T16:02:32.403Z"
   },
   {
    "duration": 14,
    "start_time": "2024-05-06T16:11:01.134Z"
   },
   {
    "duration": 5,
    "start_time": "2024-05-06T16:11:15.358Z"
   },
   {
    "duration": 9,
    "start_time": "2024-05-06T16:11:55.825Z"
   },
   {
    "duration": 8,
    "start_time": "2024-05-06T16:12:47.827Z"
   },
   {
    "duration": 7,
    "start_time": "2024-05-06T16:13:26.028Z"
   },
   {
    "duration": 10,
    "start_time": "2024-05-06T16:14:17.082Z"
   },
   {
    "duration": 8,
    "start_time": "2024-05-06T16:14:35.894Z"
   },
   {
    "duration": 6076,
    "start_time": "2024-05-06T16:18:44.606Z"
   },
   {
    "duration": 697,
    "start_time": "2024-05-06T16:18:50.684Z"
   },
   {
    "duration": 789,
    "start_time": "2024-05-06T16:18:51.383Z"
   },
   {
    "duration": 76,
    "start_time": "2024-05-06T16:18:52.174Z"
   },
   {
    "duration": 42,
    "start_time": "2024-05-06T16:18:52.252Z"
   },
   {
    "duration": 61,
    "start_time": "2024-05-06T16:18:52.296Z"
   },
   {
    "duration": 39,
    "start_time": "2024-05-06T16:18:52.359Z"
   },
   {
    "duration": 15,
    "start_time": "2024-05-06T16:18:52.399Z"
   },
   {
    "duration": 64,
    "start_time": "2024-05-06T16:18:52.415Z"
   },
   {
    "duration": 89,
    "start_time": "2024-05-06T16:18:52.481Z"
   },
   {
    "duration": 36,
    "start_time": "2024-05-06T16:18:52.572Z"
   },
   {
    "duration": 52,
    "start_time": "2024-05-06T16:18:52.609Z"
   },
   {
    "duration": 43,
    "start_time": "2024-05-06T16:18:52.663Z"
   },
   {
    "duration": 9,
    "start_time": "2024-05-06T16:18:52.708Z"
   },
   {
    "duration": 46,
    "start_time": "2024-05-06T16:18:52.718Z"
   },
   {
    "duration": 24,
    "start_time": "2024-05-06T16:18:52.766Z"
   },
   {
    "duration": 30,
    "start_time": "2024-05-06T16:18:52.792Z"
   },
   {
    "duration": 23,
    "start_time": "2024-05-06T16:18:52.824Z"
   },
   {
    "duration": 23,
    "start_time": "2024-05-06T16:18:52.849Z"
   },
   {
    "duration": 14,
    "start_time": "2024-05-06T16:18:52.874Z"
   },
   {
    "duration": 12,
    "start_time": "2024-05-06T16:18:52.889Z"
   },
   {
    "duration": 32,
    "start_time": "2024-05-06T16:18:52.902Z"
   },
   {
    "duration": 13,
    "start_time": "2024-05-06T16:18:52.935Z"
   },
   {
    "duration": 51,
    "start_time": "2024-05-06T16:18:52.950Z"
   },
   {
    "duration": 21,
    "start_time": "2024-05-06T16:18:53.003Z"
   },
   {
    "duration": 34,
    "start_time": "2024-05-06T16:18:53.025Z"
   },
   {
    "duration": 46,
    "start_time": "2024-05-06T16:18:53.061Z"
   },
   {
    "duration": 15,
    "start_time": "2024-05-06T16:18:53.111Z"
   },
   {
    "duration": 8,
    "start_time": "2024-05-06T16:18:53.127Z"
   },
   {
    "duration": 141,
    "start_time": "2024-05-06T16:18:53.137Z"
   },
   {
    "duration": 0,
    "start_time": "2024-05-06T16:18:53.280Z"
   },
   {
    "duration": 0,
    "start_time": "2024-05-06T16:34:02.222Z"
   },
   {
    "duration": 6050,
    "start_time": "2024-05-06T16:34:37.627Z"
   },
   {
    "duration": 687,
    "start_time": "2024-05-06T16:34:43.679Z"
   },
   {
    "duration": 683,
    "start_time": "2024-05-06T16:34:44.367Z"
   },
   {
    "duration": 70,
    "start_time": "2024-05-06T16:34:45.052Z"
   },
   {
    "duration": 42,
    "start_time": "2024-05-06T16:34:45.124Z"
   },
   {
    "duration": 108,
    "start_time": "2024-05-06T16:34:45.168Z"
   },
   {
    "duration": 47,
    "start_time": "2024-05-06T16:34:45.278Z"
   },
   {
    "duration": 10,
    "start_time": "2024-05-06T16:34:45.327Z"
   },
   {
    "duration": 33,
    "start_time": "2024-05-06T16:34:45.339Z"
   },
   {
    "duration": 52,
    "start_time": "2024-05-06T16:34:45.375Z"
   },
   {
    "duration": 24,
    "start_time": "2024-05-06T16:34:45.429Z"
   },
   {
    "duration": 20,
    "start_time": "2024-05-06T16:34:45.455Z"
   },
   {
    "duration": 29,
    "start_time": "2024-05-06T16:34:45.477Z"
   },
   {
    "duration": 5,
    "start_time": "2024-05-06T16:34:45.507Z"
   },
   {
    "duration": 21,
    "start_time": "2024-05-06T16:34:45.513Z"
   },
   {
    "duration": 24,
    "start_time": "2024-05-06T16:34:45.536Z"
   },
   {
    "duration": 11,
    "start_time": "2024-05-06T16:34:45.562Z"
   },
   {
    "duration": 9,
    "start_time": "2024-05-06T16:34:45.575Z"
   },
   {
    "duration": 17,
    "start_time": "2024-05-06T16:34:45.586Z"
   },
   {
    "duration": 25,
    "start_time": "2024-05-06T16:34:45.604Z"
   },
   {
    "duration": 34,
    "start_time": "2024-05-06T16:34:45.631Z"
   },
   {
    "duration": 19,
    "start_time": "2024-05-06T16:34:45.666Z"
   },
   {
    "duration": 3,
    "start_time": "2024-05-06T16:34:45.686Z"
   },
   {
    "duration": 35,
    "start_time": "2024-05-06T16:34:45.691Z"
   },
   {
    "duration": 23,
    "start_time": "2024-05-06T16:34:45.728Z"
   },
   {
    "duration": 45,
    "start_time": "2024-05-06T16:34:45.752Z"
   },
   {
    "duration": 34,
    "start_time": "2024-05-06T16:34:45.799Z"
   },
   {
    "duration": 16,
    "start_time": "2024-05-06T16:34:45.836Z"
   },
   {
    "duration": 16,
    "start_time": "2024-05-06T16:34:45.854Z"
   },
   {
    "duration": 247764,
    "start_time": "2024-05-06T16:34:45.892Z"
   },
   {
    "duration": 120,
    "start_time": "2024-05-06T16:38:53.658Z"
   },
   {
    "duration": 0,
    "start_time": "2024-05-06T16:38:53.780Z"
   },
   {
    "duration": 25385,
    "start_time": "2024-05-06T16:41:05.160Z"
   },
   {
    "duration": 73,
    "start_time": "2024-05-06T21:01:51.136Z"
   },
   {
    "duration": 50,
    "start_time": "2024-05-06T21:03:06.018Z"
   },
   {
    "duration": 21,
    "start_time": "2024-05-06T21:04:04.148Z"
   },
   {
    "duration": 6000,
    "start_time": "2024-05-06T21:06:03.125Z"
   },
   {
    "duration": 642,
    "start_time": "2024-05-06T21:06:09.128Z"
   },
   {
    "duration": 746,
    "start_time": "2024-05-06T21:06:09.771Z"
   },
   {
    "duration": 71,
    "start_time": "2024-05-06T21:06:10.519Z"
   },
   {
    "duration": 43,
    "start_time": "2024-05-06T21:06:10.592Z"
   },
   {
    "duration": 64,
    "start_time": "2024-05-06T21:06:10.637Z"
   },
   {
    "duration": 54,
    "start_time": "2024-05-06T21:06:10.703Z"
   },
   {
    "duration": 10,
    "start_time": "2024-05-06T21:06:10.759Z"
   },
   {
    "duration": 16,
    "start_time": "2024-05-06T21:06:10.770Z"
   },
   {
    "duration": 23,
    "start_time": "2024-05-06T21:06:10.790Z"
   },
   {
    "duration": 12,
    "start_time": "2024-05-06T21:06:10.815Z"
   },
   {
    "duration": 14,
    "start_time": "2024-05-06T21:06:10.829Z"
   },
   {
    "duration": 46,
    "start_time": "2024-05-06T21:06:10.844Z"
   },
   {
    "duration": 9,
    "start_time": "2024-05-06T21:06:10.892Z"
   },
   {
    "duration": 26,
    "start_time": "2024-05-06T21:06:10.903Z"
   },
   {
    "duration": 16,
    "start_time": "2024-05-06T21:06:10.930Z"
   },
   {
    "duration": 25,
    "start_time": "2024-05-06T21:06:10.948Z"
   },
   {
    "duration": 31,
    "start_time": "2024-05-06T21:06:10.975Z"
   },
   {
    "duration": 18,
    "start_time": "2024-05-06T21:06:11.007Z"
   },
   {
    "duration": 11,
    "start_time": "2024-05-06T21:06:11.026Z"
   },
   {
    "duration": 23,
    "start_time": "2024-05-06T21:06:11.039Z"
   },
   {
    "duration": 43,
    "start_time": "2024-05-06T21:06:11.063Z"
   },
   {
    "duration": 8,
    "start_time": "2024-05-06T21:06:11.108Z"
   },
   {
    "duration": 50,
    "start_time": "2024-05-06T21:06:11.118Z"
   },
   {
    "duration": 47,
    "start_time": "2024-05-06T21:06:11.170Z"
   },
   {
    "duration": 41,
    "start_time": "2024-05-06T21:06:11.219Z"
   },
   {
    "duration": 42,
    "start_time": "2024-05-06T21:06:11.262Z"
   },
   {
    "duration": 15,
    "start_time": "2024-05-06T21:06:11.307Z"
   },
   {
    "duration": 8,
    "start_time": "2024-05-06T21:06:11.324Z"
   },
   {
    "duration": 72,
    "start_time": "2024-05-06T21:06:11.334Z"
   },
   {
    "duration": 20,
    "start_time": "2024-05-06T21:06:11.407Z"
   },
   {
    "duration": 137,
    "start_time": "2024-05-06T21:07:30.015Z"
   },
   {
    "duration": 10,
    "start_time": "2024-05-06T21:10:50.789Z"
   },
   {
    "duration": 11,
    "start_time": "2024-05-06T21:11:55.984Z"
   },
   {
    "duration": 6,
    "start_time": "2024-05-06T21:12:39.924Z"
   },
   {
    "duration": 74,
    "start_time": "2024-05-06T21:13:33.928Z"
   },
   {
    "duration": 7,
    "start_time": "2024-05-06T21:13:44.349Z"
   },
   {
    "duration": 4,
    "start_time": "2024-05-06T21:14:40.931Z"
   },
   {
    "duration": 6,
    "start_time": "2024-05-06T21:15:59.023Z"
   },
   {
    "duration": 39,
    "start_time": "2024-05-06T21:16:55.084Z"
   },
   {
    "duration": 291,
    "start_time": "2024-05-06T21:17:26.091Z"
   },
   {
    "duration": 284,
    "start_time": "2024-05-06T21:17:36.153Z"
   },
   {
    "duration": 30,
    "start_time": "2024-05-06T21:17:44.810Z"
   },
   {
    "duration": 33,
    "start_time": "2024-05-06T21:19:08.187Z"
   },
   {
    "duration": 28,
    "start_time": "2024-05-06T21:19:54.401Z"
   },
   {
    "duration": 40,
    "start_time": "2024-05-06T21:20:28.656Z"
   },
   {
    "duration": 5941,
    "start_time": "2024-05-06T21:20:55.368Z"
   },
   {
    "duration": 678,
    "start_time": "2024-05-06T21:21:01.312Z"
   },
   {
    "duration": 695,
    "start_time": "2024-05-06T21:21:01.992Z"
   },
   {
    "duration": 69,
    "start_time": "2024-05-06T21:21:02.689Z"
   },
   {
    "duration": 52,
    "start_time": "2024-05-06T21:21:02.760Z"
   },
   {
    "duration": 93,
    "start_time": "2024-05-06T21:21:02.814Z"
   },
   {
    "duration": 132,
    "start_time": "2024-05-06T21:21:02.909Z"
   },
   {
    "duration": 18,
    "start_time": "2024-05-06T21:21:03.042Z"
   },
   {
    "duration": 8,
    "start_time": "2024-05-06T21:21:03.062Z"
   },
   {
    "duration": 27,
    "start_time": "2024-05-06T21:21:03.072Z"
   },
   {
    "duration": 5,
    "start_time": "2024-05-06T21:21:03.101Z"
   },
   {
    "duration": 9,
    "start_time": "2024-05-06T21:21:03.107Z"
   },
   {
    "duration": 15,
    "start_time": "2024-05-06T21:21:03.118Z"
   },
   {
    "duration": 4,
    "start_time": "2024-05-06T21:21:03.135Z"
   },
   {
    "duration": 15,
    "start_time": "2024-05-06T21:21:03.142Z"
   },
   {
    "duration": 5,
    "start_time": "2024-05-06T21:21:03.158Z"
   },
   {
    "duration": 34,
    "start_time": "2024-05-06T21:21:03.165Z"
   },
   {
    "duration": 20,
    "start_time": "2024-05-06T21:21:03.201Z"
   },
   {
    "duration": 15,
    "start_time": "2024-05-06T21:21:03.222Z"
   },
   {
    "duration": 7,
    "start_time": "2024-05-06T21:21:03.239Z"
   },
   {
    "duration": 9,
    "start_time": "2024-05-06T21:21:03.247Z"
   },
   {
    "duration": 35,
    "start_time": "2024-05-06T21:21:03.258Z"
   },
   {
    "duration": 5,
    "start_time": "2024-05-06T21:21:03.295Z"
   },
   {
    "duration": 40,
    "start_time": "2024-05-06T21:21:03.301Z"
   },
   {
    "duration": 21,
    "start_time": "2024-05-06T21:21:03.342Z"
   },
   {
    "duration": 52,
    "start_time": "2024-05-06T21:21:03.364Z"
   },
   {
    "duration": 40,
    "start_time": "2024-05-06T21:21:03.418Z"
   },
   {
    "duration": 35,
    "start_time": "2024-05-06T21:21:03.461Z"
   },
   {
    "duration": 8,
    "start_time": "2024-05-06T21:21:03.497Z"
   },
   {
    "duration": 53,
    "start_time": "2024-05-06T21:21:03.506Z"
   },
   {
    "duration": 41,
    "start_time": "2024-05-06T21:21:03.561Z"
   },
   {
    "duration": 28,
    "start_time": "2024-05-06T21:22:39.114Z"
   },
   {
    "duration": 29,
    "start_time": "2024-05-06T21:24:05.370Z"
   },
   {
    "duration": 31,
    "start_time": "2024-05-06T21:26:35.300Z"
   },
   {
    "duration": 32,
    "start_time": "2024-05-06T21:27:19.687Z"
   },
   {
    "duration": 128,
    "start_time": "2024-05-06T21:27:58.955Z"
   },
   {
    "duration": 4,
    "start_time": "2024-05-06T21:28:13.515Z"
   },
   {
    "duration": 33,
    "start_time": "2024-05-06T21:28:40.267Z"
   },
   {
    "duration": 11,
    "start_time": "2024-05-06T21:36:50.043Z"
   },
   {
    "duration": 5,
    "start_time": "2024-05-06T21:38:02.495Z"
   },
   {
    "duration": 5,
    "start_time": "2024-05-06T21:41:16.762Z"
   },
   {
    "duration": 6,
    "start_time": "2024-05-06T21:41:21.899Z"
   },
   {
    "duration": 6,
    "start_time": "2024-05-06T21:41:27.479Z"
   },
   {
    "duration": 5,
    "start_time": "2024-05-06T21:41:32.483Z"
   },
   {
    "duration": 246,
    "start_time": "2024-05-06T21:45:00.486Z"
   },
   {
    "duration": 463,
    "start_time": "2024-05-06T21:46:08.862Z"
   },
   {
    "duration": 5414,
    "start_time": "2024-05-06T21:47:09.774Z"
   },
   {
    "duration": 4850,
    "start_time": "2024-05-06T21:49:58.488Z"
   },
   {
    "duration": 110,
    "start_time": "2024-05-06T21:55:07.842Z"
   },
   {
    "duration": 176,
    "start_time": "2024-05-06T21:55:29.297Z"
   },
   {
    "duration": 108,
    "start_time": "2024-05-06T21:55:38.179Z"
   },
   {
    "duration": 487,
    "start_time": "2024-05-06T21:57:00.494Z"
   },
   {
    "duration": 334,
    "start_time": "2024-05-06T21:58:05.423Z"
   },
   {
    "duration": 331,
    "start_time": "2024-05-06T21:59:31.296Z"
   },
   {
    "duration": 193402,
    "start_time": "2024-05-06T22:07:19.664Z"
   },
   {
    "duration": 287,
    "start_time": "2024-05-06T22:26:28.513Z"
   },
   {
    "duration": 217,
    "start_time": "2024-05-06T22:28:51.248Z"
   },
   {
    "duration": 422,
    "start_time": "2024-05-06T22:39:07.754Z"
   },
   {
    "duration": 398,
    "start_time": "2024-05-06T22:45:22.556Z"
   },
   {
    "duration": 384,
    "start_time": "2024-05-06T22:45:39.368Z"
   },
   {
    "duration": 52,
    "start_time": "2024-05-07T12:14:44.301Z"
   },
   {
    "duration": 12841,
    "start_time": "2024-05-07T12:15:09.793Z"
   },
   {
    "duration": 743,
    "start_time": "2024-05-07T12:15:22.636Z"
   },
   {
    "duration": 951,
    "start_time": "2024-05-07T12:15:23.381Z"
   },
   {
    "duration": 200,
    "start_time": "2024-05-07T12:15:24.335Z"
   },
   {
    "duration": 101,
    "start_time": "2024-05-07T12:15:24.537Z"
   },
   {
    "duration": 110,
    "start_time": "2024-05-07T12:15:24.640Z"
   },
   {
    "duration": 95,
    "start_time": "2024-05-07T12:15:24.753Z"
   },
   {
    "duration": 8,
    "start_time": "2024-05-07T12:15:24.850Z"
   },
   {
    "duration": 11,
    "start_time": "2024-05-07T12:15:24.859Z"
   },
   {
    "duration": 20,
    "start_time": "2024-05-07T12:15:24.873Z"
   },
   {
    "duration": 5,
    "start_time": "2024-05-07T12:15:24.894Z"
   },
   {
    "duration": 11,
    "start_time": "2024-05-07T12:15:24.900Z"
   },
   {
    "duration": 22,
    "start_time": "2024-05-07T12:15:24.912Z"
   },
   {
    "duration": 21,
    "start_time": "2024-05-07T12:15:24.935Z"
   },
   {
    "duration": 22,
    "start_time": "2024-05-07T12:15:24.958Z"
   },
   {
    "duration": 34,
    "start_time": "2024-05-07T12:15:24.981Z"
   },
   {
    "duration": 26,
    "start_time": "2024-05-07T12:15:25.017Z"
   },
   {
    "duration": 17,
    "start_time": "2024-05-07T12:15:25.045Z"
   },
   {
    "duration": 30,
    "start_time": "2024-05-07T12:15:25.064Z"
   },
   {
    "duration": 18,
    "start_time": "2024-05-07T12:15:25.096Z"
   },
   {
    "duration": 20,
    "start_time": "2024-05-07T12:15:25.116Z"
   },
   {
    "duration": 58,
    "start_time": "2024-05-07T12:15:25.138Z"
   },
   {
    "duration": 11,
    "start_time": "2024-05-07T12:15:25.198Z"
   },
   {
    "duration": 59,
    "start_time": "2024-05-07T12:15:25.211Z"
   },
   {
    "duration": 16,
    "start_time": "2024-05-07T12:15:25.272Z"
   },
   {
    "duration": 60,
    "start_time": "2024-05-07T12:15:25.289Z"
   },
   {
    "duration": 32,
    "start_time": "2024-05-07T12:15:25.351Z"
   },
   {
    "duration": 14,
    "start_time": "2024-05-07T12:15:25.387Z"
   },
   {
    "duration": 27,
    "start_time": "2024-05-07T12:15:25.402Z"
   },
   {
    "duration": 71,
    "start_time": "2024-05-07T12:15:25.431Z"
   },
   {
    "duration": 33,
    "start_time": "2024-05-07T12:15:25.504Z"
   },
   {
    "duration": 17,
    "start_time": "2024-05-07T12:15:25.539Z"
   },
   {
    "duration": 449,
    "start_time": "2024-05-07T12:15:25.558Z"
   },
   {
    "duration": 444,
    "start_time": "2024-05-07T12:15:26.009Z"
   },
   {
    "duration": 257,
    "start_time": "2024-05-07T12:15:26.454Z"
   },
   {
    "duration": 135,
    "start_time": "2024-05-07T12:15:26.713Z"
   },
   {
    "duration": 224,
    "start_time": "2024-05-07T12:15:42.409Z"
   },
   {
    "duration": 217,
    "start_time": "2024-05-07T12:15:49.894Z"
   },
   {
    "duration": 216,
    "start_time": "2024-05-07T12:15:56.646Z"
   },
   {
    "duration": 307,
    "start_time": "2024-05-07T12:22:00.529Z"
   },
   {
    "duration": 412,
    "start_time": "2024-05-07T12:24:30.567Z"
   },
   {
    "duration": 411,
    "start_time": "2024-05-07T12:25:58.840Z"
   },
   {
    "duration": 416,
    "start_time": "2024-05-07T12:26:15.604Z"
   },
   {
    "duration": 451,
    "start_time": "2024-05-07T12:26:27.806Z"
   },
   {
    "duration": 418,
    "start_time": "2024-05-07T12:27:08.469Z"
   },
   {
    "duration": 330,
    "start_time": "2024-05-07T12:27:24.800Z"
   },
   {
    "duration": 25,
    "start_time": "2024-05-07T12:49:40.473Z"
   },
   {
    "duration": 5,
    "start_time": "2024-05-07T12:51:51.034Z"
   },
   {
    "duration": 7913,
    "start_time": "2024-05-07T12:57:12.362Z"
   },
   {
    "duration": 755,
    "start_time": "2024-05-07T12:57:20.278Z"
   },
   {
    "duration": 691,
    "start_time": "2024-05-07T12:57:21.035Z"
   },
   {
    "duration": 0,
    "start_time": "2024-05-07T12:57:21.729Z"
   },
   {
    "duration": 0,
    "start_time": "2024-05-07T12:57:21.730Z"
   },
   {
    "duration": 0,
    "start_time": "2024-05-07T12:57:21.731Z"
   },
   {
    "duration": 0,
    "start_time": "2024-05-07T12:57:21.733Z"
   },
   {
    "duration": 0,
    "start_time": "2024-05-07T12:57:21.734Z"
   },
   {
    "duration": 0,
    "start_time": "2024-05-07T12:57:21.735Z"
   },
   {
    "duration": 0,
    "start_time": "2024-05-07T12:57:21.736Z"
   },
   {
    "duration": 0,
    "start_time": "2024-05-07T12:57:21.737Z"
   },
   {
    "duration": 0,
    "start_time": "2024-05-07T12:57:21.738Z"
   },
   {
    "duration": 0,
    "start_time": "2024-05-07T12:57:21.739Z"
   },
   {
    "duration": 0,
    "start_time": "2024-05-07T12:57:21.740Z"
   },
   {
    "duration": 0,
    "start_time": "2024-05-07T12:57:21.741Z"
   },
   {
    "duration": 0,
    "start_time": "2024-05-07T12:57:21.742Z"
   },
   {
    "duration": 0,
    "start_time": "2024-05-07T12:57:21.743Z"
   },
   {
    "duration": 0,
    "start_time": "2024-05-07T12:57:21.744Z"
   },
   {
    "duration": 0,
    "start_time": "2024-05-07T12:57:21.773Z"
   },
   {
    "duration": 0,
    "start_time": "2024-05-07T12:57:21.774Z"
   },
   {
    "duration": 0,
    "start_time": "2024-05-07T12:57:21.776Z"
   },
   {
    "duration": 1,
    "start_time": "2024-05-07T12:57:21.776Z"
   },
   {
    "duration": 0,
    "start_time": "2024-05-07T12:57:21.778Z"
   },
   {
    "duration": 0,
    "start_time": "2024-05-07T12:57:21.779Z"
   },
   {
    "duration": 0,
    "start_time": "2024-05-07T12:57:21.780Z"
   },
   {
    "duration": 0,
    "start_time": "2024-05-07T12:57:21.781Z"
   },
   {
    "duration": 0,
    "start_time": "2024-05-07T12:57:21.782Z"
   },
   {
    "duration": 0,
    "start_time": "2024-05-07T12:57:21.783Z"
   },
   {
    "duration": 0,
    "start_time": "2024-05-07T12:57:21.785Z"
   },
   {
    "duration": 0,
    "start_time": "2024-05-07T12:57:21.786Z"
   },
   {
    "duration": 0,
    "start_time": "2024-05-07T12:57:21.787Z"
   },
   {
    "duration": 0,
    "start_time": "2024-05-07T12:57:21.788Z"
   },
   {
    "duration": 0,
    "start_time": "2024-05-07T12:57:21.790Z"
   },
   {
    "duration": 0,
    "start_time": "2024-05-07T12:57:21.791Z"
   },
   {
    "duration": 0,
    "start_time": "2024-05-07T12:57:21.792Z"
   },
   {
    "duration": 0,
    "start_time": "2024-05-07T12:57:21.793Z"
   },
   {
    "duration": 0,
    "start_time": "2024-05-07T12:57:21.794Z"
   },
   {
    "duration": 0,
    "start_time": "2024-05-07T12:57:21.795Z"
   },
   {
    "duration": 9753,
    "start_time": "2024-05-07T12:59:10.963Z"
   },
   {
    "duration": 8897,
    "start_time": "2024-05-07T12:59:36.297Z"
   },
   {
    "duration": 207,
    "start_time": "2024-05-07T12:59:51.348Z"
   },
   {
    "duration": 9139,
    "start_time": "2024-05-07T12:59:59.273Z"
   },
   {
    "duration": 711,
    "start_time": "2024-05-07T13:00:08.414Z"
   },
   {
    "duration": 731,
    "start_time": "2024-05-07T13:00:09.126Z"
   },
   {
    "duration": 73,
    "start_time": "2024-05-07T13:00:09.860Z"
   },
   {
    "duration": 45,
    "start_time": "2024-05-07T13:00:09.934Z"
   },
   {
    "duration": 79,
    "start_time": "2024-05-07T13:00:09.981Z"
   },
   {
    "duration": 42,
    "start_time": "2024-05-07T13:00:10.062Z"
   },
   {
    "duration": 13,
    "start_time": "2024-05-07T13:00:10.107Z"
   },
   {
    "duration": 20,
    "start_time": "2024-05-07T13:00:10.122Z"
   },
   {
    "duration": 17,
    "start_time": "2024-05-07T13:00:10.146Z"
   },
   {
    "duration": 10,
    "start_time": "2024-05-07T13:00:10.165Z"
   },
   {
    "duration": 8,
    "start_time": "2024-05-07T13:00:10.177Z"
   },
   {
    "duration": 23,
    "start_time": "2024-05-07T13:00:10.187Z"
   },
   {
    "duration": 5,
    "start_time": "2024-05-07T13:00:10.213Z"
   },
   {
    "duration": 25,
    "start_time": "2024-05-07T13:00:10.220Z"
   },
   {
    "duration": 4,
    "start_time": "2024-05-07T13:00:10.274Z"
   },
   {
    "duration": 15,
    "start_time": "2024-05-07T13:00:10.279Z"
   },
   {
    "duration": 18,
    "start_time": "2024-05-07T13:00:10.296Z"
   },
   {
    "duration": 15,
    "start_time": "2024-05-07T13:00:10.316Z"
   },
   {
    "duration": 24,
    "start_time": "2024-05-07T13:00:10.332Z"
   },
   {
    "duration": 9,
    "start_time": "2024-05-07T13:00:10.358Z"
   },
   {
    "duration": 17,
    "start_time": "2024-05-07T13:00:10.372Z"
   },
   {
    "duration": 3,
    "start_time": "2024-05-07T13:00:10.390Z"
   },
   {
    "duration": 39,
    "start_time": "2024-05-07T13:00:10.394Z"
   },
   {
    "duration": 44,
    "start_time": "2024-05-07T13:00:10.435Z"
   },
   {
    "duration": 34,
    "start_time": "2024-05-07T13:00:10.480Z"
   },
   {
    "duration": 39,
    "start_time": "2024-05-07T13:00:10.516Z"
   },
   {
    "duration": 16,
    "start_time": "2024-05-07T13:00:10.572Z"
   },
   {
    "duration": 8,
    "start_time": "2024-05-07T13:00:10.589Z"
   },
   {
    "duration": 74,
    "start_time": "2024-05-07T13:00:10.599Z"
   },
   {
    "duration": 35,
    "start_time": "2024-05-07T13:00:10.674Z"
   },
   {
    "duration": 10,
    "start_time": "2024-05-07T13:00:10.710Z"
   },
   {
    "duration": 363,
    "start_time": "2024-05-07T13:00:10.721Z"
   },
   {
    "duration": 542,
    "start_time": "2024-05-07T13:00:11.085Z"
   },
   {
    "duration": 229,
    "start_time": "2024-05-07T13:00:11.629Z"
   },
   {
    "duration": 5,
    "start_time": "2024-05-07T13:00:11.859Z"
   },
   {
    "duration": 140,
    "start_time": "2024-05-07T13:00:11.874Z"
   },
   {
    "duration": 0,
    "start_time": "2024-05-07T13:00:12.016Z"
   },
   {
    "duration": 16904,
    "start_time": "2024-05-07T13:02:17.764Z"
   },
   {
    "duration": 1183,
    "start_time": "2024-05-07T13:11:26.250Z"
   },
   {
    "duration": 3730,
    "start_time": "2024-05-07T13:11:49.116Z"
   },
   {
    "duration": 3651,
    "start_time": "2024-05-07T13:12:11.425Z"
   },
   {
    "duration": 3771,
    "start_time": "2024-05-07T13:12:26.833Z"
   },
   {
    "duration": 3648,
    "start_time": "2024-05-07T13:14:13.651Z"
   },
   {
    "duration": 12,
    "start_time": "2024-05-07T13:24:53.191Z"
   },
   {
    "duration": 111,
    "start_time": "2024-05-07T13:25:03.300Z"
   },
   {
    "duration": 123,
    "start_time": "2024-05-07T13:34:51.065Z"
   },
   {
    "duration": 151,
    "start_time": "2024-05-07T13:35:35.242Z"
   },
   {
    "duration": 20,
    "start_time": "2024-05-07T13:38:40.326Z"
   },
   {
    "duration": 9018,
    "start_time": "2024-05-07T13:38:57.988Z"
   },
   {
    "duration": 691,
    "start_time": "2024-05-07T13:39:07.008Z"
   },
   {
    "duration": 757,
    "start_time": "2024-05-07T13:39:07.700Z"
   },
   {
    "duration": 72,
    "start_time": "2024-05-07T13:39:08.459Z"
   },
   {
    "duration": 42,
    "start_time": "2024-05-07T13:39:08.533Z"
   },
   {
    "duration": 63,
    "start_time": "2024-05-07T13:39:08.576Z"
   },
   {
    "duration": 42,
    "start_time": "2024-05-07T13:39:08.640Z"
   },
   {
    "duration": 9,
    "start_time": "2024-05-07T13:39:08.684Z"
   },
   {
    "duration": 27,
    "start_time": "2024-05-07T13:39:08.695Z"
   },
   {
    "duration": 41,
    "start_time": "2024-05-07T13:39:08.726Z"
   },
   {
    "duration": 6,
    "start_time": "2024-05-07T13:39:08.768Z"
   },
   {
    "duration": 6,
    "start_time": "2024-05-07T13:39:08.776Z"
   },
   {
    "duration": 16,
    "start_time": "2024-05-07T13:39:08.784Z"
   },
   {
    "duration": 5,
    "start_time": "2024-05-07T13:39:08.802Z"
   },
   {
    "duration": 14,
    "start_time": "2024-05-07T13:39:08.809Z"
   },
   {
    "duration": 16,
    "start_time": "2024-05-07T13:39:08.824Z"
   },
   {
    "duration": 32,
    "start_time": "2024-05-07T13:39:08.842Z"
   },
   {
    "duration": 9,
    "start_time": "2024-05-07T13:39:08.876Z"
   },
   {
    "duration": 16,
    "start_time": "2024-05-07T13:39:08.887Z"
   },
   {
    "duration": 8,
    "start_time": "2024-05-07T13:39:08.905Z"
   },
   {
    "duration": 34,
    "start_time": "2024-05-07T13:39:08.915Z"
   },
   {
    "duration": 38,
    "start_time": "2024-05-07T13:39:08.951Z"
   },
   {
    "duration": 31,
    "start_time": "2024-05-07T13:39:08.991Z"
   },
   {
    "duration": 62,
    "start_time": "2024-05-07T13:39:09.024Z"
   },
   {
    "duration": 18,
    "start_time": "2024-05-07T13:39:09.088Z"
   },
   {
    "duration": 37,
    "start_time": "2024-05-07T13:39:09.108Z"
   },
   {
    "duration": 50,
    "start_time": "2024-05-07T13:39:09.146Z"
   },
   {
    "duration": 14,
    "start_time": "2024-05-07T13:39:09.200Z"
   },
   {
    "duration": 9,
    "start_time": "2024-05-07T13:39:09.215Z"
   },
   {
    "duration": 73,
    "start_time": "2024-05-07T13:39:09.225Z"
   },
   {
    "duration": 33,
    "start_time": "2024-05-07T13:39:09.299Z"
   },
   {
    "duration": 9,
    "start_time": "2024-05-07T13:39:09.334Z"
   },
   {
    "duration": 355,
    "start_time": "2024-05-07T13:39:09.345Z"
   },
   {
    "duration": 515,
    "start_time": "2024-05-07T13:39:09.702Z"
   },
   {
    "duration": 245,
    "start_time": "2024-05-07T13:39:10.219Z"
   },
   {
    "duration": 9,
    "start_time": "2024-05-07T13:39:10.466Z"
   },
   {
    "duration": 3673,
    "start_time": "2024-05-07T13:39:10.477Z"
   },
   {
    "duration": 28,
    "start_time": "2024-05-07T13:39:14.152Z"
   },
   {
    "duration": 162,
    "start_time": "2024-05-07T13:39:14.182Z"
   },
   {
    "duration": 0,
    "start_time": "2024-05-07T13:39:14.346Z"
   },
   {
    "duration": 9264,
    "start_time": "2024-05-07T13:39:38.006Z"
   },
   {
    "duration": 712,
    "start_time": "2024-05-07T13:39:47.273Z"
   },
   {
    "duration": 739,
    "start_time": "2024-05-07T13:39:47.987Z"
   },
   {
    "duration": 70,
    "start_time": "2024-05-07T13:39:48.728Z"
   },
   {
    "duration": 43,
    "start_time": "2024-05-07T13:39:48.800Z"
   },
   {
    "duration": 86,
    "start_time": "2024-05-07T13:39:48.845Z"
   },
   {
    "duration": 40,
    "start_time": "2024-05-07T13:39:48.934Z"
   },
   {
    "duration": 7,
    "start_time": "2024-05-07T13:39:48.976Z"
   },
   {
    "duration": 18,
    "start_time": "2024-05-07T13:39:48.985Z"
   },
   {
    "duration": 17,
    "start_time": "2024-05-07T13:39:49.005Z"
   },
   {
    "duration": 4,
    "start_time": "2024-05-07T13:39:49.024Z"
   },
   {
    "duration": 19,
    "start_time": "2024-05-07T13:39:49.030Z"
   },
   {
    "duration": 32,
    "start_time": "2024-05-07T13:39:49.051Z"
   },
   {
    "duration": 5,
    "start_time": "2024-05-07T13:39:49.084Z"
   },
   {
    "duration": 22,
    "start_time": "2024-05-07T13:39:49.091Z"
   },
   {
    "duration": 13,
    "start_time": "2024-05-07T13:39:49.115Z"
   },
   {
    "duration": 16,
    "start_time": "2024-05-07T13:39:49.130Z"
   },
   {
    "duration": 19,
    "start_time": "2024-05-07T13:39:49.148Z"
   },
   {
    "duration": 17,
    "start_time": "2024-05-07T13:39:49.169Z"
   },
   {
    "duration": 31,
    "start_time": "2024-05-07T13:39:49.187Z"
   },
   {
    "duration": 16,
    "start_time": "2024-05-07T13:39:49.219Z"
   },
   {
    "duration": 21,
    "start_time": "2024-05-07T13:39:49.238Z"
   },
   {
    "duration": 14,
    "start_time": "2024-05-07T13:39:49.261Z"
   },
   {
    "duration": 44,
    "start_time": "2024-05-07T13:39:49.277Z"
   },
   {
    "duration": 15,
    "start_time": "2024-05-07T13:39:49.323Z"
   },
   {
    "duration": 33,
    "start_time": "2024-05-07T13:39:49.340Z"
   },
   {
    "duration": 35,
    "start_time": "2024-05-07T13:39:49.374Z"
   },
   {
    "duration": 15,
    "start_time": "2024-05-07T13:39:49.412Z"
   },
   {
    "duration": 9,
    "start_time": "2024-05-07T13:39:49.429Z"
   },
   {
    "duration": 77,
    "start_time": "2024-05-07T13:39:49.439Z"
   },
   {
    "duration": 35,
    "start_time": "2024-05-07T13:39:49.518Z"
   },
   {
    "duration": 10,
    "start_time": "2024-05-07T13:39:49.572Z"
   },
   {
    "duration": 350,
    "start_time": "2024-05-07T13:39:49.584Z"
   },
   {
    "duration": 559,
    "start_time": "2024-05-07T13:39:49.936Z"
   },
   {
    "duration": 242,
    "start_time": "2024-05-07T13:39:50.497Z"
   },
   {
    "duration": 4,
    "start_time": "2024-05-07T13:39:50.741Z"
   },
   {
    "duration": 3740,
    "start_time": "2024-05-07T13:39:50.746Z"
   },
   {
    "duration": 28,
    "start_time": "2024-05-07T13:39:54.488Z"
   },
   {
    "duration": 165,
    "start_time": "2024-05-07T13:39:54.518Z"
   },
   {
    "duration": 0,
    "start_time": "2024-05-07T13:39:54.685Z"
   },
   {
    "duration": 0,
    "start_time": "2024-05-07T13:39:54.687Z"
   },
   {
    "duration": 0,
    "start_time": "2024-05-07T13:39:54.688Z"
   },
   {
    "duration": 22,
    "start_time": "2024-05-07T13:43:35.356Z"
   },
   {
    "duration": 32,
    "start_time": "2024-05-07T13:44:15.639Z"
   },
   {
    "duration": 31,
    "start_time": "2024-05-07T13:44:47.558Z"
   },
   {
    "duration": 2794,
    "start_time": "2024-05-07T13:45:37.413Z"
   },
   {
    "duration": 4,
    "start_time": "2024-05-07T13:51:08.859Z"
   },
   {
    "duration": 5,
    "start_time": "2024-05-07T15:53:20.041Z"
   },
   {
    "duration": 16,
    "start_time": "2024-05-07T16:13:12.087Z"
   },
   {
    "duration": 8862,
    "start_time": "2024-05-07T16:13:23.544Z"
   },
   {
    "duration": 682,
    "start_time": "2024-05-07T16:13:32.408Z"
   },
   {
    "duration": 804,
    "start_time": "2024-05-07T16:13:33.091Z"
   },
   {
    "duration": 72,
    "start_time": "2024-05-07T16:13:33.898Z"
   },
   {
    "duration": 47,
    "start_time": "2024-05-07T16:13:33.971Z"
   },
   {
    "duration": 64,
    "start_time": "2024-05-07T16:13:34.019Z"
   },
   {
    "duration": 41,
    "start_time": "2024-05-07T16:13:34.085Z"
   },
   {
    "duration": 8,
    "start_time": "2024-05-07T16:13:34.128Z"
   },
   {
    "duration": 11,
    "start_time": "2024-05-07T16:13:34.138Z"
   },
   {
    "duration": 37,
    "start_time": "2024-05-07T16:13:34.153Z"
   },
   {
    "duration": 6,
    "start_time": "2024-05-07T16:13:34.192Z"
   },
   {
    "duration": 20,
    "start_time": "2024-05-07T16:13:34.200Z"
   },
   {
    "duration": 51,
    "start_time": "2024-05-07T16:13:34.222Z"
   },
   {
    "duration": 18,
    "start_time": "2024-05-07T16:13:34.275Z"
   },
   {
    "duration": 32,
    "start_time": "2024-05-07T16:13:34.294Z"
   },
   {
    "duration": 16,
    "start_time": "2024-05-07T16:13:34.328Z"
   },
   {
    "duration": 22,
    "start_time": "2024-05-07T16:13:34.346Z"
   },
   {
    "duration": 20,
    "start_time": "2024-05-07T16:13:34.369Z"
   },
   {
    "duration": 36,
    "start_time": "2024-05-07T16:13:34.391Z"
   },
   {
    "duration": 21,
    "start_time": "2024-05-07T16:13:34.429Z"
   },
   {
    "duration": 21,
    "start_time": "2024-05-07T16:13:34.452Z"
   },
   {
    "duration": 66,
    "start_time": "2024-05-07T16:13:34.475Z"
   },
   {
    "duration": 4,
    "start_time": "2024-05-07T16:13:34.543Z"
   },
   {
    "duration": 86,
    "start_time": "2024-05-07T16:13:34.548Z"
   },
   {
    "duration": 22,
    "start_time": "2024-05-07T16:13:34.637Z"
   },
   {
    "duration": 25,
    "start_time": "2024-05-07T16:13:34.661Z"
   },
   {
    "duration": 36,
    "start_time": "2024-05-07T16:13:34.688Z"
   },
   {
    "duration": 14,
    "start_time": "2024-05-07T16:13:34.727Z"
   },
   {
    "duration": 34,
    "start_time": "2024-05-07T16:13:34.743Z"
   },
   {
    "duration": 76,
    "start_time": "2024-05-07T16:13:34.779Z"
   },
   {
    "duration": 34,
    "start_time": "2024-05-07T16:13:34.857Z"
   },
   {
    "duration": 8,
    "start_time": "2024-05-07T16:13:34.893Z"
   },
   {
    "duration": 360,
    "start_time": "2024-05-07T16:13:34.903Z"
   },
   {
    "duration": 510,
    "start_time": "2024-05-07T16:13:35.265Z"
   },
   {
    "duration": 233,
    "start_time": "2024-05-07T16:13:35.778Z"
   },
   {
    "duration": 3869,
    "start_time": "2024-05-07T16:13:36.012Z"
   },
   {
    "duration": 4,
    "start_time": "2024-05-07T16:13:39.883Z"
   },
   {
    "duration": 25,
    "start_time": "2024-05-07T16:13:39.889Z"
   },
   {
    "duration": 150,
    "start_time": "2024-05-07T16:13:39.916Z"
   },
   {
    "duration": 49,
    "start_time": "2024-05-07T16:14:54.833Z"
   },
   {
    "duration": 8912,
    "start_time": "2024-05-07T16:15:43.963Z"
   },
   {
    "duration": 721,
    "start_time": "2024-05-07T16:15:52.877Z"
   },
   {
    "duration": 748,
    "start_time": "2024-05-07T16:15:53.600Z"
   },
   {
    "duration": 84,
    "start_time": "2024-05-07T16:15:54.350Z"
   },
   {
    "duration": 46,
    "start_time": "2024-05-07T16:15:54.436Z"
   },
   {
    "duration": 73,
    "start_time": "2024-05-07T16:15:54.484Z"
   },
   {
    "duration": 48,
    "start_time": "2024-05-07T16:15:54.559Z"
   },
   {
    "duration": 16,
    "start_time": "2024-05-07T16:15:54.609Z"
   },
   {
    "duration": 13,
    "start_time": "2024-05-07T16:15:54.627Z"
   },
   {
    "duration": 16,
    "start_time": "2024-05-07T16:15:54.643Z"
   },
   {
    "duration": 22,
    "start_time": "2024-05-07T16:15:54.660Z"
   },
   {
    "duration": 9,
    "start_time": "2024-05-07T16:15:54.684Z"
   },
   {
    "duration": 22,
    "start_time": "2024-05-07T16:15:54.694Z"
   },
   {
    "duration": 4,
    "start_time": "2024-05-07T16:15:54.718Z"
   },
   {
    "duration": 14,
    "start_time": "2024-05-07T16:15:54.723Z"
   },
   {
    "duration": 7,
    "start_time": "2024-05-07T16:15:54.738Z"
   },
   {
    "duration": 26,
    "start_time": "2024-05-07T16:15:54.747Z"
   },
   {
    "duration": 4,
    "start_time": "2024-05-07T16:15:54.775Z"
   },
   {
    "duration": 13,
    "start_time": "2024-05-07T16:15:54.780Z"
   },
   {
    "duration": 5,
    "start_time": "2024-05-07T16:15:54.795Z"
   },
   {
    "duration": 8,
    "start_time": "2024-05-07T16:15:54.802Z"
   },
   {
    "duration": 29,
    "start_time": "2024-05-07T16:15:54.812Z"
   },
   {
    "duration": 3,
    "start_time": "2024-05-07T16:15:54.843Z"
   },
   {
    "duration": 53,
    "start_time": "2024-05-07T16:15:54.848Z"
   },
   {
    "duration": 16,
    "start_time": "2024-05-07T16:15:54.903Z"
   },
   {
    "duration": 53,
    "start_time": "2024-05-07T16:15:54.920Z"
   },
   {
    "duration": 36,
    "start_time": "2024-05-07T16:15:54.975Z"
   },
   {
    "duration": 15,
    "start_time": "2024-05-07T16:15:55.015Z"
   },
   {
    "duration": 9,
    "start_time": "2024-05-07T16:15:55.032Z"
   },
   {
    "duration": 50,
    "start_time": "2024-05-07T16:15:55.072Z"
   },
   {
    "duration": 50,
    "start_time": "2024-05-07T16:15:55.124Z"
   },
   {
    "duration": 9,
    "start_time": "2024-05-07T16:15:55.175Z"
   },
   {
    "duration": 344,
    "start_time": "2024-05-07T16:15:55.186Z"
   },
   {
    "duration": 556,
    "start_time": "2024-05-07T16:15:55.532Z"
   },
   {
    "duration": 243,
    "start_time": "2024-05-07T16:15:56.090Z"
   },
   {
    "duration": 3667,
    "start_time": "2024-05-07T16:15:56.335Z"
   },
   {
    "duration": 5,
    "start_time": "2024-05-07T16:16:00.003Z"
   },
   {
    "duration": 87,
    "start_time": "2024-05-07T16:16:00.009Z"
   },
   {
    "duration": 547,
    "start_time": "2024-05-07T16:16:00.098Z"
   },
   {
    "duration": 131,
    "start_time": "2024-05-07T16:18:07.108Z"
   },
   {
    "duration": 10030,
    "start_time": "2024-05-07T16:18:24.875Z"
   },
   {
    "duration": 643,
    "start_time": "2024-05-07T16:18:34.908Z"
   },
   {
    "duration": 737,
    "start_time": "2024-05-07T16:18:35.553Z"
   },
   {
    "duration": 72,
    "start_time": "2024-05-07T16:18:36.292Z"
   },
   {
    "duration": 43,
    "start_time": "2024-05-07T16:18:36.365Z"
   },
   {
    "duration": 63,
    "start_time": "2024-05-07T16:18:36.409Z"
   },
   {
    "duration": 41,
    "start_time": "2024-05-07T16:18:36.473Z"
   },
   {
    "duration": 8,
    "start_time": "2024-05-07T16:18:36.515Z"
   },
   {
    "duration": 60,
    "start_time": "2024-05-07T16:18:36.525Z"
   },
   {
    "duration": 45,
    "start_time": "2024-05-07T16:18:36.587Z"
   },
   {
    "duration": 6,
    "start_time": "2024-05-07T16:18:36.634Z"
   },
   {
    "duration": 22,
    "start_time": "2024-05-07T16:18:36.641Z"
   },
   {
    "duration": 26,
    "start_time": "2024-05-07T16:18:36.665Z"
   },
   {
    "duration": 4,
    "start_time": "2024-05-07T16:18:36.693Z"
   },
   {
    "duration": 31,
    "start_time": "2024-05-07T16:18:36.698Z"
   },
   {
    "duration": 15,
    "start_time": "2024-05-07T16:18:36.731Z"
   },
   {
    "duration": 18,
    "start_time": "2024-05-07T16:18:36.748Z"
   },
   {
    "duration": 9,
    "start_time": "2024-05-07T16:18:36.768Z"
   },
   {
    "duration": 23,
    "start_time": "2024-05-07T16:18:36.779Z"
   },
   {
    "duration": 16,
    "start_time": "2024-05-07T16:18:36.803Z"
   },
   {
    "duration": 8,
    "start_time": "2024-05-07T16:18:36.821Z"
   },
   {
    "duration": 18,
    "start_time": "2024-05-07T16:18:36.831Z"
   },
   {
    "duration": 4,
    "start_time": "2024-05-07T16:18:36.851Z"
   },
   {
    "duration": 58,
    "start_time": "2024-05-07T16:18:36.857Z"
   },
   {
    "duration": 19,
    "start_time": "2024-05-07T16:18:36.917Z"
   },
   {
    "duration": 45,
    "start_time": "2024-05-07T16:18:36.938Z"
   },
   {
    "duration": 36,
    "start_time": "2024-05-07T16:18:36.985Z"
   },
   {
    "duration": 18,
    "start_time": "2024-05-07T16:18:37.025Z"
   },
   {
    "duration": 35,
    "start_time": "2024-05-07T16:18:37.045Z"
   },
   {
    "duration": 64,
    "start_time": "2024-05-07T16:18:37.082Z"
   },
   {
    "duration": 42,
    "start_time": "2024-05-07T16:18:37.148Z"
   },
   {
    "duration": 12,
    "start_time": "2024-05-07T16:18:37.192Z"
   },
   {
    "duration": 352,
    "start_time": "2024-05-07T16:18:37.206Z"
   },
   {
    "duration": 488,
    "start_time": "2024-05-07T16:18:37.559Z"
   },
   {
    "duration": 216,
    "start_time": "2024-05-07T16:18:38.049Z"
   },
   {
    "duration": 3587,
    "start_time": "2024-05-07T16:18:38.267Z"
   },
   {
    "duration": 4,
    "start_time": "2024-05-07T16:18:41.856Z"
   },
   {
    "duration": 41,
    "start_time": "2024-05-07T16:18:41.861Z"
   },
   {
    "duration": 51,
    "start_time": "2024-05-07T16:18:41.903Z"
   },
   {
    "duration": 473,
    "start_time": "2024-05-07T16:18:41.955Z"
   },
   {
    "duration": 146,
    "start_time": "2024-05-07T16:31:55.402Z"
   },
   {
    "duration": 9198,
    "start_time": "2024-05-07T16:32:04.495Z"
   },
   {
    "duration": 678,
    "start_time": "2024-05-07T16:32:13.695Z"
   },
   {
    "duration": 1218,
    "start_time": "2024-05-07T16:32:14.375Z"
   },
   {
    "duration": 71,
    "start_time": "2024-05-07T16:32:15.595Z"
   },
   {
    "duration": 44,
    "start_time": "2024-05-07T16:32:15.668Z"
   },
   {
    "duration": 74,
    "start_time": "2024-05-07T16:32:15.714Z"
   },
   {
    "duration": 40,
    "start_time": "2024-05-07T16:32:15.789Z"
   },
   {
    "duration": 8,
    "start_time": "2024-05-07T16:32:15.831Z"
   },
   {
    "duration": 20,
    "start_time": "2024-05-07T16:32:15.840Z"
   },
   {
    "duration": 29,
    "start_time": "2024-05-07T16:32:15.863Z"
   },
   {
    "duration": 6,
    "start_time": "2024-05-07T16:32:15.893Z"
   },
   {
    "duration": 18,
    "start_time": "2024-05-07T16:32:15.900Z"
   },
   {
    "duration": 25,
    "start_time": "2024-05-07T16:32:15.919Z"
   },
   {
    "duration": 4,
    "start_time": "2024-05-07T16:32:15.946Z"
   },
   {
    "duration": 16,
    "start_time": "2024-05-07T16:32:15.952Z"
   },
   {
    "duration": 10,
    "start_time": "2024-05-07T16:32:15.969Z"
   },
   {
    "duration": 18,
    "start_time": "2024-05-07T16:32:15.981Z"
   },
   {
    "duration": 6,
    "start_time": "2024-05-07T16:32:16.001Z"
   },
   {
    "duration": 12,
    "start_time": "2024-05-07T16:32:16.008Z"
   },
   {
    "duration": 6,
    "start_time": "2024-05-07T16:32:16.021Z"
   },
   {
    "duration": 9,
    "start_time": "2024-05-07T16:32:16.028Z"
   },
   {
    "duration": 61,
    "start_time": "2024-05-07T16:32:16.039Z"
   },
   {
    "duration": 23,
    "start_time": "2024-05-07T16:32:16.102Z"
   },
   {
    "duration": 68,
    "start_time": "2024-05-07T16:32:16.127Z"
   },
   {
    "duration": 20,
    "start_time": "2024-05-07T16:32:16.197Z"
   },
   {
    "duration": 47,
    "start_time": "2024-05-07T16:32:16.219Z"
   },
   {
    "duration": 47,
    "start_time": "2024-05-07T16:32:16.267Z"
   },
   {
    "duration": 14,
    "start_time": "2024-05-07T16:32:16.318Z"
   },
   {
    "duration": 10,
    "start_time": "2024-05-07T16:32:16.334Z"
   },
   {
    "duration": 74,
    "start_time": "2024-05-07T16:32:16.346Z"
   },
   {
    "duration": 34,
    "start_time": "2024-05-07T16:32:16.422Z"
   },
   {
    "duration": 14,
    "start_time": "2024-05-07T16:32:16.473Z"
   },
   {
    "duration": 376,
    "start_time": "2024-05-07T16:32:16.490Z"
   },
   {
    "duration": 534,
    "start_time": "2024-05-07T16:32:16.868Z"
   },
   {
    "duration": 239,
    "start_time": "2024-05-07T16:32:17.404Z"
   },
   {
    "duration": 3817,
    "start_time": "2024-05-07T16:32:17.645Z"
   },
   {
    "duration": 5,
    "start_time": "2024-05-07T16:32:21.464Z"
   },
   {
    "duration": 34,
    "start_time": "2024-05-07T16:32:21.471Z"
   },
   {
    "duration": 170,
    "start_time": "2024-05-07T16:32:21.506Z"
   },
   {
    "duration": 25,
    "start_time": "2024-05-07T16:36:18.873Z"
   },
   {
    "duration": 9409,
    "start_time": "2024-05-07T16:36:33.647Z"
   },
   {
    "duration": 814,
    "start_time": "2024-05-07T16:36:43.059Z"
   },
   {
    "duration": 769,
    "start_time": "2024-05-07T16:36:43.875Z"
   },
   {
    "duration": 75,
    "start_time": "2024-05-07T16:36:44.646Z"
   },
   {
    "duration": 45,
    "start_time": "2024-05-07T16:36:44.722Z"
   },
   {
    "duration": 68,
    "start_time": "2024-05-07T16:36:44.769Z"
   },
   {
    "duration": 44,
    "start_time": "2024-05-07T16:36:44.839Z"
   },
   {
    "duration": 10,
    "start_time": "2024-05-07T16:36:44.886Z"
   },
   {
    "duration": 23,
    "start_time": "2024-05-07T16:36:44.897Z"
   },
   {
    "duration": 16,
    "start_time": "2024-05-07T16:36:44.923Z"
   },
   {
    "duration": 5,
    "start_time": "2024-05-07T16:36:44.941Z"
   },
   {
    "duration": 6,
    "start_time": "2024-05-07T16:36:44.947Z"
   },
   {
    "duration": 36,
    "start_time": "2024-05-07T16:36:44.954Z"
   },
   {
    "duration": 6,
    "start_time": "2024-05-07T16:36:44.992Z"
   },
   {
    "duration": 31,
    "start_time": "2024-05-07T16:36:45.000Z"
   },
   {
    "duration": 31,
    "start_time": "2024-05-07T16:36:45.033Z"
   },
   {
    "duration": 38,
    "start_time": "2024-05-07T16:36:45.066Z"
   },
   {
    "duration": 33,
    "start_time": "2024-05-07T16:36:45.106Z"
   },
   {
    "duration": 35,
    "start_time": "2024-05-07T16:36:45.141Z"
   },
   {
    "duration": 10,
    "start_time": "2024-05-07T16:36:45.178Z"
   },
   {
    "duration": 64,
    "start_time": "2024-05-07T16:36:45.190Z"
   },
   {
    "duration": 66,
    "start_time": "2024-05-07T16:36:45.255Z"
   },
   {
    "duration": 13,
    "start_time": "2024-05-07T16:36:45.322Z"
   },
   {
    "duration": 53,
    "start_time": "2024-05-07T16:36:45.337Z"
   },
   {
    "duration": 16,
    "start_time": "2024-05-07T16:36:45.392Z"
   },
   {
    "duration": 31,
    "start_time": "2024-05-07T16:36:45.409Z"
   },
   {
    "duration": 52,
    "start_time": "2024-05-07T16:36:45.441Z"
   },
   {
    "duration": 14,
    "start_time": "2024-05-07T16:36:45.496Z"
   },
   {
    "duration": 10,
    "start_time": "2024-05-07T16:36:45.511Z"
   },
   {
    "duration": 80,
    "start_time": "2024-05-07T16:36:45.523Z"
   },
   {
    "duration": 34,
    "start_time": "2024-05-07T16:36:45.605Z"
   },
   {
    "duration": 9,
    "start_time": "2024-05-07T16:36:45.640Z"
   },
   {
    "duration": 384,
    "start_time": "2024-05-07T16:36:45.651Z"
   },
   {
    "duration": 554,
    "start_time": "2024-05-07T16:36:46.036Z"
   },
   {
    "duration": 238,
    "start_time": "2024-05-07T16:36:46.592Z"
   },
   {
    "duration": 3867,
    "start_time": "2024-05-07T16:36:46.831Z"
   },
   {
    "duration": 5,
    "start_time": "2024-05-07T16:36:50.699Z"
   },
   {
    "duration": 28,
    "start_time": "2024-05-07T16:36:50.705Z"
   },
   {
    "duration": 163,
    "start_time": "2024-05-07T16:36:50.735Z"
   },
   {
    "duration": 13,
    "start_time": "2024-05-07T16:37:27.098Z"
   },
   {
    "duration": 20,
    "start_time": "2024-05-07T16:37:32.808Z"
   },
   {
    "duration": 12,
    "start_time": "2024-05-07T16:37:39.058Z"
   },
   {
    "duration": 8946,
    "start_time": "2024-05-07T16:37:55.274Z"
   },
   {
    "duration": 699,
    "start_time": "2024-05-07T16:38:04.223Z"
   },
   {
    "duration": 704,
    "start_time": "2024-05-07T16:38:04.924Z"
   },
   {
    "duration": 77,
    "start_time": "2024-05-07T16:38:05.631Z"
   },
   {
    "duration": 42,
    "start_time": "2024-05-07T16:38:05.709Z"
   },
   {
    "duration": 62,
    "start_time": "2024-05-07T16:38:05.753Z"
   },
   {
    "duration": 39,
    "start_time": "2024-05-07T16:38:05.817Z"
   },
   {
    "duration": 15,
    "start_time": "2024-05-07T16:38:05.858Z"
   },
   {
    "duration": 23,
    "start_time": "2024-05-07T16:38:05.875Z"
   },
   {
    "duration": 32,
    "start_time": "2024-05-07T16:38:05.901Z"
   },
   {
    "duration": 42,
    "start_time": "2024-05-07T16:38:05.935Z"
   },
   {
    "duration": 24,
    "start_time": "2024-05-07T16:38:05.978Z"
   },
   {
    "duration": 30,
    "start_time": "2024-05-07T16:38:06.004Z"
   },
   {
    "duration": 6,
    "start_time": "2024-05-07T16:38:06.036Z"
   },
   {
    "duration": 32,
    "start_time": "2024-05-07T16:38:06.043Z"
   },
   {
    "duration": 34,
    "start_time": "2024-05-07T16:38:06.077Z"
   },
   {
    "duration": 50,
    "start_time": "2024-05-07T16:38:06.112Z"
   },
   {
    "duration": 32,
    "start_time": "2024-05-07T16:38:06.164Z"
   },
   {
    "duration": 50,
    "start_time": "2024-05-07T16:38:06.198Z"
   },
   {
    "duration": 25,
    "start_time": "2024-05-07T16:38:06.249Z"
   },
   {
    "duration": 41,
    "start_time": "2024-05-07T16:38:06.276Z"
   },
   {
    "duration": 41,
    "start_time": "2024-05-07T16:38:06.318Z"
   },
   {
    "duration": 5,
    "start_time": "2024-05-07T16:38:06.361Z"
   },
   {
    "duration": 71,
    "start_time": "2024-05-07T16:38:06.367Z"
   },
   {
    "duration": 16,
    "start_time": "2024-05-07T16:38:06.440Z"
   },
   {
    "duration": 29,
    "start_time": "2024-05-07T16:38:06.458Z"
   },
   {
    "duration": 34,
    "start_time": "2024-05-07T16:38:06.489Z"
   },
   {
    "duration": 39,
    "start_time": "2024-05-07T16:38:06.526Z"
   },
   {
    "duration": 8,
    "start_time": "2024-05-07T16:38:06.567Z"
   },
   {
    "duration": 77,
    "start_time": "2024-05-07T16:38:06.577Z"
   },
   {
    "duration": 34,
    "start_time": "2024-05-07T16:38:06.656Z"
   },
   {
    "duration": 9,
    "start_time": "2024-05-07T16:38:06.692Z"
   },
   {
    "duration": 427,
    "start_time": "2024-05-07T16:38:06.703Z"
   },
   {
    "duration": 510,
    "start_time": "2024-05-07T16:38:07.132Z"
   },
   {
    "duration": 222,
    "start_time": "2024-05-07T16:38:07.644Z"
   },
   {
    "duration": 3710,
    "start_time": "2024-05-07T16:38:07.873Z"
   },
   {
    "duration": 6,
    "start_time": "2024-05-07T16:38:11.585Z"
   },
   {
    "duration": 46,
    "start_time": "2024-05-07T16:38:11.593Z"
   },
   {
    "duration": 29,
    "start_time": "2024-05-07T16:38:11.640Z"
   },
   {
    "duration": 5,
    "start_time": "2024-05-07T16:39:07.198Z"
   },
   {
    "duration": 7,
    "start_time": "2024-05-07T16:39:16.685Z"
   },
   {
    "duration": 6,
    "start_time": "2024-05-07T16:39:45.070Z"
   },
   {
    "duration": 6,
    "start_time": "2024-05-07T16:39:46.288Z"
   },
   {
    "duration": 8914,
    "start_time": "2024-05-07T16:49:35.729Z"
   },
   {
    "duration": 730,
    "start_time": "2024-05-07T16:49:44.645Z"
   },
   {
    "duration": 747,
    "start_time": "2024-05-07T16:49:45.377Z"
   },
   {
    "duration": 71,
    "start_time": "2024-05-07T16:49:46.126Z"
   },
   {
    "duration": 43,
    "start_time": "2024-05-07T16:49:46.198Z"
   },
   {
    "duration": 76,
    "start_time": "2024-05-07T16:49:46.243Z"
   },
   {
    "duration": 40,
    "start_time": "2024-05-07T16:49:46.320Z"
   },
   {
    "duration": 12,
    "start_time": "2024-05-07T16:49:46.361Z"
   },
   {
    "duration": 9,
    "start_time": "2024-05-07T16:49:46.375Z"
   },
   {
    "duration": 38,
    "start_time": "2024-05-07T16:49:46.386Z"
   },
   {
    "duration": 6,
    "start_time": "2024-05-07T16:49:46.425Z"
   },
   {
    "duration": 23,
    "start_time": "2024-05-07T16:49:46.433Z"
   },
   {
    "duration": 24,
    "start_time": "2024-05-07T16:49:46.457Z"
   },
   {
    "duration": 5,
    "start_time": "2024-05-07T16:49:46.483Z"
   },
   {
    "duration": 42,
    "start_time": "2024-05-07T16:49:46.489Z"
   },
   {
    "duration": 30,
    "start_time": "2024-05-07T16:49:46.533Z"
   },
   {
    "duration": 31,
    "start_time": "2024-05-07T16:49:46.565Z"
   },
   {
    "duration": 11,
    "start_time": "2024-05-07T16:49:46.597Z"
   },
   {
    "duration": 16,
    "start_time": "2024-05-07T16:49:46.609Z"
   },
   {
    "duration": 15,
    "start_time": "2024-05-07T16:49:46.626Z"
   },
   {
    "duration": 21,
    "start_time": "2024-05-07T16:49:46.643Z"
   },
   {
    "duration": 34,
    "start_time": "2024-05-07T16:49:46.666Z"
   },
   {
    "duration": 24,
    "start_time": "2024-05-07T16:49:46.702Z"
   },
   {
    "duration": 42,
    "start_time": "2024-05-07T16:49:46.727Z"
   },
   {
    "duration": 15,
    "start_time": "2024-05-07T16:49:46.770Z"
   },
   {
    "duration": 26,
    "start_time": "2024-05-07T16:49:46.787Z"
   },
   {
    "duration": 35,
    "start_time": "2024-05-07T16:49:46.815Z"
   },
   {
    "duration": 33,
    "start_time": "2024-05-07T16:49:46.853Z"
   },
   {
    "duration": 26,
    "start_time": "2024-05-07T16:49:46.888Z"
   },
   {
    "duration": 69,
    "start_time": "2024-05-07T16:49:46.916Z"
   },
   {
    "duration": 35,
    "start_time": "2024-05-07T16:49:46.987Z"
   },
   {
    "duration": 13,
    "start_time": "2024-05-07T16:49:47.024Z"
   },
   {
    "duration": 376,
    "start_time": "2024-05-07T16:49:47.039Z"
   },
   {
    "duration": 504,
    "start_time": "2024-05-07T16:49:47.417Z"
   },
   {
    "duration": 260,
    "start_time": "2024-05-07T16:49:47.922Z"
   },
   {
    "duration": 3714,
    "start_time": "2024-05-07T16:49:48.184Z"
   },
   {
    "duration": 5,
    "start_time": "2024-05-07T16:49:51.899Z"
   },
   {
    "duration": 17,
    "start_time": "2024-05-07T16:49:51.905Z"
   },
   {
    "duration": 23,
    "start_time": "2024-05-07T16:49:51.924Z"
   },
   {
    "duration": 5,
    "start_time": "2024-05-07T16:49:51.949Z"
   },
   {
    "duration": 12,
    "start_time": "2024-05-07T16:49:51.955Z"
   },
   {
    "duration": 5,
    "start_time": "2024-05-07T16:51:03.531Z"
   },
   {
    "duration": 194,
    "start_time": "2024-05-07T19:37:38.935Z"
   },
   {
    "duration": 81,
    "start_time": "2024-05-07T19:37:54.602Z"
   },
   {
    "duration": 275,
    "start_time": "2024-05-07T19:38:05.474Z"
   },
   {
    "duration": 13,
    "start_time": "2024-05-07T19:40:58.730Z"
   },
   {
    "duration": 8645,
    "start_time": "2024-05-07T19:43:15.248Z"
   },
   {
    "duration": 695,
    "start_time": "2024-05-07T19:43:23.895Z"
   },
   {
    "duration": 727,
    "start_time": "2024-05-07T19:43:24.592Z"
   },
   {
    "duration": 71,
    "start_time": "2024-05-07T19:43:25.321Z"
   },
   {
    "duration": 42,
    "start_time": "2024-05-07T19:43:25.394Z"
   },
   {
    "duration": 62,
    "start_time": "2024-05-07T19:43:25.438Z"
   },
   {
    "duration": 40,
    "start_time": "2024-05-07T19:43:25.501Z"
   },
   {
    "duration": 8,
    "start_time": "2024-05-07T19:43:25.542Z"
   },
   {
    "duration": 10,
    "start_time": "2024-05-07T19:43:25.552Z"
   },
   {
    "duration": 16,
    "start_time": "2024-05-07T19:43:25.573Z"
   },
   {
    "duration": 4,
    "start_time": "2024-05-07T19:43:25.591Z"
   },
   {
    "duration": 8,
    "start_time": "2024-05-07T19:43:25.597Z"
   },
   {
    "duration": 35,
    "start_time": "2024-05-07T19:43:25.607Z"
   },
   {
    "duration": 17,
    "start_time": "2024-05-07T19:43:25.644Z"
   },
   {
    "duration": 30,
    "start_time": "2024-05-07T19:43:25.662Z"
   },
   {
    "duration": 24,
    "start_time": "2024-05-07T19:43:25.694Z"
   },
   {
    "duration": 15,
    "start_time": "2024-05-07T19:43:25.720Z"
   },
   {
    "duration": 32,
    "start_time": "2024-05-07T19:43:25.737Z"
   },
   {
    "duration": 15,
    "start_time": "2024-05-07T19:43:25.771Z"
   },
   {
    "duration": 7,
    "start_time": "2024-05-07T19:43:25.787Z"
   },
   {
    "duration": 8,
    "start_time": "2024-05-07T19:43:25.795Z"
   },
   {
    "duration": 32,
    "start_time": "2024-05-07T19:43:25.804Z"
   },
   {
    "duration": 3,
    "start_time": "2024-05-07T19:43:25.838Z"
   },
   {
    "duration": 43,
    "start_time": "2024-05-07T19:43:25.842Z"
   },
   {
    "duration": 16,
    "start_time": "2024-05-07T19:43:25.886Z"
   },
   {
    "duration": 26,
    "start_time": "2024-05-07T19:43:25.903Z"
   },
   {
    "duration": 54,
    "start_time": "2024-05-07T19:43:25.931Z"
   },
   {
    "duration": 15,
    "start_time": "2024-05-07T19:43:25.988Z"
   },
   {
    "duration": 17,
    "start_time": "2024-05-07T19:43:26.005Z"
   },
   {
    "duration": 59,
    "start_time": "2024-05-07T19:43:26.024Z"
   },
   {
    "duration": 35,
    "start_time": "2024-05-07T19:43:26.085Z"
   },
   {
    "duration": 33,
    "start_time": "2024-05-07T19:43:26.121Z"
   },
   {
    "duration": 338,
    "start_time": "2024-05-07T19:43:26.155Z"
   },
   {
    "duration": 513,
    "start_time": "2024-05-07T19:43:26.494Z"
   },
   {
    "duration": 236,
    "start_time": "2024-05-07T19:43:27.009Z"
   },
   {
    "duration": 3618,
    "start_time": "2024-05-07T19:43:27.247Z"
   },
   {
    "duration": 5,
    "start_time": "2024-05-07T19:43:30.868Z"
   },
   {
    "duration": 146,
    "start_time": "2024-05-07T19:43:30.875Z"
   },
   {
    "duration": 47,
    "start_time": "2024-05-07T19:43:31.022Z"
   },
   {
    "duration": 154,
    "start_time": "2024-05-07T19:43:31.071Z"
   },
   {
    "duration": 0,
    "start_time": "2024-05-07T19:43:31.227Z"
   },
   {
    "duration": 0,
    "start_time": "2024-05-07T19:43:31.228Z"
   },
   {
    "duration": 0,
    "start_time": "2024-05-07T19:43:31.230Z"
   },
   {
    "duration": 0,
    "start_time": "2024-05-07T19:43:31.232Z"
   },
   {
    "duration": 6,
    "start_time": "2024-05-07T19:47:38.741Z"
   },
   {
    "duration": 12,
    "start_time": "2024-05-07T19:47:40.644Z"
   },
   {
    "duration": 9,
    "start_time": "2024-05-07T19:47:42.734Z"
   },
   {
    "duration": 6,
    "start_time": "2024-05-07T19:48:58.295Z"
   },
   {
    "duration": 5,
    "start_time": "2024-05-07T19:49:21.753Z"
   },
   {
    "duration": 8683,
    "start_time": "2024-05-07T19:50:36.819Z"
   },
   {
    "duration": 645,
    "start_time": "2024-05-07T19:50:45.505Z"
   },
   {
    "duration": 695,
    "start_time": "2024-05-07T19:50:46.151Z"
   },
   {
    "duration": 70,
    "start_time": "2024-05-07T19:50:46.848Z"
   },
   {
    "duration": 41,
    "start_time": "2024-05-07T19:50:46.919Z"
   },
   {
    "duration": 70,
    "start_time": "2024-05-07T19:50:46.962Z"
   },
   {
    "duration": 41,
    "start_time": "2024-05-07T19:50:47.035Z"
   },
   {
    "duration": 10,
    "start_time": "2024-05-07T19:50:47.078Z"
   },
   {
    "duration": 25,
    "start_time": "2024-05-07T19:50:47.091Z"
   },
   {
    "duration": 21,
    "start_time": "2024-05-07T19:50:47.119Z"
   },
   {
    "duration": 5,
    "start_time": "2024-05-07T19:50:47.141Z"
   },
   {
    "duration": 11,
    "start_time": "2024-05-07T19:50:47.148Z"
   },
   {
    "duration": 22,
    "start_time": "2024-05-07T19:50:47.161Z"
   },
   {
    "duration": 24,
    "start_time": "2024-05-07T19:50:47.185Z"
   },
   {
    "duration": 18,
    "start_time": "2024-05-07T19:50:47.211Z"
   },
   {
    "duration": 13,
    "start_time": "2024-05-07T19:50:47.230Z"
   },
   {
    "duration": 12,
    "start_time": "2024-05-07T19:50:47.245Z"
   },
   {
    "duration": 8,
    "start_time": "2024-05-07T19:50:47.258Z"
   },
   {
    "duration": 13,
    "start_time": "2024-05-07T19:50:47.267Z"
   },
   {
    "duration": 10,
    "start_time": "2024-05-07T19:50:47.282Z"
   },
   {
    "duration": 18,
    "start_time": "2024-05-07T19:50:47.294Z"
   },
   {
    "duration": 18,
    "start_time": "2024-05-07T19:50:47.314Z"
   },
   {
    "duration": 4,
    "start_time": "2024-05-07T19:50:47.334Z"
   },
   {
    "duration": 51,
    "start_time": "2024-05-07T19:50:47.339Z"
   },
   {
    "duration": 15,
    "start_time": "2024-05-07T19:50:47.392Z"
   },
   {
    "duration": 29,
    "start_time": "2024-05-07T19:50:47.409Z"
   },
   {
    "duration": 56,
    "start_time": "2024-05-07T19:50:47.440Z"
   },
   {
    "duration": 14,
    "start_time": "2024-05-07T19:50:47.499Z"
   },
   {
    "duration": 7,
    "start_time": "2024-05-07T19:50:47.515Z"
   },
   {
    "duration": 72,
    "start_time": "2024-05-07T19:50:47.524Z"
   },
   {
    "duration": 39,
    "start_time": "2024-05-07T19:50:47.598Z"
   },
   {
    "duration": 21,
    "start_time": "2024-05-07T19:50:47.638Z"
   },
   {
    "duration": 335,
    "start_time": "2024-05-07T19:50:47.661Z"
   },
   {
    "duration": 498,
    "start_time": "2024-05-07T19:50:47.997Z"
   },
   {
    "duration": 224,
    "start_time": "2024-05-07T19:50:48.497Z"
   },
   {
    "duration": 3643,
    "start_time": "2024-05-07T19:50:48.723Z"
   },
   {
    "duration": 3,
    "start_time": "2024-05-07T19:50:52.368Z"
   },
   {
    "duration": 21,
    "start_time": "2024-05-07T19:50:52.373Z"
   },
   {
    "duration": 21,
    "start_time": "2024-05-07T19:50:52.396Z"
   },
   {
    "duration": 14,
    "start_time": "2024-05-07T19:50:52.419Z"
   },
   {
    "duration": 24,
    "start_time": "2024-05-07T19:50:52.435Z"
   },
   {
    "duration": 121,
    "start_time": "2024-05-07T19:50:52.461Z"
   },
   {
    "duration": 0,
    "start_time": "2024-05-07T19:50:52.583Z"
   },
   {
    "duration": 0,
    "start_time": "2024-05-07T19:50:52.585Z"
   },
   {
    "duration": 3,
    "start_time": "2024-05-07T19:51:57.964Z"
   },
   {
    "duration": 33,
    "start_time": "2024-05-07T19:52:51.444Z"
   },
   {
    "duration": 33,
    "start_time": "2024-05-07T19:53:45.468Z"
   },
   {
    "duration": 149,
    "start_time": "2024-05-07T19:54:29.527Z"
   },
   {
    "duration": 8740,
    "start_time": "2024-05-07T19:55:53.437Z"
   },
   {
    "duration": 667,
    "start_time": "2024-05-07T19:56:02.180Z"
   },
   {
    "duration": 704,
    "start_time": "2024-05-07T19:56:02.848Z"
   },
   {
    "duration": 78,
    "start_time": "2024-05-07T19:56:03.554Z"
   },
   {
    "duration": 41,
    "start_time": "2024-05-07T19:56:03.634Z"
   },
   {
    "duration": 63,
    "start_time": "2024-05-07T19:56:03.677Z"
   },
   {
    "duration": 40,
    "start_time": "2024-05-07T19:56:03.742Z"
   },
   {
    "duration": 8,
    "start_time": "2024-05-07T19:56:03.784Z"
   },
   {
    "duration": 15,
    "start_time": "2024-05-07T19:56:03.794Z"
   },
   {
    "duration": 28,
    "start_time": "2024-05-07T19:56:03.811Z"
   },
   {
    "duration": 6,
    "start_time": "2024-05-07T19:56:03.841Z"
   },
   {
    "duration": 14,
    "start_time": "2024-05-07T19:56:03.849Z"
   },
   {
    "duration": 16,
    "start_time": "2024-05-07T19:56:03.873Z"
   },
   {
    "duration": 5,
    "start_time": "2024-05-07T19:56:03.891Z"
   },
   {
    "duration": 13,
    "start_time": "2024-05-07T19:56:03.897Z"
   },
   {
    "duration": 7,
    "start_time": "2024-05-07T19:56:03.912Z"
   },
   {
    "duration": 13,
    "start_time": "2024-05-07T19:56:03.920Z"
   },
   {
    "duration": 23,
    "start_time": "2024-05-07T19:56:03.934Z"
   },
   {
    "duration": 29,
    "start_time": "2024-05-07T19:56:03.972Z"
   },
   {
    "duration": 17,
    "start_time": "2024-05-07T19:56:04.002Z"
   },
   {
    "duration": 15,
    "start_time": "2024-05-07T19:56:04.021Z"
   },
   {
    "duration": 41,
    "start_time": "2024-05-07T19:56:04.038Z"
   },
   {
    "duration": 5,
    "start_time": "2024-05-07T19:56:04.081Z"
   },
   {
    "duration": 48,
    "start_time": "2024-05-07T19:56:04.088Z"
   },
   {
    "duration": 15,
    "start_time": "2024-05-07T19:56:04.138Z"
   },
   {
    "duration": 48,
    "start_time": "2024-05-07T19:56:04.155Z"
   },
   {
    "duration": 46,
    "start_time": "2024-05-07T19:56:04.205Z"
   },
   {
    "duration": 31,
    "start_time": "2024-05-07T19:56:04.254Z"
   },
   {
    "duration": 8,
    "start_time": "2024-05-07T19:56:04.286Z"
   },
   {
    "duration": 55,
    "start_time": "2024-05-07T19:56:04.295Z"
   },
   {
    "duration": 52,
    "start_time": "2024-05-07T19:56:04.352Z"
   },
   {
    "duration": 10,
    "start_time": "2024-05-07T19:56:04.406Z"
   },
   {
    "duration": 349,
    "start_time": "2024-05-07T19:56:04.418Z"
   },
   {
    "duration": 499,
    "start_time": "2024-05-07T19:56:04.772Z"
   },
   {
    "duration": 219,
    "start_time": "2024-05-07T19:56:05.273Z"
   },
   {
    "duration": 3648,
    "start_time": "2024-05-07T19:56:05.494Z"
   },
   {
    "duration": 4,
    "start_time": "2024-05-07T19:56:09.143Z"
   },
   {
    "duration": 11,
    "start_time": "2024-05-07T19:56:09.149Z"
   },
   {
    "duration": 16,
    "start_time": "2024-05-07T19:56:09.162Z"
   },
   {
    "duration": 10,
    "start_time": "2024-05-07T19:56:09.179Z"
   },
   {
    "duration": 7,
    "start_time": "2024-05-07T19:56:09.190Z"
   },
   {
    "duration": 35,
    "start_time": "2024-05-07T19:56:09.199Z"
   },
   {
    "duration": 247,
    "start_time": "2024-05-07T19:56:09.235Z"
   },
   {
    "duration": 219,
    "start_time": "2024-05-07T19:56:09.573Z"
   },
   {
    "duration": 518,
    "start_time": "2024-05-07T19:56:09.874Z"
   },
   {
    "duration": 8570,
    "start_time": "2024-05-07T19:57:39.810Z"
   },
   {
    "duration": 699,
    "start_time": "2024-05-07T19:57:48.383Z"
   },
   {
    "duration": 713,
    "start_time": "2024-05-07T19:57:49.084Z"
   },
   {
    "duration": 70,
    "start_time": "2024-05-07T19:57:49.800Z"
   },
   {
    "duration": 43,
    "start_time": "2024-05-07T19:57:49.872Z"
   },
   {
    "duration": 61,
    "start_time": "2024-05-07T19:57:49.917Z"
   },
   {
    "duration": 39,
    "start_time": "2024-05-07T19:57:49.980Z"
   },
   {
    "duration": 9,
    "start_time": "2024-05-07T19:57:50.021Z"
   },
   {
    "duration": 22,
    "start_time": "2024-05-07T19:57:50.032Z"
   },
   {
    "duration": 17,
    "start_time": "2024-05-07T19:57:50.057Z"
   },
   {
    "duration": 6,
    "start_time": "2024-05-07T19:57:50.076Z"
   },
   {
    "duration": 8,
    "start_time": "2024-05-07T19:57:50.084Z"
   },
   {
    "duration": 18,
    "start_time": "2024-05-07T19:57:50.093Z"
   },
   {
    "duration": 4,
    "start_time": "2024-05-07T19:57:50.113Z"
   },
   {
    "duration": 39,
    "start_time": "2024-05-07T19:57:50.118Z"
   },
   {
    "duration": 15,
    "start_time": "2024-05-07T19:57:50.160Z"
   },
   {
    "duration": 16,
    "start_time": "2024-05-07T19:57:50.177Z"
   },
   {
    "duration": 22,
    "start_time": "2024-05-07T19:57:50.194Z"
   },
   {
    "duration": 39,
    "start_time": "2024-05-07T19:57:50.217Z"
   },
   {
    "duration": 7,
    "start_time": "2024-05-07T19:57:50.258Z"
   },
   {
    "duration": 20,
    "start_time": "2024-05-07T19:57:50.266Z"
   },
   {
    "duration": 38,
    "start_time": "2024-05-07T19:57:50.288Z"
   },
   {
    "duration": 24,
    "start_time": "2024-05-07T19:57:50.327Z"
   },
   {
    "duration": 51,
    "start_time": "2024-05-07T19:57:50.353Z"
   },
   {
    "duration": 16,
    "start_time": "2024-05-07T19:57:50.406Z"
   },
   {
    "duration": 26,
    "start_time": "2024-05-07T19:57:50.424Z"
   },
   {
    "duration": 56,
    "start_time": "2024-05-07T19:57:50.451Z"
   },
   {
    "duration": 15,
    "start_time": "2024-05-07T19:57:50.510Z"
   },
   {
    "duration": 24,
    "start_time": "2024-05-07T19:57:50.526Z"
   },
   {
    "duration": 60,
    "start_time": "2024-05-07T19:57:50.552Z"
   },
   {
    "duration": 33,
    "start_time": "2024-05-07T19:57:50.613Z"
   },
   {
    "duration": 9,
    "start_time": "2024-05-07T19:57:50.648Z"
   },
   {
    "duration": 363,
    "start_time": "2024-05-07T19:57:50.658Z"
   },
   {
    "duration": 510,
    "start_time": "2024-05-07T19:57:51.023Z"
   },
   {
    "duration": 213,
    "start_time": "2024-05-07T19:57:51.534Z"
   },
   {
    "duration": 3602,
    "start_time": "2024-05-07T19:57:51.748Z"
   },
   {
    "duration": 5,
    "start_time": "2024-05-07T19:57:55.352Z"
   },
   {
    "duration": 30,
    "start_time": "2024-05-07T19:57:55.358Z"
   },
   {
    "duration": 22,
    "start_time": "2024-05-07T19:57:55.390Z"
   },
   {
    "duration": 8,
    "start_time": "2024-05-07T19:57:55.414Z"
   },
   {
    "duration": 16,
    "start_time": "2024-05-07T19:57:55.424Z"
   },
   {
    "duration": 51,
    "start_time": "2024-05-07T19:57:55.442Z"
   },
   {
    "duration": 379,
    "start_time": "2024-05-07T19:57:55.495Z"
   },
   {
    "duration": 133,
    "start_time": "2024-05-07T19:57:55.876Z"
   },
   {
    "duration": 0,
    "start_time": "2024-05-07T19:57:56.011Z"
   },
   {
    "duration": 265,
    "start_time": "2024-05-07T19:58:54.337Z"
   },
   {
    "duration": 98,
    "start_time": "2024-05-07T20:00:18.483Z"
   },
   {
    "duration": 9887,
    "start_time": "2024-05-07T20:01:42.249Z"
   },
   {
    "duration": 8540,
    "start_time": "2024-05-07T20:03:16.841Z"
   },
   {
    "duration": 8659,
    "start_time": "2024-05-07T20:03:37.416Z"
   },
   {
    "duration": 7184,
    "start_time": "2024-05-07T20:04:59.833Z"
   },
   {
    "duration": 12822,
    "start_time": "2024-05-07T20:05:51.383Z"
   },
   {
    "duration": 5063,
    "start_time": "2024-05-07T20:06:26.735Z"
   },
   {
    "duration": 5054,
    "start_time": "2024-05-07T20:06:37.969Z"
   },
   {
    "duration": 4573,
    "start_time": "2024-05-07T20:06:52.106Z"
   },
   {
    "duration": 4836,
    "start_time": "2024-05-07T20:07:00.244Z"
   },
   {
    "duration": 6242,
    "start_time": "2024-05-07T20:07:23.845Z"
   },
   {
    "duration": 6301,
    "start_time": "2024-05-07T20:07:34.077Z"
   },
   {
    "duration": 5942,
    "start_time": "2024-05-07T20:07:58.139Z"
   },
   {
    "duration": 5827,
    "start_time": "2024-05-07T20:08:11.747Z"
   },
   {
    "duration": 6219,
    "start_time": "2024-05-07T20:08:21.105Z"
   },
   {
    "duration": 6235,
    "start_time": "2024-05-07T20:08:31.515Z"
   },
   {
    "duration": 6410,
    "start_time": "2024-05-07T20:08:42.583Z"
   },
   {
    "duration": 6898,
    "start_time": "2024-05-07T20:08:53.663Z"
   },
   {
    "duration": 6656,
    "start_time": "2024-05-07T20:09:08.522Z"
   },
   {
    "duration": 7184,
    "start_time": "2024-05-07T20:09:22.798Z"
   },
   {
    "duration": 7898,
    "start_time": "2024-05-07T20:09:34.162Z"
   },
   {
    "duration": 7671,
    "start_time": "2024-05-07T20:09:48.711Z"
   },
   {
    "duration": 8400,
    "start_time": "2024-05-07T20:10:01.765Z"
   },
   {
    "duration": 8876,
    "start_time": "2024-05-07T20:10:18.349Z"
   },
   {
    "duration": 8680,
    "start_time": "2024-05-07T20:10:39.838Z"
   },
   {
    "duration": 8859,
    "start_time": "2024-05-07T20:11:06.245Z"
   },
   {
    "duration": 8662,
    "start_time": "2024-05-07T20:11:42.991Z"
   },
   {
    "duration": 707,
    "start_time": "2024-05-07T20:11:51.655Z"
   },
   {
    "duration": 709,
    "start_time": "2024-05-07T20:11:52.364Z"
   },
   {
    "duration": 70,
    "start_time": "2024-05-07T20:11:53.075Z"
   },
   {
    "duration": 43,
    "start_time": "2024-05-07T20:11:53.147Z"
   },
   {
    "duration": 61,
    "start_time": "2024-05-07T20:11:53.191Z"
   },
   {
    "duration": 40,
    "start_time": "2024-05-07T20:11:53.254Z"
   },
   {
    "duration": 8,
    "start_time": "2024-05-07T20:11:53.295Z"
   },
   {
    "duration": 10,
    "start_time": "2024-05-07T20:11:53.305Z"
   },
   {
    "duration": 29,
    "start_time": "2024-05-07T20:11:53.317Z"
   },
   {
    "duration": 4,
    "start_time": "2024-05-07T20:11:53.348Z"
   },
   {
    "duration": 4,
    "start_time": "2024-05-07T20:11:53.354Z"
   },
   {
    "duration": 15,
    "start_time": "2024-05-07T20:11:53.373Z"
   },
   {
    "duration": 4,
    "start_time": "2024-05-07T20:11:53.389Z"
   },
   {
    "duration": 26,
    "start_time": "2024-05-07T20:11:53.395Z"
   },
   {
    "duration": 6,
    "start_time": "2024-05-07T20:11:53.423Z"
   },
   {
    "duration": 14,
    "start_time": "2024-05-07T20:11:53.430Z"
   },
   {
    "duration": 5,
    "start_time": "2024-05-07T20:11:53.446Z"
   },
   {
    "duration": 13,
    "start_time": "2024-05-07T20:11:53.473Z"
   },
   {
    "duration": 44,
    "start_time": "2024-05-07T20:11:53.487Z"
   },
   {
    "duration": 13,
    "start_time": "2024-05-07T20:11:53.533Z"
   },
   {
    "duration": 19,
    "start_time": "2024-05-07T20:11:53.547Z"
   },
   {
    "duration": 8,
    "start_time": "2024-05-07T20:11:53.568Z"
   },
   {
    "duration": 36,
    "start_time": "2024-05-07T20:11:53.577Z"
   },
   {
    "duration": 16,
    "start_time": "2024-05-07T20:11:53.615Z"
   },
   {
    "duration": 48,
    "start_time": "2024-05-07T20:11:53.633Z"
   },
   {
    "duration": 35,
    "start_time": "2024-05-07T20:11:53.683Z"
   },
   {
    "duration": 14,
    "start_time": "2024-05-07T20:11:53.723Z"
   },
   {
    "duration": 36,
    "start_time": "2024-05-07T20:11:53.738Z"
   },
   {
    "duration": 66,
    "start_time": "2024-05-07T20:11:53.776Z"
   },
   {
    "duration": 34,
    "start_time": "2024-05-07T20:11:53.843Z"
   },
   {
    "duration": 9,
    "start_time": "2024-05-07T20:11:53.879Z"
   },
   {
    "duration": 365,
    "start_time": "2024-05-07T20:11:53.890Z"
   },
   {
    "duration": 497,
    "start_time": "2024-05-07T20:11:54.257Z"
   },
   {
    "duration": 229,
    "start_time": "2024-05-07T20:11:54.756Z"
   },
   {
    "duration": 3602,
    "start_time": "2024-05-07T20:11:54.987Z"
   },
   {
    "duration": 3,
    "start_time": "2024-05-07T20:11:58.591Z"
   },
   {
    "duration": 10,
    "start_time": "2024-05-07T20:11:58.596Z"
   },
   {
    "duration": 19,
    "start_time": "2024-05-07T20:11:58.607Z"
   },
   {
    "duration": 12,
    "start_time": "2024-05-07T20:11:58.627Z"
   },
   {
    "duration": 25,
    "start_time": "2024-05-07T20:11:58.640Z"
   },
   {
    "duration": 52,
    "start_time": "2024-05-07T20:11:58.668Z"
   },
   {
    "duration": 8721,
    "start_time": "2024-05-07T20:11:58.722Z"
   },
   {
    "duration": 65,
    "start_time": "2024-05-07T20:14:19.114Z"
   },
   {
    "duration": 45404,
    "start_time": "2024-05-07T20:18:10.029Z"
   },
   {
    "duration": 9699,
    "start_time": "2024-05-07T20:19:50.127Z"
   },
   {
    "duration": 19387,
    "start_time": "2024-05-07T20:20:49.898Z"
   },
   {
    "duration": 6123,
    "start_time": "2024-05-07T20:24:19.152Z"
   },
   {
    "duration": 11934,
    "start_time": "2024-05-07T20:24:45.377Z"
   },
   {
    "duration": 16122,
    "start_time": "2024-05-07T20:25:53.202Z"
   },
   {
    "duration": 10924,
    "start_time": "2024-05-07T20:26:15.731Z"
   },
   {
    "duration": 82095,
    "start_time": "2024-05-07T20:29:06.482Z"
   },
   {
    "duration": 41204,
    "start_time": "2024-05-07T20:31:55.783Z"
   },
   {
    "duration": 23341,
    "start_time": "2024-05-07T20:33:29.839Z"
   },
   {
    "duration": 61498,
    "start_time": "2024-05-07T20:34:45.684Z"
   },
   {
    "duration": 31,
    "start_time": "2024-05-07T20:53:03.056Z"
   },
   {
    "duration": 33,
    "start_time": "2024-05-07T20:53:53.783Z"
   },
   {
    "duration": 3,
    "start_time": "2024-05-07T20:56:46.124Z"
   },
   {
    "duration": 5,
    "start_time": "2024-05-07T20:57:46.550Z"
   },
   {
    "duration": 8801,
    "start_time": "2024-05-07T21:17:43.382Z"
   },
   {
    "duration": 692,
    "start_time": "2024-05-07T21:17:52.185Z"
   },
   {
    "duration": 724,
    "start_time": "2024-05-07T21:17:52.879Z"
   },
   {
    "duration": 71,
    "start_time": "2024-05-07T21:17:53.606Z"
   },
   {
    "duration": 39,
    "start_time": "2024-05-07T21:17:53.678Z"
   },
   {
    "duration": 60,
    "start_time": "2024-05-07T21:17:53.719Z"
   },
   {
    "duration": 39,
    "start_time": "2024-05-07T21:17:53.781Z"
   },
   {
    "duration": 9,
    "start_time": "2024-05-07T21:17:53.822Z"
   },
   {
    "duration": 8,
    "start_time": "2024-05-07T21:17:53.833Z"
   },
   {
    "duration": 31,
    "start_time": "2024-05-07T21:17:53.844Z"
   },
   {
    "duration": 5,
    "start_time": "2024-05-07T21:17:53.876Z"
   },
   {
    "duration": 19,
    "start_time": "2024-05-07T21:17:53.883Z"
   },
   {
    "duration": 37,
    "start_time": "2024-05-07T21:17:53.903Z"
   },
   {
    "duration": 12,
    "start_time": "2024-05-07T21:17:53.941Z"
   },
   {
    "duration": 19,
    "start_time": "2024-05-07T21:17:53.955Z"
   },
   {
    "duration": 13,
    "start_time": "2024-05-07T21:17:53.975Z"
   },
   {
    "duration": 20,
    "start_time": "2024-05-07T21:17:53.990Z"
   },
   {
    "duration": 7,
    "start_time": "2024-05-07T21:17:54.012Z"
   },
   {
    "duration": 11,
    "start_time": "2024-05-07T21:17:54.020Z"
   },
   {
    "duration": 7,
    "start_time": "2024-05-07T21:17:54.033Z"
   },
   {
    "duration": 13,
    "start_time": "2024-05-07T21:17:54.042Z"
   },
   {
    "duration": 20,
    "start_time": "2024-05-07T21:17:54.056Z"
   },
   {
    "duration": 3,
    "start_time": "2024-05-07T21:17:54.078Z"
   },
   {
    "duration": 69,
    "start_time": "2024-05-07T21:17:54.083Z"
   },
   {
    "duration": 16,
    "start_time": "2024-05-07T21:17:54.154Z"
   },
   {
    "duration": 32,
    "start_time": "2024-05-07T21:17:54.173Z"
   },
   {
    "duration": 38,
    "start_time": "2024-05-07T21:17:54.207Z"
   },
   {
    "duration": 32,
    "start_time": "2024-05-07T21:17:54.250Z"
   },
   {
    "duration": 9,
    "start_time": "2024-05-07T21:17:54.284Z"
   },
   {
    "duration": 49,
    "start_time": "2024-05-07T21:17:54.295Z"
   },
   {
    "duration": 75,
    "start_time": "2024-05-07T21:17:54.346Z"
   },
   {
    "duration": 9,
    "start_time": "2024-05-07T21:17:54.423Z"
   },
   {
    "duration": 365,
    "start_time": "2024-05-07T21:17:54.434Z"
   },
   {
    "duration": 493,
    "start_time": "2024-05-07T21:17:54.802Z"
   },
   {
    "duration": 218,
    "start_time": "2024-05-07T21:17:55.297Z"
   },
   {
    "duration": 3770,
    "start_time": "2024-05-07T21:17:55.516Z"
   },
   {
    "duration": 4,
    "start_time": "2024-05-07T21:17:59.287Z"
   },
   {
    "duration": 14,
    "start_time": "2024-05-07T21:17:59.293Z"
   },
   {
    "duration": 6,
    "start_time": "2024-05-07T21:17:59.309Z"
   },
   {
    "duration": 8,
    "start_time": "2024-05-07T21:17:59.317Z"
   },
   {
    "duration": 56,
    "start_time": "2024-05-07T21:17:59.327Z"
   },
   {
    "duration": 8963,
    "start_time": "2024-05-07T21:17:59.385Z"
   },
   {
    "duration": 19265,
    "start_time": "2024-05-07T21:18:08.349Z"
   },
   {
    "duration": 11625,
    "start_time": "2024-05-07T21:18:27.616Z"
   },
   {
    "duration": 641237,
    "start_time": "2024-05-07T21:18:39.243Z"
   },
   {
    "duration": 4,
    "start_time": "2024-05-07T21:29:20.482Z"
   },
   {
    "duration": 91,
    "start_time": "2024-05-07T21:29:20.488Z"
   },
   {
    "duration": 15876,
    "start_time": "2024-05-08T07:05:38.764Z"
   },
   {
    "duration": 669,
    "start_time": "2024-05-08T07:05:54.642Z"
   },
   {
    "duration": 941,
    "start_time": "2024-05-08T07:05:55.312Z"
   },
   {
    "duration": 178,
    "start_time": "2024-05-08T07:05:56.256Z"
   },
   {
    "duration": 86,
    "start_time": "2024-05-08T07:05:56.436Z"
   },
   {
    "duration": 108,
    "start_time": "2024-05-08T07:05:56.524Z"
   },
   {
    "duration": 92,
    "start_time": "2024-05-08T07:05:56.634Z"
   },
   {
    "duration": 8,
    "start_time": "2024-05-08T07:05:56.727Z"
   },
   {
    "duration": 33,
    "start_time": "2024-05-08T07:05:56.737Z"
   },
   {
    "duration": 38,
    "start_time": "2024-05-08T07:05:56.774Z"
   },
   {
    "duration": 5,
    "start_time": "2024-05-08T07:05:56.814Z"
   },
   {
    "duration": 16,
    "start_time": "2024-05-08T07:05:56.821Z"
   },
   {
    "duration": 33,
    "start_time": "2024-05-08T07:05:56.839Z"
   },
   {
    "duration": 5,
    "start_time": "2024-05-08T07:05:56.874Z"
   },
   {
    "duration": 25,
    "start_time": "2024-05-08T07:05:56.880Z"
   },
   {
    "duration": 29,
    "start_time": "2024-05-08T07:05:56.906Z"
   },
   {
    "duration": 29,
    "start_time": "2024-05-08T07:05:56.936Z"
   },
   {
    "duration": 18,
    "start_time": "2024-05-08T07:05:56.966Z"
   },
   {
    "duration": 22,
    "start_time": "2024-05-08T07:05:56.985Z"
   },
   {
    "duration": 7,
    "start_time": "2024-05-08T07:05:57.009Z"
   },
   {
    "duration": 13,
    "start_time": "2024-05-08T07:05:57.017Z"
   },
   {
    "duration": 20,
    "start_time": "2024-05-08T07:05:57.031Z"
   },
   {
    "duration": 3,
    "start_time": "2024-05-08T07:05:57.052Z"
   },
   {
    "duration": 57,
    "start_time": "2024-05-08T07:05:57.057Z"
   },
   {
    "duration": 16,
    "start_time": "2024-05-08T07:05:57.116Z"
   },
   {
    "duration": 34,
    "start_time": "2024-05-08T07:05:57.134Z"
   },
   {
    "duration": 49,
    "start_time": "2024-05-08T07:05:57.170Z"
   },
   {
    "duration": 17,
    "start_time": "2024-05-08T07:05:57.222Z"
   },
   {
    "duration": 20,
    "start_time": "2024-05-08T07:05:57.240Z"
   },
   {
    "duration": 75,
    "start_time": "2024-05-08T07:05:57.262Z"
   },
   {
    "duration": 34,
    "start_time": "2024-05-08T07:05:57.339Z"
   },
   {
    "duration": 57,
    "start_time": "2024-05-08T07:05:57.374Z"
   },
   {
    "duration": 490,
    "start_time": "2024-05-08T07:05:57.432Z"
   },
   {
    "duration": 437,
    "start_time": "2024-05-08T07:05:57.924Z"
   },
   {
    "duration": 229,
    "start_time": "2024-05-08T07:05:58.363Z"
   },
   {
    "duration": 3754,
    "start_time": "2024-05-08T07:05:58.594Z"
   },
   {
    "duration": 3,
    "start_time": "2024-05-08T07:06:02.350Z"
   },
   {
    "duration": 383,
    "start_time": "2024-05-08T07:06:02.354Z"
   },
   {
    "duration": 347,
    "start_time": "2024-05-08T07:06:02.739Z"
   },
   {
    "duration": 133,
    "start_time": "2024-05-08T07:06:03.088Z"
   },
   {
    "duration": 142,
    "start_time": "2024-05-08T07:06:03.223Z"
   },
   {
    "duration": 8997,
    "start_time": "2024-05-08T07:06:03.367Z"
   },
   {
    "duration": 19873,
    "start_time": "2024-05-08T07:06:12.366Z"
   },
   {
    "duration": 13259,
    "start_time": "2024-05-08T07:06:32.241Z"
   },
   {
    "duration": 73595,
    "start_time": "2024-05-08T07:06:45.503Z"
   },
   {
    "duration": 4,
    "start_time": "2024-05-08T07:07:59.100Z"
   },
   {
    "duration": 18,
    "start_time": "2024-05-08T07:07:59.106Z"
   },
   {
    "duration": 17,
    "start_time": "2024-05-08T07:17:53.449Z"
   },
   {
    "duration": 13,
    "start_time": "2024-05-08T07:21:45.954Z"
   },
   {
    "duration": 29,
    "start_time": "2024-05-08T07:33:54.271Z"
   },
   {
    "duration": 52,
    "start_time": "2024-05-08T19:25:25.378Z"
   },
   {
    "duration": 15088,
    "start_time": "2024-05-08T19:25:48.616Z"
   },
   {
    "duration": 644,
    "start_time": "2024-05-08T19:26:03.707Z"
   },
   {
    "duration": 829,
    "start_time": "2024-05-08T19:26:04.353Z"
   },
   {
    "duration": 121,
    "start_time": "2024-05-08T19:26:05.184Z"
   },
   {
    "duration": 151,
    "start_time": "2024-05-08T19:26:05.307Z"
   },
   {
    "duration": 137,
    "start_time": "2024-05-08T19:26:05.460Z"
   },
   {
    "duration": 85,
    "start_time": "2024-05-08T19:26:05.598Z"
   },
   {
    "duration": 7,
    "start_time": "2024-05-08T19:26:05.684Z"
   },
   {
    "duration": 9,
    "start_time": "2024-05-08T19:26:05.693Z"
   },
   {
    "duration": 36,
    "start_time": "2024-05-08T19:26:05.706Z"
   },
   {
    "duration": 12,
    "start_time": "2024-05-08T19:26:05.743Z"
   },
   {
    "duration": 6,
    "start_time": "2024-05-08T19:26:05.756Z"
   },
   {
    "duration": 22,
    "start_time": "2024-05-08T19:26:05.763Z"
   },
   {
    "duration": 4,
    "start_time": "2024-05-08T19:26:05.787Z"
   },
   {
    "duration": 17,
    "start_time": "2024-05-08T19:26:05.793Z"
   },
   {
    "duration": 14,
    "start_time": "2024-05-08T19:26:05.811Z"
   },
   {
    "duration": 32,
    "start_time": "2024-05-08T19:26:05.827Z"
   },
   {
    "duration": 17,
    "start_time": "2024-05-08T19:26:05.860Z"
   },
   {
    "duration": 21,
    "start_time": "2024-05-08T19:26:05.879Z"
   },
   {
    "duration": 4,
    "start_time": "2024-05-08T19:26:05.902Z"
   },
   {
    "duration": 10,
    "start_time": "2024-05-08T19:26:05.907Z"
   },
   {
    "duration": 18,
    "start_time": "2024-05-08T19:26:05.918Z"
   },
   {
    "duration": 3,
    "start_time": "2024-05-08T19:26:05.938Z"
   },
   {
    "duration": 52,
    "start_time": "2024-05-08T19:26:05.943Z"
   },
   {
    "duration": 17,
    "start_time": "2024-05-08T19:26:05.997Z"
   },
   {
    "duration": 45,
    "start_time": "2024-05-08T19:26:06.016Z"
   },
   {
    "duration": 36,
    "start_time": "2024-05-08T19:26:06.062Z"
   },
   {
    "duration": 14,
    "start_time": "2024-05-08T19:26:06.102Z"
   },
   {
    "duration": 8,
    "start_time": "2024-05-08T19:26:06.117Z"
   },
   {
    "duration": 76,
    "start_time": "2024-05-08T19:26:06.127Z"
   },
   {
    "duration": 18,
    "start_time": "2024-05-08T19:26:06.205Z"
   },
   {
    "duration": 57,
    "start_time": "2024-05-08T19:26:06.224Z"
   },
   {
    "duration": 14,
    "start_time": "2024-05-08T19:26:06.283Z"
   },
   {
    "duration": 6,
    "start_time": "2024-05-08T19:26:06.299Z"
   },
   {
    "duration": 351,
    "start_time": "2024-05-08T19:26:06.307Z"
   },
   {
    "duration": 499,
    "start_time": "2024-05-08T19:26:06.660Z"
   },
   {
    "duration": 210,
    "start_time": "2024-05-08T19:26:07.161Z"
   },
   {
    "duration": 3490,
    "start_time": "2024-05-08T19:26:07.372Z"
   },
   {
    "duration": 120,
    "start_time": "2024-05-08T19:26:10.864Z"
   },
   {
    "duration": 0,
    "start_time": "2024-05-08T19:26:10.986Z"
   },
   {
    "duration": 0,
    "start_time": "2024-05-08T19:26:10.988Z"
   },
   {
    "duration": 0,
    "start_time": "2024-05-08T19:26:10.989Z"
   },
   {
    "duration": 0,
    "start_time": "2024-05-08T19:26:10.990Z"
   },
   {
    "duration": 0,
    "start_time": "2024-05-08T19:26:10.992Z"
   },
   {
    "duration": 0,
    "start_time": "2024-05-08T19:26:10.993Z"
   },
   {
    "duration": 0,
    "start_time": "2024-05-08T19:26:10.995Z"
   },
   {
    "duration": 0,
    "start_time": "2024-05-08T19:26:10.996Z"
   },
   {
    "duration": 0,
    "start_time": "2024-05-08T19:26:10.998Z"
   },
   {
    "duration": 0,
    "start_time": "2024-05-08T19:26:10.999Z"
   },
   {
    "duration": 0,
    "start_time": "2024-05-08T19:26:11.000Z"
   },
   {
    "duration": 0,
    "start_time": "2024-05-08T19:26:11.002Z"
   },
   {
    "duration": 19,
    "start_time": "2024-05-08T19:26:56.003Z"
   },
   {
    "duration": 966,
    "start_time": "2024-05-08T19:32:51.222Z"
   },
   {
    "duration": 7,
    "start_time": "2024-05-08T19:34:48.530Z"
   },
   {
    "duration": 33,
    "start_time": "2024-05-08T19:36:18.461Z"
   },
   {
    "duration": 8753,
    "start_time": "2024-05-08T19:42:08.070Z"
   },
   {
    "duration": 700,
    "start_time": "2024-05-08T19:42:16.826Z"
   },
   {
    "duration": 664,
    "start_time": "2024-05-08T19:42:17.527Z"
   },
   {
    "duration": 68,
    "start_time": "2024-05-08T19:42:18.193Z"
   },
   {
    "duration": 40,
    "start_time": "2024-05-08T19:42:18.263Z"
   },
   {
    "duration": 57,
    "start_time": "2024-05-08T19:42:18.305Z"
   },
   {
    "duration": 39,
    "start_time": "2024-05-08T19:42:18.363Z"
   },
   {
    "duration": 8,
    "start_time": "2024-05-08T19:42:18.403Z"
   },
   {
    "duration": 30,
    "start_time": "2024-05-08T19:42:18.412Z"
   },
   {
    "duration": 24,
    "start_time": "2024-05-08T19:42:18.445Z"
   },
   {
    "duration": 6,
    "start_time": "2024-05-08T19:42:18.471Z"
   },
   {
    "duration": 8,
    "start_time": "2024-05-08T19:42:18.479Z"
   },
   {
    "duration": 20,
    "start_time": "2024-05-08T19:42:18.489Z"
   },
   {
    "duration": 5,
    "start_time": "2024-05-08T19:42:18.511Z"
   },
   {
    "duration": 13,
    "start_time": "2024-05-08T19:42:18.518Z"
   },
   {
    "duration": 29,
    "start_time": "2024-05-08T19:42:18.533Z"
   },
   {
    "duration": 22,
    "start_time": "2024-05-08T19:42:18.564Z"
   },
   {
    "duration": 22,
    "start_time": "2024-05-08T19:42:18.588Z"
   },
   {
    "duration": 43,
    "start_time": "2024-05-08T19:42:18.612Z"
   },
   {
    "duration": 19,
    "start_time": "2024-05-08T19:42:18.657Z"
   },
   {
    "duration": 19,
    "start_time": "2024-05-08T19:42:18.678Z"
   },
   {
    "duration": 32,
    "start_time": "2024-05-08T19:42:18.699Z"
   },
   {
    "duration": 7,
    "start_time": "2024-05-08T19:42:18.733Z"
   },
   {
    "duration": 39,
    "start_time": "2024-05-08T19:42:18.741Z"
   },
   {
    "duration": 15,
    "start_time": "2024-05-08T19:42:18.782Z"
   },
   {
    "duration": 41,
    "start_time": "2024-05-08T19:42:18.799Z"
   },
   {
    "duration": 62,
    "start_time": "2024-05-08T19:42:18.842Z"
   },
   {
    "duration": 23,
    "start_time": "2024-05-08T19:42:18.909Z"
   },
   {
    "duration": 27,
    "start_time": "2024-05-08T19:42:18.934Z"
   },
   {
    "duration": 61,
    "start_time": "2024-05-08T19:42:18.963Z"
   },
   {
    "duration": 35,
    "start_time": "2024-05-08T19:42:19.026Z"
   },
   {
    "duration": 36,
    "start_time": "2024-05-08T19:42:19.063Z"
   },
   {
    "duration": 33,
    "start_time": "2024-05-08T19:42:19.100Z"
   },
   {
    "duration": 45,
    "start_time": "2024-05-08T19:42:19.134Z"
   },
   {
    "duration": 7,
    "start_time": "2024-05-08T19:42:19.180Z"
   },
   {
    "duration": 326,
    "start_time": "2024-05-08T19:42:19.188Z"
   },
   {
    "duration": 468,
    "start_time": "2024-05-08T19:42:19.515Z"
   },
   {
    "duration": 212,
    "start_time": "2024-05-08T19:42:19.985Z"
   },
   {
    "duration": 4387,
    "start_time": "2024-05-08T19:42:20.199Z"
   },
   {
    "duration": 111,
    "start_time": "2024-05-08T19:42:24.588Z"
   },
   {
    "duration": 0,
    "start_time": "2024-05-08T19:42:24.700Z"
   },
   {
    "duration": 0,
    "start_time": "2024-05-08T19:42:24.702Z"
   },
   {
    "duration": 0,
    "start_time": "2024-05-08T19:42:24.703Z"
   },
   {
    "duration": 0,
    "start_time": "2024-05-08T19:42:24.704Z"
   },
   {
    "duration": 0,
    "start_time": "2024-05-08T19:42:24.705Z"
   },
   {
    "duration": 0,
    "start_time": "2024-05-08T19:42:24.706Z"
   },
   {
    "duration": 0,
    "start_time": "2024-05-08T19:42:24.707Z"
   },
   {
    "duration": 0,
    "start_time": "2024-05-08T19:42:24.708Z"
   },
   {
    "duration": 0,
    "start_time": "2024-05-08T19:42:24.710Z"
   },
   {
    "duration": 0,
    "start_time": "2024-05-08T19:42:24.711Z"
   },
   {
    "duration": 0,
    "start_time": "2024-05-08T19:42:24.712Z"
   },
   {
    "duration": 0,
    "start_time": "2024-05-08T19:42:24.713Z"
   },
   {
    "duration": 17,
    "start_time": "2024-05-08T19:46:40.194Z"
   },
   {
    "duration": 20,
    "start_time": "2024-05-08T19:50:30.293Z"
   },
   {
    "duration": 8001,
    "start_time": "2024-05-08T19:51:27.283Z"
   },
   {
    "duration": 637,
    "start_time": "2024-05-08T19:51:35.286Z"
   },
   {
    "duration": 668,
    "start_time": "2024-05-08T19:51:35.925Z"
   },
   {
    "duration": 71,
    "start_time": "2024-05-08T19:51:36.595Z"
   },
   {
    "duration": 41,
    "start_time": "2024-05-08T19:51:36.669Z"
   },
   {
    "duration": 59,
    "start_time": "2024-05-08T19:51:36.712Z"
   },
   {
    "duration": 39,
    "start_time": "2024-05-08T19:51:36.772Z"
   },
   {
    "duration": 8,
    "start_time": "2024-05-08T19:51:36.813Z"
   },
   {
    "duration": 12,
    "start_time": "2024-05-08T19:51:36.822Z"
   },
   {
    "duration": 36,
    "start_time": "2024-05-08T19:51:36.835Z"
   },
   {
    "duration": 6,
    "start_time": "2024-05-08T19:51:36.873Z"
   },
   {
    "duration": 18,
    "start_time": "2024-05-08T19:51:36.881Z"
   },
   {
    "duration": 37,
    "start_time": "2024-05-08T19:51:36.901Z"
   },
   {
    "duration": 5,
    "start_time": "2024-05-08T19:51:36.941Z"
   },
   {
    "duration": 15,
    "start_time": "2024-05-08T19:51:36.947Z"
   },
   {
    "duration": 4,
    "start_time": "2024-05-08T19:51:36.964Z"
   },
   {
    "duration": 9,
    "start_time": "2024-05-08T19:51:36.969Z"
   },
   {
    "duration": 5,
    "start_time": "2024-05-08T19:51:36.979Z"
   },
   {
    "duration": 11,
    "start_time": "2024-05-08T19:51:36.985Z"
   },
   {
    "duration": 9,
    "start_time": "2024-05-08T19:51:36.997Z"
   },
   {
    "duration": 33,
    "start_time": "2024-05-08T19:51:37.007Z"
   },
   {
    "duration": 24,
    "start_time": "2024-05-08T19:51:37.042Z"
   },
   {
    "duration": 12,
    "start_time": "2024-05-08T19:51:37.068Z"
   },
   {
    "duration": 45,
    "start_time": "2024-05-08T19:51:37.083Z"
   },
   {
    "duration": 17,
    "start_time": "2024-05-08T19:51:37.130Z"
   },
   {
    "duration": 25,
    "start_time": "2024-05-08T19:51:37.161Z"
   },
   {
    "duration": 32,
    "start_time": "2024-05-08T19:51:37.188Z"
   },
   {
    "duration": 41,
    "start_time": "2024-05-08T19:51:37.221Z"
   },
   {
    "duration": 8,
    "start_time": "2024-05-08T19:51:37.264Z"
   },
   {
    "duration": 51,
    "start_time": "2024-05-08T19:51:37.274Z"
   },
   {
    "duration": 34,
    "start_time": "2024-05-08T19:51:37.326Z"
   },
   {
    "duration": 32,
    "start_time": "2024-05-08T19:51:37.362Z"
   },
   {
    "duration": 25,
    "start_time": "2024-05-08T19:51:37.396Z"
   },
   {
    "duration": 51,
    "start_time": "2024-05-08T19:51:37.422Z"
   },
   {
    "duration": 6,
    "start_time": "2024-05-08T19:51:37.474Z"
   },
   {
    "duration": 315,
    "start_time": "2024-05-08T19:51:37.482Z"
   },
   {
    "duration": 478,
    "start_time": "2024-05-08T19:51:37.799Z"
   },
   {
    "duration": 205,
    "start_time": "2024-05-08T19:51:38.279Z"
   },
   {
    "duration": 32,
    "start_time": "2024-05-08T19:51:38.486Z"
   },
   {
    "duration": 3886,
    "start_time": "2024-05-08T19:51:38.520Z"
   },
   {
    "duration": 118,
    "start_time": "2024-05-08T19:51:42.410Z"
   },
   {
    "duration": 0,
    "start_time": "2024-05-08T19:51:42.530Z"
   },
   {
    "duration": 0,
    "start_time": "2024-05-08T19:51:42.531Z"
   },
   {
    "duration": 0,
    "start_time": "2024-05-08T19:51:42.532Z"
   },
   {
    "duration": 0,
    "start_time": "2024-05-08T19:51:42.534Z"
   },
   {
    "duration": 0,
    "start_time": "2024-05-08T19:51:42.535Z"
   },
   {
    "duration": 0,
    "start_time": "2024-05-08T19:51:42.536Z"
   },
   {
    "duration": 0,
    "start_time": "2024-05-08T19:51:42.537Z"
   },
   {
    "duration": 1,
    "start_time": "2024-05-08T19:51:42.538Z"
   },
   {
    "duration": 0,
    "start_time": "2024-05-08T19:51:42.540Z"
   },
   {
    "duration": 0,
    "start_time": "2024-05-08T19:51:42.561Z"
   },
   {
    "duration": 0,
    "start_time": "2024-05-08T19:51:42.562Z"
   },
   {
    "duration": 0,
    "start_time": "2024-05-08T19:51:42.563Z"
   },
   {
    "duration": 8499,
    "start_time": "2024-05-08T19:56:19.716Z"
   },
   {
    "duration": 658,
    "start_time": "2024-05-08T19:56:28.217Z"
   },
   {
    "duration": 703,
    "start_time": "2024-05-08T19:56:28.877Z"
   },
   {
    "duration": 66,
    "start_time": "2024-05-08T19:56:29.582Z"
   },
   {
    "duration": 50,
    "start_time": "2024-05-08T19:56:29.649Z"
   },
   {
    "duration": 57,
    "start_time": "2024-05-08T19:56:29.701Z"
   },
   {
    "duration": 38,
    "start_time": "2024-05-08T19:56:29.760Z"
   },
   {
    "duration": 7,
    "start_time": "2024-05-08T19:56:29.799Z"
   },
   {
    "duration": 9,
    "start_time": "2024-05-08T19:56:29.808Z"
   },
   {
    "duration": 18,
    "start_time": "2024-05-08T19:56:29.820Z"
   },
   {
    "duration": 5,
    "start_time": "2024-05-08T19:56:29.840Z"
   },
   {
    "duration": 10,
    "start_time": "2024-05-08T19:56:29.861Z"
   },
   {
    "duration": 17,
    "start_time": "2024-05-08T19:56:29.872Z"
   },
   {
    "duration": 5,
    "start_time": "2024-05-08T19:56:29.891Z"
   },
   {
    "duration": 16,
    "start_time": "2024-05-08T19:56:29.898Z"
   },
   {
    "duration": 10,
    "start_time": "2024-05-08T19:56:29.915Z"
   },
   {
    "duration": 39,
    "start_time": "2024-05-08T19:56:29.927Z"
   },
   {
    "duration": 6,
    "start_time": "2024-05-08T19:56:29.968Z"
   },
   {
    "duration": 16,
    "start_time": "2024-05-08T19:56:29.976Z"
   },
   {
    "duration": 7,
    "start_time": "2024-05-08T19:56:29.994Z"
   },
   {
    "duration": 29,
    "start_time": "2024-05-08T19:56:30.002Z"
   },
   {
    "duration": 55,
    "start_time": "2024-05-08T19:56:30.033Z"
   },
   {
    "duration": 44,
    "start_time": "2024-05-08T19:56:30.090Z"
   },
   {
    "duration": 63,
    "start_time": "2024-05-08T19:56:30.135Z"
   },
   {
    "duration": 30,
    "start_time": "2024-05-08T19:56:30.200Z"
   },
   {
    "duration": 65,
    "start_time": "2024-05-08T19:56:30.231Z"
   },
   {
    "duration": 112,
    "start_time": "2024-05-08T19:56:30.297Z"
   },
   {
    "duration": 26,
    "start_time": "2024-05-08T19:56:30.413Z"
   },
   {
    "duration": 34,
    "start_time": "2024-05-08T19:56:30.441Z"
   },
   {
    "duration": 76,
    "start_time": "2024-05-08T19:56:30.478Z"
   },
   {
    "duration": 45,
    "start_time": "2024-05-08T19:56:30.556Z"
   },
   {
    "duration": 78,
    "start_time": "2024-05-08T19:56:30.603Z"
   },
   {
    "duration": 30,
    "start_time": "2024-05-08T19:56:30.683Z"
   },
   {
    "duration": 33,
    "start_time": "2024-05-08T19:56:30.715Z"
   },
   {
    "duration": 23,
    "start_time": "2024-05-08T19:56:30.750Z"
   },
   {
    "duration": 60,
    "start_time": "2024-05-08T19:56:30.775Z"
   },
   {
    "duration": 411,
    "start_time": "2024-05-08T19:56:30.837Z"
   },
   {
    "duration": 482,
    "start_time": "2024-05-08T19:56:31.250Z"
   },
   {
    "duration": 243,
    "start_time": "2024-05-08T19:56:31.734Z"
   },
   {
    "duration": 3967,
    "start_time": "2024-05-08T19:56:31.979Z"
   },
   {
    "duration": 126,
    "start_time": "2024-05-08T19:56:35.948Z"
   },
   {
    "duration": 0,
    "start_time": "2024-05-08T19:56:36.076Z"
   },
   {
    "duration": 0,
    "start_time": "2024-05-08T19:56:36.077Z"
   },
   {
    "duration": 0,
    "start_time": "2024-05-08T19:56:36.078Z"
   },
   {
    "duration": 0,
    "start_time": "2024-05-08T19:56:36.079Z"
   },
   {
    "duration": 0,
    "start_time": "2024-05-08T19:56:36.081Z"
   },
   {
    "duration": 0,
    "start_time": "2024-05-08T19:56:36.082Z"
   },
   {
    "duration": 0,
    "start_time": "2024-05-08T19:56:36.083Z"
   },
   {
    "duration": 0,
    "start_time": "2024-05-08T19:56:36.083Z"
   },
   {
    "duration": 0,
    "start_time": "2024-05-08T19:56:36.086Z"
   },
   {
    "duration": 0,
    "start_time": "2024-05-08T19:56:36.094Z"
   },
   {
    "duration": 0,
    "start_time": "2024-05-08T19:56:36.096Z"
   },
   {
    "duration": 0,
    "start_time": "2024-05-08T19:56:36.098Z"
   },
   {
    "duration": 530,
    "start_time": "2024-05-08T19:59:15.180Z"
   },
   {
    "duration": 2184,
    "start_time": "2024-05-08T20:05:43.897Z"
   },
   {
    "duration": 2121,
    "start_time": "2024-05-08T20:07:46.093Z"
   },
   {
    "duration": 2130,
    "start_time": "2024-05-08T20:09:48.564Z"
   },
   {
    "duration": 2132,
    "start_time": "2024-05-08T20:10:00.652Z"
   },
   {
    "duration": 2145,
    "start_time": "2024-05-08T20:10:08.280Z"
   },
   {
    "duration": 2180,
    "start_time": "2024-05-08T20:10:16.048Z"
   },
   {
    "duration": 2062,
    "start_time": "2024-05-08T20:10:23.693Z"
   },
   {
    "duration": 8126,
    "start_time": "2024-05-08T20:25:53.502Z"
   },
   {
    "duration": 729,
    "start_time": "2024-05-08T20:26:01.630Z"
   },
   {
    "duration": 674,
    "start_time": "2024-05-08T20:26:02.361Z"
   },
   {
    "duration": 70,
    "start_time": "2024-05-08T20:26:03.037Z"
   },
   {
    "duration": 41,
    "start_time": "2024-05-08T20:26:03.108Z"
   },
   {
    "duration": 58,
    "start_time": "2024-05-08T20:26:03.151Z"
   },
   {
    "duration": 38,
    "start_time": "2024-05-08T20:26:03.211Z"
   },
   {
    "duration": 7,
    "start_time": "2024-05-08T20:26:03.250Z"
   },
   {
    "duration": 10,
    "start_time": "2024-05-08T20:26:03.260Z"
   },
   {
    "duration": 15,
    "start_time": "2024-05-08T20:26:03.272Z"
   },
   {
    "duration": 4,
    "start_time": "2024-05-08T20:26:03.289Z"
   },
   {
    "duration": 4,
    "start_time": "2024-05-08T20:26:03.295Z"
   },
   {
    "duration": 16,
    "start_time": "2024-05-08T20:26:03.300Z"
   },
   {
    "duration": 4,
    "start_time": "2024-05-08T20:26:03.318Z"
   },
   {
    "duration": 44,
    "start_time": "2024-05-08T20:26:03.324Z"
   },
   {
    "duration": 7,
    "start_time": "2024-05-08T20:26:03.370Z"
   },
   {
    "duration": 9,
    "start_time": "2024-05-08T20:26:03.379Z"
   },
   {
    "duration": 12,
    "start_time": "2024-05-08T20:26:03.390Z"
   },
   {
    "duration": 12,
    "start_time": "2024-05-08T20:26:03.403Z"
   },
   {
    "duration": 14,
    "start_time": "2024-05-08T20:26:03.417Z"
   },
   {
    "duration": 29,
    "start_time": "2024-05-08T20:26:03.433Z"
   },
   {
    "duration": 16,
    "start_time": "2024-05-08T20:26:03.463Z"
   },
   {
    "duration": 3,
    "start_time": "2024-05-08T20:26:03.480Z"
   },
   {
    "duration": 33,
    "start_time": "2024-05-08T20:26:03.485Z"
   },
   {
    "duration": 42,
    "start_time": "2024-05-08T20:26:03.520Z"
   },
   {
    "duration": 22,
    "start_time": "2024-05-08T20:26:03.563Z"
   },
   {
    "duration": 32,
    "start_time": "2024-05-08T20:26:03.587Z"
   },
   {
    "duration": 41,
    "start_time": "2024-05-08T20:26:03.622Z"
   },
   {
    "duration": 8,
    "start_time": "2024-05-08T20:26:03.665Z"
   },
   {
    "duration": 54,
    "start_time": "2024-05-08T20:26:03.674Z"
   },
   {
    "duration": 32,
    "start_time": "2024-05-08T20:26:03.729Z"
   },
   {
    "duration": 33,
    "start_time": "2024-05-08T20:26:03.762Z"
   },
   {
    "duration": 23,
    "start_time": "2024-05-08T20:26:03.796Z"
   },
   {
    "duration": 51,
    "start_time": "2024-05-08T20:26:03.820Z"
   },
   {
    "duration": 7,
    "start_time": "2024-05-08T20:26:03.873Z"
   },
   {
    "duration": 24,
    "start_time": "2024-05-08T20:26:03.882Z"
   },
   {
    "duration": 2137,
    "start_time": "2024-05-08T20:26:03.907Z"
   },
   {
    "duration": 693,
    "start_time": "2024-05-08T20:26:06.046Z"
   },
   {
    "duration": 353,
    "start_time": "2024-05-08T20:26:06.741Z"
   },
   {
    "duration": 136,
    "start_time": "2024-05-08T20:26:07.096Z"
   },
   {
    "duration": 0,
    "start_time": "2024-05-08T20:26:07.233Z"
   },
   {
    "duration": 0,
    "start_time": "2024-05-08T20:26:07.234Z"
   },
   {
    "duration": 0,
    "start_time": "2024-05-08T20:26:07.235Z"
   },
   {
    "duration": 0,
    "start_time": "2024-05-08T20:26:07.236Z"
   },
   {
    "duration": 0,
    "start_time": "2024-05-08T20:26:07.237Z"
   },
   {
    "duration": 0,
    "start_time": "2024-05-08T20:26:07.239Z"
   },
   {
    "duration": 0,
    "start_time": "2024-05-08T20:26:07.239Z"
   },
   {
    "duration": 0,
    "start_time": "2024-05-08T20:26:07.241Z"
   },
   {
    "duration": 0,
    "start_time": "2024-05-08T20:26:07.242Z"
   },
   {
    "duration": 0,
    "start_time": "2024-05-08T20:26:07.243Z"
   },
   {
    "duration": 0,
    "start_time": "2024-05-08T20:26:07.260Z"
   },
   {
    "duration": 0,
    "start_time": "2024-05-08T20:26:07.262Z"
   },
   {
    "duration": 0,
    "start_time": "2024-05-08T20:26:07.263Z"
   },
   {
    "duration": 0,
    "start_time": "2024-05-08T20:26:07.264Z"
   },
   {
    "duration": 3742,
    "start_time": "2024-05-08T20:31:47.952Z"
   },
   {
    "duration": 8086,
    "start_time": "2024-05-08T20:32:45.348Z"
   },
   {
    "duration": 678,
    "start_time": "2024-05-08T20:32:53.437Z"
   },
   {
    "duration": 680,
    "start_time": "2024-05-08T20:32:54.117Z"
   },
   {
    "duration": 70,
    "start_time": "2024-05-08T20:32:54.799Z"
   },
   {
    "duration": 40,
    "start_time": "2024-05-08T20:32:54.871Z"
   },
   {
    "duration": 58,
    "start_time": "2024-05-08T20:32:54.913Z"
   },
   {
    "duration": 38,
    "start_time": "2024-05-08T20:32:54.973Z"
   },
   {
    "duration": 7,
    "start_time": "2024-05-08T20:32:55.013Z"
   },
   {
    "duration": 12,
    "start_time": "2024-05-08T20:32:55.022Z"
   },
   {
    "duration": 22,
    "start_time": "2024-05-08T20:32:55.037Z"
   },
   {
    "duration": 12,
    "start_time": "2024-05-08T20:32:55.061Z"
   },
   {
    "duration": 19,
    "start_time": "2024-05-08T20:32:55.074Z"
   },
   {
    "duration": 21,
    "start_time": "2024-05-08T20:32:55.095Z"
   },
   {
    "duration": 6,
    "start_time": "2024-05-08T20:32:55.118Z"
   },
   {
    "duration": 12,
    "start_time": "2024-05-08T20:32:55.125Z"
   },
   {
    "duration": 13,
    "start_time": "2024-05-08T20:32:55.139Z"
   },
   {
    "duration": 22,
    "start_time": "2024-05-08T20:32:55.153Z"
   },
   {
    "duration": 4,
    "start_time": "2024-05-08T20:32:55.177Z"
   },
   {
    "duration": 11,
    "start_time": "2024-05-08T20:32:55.182Z"
   },
   {
    "duration": 10,
    "start_time": "2024-05-08T20:32:55.194Z"
   },
   {
    "duration": 11,
    "start_time": "2024-05-08T20:32:55.206Z"
   },
   {
    "duration": 15,
    "start_time": "2024-05-08T20:32:55.218Z"
   },
   {
    "duration": 3,
    "start_time": "2024-05-08T20:32:55.235Z"
   },
   {
    "duration": 46,
    "start_time": "2024-05-08T20:32:55.239Z"
   },
   {
    "duration": 16,
    "start_time": "2024-05-08T20:32:55.287Z"
   },
   {
    "duration": 24,
    "start_time": "2024-05-08T20:32:55.304Z"
   },
   {
    "duration": 57,
    "start_time": "2024-05-08T20:32:55.329Z"
   },
   {
    "duration": 13,
    "start_time": "2024-05-08T20:32:55.391Z"
   },
   {
    "duration": 8,
    "start_time": "2024-05-08T20:32:55.406Z"
   },
   {
    "duration": 69,
    "start_time": "2024-05-08T20:32:55.415Z"
   },
   {
    "duration": 17,
    "start_time": "2024-05-08T20:32:55.486Z"
   },
   {
    "duration": 33,
    "start_time": "2024-05-08T20:32:55.505Z"
   },
   {
    "duration": 22,
    "start_time": "2024-05-08T20:32:55.561Z"
   },
   {
    "duration": 29,
    "start_time": "2024-05-08T20:32:55.585Z"
   },
   {
    "duration": 8,
    "start_time": "2024-05-08T20:32:55.616Z"
   },
   {
    "duration": 49,
    "start_time": "2024-05-08T20:32:55.625Z"
   },
   {
    "duration": 2127,
    "start_time": "2024-05-08T20:32:55.676Z"
   },
   {
    "duration": 659,
    "start_time": "2024-05-08T20:32:57.805Z"
   },
   {
    "duration": 302,
    "start_time": "2024-05-08T20:32:58.466Z"
   },
   {
    "duration": 3844,
    "start_time": "2024-05-08T20:32:58.770Z"
   },
   {
    "duration": 130,
    "start_time": "2024-05-08T20:33:02.616Z"
   },
   {
    "duration": 0,
    "start_time": "2024-05-08T20:33:02.748Z"
   },
   {
    "duration": 0,
    "start_time": "2024-05-08T20:33:02.750Z"
   },
   {
    "duration": 0,
    "start_time": "2024-05-08T20:33:02.751Z"
   },
   {
    "duration": 0,
    "start_time": "2024-05-08T20:33:02.761Z"
   },
   {
    "duration": 0,
    "start_time": "2024-05-08T20:33:02.762Z"
   },
   {
    "duration": 0,
    "start_time": "2024-05-08T20:33:02.763Z"
   },
   {
    "duration": 0,
    "start_time": "2024-05-08T20:33:02.764Z"
   },
   {
    "duration": 0,
    "start_time": "2024-05-08T20:33:02.765Z"
   },
   {
    "duration": 0,
    "start_time": "2024-05-08T20:33:02.766Z"
   },
   {
    "duration": 0,
    "start_time": "2024-05-08T20:33:02.767Z"
   },
   {
    "duration": 0,
    "start_time": "2024-05-08T20:33:02.769Z"
   },
   {
    "duration": 0,
    "start_time": "2024-05-08T20:33:02.770Z"
   },
   {
    "duration": 0,
    "start_time": "2024-05-08T20:33:02.771Z"
   },
   {
    "duration": 8360,
    "start_time": "2024-05-08T20:48:52.286Z"
   },
   {
    "duration": 705,
    "start_time": "2024-05-08T20:49:00.648Z"
   },
   {
    "duration": 656,
    "start_time": "2024-05-08T20:49:01.355Z"
   },
   {
    "duration": 67,
    "start_time": "2024-05-08T20:49:02.013Z"
   },
   {
    "duration": 39,
    "start_time": "2024-05-08T20:49:02.082Z"
   },
   {
    "duration": 59,
    "start_time": "2024-05-08T20:49:02.123Z"
   },
   {
    "duration": 46,
    "start_time": "2024-05-08T20:49:02.183Z"
   },
   {
    "duration": 7,
    "start_time": "2024-05-08T20:49:02.230Z"
   },
   {
    "duration": 9,
    "start_time": "2024-05-08T20:49:02.239Z"
   },
   {
    "duration": 17,
    "start_time": "2024-05-08T20:49:02.260Z"
   },
   {
    "duration": 5,
    "start_time": "2024-05-08T20:49:02.278Z"
   },
   {
    "duration": 5,
    "start_time": "2024-05-08T20:49:02.284Z"
   },
   {
    "duration": 15,
    "start_time": "2024-05-08T20:49:02.290Z"
   },
   {
    "duration": 22,
    "start_time": "2024-05-08T20:49:02.307Z"
   },
   {
    "duration": 32,
    "start_time": "2024-05-08T20:49:02.330Z"
   },
   {
    "duration": 4,
    "start_time": "2024-05-08T20:49:02.363Z"
   },
   {
    "duration": 16,
    "start_time": "2024-05-08T20:49:02.369Z"
   },
   {
    "duration": 12,
    "start_time": "2024-05-08T20:49:02.387Z"
   },
   {
    "duration": 11,
    "start_time": "2024-05-08T20:49:02.401Z"
   },
   {
    "duration": 22,
    "start_time": "2024-05-08T20:49:02.414Z"
   },
   {
    "duration": 9,
    "start_time": "2024-05-08T20:49:02.439Z"
   },
   {
    "duration": 34,
    "start_time": "2024-05-08T20:49:02.449Z"
   },
   {
    "duration": 7,
    "start_time": "2024-05-08T20:49:02.485Z"
   },
   {
    "duration": 42,
    "start_time": "2024-05-08T20:49:02.494Z"
   },
   {
    "duration": 31,
    "start_time": "2024-05-08T20:49:02.538Z"
   },
   {
    "duration": 28,
    "start_time": "2024-05-08T20:49:02.570Z"
   },
   {
    "duration": 31,
    "start_time": "2024-05-08T20:49:02.600Z"
   },
   {
    "duration": 33,
    "start_time": "2024-05-08T20:49:02.634Z"
   },
   {
    "duration": 7,
    "start_time": "2024-05-08T20:49:02.669Z"
   },
   {
    "duration": 48,
    "start_time": "2024-05-08T20:49:02.678Z"
   },
   {
    "duration": 42,
    "start_time": "2024-05-08T20:49:02.728Z"
   },
   {
    "duration": 46,
    "start_time": "2024-05-08T20:49:02.772Z"
   },
   {
    "duration": 23,
    "start_time": "2024-05-08T20:49:02.820Z"
   },
   {
    "duration": 38,
    "start_time": "2024-05-08T20:49:02.845Z"
   },
   {
    "duration": 8,
    "start_time": "2024-05-08T20:49:02.885Z"
   },
   {
    "duration": 21,
    "start_time": "2024-05-08T20:49:02.895Z"
   },
   {
    "duration": 2160,
    "start_time": "2024-05-08T20:49:02.918Z"
   },
   {
    "duration": 746,
    "start_time": "2024-05-08T20:49:05.079Z"
   },
   {
    "duration": 316,
    "start_time": "2024-05-08T20:49:05.827Z"
   },
   {
    "duration": 3921,
    "start_time": "2024-05-08T20:49:06.145Z"
   },
   {
    "duration": 3,
    "start_time": "2024-05-08T20:49:10.068Z"
   },
   {
    "duration": 23,
    "start_time": "2024-05-08T20:49:10.073Z"
   },
   {
    "duration": 26,
    "start_time": "2024-05-08T20:49:10.098Z"
   },
   {
    "duration": 10,
    "start_time": "2024-05-08T20:49:10.126Z"
   },
   {
    "duration": 120,
    "start_time": "2024-05-08T20:49:10.138Z"
   },
   {
    "duration": 0,
    "start_time": "2024-05-08T20:49:10.260Z"
   },
   {
    "duration": 0,
    "start_time": "2024-05-08T20:49:10.261Z"
   },
   {
    "duration": 0,
    "start_time": "2024-05-08T20:49:10.263Z"
   },
   {
    "duration": 0,
    "start_time": "2024-05-08T20:49:10.264Z"
   },
   {
    "duration": 0,
    "start_time": "2024-05-08T20:49:10.266Z"
   },
   {
    "duration": 0,
    "start_time": "2024-05-08T20:49:10.267Z"
   },
   {
    "duration": 0,
    "start_time": "2024-05-08T20:49:10.269Z"
   },
   {
    "duration": 0,
    "start_time": "2024-05-08T20:49:10.270Z"
   },
   {
    "duration": 27,
    "start_time": "2024-05-08T20:50:50.986Z"
   },
   {
    "duration": 56,
    "start_time": "2024-05-08T20:51:01.591Z"
   },
   {
    "duration": 194,
    "start_time": "2024-05-08T20:51:45.074Z"
   },
   {
    "duration": 64,
    "start_time": "2024-05-08T20:55:08.065Z"
   },
   {
    "duration": 12,
    "start_time": "2024-05-08T20:58:17.678Z"
   },
   {
    "duration": 5,
    "start_time": "2024-05-08T20:58:28.608Z"
   },
   {
    "duration": 6810,
    "start_time": "2024-05-08T20:59:24.052Z"
   },
   {
    "duration": 8267,
    "start_time": "2024-05-08T21:00:15.405Z"
   },
   {
    "duration": 657,
    "start_time": "2024-05-08T21:00:23.674Z"
   },
   {
    "duration": 640,
    "start_time": "2024-05-08T21:00:24.333Z"
   },
   {
    "duration": 78,
    "start_time": "2024-05-08T21:00:24.975Z"
   },
   {
    "duration": 44,
    "start_time": "2024-05-08T21:00:25.055Z"
   },
   {
    "duration": 58,
    "start_time": "2024-05-08T21:00:25.101Z"
   },
   {
    "duration": 38,
    "start_time": "2024-05-08T21:00:25.161Z"
   },
   {
    "duration": 8,
    "start_time": "2024-05-08T21:00:25.200Z"
   },
   {
    "duration": 20,
    "start_time": "2024-05-08T21:00:25.209Z"
   },
   {
    "duration": 16,
    "start_time": "2024-05-08T21:00:25.232Z"
   },
   {
    "duration": 13,
    "start_time": "2024-05-08T21:00:25.249Z"
   },
   {
    "duration": 6,
    "start_time": "2024-05-08T21:00:25.264Z"
   },
   {
    "duration": 20,
    "start_time": "2024-05-08T21:00:25.272Z"
   },
   {
    "duration": 4,
    "start_time": "2024-05-08T21:00:25.294Z"
   },
   {
    "duration": 33,
    "start_time": "2024-05-08T21:00:25.300Z"
   },
   {
    "duration": 5,
    "start_time": "2024-05-08T21:00:25.334Z"
   },
   {
    "duration": 25,
    "start_time": "2024-05-08T21:00:25.341Z"
   },
   {
    "duration": 18,
    "start_time": "2024-05-08T21:00:25.367Z"
   },
   {
    "duration": 13,
    "start_time": "2024-05-08T21:00:25.387Z"
   },
   {
    "duration": 9,
    "start_time": "2024-05-08T21:00:25.402Z"
   },
   {
    "duration": 9,
    "start_time": "2024-05-08T21:00:25.413Z"
   },
   {
    "duration": 27,
    "start_time": "2024-05-08T21:00:25.423Z"
   },
   {
    "duration": 8,
    "start_time": "2024-05-08T21:00:25.452Z"
   },
   {
    "duration": 41,
    "start_time": "2024-05-08T21:00:25.462Z"
   },
   {
    "duration": 15,
    "start_time": "2024-05-08T21:00:25.504Z"
   },
   {
    "duration": 41,
    "start_time": "2024-05-08T21:00:25.521Z"
   },
   {
    "duration": 33,
    "start_time": "2024-05-08T21:00:25.564Z"
   },
   {
    "duration": 14,
    "start_time": "2024-05-08T21:00:25.600Z"
   },
   {
    "duration": 7,
    "start_time": "2024-05-08T21:00:25.615Z"
   },
   {
    "duration": 73,
    "start_time": "2024-05-08T21:00:25.624Z"
   },
   {
    "duration": 18,
    "start_time": "2024-05-08T21:00:25.699Z"
   },
   {
    "duration": 47,
    "start_time": "2024-05-08T21:00:25.719Z"
   },
   {
    "duration": 22,
    "start_time": "2024-05-08T21:00:25.767Z"
   },
   {
    "duration": 35,
    "start_time": "2024-05-08T21:00:25.790Z"
   },
   {
    "duration": 33,
    "start_time": "2024-05-08T21:00:25.828Z"
   },
   {
    "duration": 20,
    "start_time": "2024-05-08T21:00:25.862Z"
   },
   {
    "duration": 2219,
    "start_time": "2024-05-08T21:00:25.884Z"
   },
   {
    "duration": 710,
    "start_time": "2024-05-08T21:00:28.104Z"
   },
   {
    "duration": 317,
    "start_time": "2024-05-08T21:00:28.816Z"
   },
   {
    "duration": 3963,
    "start_time": "2024-05-08T21:00:29.135Z"
   },
   {
    "duration": 3,
    "start_time": "2024-05-08T21:00:33.100Z"
   },
   {
    "duration": 33,
    "start_time": "2024-05-08T21:00:33.105Z"
   },
   {
    "duration": 36,
    "start_time": "2024-05-08T21:00:33.140Z"
   },
   {
    "duration": 28,
    "start_time": "2024-05-08T21:00:33.178Z"
   },
   {
    "duration": 19,
    "start_time": "2024-05-08T21:00:33.208Z"
   },
   {
    "duration": 590,
    "start_time": "2024-05-08T21:00:33.229Z"
   },
   {
    "duration": 128,
    "start_time": "2024-05-08T21:00:33.820Z"
   },
   {
    "duration": 0,
    "start_time": "2024-05-08T21:00:33.949Z"
   },
   {
    "duration": 0,
    "start_time": "2024-05-08T21:00:33.950Z"
   },
   {
    "duration": 0,
    "start_time": "2024-05-08T21:00:33.951Z"
   },
   {
    "duration": 0,
    "start_time": "2024-05-08T21:00:33.965Z"
   },
   {
    "duration": 0,
    "start_time": "2024-05-08T21:00:33.966Z"
   },
   {
    "duration": 8804,
    "start_time": "2024-05-08T21:01:11.643Z"
   },
   {
    "duration": 694,
    "start_time": "2024-05-08T21:01:20.449Z"
   },
   {
    "duration": 662,
    "start_time": "2024-05-08T21:01:21.144Z"
   },
   {
    "duration": 73,
    "start_time": "2024-05-08T21:01:21.808Z"
   },
   {
    "duration": 43,
    "start_time": "2024-05-08T21:01:21.883Z"
   },
   {
    "duration": 64,
    "start_time": "2024-05-08T21:01:21.928Z"
   },
   {
    "duration": 37,
    "start_time": "2024-05-08T21:01:21.994Z"
   },
   {
    "duration": 7,
    "start_time": "2024-05-08T21:01:22.033Z"
   },
   {
    "duration": 8,
    "start_time": "2024-05-08T21:01:22.041Z"
   },
   {
    "duration": 14,
    "start_time": "2024-05-08T21:01:22.062Z"
   },
   {
    "duration": 5,
    "start_time": "2024-05-08T21:01:22.078Z"
   },
   {
    "duration": 6,
    "start_time": "2024-05-08T21:01:22.085Z"
   },
   {
    "duration": 15,
    "start_time": "2024-05-08T21:01:22.092Z"
   },
   {
    "duration": 3,
    "start_time": "2024-05-08T21:01:22.109Z"
   },
   {
    "duration": 11,
    "start_time": "2024-05-08T21:01:22.114Z"
   },
   {
    "duration": 36,
    "start_time": "2024-05-08T21:01:22.127Z"
   },
   {
    "duration": 11,
    "start_time": "2024-05-08T21:01:22.164Z"
   },
   {
    "duration": 8,
    "start_time": "2024-05-08T21:01:22.176Z"
   },
   {
    "duration": 16,
    "start_time": "2024-05-08T21:01:22.186Z"
   },
   {
    "duration": 6,
    "start_time": "2024-05-08T21:01:22.204Z"
   },
   {
    "duration": 11,
    "start_time": "2024-05-08T21:01:22.211Z"
   },
   {
    "duration": 38,
    "start_time": "2024-05-08T21:01:22.223Z"
   },
   {
    "duration": 3,
    "start_time": "2024-05-08T21:01:22.262Z"
   },
   {
    "duration": 39,
    "start_time": "2024-05-08T21:01:22.266Z"
   },
   {
    "duration": 15,
    "start_time": "2024-05-08T21:01:22.307Z"
   },
   {
    "duration": 49,
    "start_time": "2024-05-08T21:01:22.324Z"
   },
   {
    "duration": 33,
    "start_time": "2024-05-08T21:01:22.375Z"
   },
   {
    "duration": 13,
    "start_time": "2024-05-08T21:01:22.413Z"
   },
   {
    "duration": 51,
    "start_time": "2024-05-08T21:01:22.427Z"
   },
   {
    "duration": 76,
    "start_time": "2024-05-08T21:01:22.480Z"
   },
   {
    "duration": 17,
    "start_time": "2024-05-08T21:01:22.558Z"
   },
   {
    "duration": 37,
    "start_time": "2024-05-08T21:01:22.577Z"
   },
   {
    "duration": 23,
    "start_time": "2024-05-08T21:01:22.616Z"
   },
   {
    "duration": 38,
    "start_time": "2024-05-08T21:01:22.640Z"
   },
   {
    "duration": 6,
    "start_time": "2024-05-08T21:01:22.679Z"
   },
   {
    "duration": 27,
    "start_time": "2024-05-08T21:01:22.686Z"
   },
   {
    "duration": 2171,
    "start_time": "2024-05-08T21:01:22.715Z"
   },
   {
    "duration": 669,
    "start_time": "2024-05-08T21:01:24.888Z"
   },
   {
    "duration": 294,
    "start_time": "2024-05-08T21:01:25.559Z"
   },
   {
    "duration": 3931,
    "start_time": "2024-05-08T21:01:25.855Z"
   },
   {
    "duration": 2,
    "start_time": "2024-05-08T21:01:29.788Z"
   },
   {
    "duration": 36,
    "start_time": "2024-05-08T21:01:29.792Z"
   },
   {
    "duration": 21,
    "start_time": "2024-05-08T21:01:29.829Z"
   },
   {
    "duration": 35,
    "start_time": "2024-05-08T21:01:29.852Z"
   },
   {
    "duration": 4,
    "start_time": "2024-05-08T21:01:29.889Z"
   },
   {
    "duration": 6867,
    "start_time": "2024-05-08T21:01:29.895Z"
   },
   {
    "duration": 130,
    "start_time": "2024-05-08T21:01:36.763Z"
   },
   {
    "duration": 1,
    "start_time": "2024-05-08T21:01:36.894Z"
   },
   {
    "duration": 0,
    "start_time": "2024-05-08T21:01:36.896Z"
   },
   {
    "duration": 0,
    "start_time": "2024-05-08T21:01:36.897Z"
   },
   {
    "duration": 0,
    "start_time": "2024-05-08T21:01:36.898Z"
   },
   {
    "duration": 0,
    "start_time": "2024-05-08T21:01:36.899Z"
   },
   {
    "duration": 334,
    "start_time": "2024-05-08T21:01:46.494Z"
   },
   {
    "duration": 23953,
    "start_time": "2024-05-08T21:02:05.763Z"
   },
   {
    "duration": 51,
    "start_time": "2024-05-08T21:02:40.724Z"
   },
   {
    "duration": 8230,
    "start_time": "2024-05-08T21:02:47.283Z"
   },
   {
    "duration": 69078,
    "start_time": "2024-05-08T21:03:09.692Z"
   },
   {
    "duration": 45,
    "start_time": "2024-05-08T21:15:46.963Z"
   },
   {
    "duration": 50294,
    "start_time": "2024-05-08T21:16:12.480Z"
   },
   {
    "duration": 4,
    "start_time": "2024-05-08T21:17:51.910Z"
   },
   {
    "duration": 21,
    "start_time": "2024-05-08T21:19:04.320Z"
   },
   {
    "duration": 17,
    "start_time": "2024-05-08T21:19:20.170Z"
   },
   {
    "duration": 29,
    "start_time": "2024-05-08T21:22:43.842Z"
   },
   {
    "duration": 12,
    "start_time": "2024-05-08T21:22:49.636Z"
   },
   {
    "duration": 8298,
    "start_time": "2024-05-08T21:25:46.822Z"
   },
   {
    "duration": 658,
    "start_time": "2024-05-08T21:25:55.123Z"
   },
   {
    "duration": 676,
    "start_time": "2024-05-08T21:25:55.785Z"
   },
   {
    "duration": 68,
    "start_time": "2024-05-08T21:25:56.463Z"
   },
   {
    "duration": 40,
    "start_time": "2024-05-08T21:25:56.532Z"
   },
   {
    "duration": 57,
    "start_time": "2024-05-08T21:25:56.574Z"
   },
   {
    "duration": 37,
    "start_time": "2024-05-08T21:25:56.633Z"
   },
   {
    "duration": 7,
    "start_time": "2024-05-08T21:25:56.671Z"
   },
   {
    "duration": 6,
    "start_time": "2024-05-08T21:25:56.681Z"
   },
   {
    "duration": 17,
    "start_time": "2024-05-08T21:25:56.688Z"
   },
   {
    "duration": 5,
    "start_time": "2024-05-08T21:25:56.706Z"
   },
   {
    "duration": 5,
    "start_time": "2024-05-08T21:25:56.713Z"
   },
   {
    "duration": 42,
    "start_time": "2024-05-08T21:25:56.720Z"
   },
   {
    "duration": 5,
    "start_time": "2024-05-08T21:25:56.763Z"
   },
   {
    "duration": 16,
    "start_time": "2024-05-08T21:25:56.769Z"
   },
   {
    "duration": 6,
    "start_time": "2024-05-08T21:25:56.787Z"
   },
   {
    "duration": 14,
    "start_time": "2024-05-08T21:25:56.795Z"
   },
   {
    "duration": 7,
    "start_time": "2024-05-08T21:25:56.811Z"
   },
   {
    "duration": 45,
    "start_time": "2024-05-08T21:25:56.820Z"
   },
   {
    "duration": 4,
    "start_time": "2024-05-08T21:25:56.867Z"
   },
   {
    "duration": 13,
    "start_time": "2024-05-08T21:25:56.873Z"
   },
   {
    "duration": 24,
    "start_time": "2024-05-08T21:25:56.888Z"
   },
   {
    "duration": 3,
    "start_time": "2024-05-08T21:25:56.913Z"
   },
   {
    "duration": 61,
    "start_time": "2024-05-08T21:25:56.918Z"
   },
   {
    "duration": 13,
    "start_time": "2024-05-08T21:25:56.981Z"
   },
   {
    "duration": 24,
    "start_time": "2024-05-08T21:25:56.996Z"
   },
   {
    "duration": 59,
    "start_time": "2024-05-08T21:25:57.024Z"
   },
   {
    "duration": 18,
    "start_time": "2024-05-08T21:25:57.085Z"
   },
   {
    "duration": 11,
    "start_time": "2024-05-08T21:25:57.106Z"
   },
   {
    "duration": 71,
    "start_time": "2024-05-08T21:25:57.118Z"
   },
   {
    "duration": 17,
    "start_time": "2024-05-08T21:25:57.191Z"
   },
   {
    "duration": 30,
    "start_time": "2024-05-08T21:25:57.210Z"
   },
   {
    "duration": 23,
    "start_time": "2024-05-08T21:25:57.261Z"
   },
   {
    "duration": 27,
    "start_time": "2024-05-08T21:25:57.286Z"
   },
   {
    "duration": 6,
    "start_time": "2024-05-08T21:25:57.315Z"
   },
   {
    "duration": 48,
    "start_time": "2024-05-08T21:25:57.323Z"
   },
   {
    "duration": 2130,
    "start_time": "2024-05-08T21:25:57.373Z"
   },
   {
    "duration": 678,
    "start_time": "2024-05-08T21:25:59.505Z"
   },
   {
    "duration": 296,
    "start_time": "2024-05-08T21:26:00.185Z"
   },
   {
    "duration": 3839,
    "start_time": "2024-05-08T21:26:00.483Z"
   },
   {
    "duration": 3,
    "start_time": "2024-05-08T21:26:04.324Z"
   },
   {
    "duration": 16,
    "start_time": "2024-05-08T21:26:04.329Z"
   },
   {
    "duration": 15,
    "start_time": "2024-05-08T21:26:04.347Z"
   },
   {
    "duration": 25,
    "start_time": "2024-05-08T21:26:04.363Z"
   },
   {
    "duration": 6877,
    "start_time": "2024-05-08T21:26:04.390Z"
   },
   {
    "duration": 24040,
    "start_time": "2024-05-08T21:26:11.360Z"
   },
   {
    "duration": 8720,
    "start_time": "2024-05-08T21:26:35.402Z"
   },
   {
    "duration": 12443,
    "start_time": "2024-05-08T21:26:44.124Z"
   },
   {
    "duration": 3,
    "start_time": "2024-05-08T21:26:56.569Z"
   },
   {
    "duration": 91,
    "start_time": "2024-05-08T21:26:56.574Z"
   },
   {
    "duration": 8146,
    "start_time": "2024-05-08T21:28:38.684Z"
   },
   {
    "duration": 686,
    "start_time": "2024-05-08T21:28:46.833Z"
   },
   {
    "duration": 653,
    "start_time": "2024-05-08T21:28:47.521Z"
   },
   {
    "duration": 78,
    "start_time": "2024-05-08T21:28:48.176Z"
   },
   {
    "duration": 41,
    "start_time": "2024-05-08T21:28:48.255Z"
   },
   {
    "duration": 59,
    "start_time": "2024-05-08T21:28:48.298Z"
   },
   {
    "duration": 51,
    "start_time": "2024-05-08T21:28:48.360Z"
   },
   {
    "duration": 7,
    "start_time": "2024-05-08T21:28:48.413Z"
   },
   {
    "duration": 15,
    "start_time": "2024-05-08T21:28:48.422Z"
   },
   {
    "duration": 43,
    "start_time": "2024-05-08T21:28:48.440Z"
   },
   {
    "duration": 7,
    "start_time": "2024-05-08T21:28:48.485Z"
   },
   {
    "duration": 20,
    "start_time": "2024-05-08T21:28:48.494Z"
   },
   {
    "duration": 25,
    "start_time": "2024-05-08T21:28:48.516Z"
   },
   {
    "duration": 5,
    "start_time": "2024-05-08T21:28:48.543Z"
   },
   {
    "duration": 19,
    "start_time": "2024-05-08T21:28:48.549Z"
   },
   {
    "duration": 5,
    "start_time": "2024-05-08T21:28:48.570Z"
   },
   {
    "duration": 11,
    "start_time": "2024-05-08T21:28:48.576Z"
   },
   {
    "duration": 6,
    "start_time": "2024-05-08T21:28:48.589Z"
   },
   {
    "duration": 23,
    "start_time": "2024-05-08T21:28:48.597Z"
   },
   {
    "duration": 10,
    "start_time": "2024-05-08T21:28:48.622Z"
   },
   {
    "duration": 34,
    "start_time": "2024-05-08T21:28:48.633Z"
   },
   {
    "duration": 23,
    "start_time": "2024-05-08T21:28:48.669Z"
   },
   {
    "duration": 3,
    "start_time": "2024-05-08T21:28:48.695Z"
   },
   {
    "duration": 61,
    "start_time": "2024-05-08T21:28:48.700Z"
   },
   {
    "duration": 16,
    "start_time": "2024-05-08T21:28:48.762Z"
   },
   {
    "duration": 41,
    "start_time": "2024-05-08T21:28:48.780Z"
   },
   {
    "duration": 50,
    "start_time": "2024-05-08T21:28:48.823Z"
   },
   {
    "duration": 14,
    "start_time": "2024-05-08T21:28:48.876Z"
   },
   {
    "duration": 7,
    "start_time": "2024-05-08T21:28:48.892Z"
   },
   {
    "duration": 71,
    "start_time": "2024-05-08T21:28:48.900Z"
   },
   {
    "duration": 17,
    "start_time": "2024-05-08T21:28:48.973Z"
   },
   {
    "duration": 31,
    "start_time": "2024-05-08T21:28:48.992Z"
   },
   {
    "duration": 54,
    "start_time": "2024-05-08T21:28:49.025Z"
   },
   {
    "duration": 25,
    "start_time": "2024-05-08T21:28:49.081Z"
   },
   {
    "duration": 6,
    "start_time": "2024-05-08T21:28:49.108Z"
   },
   {
    "duration": 20,
    "start_time": "2024-05-08T21:28:49.115Z"
   },
   {
    "duration": 2159,
    "start_time": "2024-05-08T21:28:49.161Z"
   },
   {
    "duration": 783,
    "start_time": "2024-05-08T21:28:51.322Z"
   },
   {
    "duration": 311,
    "start_time": "2024-05-08T21:28:52.107Z"
   },
   {
    "duration": 3823,
    "start_time": "2024-05-08T21:28:52.419Z"
   },
   {
    "duration": 4,
    "start_time": "2024-05-08T21:28:56.244Z"
   },
   {
    "duration": 15,
    "start_time": "2024-05-08T21:28:56.250Z"
   },
   {
    "duration": 10,
    "start_time": "2024-05-08T21:28:56.266Z"
   },
   {
    "duration": 23,
    "start_time": "2024-05-08T21:28:56.278Z"
   },
   {
    "duration": 588,
    "start_time": "2024-05-08T21:28:56.303Z"
   },
   {
    "duration": 22130,
    "start_time": "2024-05-08T21:28:56.893Z"
   },
   {
    "duration": 7834,
    "start_time": "2024-05-08T21:29:19.025Z"
   },
   {
    "duration": 13810,
    "start_time": "2024-05-08T21:29:26.861Z"
   },
   {
    "duration": 3,
    "start_time": "2024-05-08T21:29:40.673Z"
   },
   {
    "duration": 88,
    "start_time": "2024-05-08T21:29:40.678Z"
   },
   {
    "duration": 4,
    "start_time": "2024-05-08T21:31:30.137Z"
   },
   {
    "duration": 8239,
    "start_time": "2024-05-08T21:32:21.150Z"
   },
   {
    "duration": 652,
    "start_time": "2024-05-08T21:32:29.391Z"
   },
   {
    "duration": 744,
    "start_time": "2024-05-08T21:32:30.045Z"
   },
   {
    "duration": 76,
    "start_time": "2024-05-08T21:32:30.791Z"
   },
   {
    "duration": 45,
    "start_time": "2024-05-08T21:32:30.869Z"
   },
   {
    "duration": 64,
    "start_time": "2024-05-08T21:32:30.915Z"
   },
   {
    "duration": 61,
    "start_time": "2024-05-08T21:32:30.981Z"
   },
   {
    "duration": 51,
    "start_time": "2024-05-08T21:32:31.044Z"
   },
   {
    "duration": 49,
    "start_time": "2024-05-08T21:32:31.097Z"
   },
   {
    "duration": 43,
    "start_time": "2024-05-08T21:32:31.150Z"
   },
   {
    "duration": 55,
    "start_time": "2024-05-08T21:32:31.195Z"
   },
   {
    "duration": 52,
    "start_time": "2024-05-08T21:32:31.252Z"
   },
   {
    "duration": 66,
    "start_time": "2024-05-08T21:32:31.305Z"
   },
   {
    "duration": 30,
    "start_time": "2024-05-08T21:32:31.372Z"
   },
   {
    "duration": 33,
    "start_time": "2024-05-08T21:32:31.404Z"
   },
   {
    "duration": 78,
    "start_time": "2024-05-08T21:32:31.438Z"
   },
   {
    "duration": 37,
    "start_time": "2024-05-08T21:32:31.518Z"
   },
   {
    "duration": 49,
    "start_time": "2024-05-08T21:32:31.557Z"
   },
   {
    "duration": 24,
    "start_time": "2024-05-08T21:32:31.608Z"
   },
   {
    "duration": 14,
    "start_time": "2024-05-08T21:32:31.634Z"
   },
   {
    "duration": 20,
    "start_time": "2024-05-08T21:32:31.649Z"
   },
   {
    "duration": 29,
    "start_time": "2024-05-08T21:32:31.670Z"
   },
   {
    "duration": 20,
    "start_time": "2024-05-08T21:32:31.701Z"
   },
   {
    "duration": 45,
    "start_time": "2024-05-08T21:32:31.723Z"
   },
   {
    "duration": 15,
    "start_time": "2024-05-08T21:32:31.770Z"
   },
   {
    "duration": 21,
    "start_time": "2024-05-08T21:32:31.787Z"
   },
   {
    "duration": 58,
    "start_time": "2024-05-08T21:32:31.810Z"
   },
   {
    "duration": 14,
    "start_time": "2024-05-08T21:32:31.871Z"
   },
   {
    "duration": 8,
    "start_time": "2024-05-08T21:32:31.887Z"
   },
   {
    "duration": 79,
    "start_time": "2024-05-08T21:32:31.896Z"
   },
   {
    "duration": 31,
    "start_time": "2024-05-08T21:32:31.977Z"
   },
   {
    "duration": 30,
    "start_time": "2024-05-08T21:32:32.010Z"
   },
   {
    "duration": 37,
    "start_time": "2024-05-08T21:32:32.042Z"
   },
   {
    "duration": 27,
    "start_time": "2024-05-08T21:32:32.081Z"
   },
   {
    "duration": 7,
    "start_time": "2024-05-08T21:32:32.110Z"
   },
   {
    "duration": 44,
    "start_time": "2024-05-08T21:32:32.118Z"
   },
   {
    "duration": 2107,
    "start_time": "2024-05-08T21:32:32.164Z"
   },
   {
    "duration": 673,
    "start_time": "2024-05-08T21:32:34.273Z"
   },
   {
    "duration": 293,
    "start_time": "2024-05-08T21:32:34.947Z"
   },
   {
    "duration": 4012,
    "start_time": "2024-05-08T21:32:35.242Z"
   },
   {
    "duration": 4,
    "start_time": "2024-05-08T21:32:39.256Z"
   },
   {
    "duration": 6,
    "start_time": "2024-05-08T21:32:39.262Z"
   },
   {
    "duration": 11,
    "start_time": "2024-05-08T21:32:39.270Z"
   },
   {
    "duration": 12,
    "start_time": "2024-05-08T21:32:39.282Z"
   },
   {
    "duration": 26,
    "start_time": "2024-05-08T21:32:39.296Z"
   },
   {
    "duration": 6950,
    "start_time": "2024-05-08T21:32:39.323Z"
   },
   {
    "duration": 23242,
    "start_time": "2024-05-08T21:32:46.274Z"
   },
   {
    "duration": 7859,
    "start_time": "2024-05-08T21:33:09.518Z"
   },
   {
    "duration": 14998,
    "start_time": "2024-05-08T21:33:17.379Z"
   },
   {
    "duration": 4,
    "start_time": "2024-05-08T21:33:32.462Z"
   },
   {
    "duration": 29,
    "start_time": "2024-05-08T21:33:32.467Z"
   },
   {
    "duration": 17481,
    "start_time": "2024-05-08T21:33:45.290Z"
   },
   {
    "duration": 19,
    "start_time": "2024-05-08T21:34:35.428Z"
   },
   {
    "duration": 8235,
    "start_time": "2024-05-08T21:37:26.067Z"
   },
   {
    "duration": 603,
    "start_time": "2024-05-08T21:37:34.305Z"
   },
   {
    "duration": 660,
    "start_time": "2024-05-08T21:37:34.910Z"
   },
   {
    "duration": 68,
    "start_time": "2024-05-08T21:37:35.572Z"
   },
   {
    "duration": 39,
    "start_time": "2024-05-08T21:37:35.641Z"
   },
   {
    "duration": 59,
    "start_time": "2024-05-08T21:37:35.681Z"
   },
   {
    "duration": 39,
    "start_time": "2024-05-08T21:37:35.741Z"
   },
   {
    "duration": 9,
    "start_time": "2024-05-08T21:37:35.781Z"
   },
   {
    "duration": 18,
    "start_time": "2024-05-08T21:37:35.791Z"
   },
   {
    "duration": 17,
    "start_time": "2024-05-08T21:37:35.812Z"
   },
   {
    "duration": 5,
    "start_time": "2024-05-08T21:37:35.831Z"
   },
   {
    "duration": 24,
    "start_time": "2024-05-08T21:37:35.838Z"
   },
   {
    "duration": 18,
    "start_time": "2024-05-08T21:37:35.864Z"
   },
   {
    "duration": 5,
    "start_time": "2024-05-08T21:37:35.884Z"
   },
   {
    "duration": 20,
    "start_time": "2024-05-08T21:37:35.891Z"
   },
   {
    "duration": 11,
    "start_time": "2024-05-08T21:37:35.913Z"
   },
   {
    "duration": 32,
    "start_time": "2024-05-08T21:37:35.926Z"
   },
   {
    "duration": 43,
    "start_time": "2024-05-08T21:37:35.960Z"
   },
   {
    "duration": 33,
    "start_time": "2024-05-08T21:37:36.005Z"
   },
   {
    "duration": 17,
    "start_time": "2024-05-08T21:37:36.040Z"
   },
   {
    "duration": 25,
    "start_time": "2024-05-08T21:37:36.060Z"
   },
   {
    "duration": 41,
    "start_time": "2024-05-08T21:37:36.087Z"
   },
   {
    "duration": 19,
    "start_time": "2024-05-08T21:37:36.130Z"
   },
   {
    "duration": 70,
    "start_time": "2024-05-08T21:37:36.150Z"
   },
   {
    "duration": 14,
    "start_time": "2024-05-08T21:37:36.222Z"
   },
   {
    "duration": 38,
    "start_time": "2024-05-08T21:37:36.238Z"
   },
   {
    "duration": 34,
    "start_time": "2024-05-08T21:37:36.278Z"
   },
   {
    "duration": 14,
    "start_time": "2024-05-08T21:37:36.315Z"
   },
   {
    "duration": 31,
    "start_time": "2024-05-08T21:37:36.330Z"
   },
   {
    "duration": 46,
    "start_time": "2024-05-08T21:37:36.362Z"
   },
   {
    "duration": 17,
    "start_time": "2024-05-08T21:37:36.409Z"
   },
   {
    "duration": 51,
    "start_time": "2024-05-08T21:37:36.428Z"
   },
   {
    "duration": 22,
    "start_time": "2024-05-08T21:37:36.481Z"
   },
   {
    "duration": 26,
    "start_time": "2024-05-08T21:37:36.505Z"
   },
   {
    "duration": 30,
    "start_time": "2024-05-08T21:37:36.532Z"
   },
   {
    "duration": 20,
    "start_time": "2024-05-08T21:37:36.563Z"
   },
   {
    "duration": 2175,
    "start_time": "2024-05-08T21:37:36.585Z"
   },
   {
    "duration": 700,
    "start_time": "2024-05-08T21:37:38.761Z"
   },
   {
    "duration": 284,
    "start_time": "2024-05-08T21:37:39.462Z"
   },
   {
    "duration": 3782,
    "start_time": "2024-05-08T21:37:39.748Z"
   },
   {
    "duration": 5,
    "start_time": "2024-05-08T21:37:43.532Z"
   },
   {
    "duration": 7,
    "start_time": "2024-05-08T21:37:43.538Z"
   },
   {
    "duration": 13,
    "start_time": "2024-05-08T21:37:43.546Z"
   },
   {
    "duration": 12,
    "start_time": "2024-05-08T21:37:43.561Z"
   },
   {
    "duration": 29,
    "start_time": "2024-05-08T21:37:43.574Z"
   },
   {
    "duration": 8956,
    "start_time": "2024-05-08T21:37:43.605Z"
   },
   {
    "duration": 21841,
    "start_time": "2024-05-08T21:37:52.563Z"
   },
   {
    "duration": 7625,
    "start_time": "2024-05-08T21:38:14.406Z"
   },
   {
    "duration": 18634,
    "start_time": "2024-05-08T21:38:22.033Z"
   },
   {
    "duration": 4,
    "start_time": "2024-05-08T21:38:40.669Z"
   },
   {
    "duration": 92,
    "start_time": "2024-05-08T21:38:40.674Z"
   },
   {
    "duration": 49887,
    "start_time": "2024-05-08T21:39:54.377Z"
   },
   {
    "duration": 48219,
    "start_time": "2024-05-08T21:41:33.945Z"
   },
   {
    "duration": 4,
    "start_time": "2024-05-08T21:42:43.186Z"
   },
   {
    "duration": 19,
    "start_time": "2024-05-08T21:42:47.024Z"
   },
   {
    "duration": 8226,
    "start_time": "2024-05-08T21:48:39.787Z"
   },
   {
    "duration": 589,
    "start_time": "2024-05-08T21:48:48.015Z"
   },
   {
    "duration": 686,
    "start_time": "2024-05-08T21:48:48.605Z"
   },
   {
    "duration": 69,
    "start_time": "2024-05-08T21:48:49.294Z"
   },
   {
    "duration": 41,
    "start_time": "2024-05-08T21:48:49.364Z"
   },
   {
    "duration": 58,
    "start_time": "2024-05-08T21:48:49.407Z"
   },
   {
    "duration": 38,
    "start_time": "2024-05-08T21:48:49.467Z"
   },
   {
    "duration": 8,
    "start_time": "2024-05-08T21:48:49.507Z"
   },
   {
    "duration": 8,
    "start_time": "2024-05-08T21:48:49.516Z"
   },
   {
    "duration": 27,
    "start_time": "2024-05-08T21:48:49.527Z"
   },
   {
    "duration": 8,
    "start_time": "2024-05-08T21:48:49.556Z"
   },
   {
    "duration": 6,
    "start_time": "2024-05-08T21:48:49.565Z"
   },
   {
    "duration": 18,
    "start_time": "2024-05-08T21:48:49.573Z"
   },
   {
    "duration": 5,
    "start_time": "2024-05-08T21:48:49.592Z"
   },
   {
    "duration": 16,
    "start_time": "2024-05-08T21:48:49.598Z"
   },
   {
    "duration": 6,
    "start_time": "2024-05-08T21:48:49.615Z"
   },
   {
    "duration": 40,
    "start_time": "2024-05-08T21:48:49.622Z"
   },
   {
    "duration": 4,
    "start_time": "2024-05-08T21:48:49.664Z"
   },
   {
    "duration": 12,
    "start_time": "2024-05-08T21:48:49.670Z"
   },
   {
    "duration": 12,
    "start_time": "2024-05-08T21:48:49.683Z"
   },
   {
    "duration": 7,
    "start_time": "2024-05-08T21:48:49.697Z"
   },
   {
    "duration": 16,
    "start_time": "2024-05-08T21:48:49.706Z"
   },
   {
    "duration": 2,
    "start_time": "2024-05-08T21:48:49.724Z"
   },
   {
    "duration": 63,
    "start_time": "2024-05-08T21:48:49.729Z"
   },
   {
    "duration": 16,
    "start_time": "2024-05-08T21:48:49.794Z"
   },
   {
    "duration": 25,
    "start_time": "2024-05-08T21:48:49.811Z"
   },
   {
    "duration": 33,
    "start_time": "2024-05-08T21:48:49.862Z"
   },
   {
    "duration": 14,
    "start_time": "2024-05-08T21:48:49.898Z"
   },
   {
    "duration": 7,
    "start_time": "2024-05-08T21:48:49.914Z"
   },
   {
    "duration": 76,
    "start_time": "2024-05-08T21:48:49.922Z"
   },
   {
    "duration": 16,
    "start_time": "2024-05-08T21:48:50.000Z"
   },
   {
    "duration": 46,
    "start_time": "2024-05-08T21:48:50.018Z"
   },
   {
    "duration": 22,
    "start_time": "2024-05-08T21:48:50.066Z"
   },
   {
    "duration": 27,
    "start_time": "2024-05-08T21:48:50.089Z"
   },
   {
    "duration": 6,
    "start_time": "2024-05-08T21:48:50.118Z"
   },
   {
    "duration": 44,
    "start_time": "2024-05-08T21:48:50.126Z"
   },
   {
    "duration": 2054,
    "start_time": "2024-05-08T21:48:50.171Z"
   },
   {
    "duration": 672,
    "start_time": "2024-05-08T21:48:52.226Z"
   },
   {
    "duration": 293,
    "start_time": "2024-05-08T21:48:52.899Z"
   },
   {
    "duration": 3725,
    "start_time": "2024-05-08T21:48:53.193Z"
   },
   {
    "duration": 3,
    "start_time": "2024-05-08T21:48:56.920Z"
   },
   {
    "duration": 18,
    "start_time": "2024-05-08T21:48:56.925Z"
   },
   {
    "duration": 14,
    "start_time": "2024-05-08T21:48:56.944Z"
   },
   {
    "duration": 37,
    "start_time": "2024-05-08T21:48:56.959Z"
   },
   {
    "duration": 8970,
    "start_time": "2024-05-08T21:48:56.997Z"
   },
   {
    "duration": 21566,
    "start_time": "2024-05-08T21:49:05.969Z"
   },
   {
    "duration": 7955,
    "start_time": "2024-05-08T21:49:27.537Z"
   },
   {
    "duration": 65170,
    "start_time": "2024-05-08T21:49:35.494Z"
   },
   {
    "duration": 4,
    "start_time": "2024-05-08T21:50:40.666Z"
   },
   {
    "duration": 13,
    "start_time": "2024-05-08T21:50:40.672Z"
   },
   {
    "duration": 16175,
    "start_time": "2024-05-09T05:38:27.638Z"
   },
   {
    "duration": 778,
    "start_time": "2024-05-09T05:38:43.816Z"
   },
   {
    "duration": 945,
    "start_time": "2024-05-09T05:38:44.596Z"
   },
   {
    "duration": 131,
    "start_time": "2024-05-09T05:38:45.543Z"
   },
   {
    "duration": 137,
    "start_time": "2024-05-09T05:38:45.676Z"
   },
   {
    "duration": 147,
    "start_time": "2024-05-09T05:38:45.815Z"
   },
   {
    "duration": 85,
    "start_time": "2024-05-09T05:38:45.964Z"
   },
   {
    "duration": 7,
    "start_time": "2024-05-09T05:38:46.051Z"
   },
   {
    "duration": 7,
    "start_time": "2024-05-09T05:38:46.060Z"
   },
   {
    "duration": 19,
    "start_time": "2024-05-09T05:38:46.070Z"
   },
   {
    "duration": 5,
    "start_time": "2024-05-09T05:38:46.091Z"
   },
   {
    "duration": 11,
    "start_time": "2024-05-09T05:38:46.097Z"
   },
   {
    "duration": 35,
    "start_time": "2024-05-09T05:38:46.109Z"
   },
   {
    "duration": 5,
    "start_time": "2024-05-09T05:38:46.146Z"
   },
   {
    "duration": 22,
    "start_time": "2024-05-09T05:38:46.152Z"
   },
   {
    "duration": 16,
    "start_time": "2024-05-09T05:38:46.176Z"
   },
   {
    "duration": 18,
    "start_time": "2024-05-09T05:38:46.194Z"
   },
   {
    "duration": 7,
    "start_time": "2024-05-09T05:38:46.214Z"
   },
   {
    "duration": 15,
    "start_time": "2024-05-09T05:38:46.223Z"
   },
   {
    "duration": 10,
    "start_time": "2024-05-09T05:38:46.240Z"
   },
   {
    "duration": 13,
    "start_time": "2024-05-09T05:38:46.252Z"
   },
   {
    "duration": 20,
    "start_time": "2024-05-09T05:38:46.267Z"
   },
   {
    "duration": 7,
    "start_time": "2024-05-09T05:38:46.288Z"
   },
   {
    "duration": 57,
    "start_time": "2024-05-09T05:38:46.297Z"
   },
   {
    "duration": 16,
    "start_time": "2024-05-09T05:38:46.355Z"
   },
   {
    "duration": 32,
    "start_time": "2024-05-09T05:38:46.373Z"
   },
   {
    "duration": 49,
    "start_time": "2024-05-09T05:38:46.407Z"
   },
   {
    "duration": 42,
    "start_time": "2024-05-09T05:38:46.461Z"
   },
   {
    "duration": 26,
    "start_time": "2024-05-09T05:38:46.505Z"
   },
   {
    "duration": 67,
    "start_time": "2024-05-09T05:38:46.533Z"
   },
   {
    "duration": 20,
    "start_time": "2024-05-09T05:38:46.602Z"
   },
   {
    "duration": 57,
    "start_time": "2024-05-09T05:38:46.623Z"
   },
   {
    "duration": 42,
    "start_time": "2024-05-09T05:38:46.682Z"
   },
   {
    "duration": 28,
    "start_time": "2024-05-09T05:38:46.726Z"
   },
   {
    "duration": 8,
    "start_time": "2024-05-09T05:38:46.756Z"
   },
   {
    "duration": 35,
    "start_time": "2024-05-09T05:38:46.765Z"
   },
   {
    "duration": 2248,
    "start_time": "2024-05-09T05:38:46.802Z"
   },
   {
    "duration": 710,
    "start_time": "2024-05-09T05:38:49.051Z"
   },
   {
    "duration": 293,
    "start_time": "2024-05-09T05:38:49.763Z"
   },
   {
    "duration": 4034,
    "start_time": "2024-05-09T05:38:50.058Z"
   },
   {
    "duration": 3,
    "start_time": "2024-05-09T05:38:54.094Z"
   },
   {
    "duration": 14,
    "start_time": "2024-05-09T05:38:54.099Z"
   },
   {
    "duration": 11,
    "start_time": "2024-05-09T05:38:54.115Z"
   },
   {
    "duration": 33,
    "start_time": "2024-05-09T05:38:54.128Z"
   },
   {
    "duration": 9175,
    "start_time": "2024-05-09T05:38:54.162Z"
   },
   {
    "duration": 23151,
    "start_time": "2024-05-09T05:39:03.338Z"
   },
   {
    "duration": 9953,
    "start_time": "2024-05-09T05:39:26.491Z"
   },
   {
    "duration": 59497,
    "start_time": "2024-05-09T05:39:36.446Z"
   },
   {
    "duration": 5,
    "start_time": "2024-05-09T05:40:36.029Z"
   },
   {
    "duration": 24,
    "start_time": "2024-05-09T05:40:36.036Z"
   },
   {
    "duration": 21,
    "start_time": "2024-05-09T05:43:56.965Z"
   },
   {
    "duration": 8653,
    "start_time": "2024-05-09T05:45:31.216Z"
   },
   {
    "duration": 659,
    "start_time": "2024-05-09T05:45:39.872Z"
   },
   {
    "duration": 707,
    "start_time": "2024-05-09T05:45:40.533Z"
   },
   {
    "duration": 69,
    "start_time": "2024-05-09T05:45:41.242Z"
   },
   {
    "duration": 46,
    "start_time": "2024-05-09T05:45:41.313Z"
   },
   {
    "duration": 61,
    "start_time": "2024-05-09T05:45:41.362Z"
   },
   {
    "duration": 41,
    "start_time": "2024-05-09T05:45:41.429Z"
   },
   {
    "duration": 8,
    "start_time": "2024-05-09T05:45:41.471Z"
   },
   {
    "duration": 13,
    "start_time": "2024-05-09T05:45:41.481Z"
   },
   {
    "duration": 35,
    "start_time": "2024-05-09T05:45:41.495Z"
   },
   {
    "duration": 7,
    "start_time": "2024-05-09T05:45:41.532Z"
   },
   {
    "duration": 8,
    "start_time": "2024-05-09T05:45:41.541Z"
   },
   {
    "duration": 15,
    "start_time": "2024-05-09T05:45:41.551Z"
   },
   {
    "duration": 4,
    "start_time": "2024-05-09T05:45:41.570Z"
   },
   {
    "duration": 32,
    "start_time": "2024-05-09T05:45:41.575Z"
   },
   {
    "duration": 6,
    "start_time": "2024-05-09T05:45:41.629Z"
   },
   {
    "duration": 15,
    "start_time": "2024-05-09T05:45:41.637Z"
   },
   {
    "duration": 18,
    "start_time": "2024-05-09T05:45:41.654Z"
   },
   {
    "duration": 30,
    "start_time": "2024-05-09T05:45:41.673Z"
   },
   {
    "duration": 8,
    "start_time": "2024-05-09T05:45:41.705Z"
   },
   {
    "duration": 7,
    "start_time": "2024-05-09T05:45:41.715Z"
   },
   {
    "duration": 19,
    "start_time": "2024-05-09T05:45:41.724Z"
   },
   {
    "duration": 4,
    "start_time": "2024-05-09T05:45:41.745Z"
   },
   {
    "duration": 37,
    "start_time": "2024-05-09T05:45:41.750Z"
   },
   {
    "duration": 15,
    "start_time": "2024-05-09T05:45:41.789Z"
   },
   {
    "duration": 47,
    "start_time": "2024-05-09T05:45:41.805Z"
   },
   {
    "duration": 36,
    "start_time": "2024-05-09T05:45:41.853Z"
   },
   {
    "duration": 40,
    "start_time": "2024-05-09T05:45:41.890Z"
   },
   {
    "duration": 8,
    "start_time": "2024-05-09T05:45:41.932Z"
   },
   {
    "duration": 47,
    "start_time": "2024-05-09T05:45:41.941Z"
   },
   {
    "duration": 16,
    "start_time": "2024-05-09T05:45:41.990Z"
   },
   {
    "duration": 50,
    "start_time": "2024-05-09T05:45:42.008Z"
   },
   {
    "duration": 32,
    "start_time": "2024-05-09T05:45:42.060Z"
   },
   {
    "duration": 37,
    "start_time": "2024-05-09T05:45:42.094Z"
   },
   {
    "duration": 7,
    "start_time": "2024-05-09T05:45:42.133Z"
   },
   {
    "duration": 21,
    "start_time": "2024-05-09T05:45:42.141Z"
   },
   {
    "duration": 2214,
    "start_time": "2024-05-09T05:45:42.164Z"
   },
   {
    "duration": 761,
    "start_time": "2024-05-09T05:45:44.380Z"
   },
   {
    "duration": 311,
    "start_time": "2024-05-09T05:45:45.142Z"
   },
   {
    "duration": 4097,
    "start_time": "2024-05-09T05:45:45.455Z"
   },
   {
    "duration": 3,
    "start_time": "2024-05-09T05:45:49.556Z"
   },
   {
    "duration": 19,
    "start_time": "2024-05-09T05:45:49.561Z"
   },
   {
    "duration": 12,
    "start_time": "2024-05-09T05:45:49.582Z"
   },
   {
    "duration": 30,
    "start_time": "2024-05-09T05:45:49.596Z"
   },
   {
    "duration": 9404,
    "start_time": "2024-05-09T05:45:49.628Z"
   },
   {
    "duration": 22522,
    "start_time": "2024-05-09T05:45:59.033Z"
   },
   {
    "duration": 9313,
    "start_time": "2024-05-09T05:46:21.557Z"
   },
   {
    "duration": 49873,
    "start_time": "2024-05-09T05:46:30.872Z"
   },
   {
    "duration": 84,
    "start_time": "2024-05-09T05:47:20.747Z"
   },
   {
    "duration": 26,
    "start_time": "2024-05-09T05:47:20.833Z"
   },
   {
    "duration": 17,
    "start_time": "2024-05-09T05:47:20.860Z"
   },
   {
    "duration": 8698,
    "start_time": "2024-05-09T05:51:54.173Z"
   },
   {
    "duration": 621,
    "start_time": "2024-05-09T05:52:02.874Z"
   },
   {
    "duration": 732,
    "start_time": "2024-05-09T05:52:03.497Z"
   },
   {
    "duration": 70,
    "start_time": "2024-05-09T05:52:04.230Z"
   },
   {
    "duration": 41,
    "start_time": "2024-05-09T05:52:04.303Z"
   },
   {
    "duration": 58,
    "start_time": "2024-05-09T05:52:04.346Z"
   },
   {
    "duration": 39,
    "start_time": "2024-05-09T05:52:04.406Z"
   },
   {
    "duration": 8,
    "start_time": "2024-05-09T05:52:04.446Z"
   },
   {
    "duration": 25,
    "start_time": "2024-05-09T05:52:04.455Z"
   },
   {
    "duration": 32,
    "start_time": "2024-05-09T05:52:04.482Z"
   },
   {
    "duration": 4,
    "start_time": "2024-05-09T05:52:04.516Z"
   },
   {
    "duration": 17,
    "start_time": "2024-05-09T05:52:04.522Z"
   },
   {
    "duration": 25,
    "start_time": "2024-05-09T05:52:04.541Z"
   },
   {
    "duration": 16,
    "start_time": "2024-05-09T05:52:04.569Z"
   },
   {
    "duration": 13,
    "start_time": "2024-05-09T05:52:04.586Z"
   },
   {
    "duration": 29,
    "start_time": "2024-05-09T05:52:04.601Z"
   },
   {
    "duration": 45,
    "start_time": "2024-05-09T05:52:04.631Z"
   },
   {
    "duration": 29,
    "start_time": "2024-05-09T05:52:04.677Z"
   },
   {
    "duration": 12,
    "start_time": "2024-05-09T05:52:04.707Z"
   },
   {
    "duration": 6,
    "start_time": "2024-05-09T05:52:04.720Z"
   },
   {
    "duration": 8,
    "start_time": "2024-05-09T05:52:04.728Z"
   },
   {
    "duration": 26,
    "start_time": "2024-05-09T05:52:04.737Z"
   },
   {
    "duration": 3,
    "start_time": "2024-05-09T05:52:04.765Z"
   },
   {
    "duration": 41,
    "start_time": "2024-05-09T05:52:04.769Z"
   },
   {
    "duration": 28,
    "start_time": "2024-05-09T05:52:04.812Z"
   },
   {
    "duration": 38,
    "start_time": "2024-05-09T05:52:04.842Z"
   },
   {
    "duration": 46,
    "start_time": "2024-05-09T05:52:04.883Z"
   },
   {
    "duration": 14,
    "start_time": "2024-05-09T05:52:04.931Z"
   },
   {
    "duration": 8,
    "start_time": "2024-05-09T05:52:04.946Z"
   },
   {
    "duration": 52,
    "start_time": "2024-05-09T05:52:04.955Z"
   },
   {
    "duration": 38,
    "start_time": "2024-05-09T05:52:05.008Z"
   },
   {
    "duration": 45,
    "start_time": "2024-05-09T05:52:05.047Z"
   },
   {
    "duration": 25,
    "start_time": "2024-05-09T05:52:05.094Z"
   },
   {
    "duration": 34,
    "start_time": "2024-05-09T05:52:05.121Z"
   },
   {
    "duration": 6,
    "start_time": "2024-05-09T05:52:05.157Z"
   },
   {
    "duration": 33,
    "start_time": "2024-05-09T05:52:05.165Z"
   },
   {
    "duration": 2266,
    "start_time": "2024-05-09T05:52:05.200Z"
   },
   {
    "duration": 709,
    "start_time": "2024-05-09T05:52:07.468Z"
   },
   {
    "duration": 326,
    "start_time": "2024-05-09T05:52:08.179Z"
   },
   {
    "duration": 3993,
    "start_time": "2024-05-09T05:52:08.507Z"
   },
   {
    "duration": 4,
    "start_time": "2024-05-09T05:52:12.504Z"
   },
   {
    "duration": 24,
    "start_time": "2024-05-09T05:52:12.509Z"
   },
   {
    "duration": 17,
    "start_time": "2024-05-09T05:52:12.534Z"
   },
   {
    "duration": 64,
    "start_time": "2024-05-09T05:52:12.552Z"
   },
   {
    "duration": 9030,
    "start_time": "2024-05-09T05:52:12.617Z"
   },
   {
    "duration": 23761,
    "start_time": "2024-05-09T05:52:21.650Z"
   },
   {
    "duration": 8512,
    "start_time": "2024-05-09T05:52:45.413Z"
   },
   {
    "duration": 50314,
    "start_time": "2024-05-09T05:52:53.927Z"
   },
   {
    "duration": 89,
    "start_time": "2024-05-09T05:53:44.242Z"
   },
   {
    "duration": 20,
    "start_time": "2024-05-09T05:53:44.332Z"
   },
   {
    "duration": 12,
    "start_time": "2024-05-09T05:53:44.354Z"
   },
   {
    "duration": 4627,
    "start_time": "2024-05-09T05:55:15.315Z"
   },
   {
    "duration": 47518,
    "start_time": "2024-05-09T05:56:23.679Z"
   },
   {
    "duration": 57234,
    "start_time": "2024-05-09T05:58:20.853Z"
   },
   {
    "duration": 8574,
    "start_time": "2024-05-09T06:00:51.305Z"
   },
   {
    "duration": 721,
    "start_time": "2024-05-09T06:00:59.882Z"
   },
   {
    "duration": 764,
    "start_time": "2024-05-09T06:01:00.604Z"
   },
   {
    "duration": 70,
    "start_time": "2024-05-09T06:01:01.370Z"
   },
   {
    "duration": 87,
    "start_time": "2024-05-09T06:01:01.442Z"
   },
   {
    "duration": 173,
    "start_time": "2024-05-09T06:01:01.531Z"
   },
   {
    "duration": 61,
    "start_time": "2024-05-09T06:01:01.706Z"
   },
   {
    "duration": 41,
    "start_time": "2024-05-09T06:01:01.769Z"
   },
   {
    "duration": 83,
    "start_time": "2024-05-09T06:01:01.812Z"
   },
   {
    "duration": 100,
    "start_time": "2024-05-09T06:01:01.898Z"
   },
   {
    "duration": 165,
    "start_time": "2024-05-09T06:01:02.000Z"
   },
   {
    "duration": 312,
    "start_time": "2024-05-09T06:01:02.167Z"
   },
   {
    "duration": 54,
    "start_time": "2024-05-09T06:01:02.481Z"
   },
   {
    "duration": 55,
    "start_time": "2024-05-09T06:01:02.537Z"
   },
   {
    "duration": 30,
    "start_time": "2024-05-09T06:01:02.594Z"
   },
   {
    "duration": 37,
    "start_time": "2024-05-09T06:01:02.626Z"
   },
   {
    "duration": 26,
    "start_time": "2024-05-09T06:01:02.665Z"
   },
   {
    "duration": 32,
    "start_time": "2024-05-09T06:01:02.693Z"
   },
   {
    "duration": 72,
    "start_time": "2024-05-09T06:01:02.726Z"
   },
   {
    "duration": 28,
    "start_time": "2024-05-09T06:01:02.799Z"
   },
   {
    "duration": 21,
    "start_time": "2024-05-09T06:01:02.829Z"
   },
   {
    "duration": 43,
    "start_time": "2024-05-09T06:01:02.852Z"
   },
   {
    "duration": 3,
    "start_time": "2024-05-09T06:01:02.897Z"
   },
   {
    "duration": 50,
    "start_time": "2024-05-09T06:01:02.902Z"
   },
   {
    "duration": 17,
    "start_time": "2024-05-09T06:01:02.953Z"
   },
   {
    "duration": 69,
    "start_time": "2024-05-09T06:01:02.972Z"
   },
   {
    "duration": 37,
    "start_time": "2024-05-09T06:01:03.043Z"
   },
   {
    "duration": 16,
    "start_time": "2024-05-09T06:01:03.083Z"
   },
   {
    "duration": 34,
    "start_time": "2024-05-09T06:01:03.101Z"
   },
   {
    "duration": 84,
    "start_time": "2024-05-09T06:01:03.137Z"
   },
   {
    "duration": 20,
    "start_time": "2024-05-09T06:01:03.223Z"
   },
   {
    "duration": 42,
    "start_time": "2024-05-09T06:01:03.245Z"
   },
   {
    "duration": 47,
    "start_time": "2024-05-09T06:01:03.289Z"
   },
   {
    "duration": 30,
    "start_time": "2024-05-09T06:01:03.338Z"
   },
   {
    "duration": 9,
    "start_time": "2024-05-09T06:01:03.370Z"
   },
   {
    "duration": 30,
    "start_time": "2024-05-09T06:01:03.380Z"
   },
   {
    "duration": 2289,
    "start_time": "2024-05-09T06:01:03.429Z"
   },
   {
    "duration": 720,
    "start_time": "2024-05-09T06:01:05.720Z"
   },
   {
    "duration": 327,
    "start_time": "2024-05-09T06:01:06.442Z"
   },
   {
    "duration": 4141,
    "start_time": "2024-05-09T06:01:06.771Z"
   },
   {
    "duration": 4,
    "start_time": "2024-05-09T06:01:10.914Z"
   },
   {
    "duration": 21,
    "start_time": "2024-05-09T06:01:10.920Z"
   },
   {
    "duration": 13,
    "start_time": "2024-05-09T06:01:10.945Z"
   },
   {
    "duration": 37,
    "start_time": "2024-05-09T06:01:10.960Z"
   },
   {
    "duration": 8932,
    "start_time": "2024-05-09T06:01:10.999Z"
   },
   {
    "duration": 22914,
    "start_time": "2024-05-09T06:01:19.933Z"
   },
   {
    "duration": 9247,
    "start_time": "2024-05-09T06:01:42.849Z"
   },
   {
    "duration": 56836,
    "start_time": "2024-05-09T06:01:52.098Z"
   },
   {
    "duration": 6,
    "start_time": "2024-05-09T06:02:48.936Z"
   },
   {
    "duration": 76,
    "start_time": "2024-05-09T06:02:48.944Z"
   },
   {
    "duration": 56,
    "start_time": "2024-05-09T06:02:49.029Z"
   },
   {
    "duration": 8591,
    "start_time": "2024-05-09T06:03:20.236Z"
   },
   {
    "duration": 689,
    "start_time": "2024-05-09T06:03:28.830Z"
   },
   {
    "duration": 708,
    "start_time": "2024-05-09T06:03:29.521Z"
   },
   {
    "duration": 69,
    "start_time": "2024-05-09T06:03:30.231Z"
   },
   {
    "duration": 41,
    "start_time": "2024-05-09T06:03:30.304Z"
   },
   {
    "duration": 71,
    "start_time": "2024-05-09T06:03:30.347Z"
   },
   {
    "duration": 41,
    "start_time": "2024-05-09T06:03:30.419Z"
   },
   {
    "duration": 18,
    "start_time": "2024-05-09T06:03:30.462Z"
   },
   {
    "duration": 170,
    "start_time": "2024-05-09T06:03:30.482Z"
   },
   {
    "duration": 114,
    "start_time": "2024-05-09T06:03:30.654Z"
   },
   {
    "duration": 68,
    "start_time": "2024-05-09T06:03:30.769Z"
   },
   {
    "duration": 77,
    "start_time": "2024-05-09T06:03:30.838Z"
   },
   {
    "duration": 52,
    "start_time": "2024-05-09T06:03:30.917Z"
   },
   {
    "duration": 53,
    "start_time": "2024-05-09T06:03:30.971Z"
   },
   {
    "duration": 42,
    "start_time": "2024-05-09T06:03:31.026Z"
   },
   {
    "duration": 67,
    "start_time": "2024-05-09T06:03:31.070Z"
   },
   {
    "duration": 77,
    "start_time": "2024-05-09T06:03:31.138Z"
   },
   {
    "duration": 52,
    "start_time": "2024-05-09T06:03:31.216Z"
   },
   {
    "duration": 55,
    "start_time": "2024-05-09T06:03:31.270Z"
   },
   {
    "duration": 31,
    "start_time": "2024-05-09T06:03:31.326Z"
   },
   {
    "duration": 37,
    "start_time": "2024-05-09T06:03:31.359Z"
   },
   {
    "duration": 30,
    "start_time": "2024-05-09T06:03:31.397Z"
   },
   {
    "duration": 27,
    "start_time": "2024-05-09T06:03:31.429Z"
   },
   {
    "duration": 71,
    "start_time": "2024-05-09T06:03:31.458Z"
   },
   {
    "duration": 30,
    "start_time": "2024-05-09T06:03:31.530Z"
   },
   {
    "duration": 56,
    "start_time": "2024-05-09T06:03:31.561Z"
   },
   {
    "duration": 46,
    "start_time": "2024-05-09T06:03:31.618Z"
   },
   {
    "duration": 36,
    "start_time": "2024-05-09T06:03:31.666Z"
   },
   {
    "duration": 36,
    "start_time": "2024-05-09T06:03:31.704Z"
   },
   {
    "duration": 148,
    "start_time": "2024-05-09T06:03:31.741Z"
   },
   {
    "duration": 79,
    "start_time": "2024-05-09T06:03:31.891Z"
   },
   {
    "duration": 79,
    "start_time": "2024-05-09T06:03:31.972Z"
   },
   {
    "duration": 89,
    "start_time": "2024-05-09T06:03:32.053Z"
   },
   {
    "duration": 58,
    "start_time": "2024-05-09T06:03:32.144Z"
   },
   {
    "duration": 7,
    "start_time": "2024-05-09T06:03:32.204Z"
   },
   {
    "duration": 85,
    "start_time": "2024-05-09T06:03:32.213Z"
   },
   {
    "duration": 2249,
    "start_time": "2024-05-09T06:03:32.300Z"
   },
   {
    "duration": 728,
    "start_time": "2024-05-09T06:03:34.551Z"
   },
   {
    "duration": 350,
    "start_time": "2024-05-09T06:03:35.281Z"
   },
   {
    "duration": 4071,
    "start_time": "2024-05-09T06:03:35.633Z"
   },
   {
    "duration": 4,
    "start_time": "2024-05-09T06:03:39.708Z"
   },
   {
    "duration": 34,
    "start_time": "2024-05-09T06:03:39.713Z"
   },
   {
    "duration": 18,
    "start_time": "2024-05-09T06:03:39.749Z"
   },
   {
    "duration": 29,
    "start_time": "2024-05-09T06:03:39.768Z"
   },
   {
    "duration": 9531,
    "start_time": "2024-05-09T06:03:39.799Z"
   },
   {
    "duration": 23872,
    "start_time": "2024-05-09T06:03:49.332Z"
   },
   {
    "duration": 10858,
    "start_time": "2024-05-09T06:04:13.207Z"
   },
   {
    "duration": 53358,
    "start_time": "2024-05-09T06:04:24.067Z"
   },
   {
    "duration": 13,
    "start_time": "2024-05-09T06:05:17.427Z"
   },
   {
    "duration": 0,
    "start_time": "2024-05-09T06:05:17.442Z"
   },
   {
    "duration": 0,
    "start_time": "2024-05-09T06:05:17.443Z"
   },
   {
    "duration": 5213,
    "start_time": "2024-05-09T06:05:20.175Z"
   },
   {
    "duration": 4,
    "start_time": "2024-05-09T06:05:29.121Z"
   },
   {
    "duration": 19,
    "start_time": "2024-05-09T06:05:32.985Z"
   },
   {
    "duration": 19,
    "start_time": "2024-05-09T06:05:35.781Z"
   },
   {
    "duration": 13514,
    "start_time": "2024-05-09T10:54:33.129Z"
   },
   {
    "duration": 652,
    "start_time": "2024-05-09T10:54:46.645Z"
   },
   {
    "duration": 791,
    "start_time": "2024-05-09T10:54:47.299Z"
   },
   {
    "duration": 113,
    "start_time": "2024-05-09T10:54:48.092Z"
   },
   {
    "duration": 134,
    "start_time": "2024-05-09T10:54:48.206Z"
   },
   {
    "duration": 120,
    "start_time": "2024-05-09T10:54:48.341Z"
   },
   {
    "duration": 79,
    "start_time": "2024-05-09T10:54:48.463Z"
   },
   {
    "duration": 7,
    "start_time": "2024-05-09T10:54:48.543Z"
   },
   {
    "duration": 6,
    "start_time": "2024-05-09T10:54:48.551Z"
   },
   {
    "duration": 23,
    "start_time": "2024-05-09T10:54:48.560Z"
   },
   {
    "duration": 4,
    "start_time": "2024-05-09T10:54:48.584Z"
   },
   {
    "duration": 11,
    "start_time": "2024-05-09T10:54:48.590Z"
   },
   {
    "duration": 16,
    "start_time": "2024-05-09T10:54:48.602Z"
   },
   {
    "duration": 5,
    "start_time": "2024-05-09T10:54:48.619Z"
   },
   {
    "duration": 27,
    "start_time": "2024-05-09T10:54:48.625Z"
   },
   {
    "duration": 3,
    "start_time": "2024-05-09T10:54:48.653Z"
   },
   {
    "duration": 14,
    "start_time": "2024-05-09T10:54:48.657Z"
   },
   {
    "duration": 7,
    "start_time": "2024-05-09T10:54:48.672Z"
   },
   {
    "duration": 10,
    "start_time": "2024-05-09T10:54:48.680Z"
   },
   {
    "duration": 9,
    "start_time": "2024-05-09T10:54:48.691Z"
   },
   {
    "duration": 8,
    "start_time": "2024-05-09T10:54:48.701Z"
   },
   {
    "duration": 16,
    "start_time": "2024-05-09T10:54:48.710Z"
   },
   {
    "duration": 18,
    "start_time": "2024-05-09T10:54:48.727Z"
   },
   {
    "duration": 41,
    "start_time": "2024-05-09T10:54:48.747Z"
   },
   {
    "duration": 13,
    "start_time": "2024-05-09T10:54:48.790Z"
   },
   {
    "duration": 32,
    "start_time": "2024-05-09T10:54:48.805Z"
   },
   {
    "duration": 30,
    "start_time": "2024-05-09T10:54:48.839Z"
   },
   {
    "duration": 13,
    "start_time": "2024-05-09T10:54:48.872Z"
   },
   {
    "duration": 8,
    "start_time": "2024-05-09T10:54:48.886Z"
   },
   {
    "duration": 62,
    "start_time": "2024-05-09T10:54:48.895Z"
   },
   {
    "duration": 15,
    "start_time": "2024-05-09T10:54:48.959Z"
   },
   {
    "duration": 27,
    "start_time": "2024-05-09T10:54:48.976Z"
   },
   {
    "duration": 19,
    "start_time": "2024-05-09T10:54:49.005Z"
   },
   {
    "duration": 25,
    "start_time": "2024-05-09T10:54:49.045Z"
   },
   {
    "duration": 6,
    "start_time": "2024-05-09T10:54:49.071Z"
   },
   {
    "duration": 45,
    "start_time": "2024-05-09T10:54:49.078Z"
   },
   {
    "duration": 1894,
    "start_time": "2024-05-09T10:54:49.125Z"
   },
   {
    "duration": 625,
    "start_time": "2024-05-09T10:54:51.020Z"
   },
   {
    "duration": 259,
    "start_time": "2024-05-09T10:54:51.646Z"
   },
   {
    "duration": 3503,
    "start_time": "2024-05-09T10:54:51.907Z"
   },
   {
    "duration": 3,
    "start_time": "2024-05-09T10:54:55.412Z"
   },
   {
    "duration": 43,
    "start_time": "2024-05-09T10:54:55.416Z"
   },
   {
    "duration": 11,
    "start_time": "2024-05-09T10:54:55.460Z"
   },
   {
    "duration": 25,
    "start_time": "2024-05-09T10:54:55.473Z"
   },
   {
    "duration": 8254,
    "start_time": "2024-05-09T10:54:55.500Z"
   },
   {
    "duration": 19544,
    "start_time": "2024-05-09T10:55:03.846Z"
   },
   {
    "duration": 8214,
    "start_time": "2024-05-09T10:55:23.391Z"
   },
   {
    "duration": 38346,
    "start_time": "2024-05-09T10:55:31.606Z"
   },
   {
    "duration": 4,
    "start_time": "2024-05-09T10:56:09.954Z"
   },
   {
    "duration": 93,
    "start_time": "2024-05-09T10:56:09.960Z"
   },
   {
    "duration": 96,
    "start_time": "2024-05-09T10:56:10.054Z"
   },
   {
    "duration": 26273,
    "start_time": "2024-05-09T10:57:41.625Z"
   },
   {
    "duration": 42987,
    "start_time": "2024-05-09T10:58:50.374Z"
   },
   {
    "duration": 41753,
    "start_time": "2024-05-09T10:59:45.032Z"
   },
   {
    "duration": 4,
    "start_time": "2024-05-09T11:01:05.548Z"
   },
   {
    "duration": 58,
    "start_time": "2024-05-09T11:01:10.265Z"
   },
   {
    "duration": 7395,
    "start_time": "2024-05-09T11:02:46.161Z"
   },
   {
    "duration": 633,
    "start_time": "2024-05-09T11:02:53.559Z"
   },
   {
    "duration": 594,
    "start_time": "2024-05-09T11:02:54.194Z"
   },
   {
    "duration": 63,
    "start_time": "2024-05-09T11:02:54.790Z"
   },
   {
    "duration": 36,
    "start_time": "2024-05-09T11:02:54.855Z"
   },
   {
    "duration": 53,
    "start_time": "2024-05-09T11:02:54.893Z"
   },
   {
    "duration": 36,
    "start_time": "2024-05-09T11:02:54.947Z"
   },
   {
    "duration": 8,
    "start_time": "2024-05-09T11:02:54.985Z"
   },
   {
    "duration": 28,
    "start_time": "2024-05-09T11:02:54.994Z"
   },
   {
    "duration": 32,
    "start_time": "2024-05-09T11:02:55.025Z"
   },
   {
    "duration": 5,
    "start_time": "2024-05-09T11:02:55.059Z"
   },
   {
    "duration": 35,
    "start_time": "2024-05-09T11:02:55.065Z"
   },
   {
    "duration": 44,
    "start_time": "2024-05-09T11:02:55.102Z"
   },
   {
    "duration": 17,
    "start_time": "2024-05-09T11:02:55.148Z"
   },
   {
    "duration": 41,
    "start_time": "2024-05-09T11:02:55.166Z"
   },
   {
    "duration": 31,
    "start_time": "2024-05-09T11:02:55.209Z"
   },
   {
    "duration": 18,
    "start_time": "2024-05-09T11:02:55.241Z"
   },
   {
    "duration": 41,
    "start_time": "2024-05-09T11:02:55.261Z"
   },
   {
    "duration": 27,
    "start_time": "2024-05-09T11:02:55.304Z"
   },
   {
    "duration": 20,
    "start_time": "2024-05-09T11:02:55.332Z"
   },
   {
    "duration": 30,
    "start_time": "2024-05-09T11:02:55.353Z"
   },
   {
    "duration": 22,
    "start_time": "2024-05-09T11:02:55.385Z"
   },
   {
    "duration": 35,
    "start_time": "2024-05-09T11:02:55.409Z"
   },
   {
    "duration": 67,
    "start_time": "2024-05-09T11:02:55.446Z"
   },
   {
    "duration": 14,
    "start_time": "2024-05-09T11:02:55.515Z"
   },
   {
    "duration": 37,
    "start_time": "2024-05-09T11:02:55.531Z"
   },
   {
    "duration": 30,
    "start_time": "2024-05-09T11:02:55.570Z"
   },
   {
    "duration": 16,
    "start_time": "2024-05-09T11:02:55.603Z"
   },
   {
    "duration": 26,
    "start_time": "2024-05-09T11:02:55.621Z"
   },
   {
    "duration": 55,
    "start_time": "2024-05-09T11:02:55.648Z"
   },
   {
    "duration": 21,
    "start_time": "2024-05-09T11:02:55.705Z"
   },
   {
    "duration": 36,
    "start_time": "2024-05-09T11:02:55.728Z"
   },
   {
    "duration": 19,
    "start_time": "2024-05-09T11:02:55.766Z"
   },
   {
    "duration": 23,
    "start_time": "2024-05-09T11:02:55.786Z"
   },
   {
    "duration": 8,
    "start_time": "2024-05-09T11:02:55.810Z"
   },
   {
    "duration": 38,
    "start_time": "2024-05-09T11:02:55.820Z"
   },
   {
    "duration": 1847,
    "start_time": "2024-05-09T11:02:55.860Z"
   },
   {
    "duration": 614,
    "start_time": "2024-05-09T11:02:57.708Z"
   },
   {
    "duration": 266,
    "start_time": "2024-05-09T11:02:58.323Z"
   },
   {
    "duration": 3379,
    "start_time": "2024-05-09T11:02:58.591Z"
   },
   {
    "duration": 3,
    "start_time": "2024-05-09T11:03:01.972Z"
   },
   {
    "duration": 41,
    "start_time": "2024-05-09T11:03:01.976Z"
   },
   {
    "duration": 15,
    "start_time": "2024-05-09T11:03:02.019Z"
   },
   {
    "duration": 26,
    "start_time": "2024-05-09T11:03:02.036Z"
   },
   {
    "duration": 8390,
    "start_time": "2024-05-09T11:03:02.063Z"
   },
   {
    "duration": 19903,
    "start_time": "2024-05-09T11:03:10.545Z"
   },
   {
    "duration": 8487,
    "start_time": "2024-05-09T11:03:30.450Z"
   },
   {
    "duration": 362014,
    "start_time": "2024-05-09T11:03:38.938Z"
   },
   {
    "duration": 4,
    "start_time": "2024-05-09T11:09:40.954Z"
   },
   {
    "duration": 93,
    "start_time": "2024-05-09T11:09:40.959Z"
   },
   {
    "duration": 105,
    "start_time": "2024-05-09T11:09:41.054Z"
   },
   {
    "duration": 113,
    "start_time": "2024-05-09T11:15:21.854Z"
   },
   {
    "duration": 7636,
    "start_time": "2024-05-09T11:15:36.668Z"
   },
   {
    "duration": 669,
    "start_time": "2024-05-09T11:15:44.307Z"
   },
   {
    "duration": 622,
    "start_time": "2024-05-09T11:15:44.978Z"
   },
   {
    "duration": 75,
    "start_time": "2024-05-09T11:15:45.602Z"
   },
   {
    "duration": 38,
    "start_time": "2024-05-09T11:15:45.679Z"
   },
   {
    "duration": 56,
    "start_time": "2024-05-09T11:15:45.719Z"
   },
   {
    "duration": 35,
    "start_time": "2024-05-09T11:15:45.776Z"
   },
   {
    "duration": 7,
    "start_time": "2024-05-09T11:15:45.813Z"
   },
   {
    "duration": 18,
    "start_time": "2024-05-09T11:15:45.822Z"
   },
   {
    "duration": 20,
    "start_time": "2024-05-09T11:15:45.842Z"
   },
   {
    "duration": 5,
    "start_time": "2024-05-09T11:15:45.864Z"
   },
   {
    "duration": 5,
    "start_time": "2024-05-09T11:15:45.870Z"
   },
   {
    "duration": 16,
    "start_time": "2024-05-09T11:15:45.877Z"
   },
   {
    "duration": 4,
    "start_time": "2024-05-09T11:15:45.895Z"
   },
   {
    "duration": 13,
    "start_time": "2024-05-09T11:15:45.900Z"
   },
   {
    "duration": 13,
    "start_time": "2024-05-09T11:15:45.914Z"
   },
   {
    "duration": 22,
    "start_time": "2024-05-09T11:15:45.929Z"
   },
   {
    "duration": 5,
    "start_time": "2024-05-09T11:15:45.953Z"
   },
   {
    "duration": 10,
    "start_time": "2024-05-09T11:15:45.959Z"
   },
   {
    "duration": 4,
    "start_time": "2024-05-09T11:15:45.971Z"
   },
   {
    "duration": 7,
    "start_time": "2024-05-09T11:15:45.977Z"
   },
   {
    "duration": 15,
    "start_time": "2024-05-09T11:15:45.985Z"
   },
   {
    "duration": 3,
    "start_time": "2024-05-09T11:15:46.002Z"
   },
   {
    "duration": 66,
    "start_time": "2024-05-09T11:15:46.006Z"
   },
   {
    "duration": 13,
    "start_time": "2024-05-09T11:15:46.074Z"
   },
   {
    "duration": 26,
    "start_time": "2024-05-09T11:15:46.089Z"
   },
   {
    "duration": 49,
    "start_time": "2024-05-09T11:15:46.116Z"
   },
   {
    "duration": 13,
    "start_time": "2024-05-09T11:15:46.169Z"
   },
   {
    "duration": 10,
    "start_time": "2024-05-09T11:15:46.183Z"
   },
   {
    "duration": 65,
    "start_time": "2024-05-09T11:15:46.195Z"
   },
   {
    "duration": 16,
    "start_time": "2024-05-09T11:15:46.262Z"
   },
   {
    "duration": 29,
    "start_time": "2024-05-09T11:15:46.279Z"
   },
   {
    "duration": 45,
    "start_time": "2024-05-09T11:15:46.309Z"
   },
   {
    "duration": 25,
    "start_time": "2024-05-09T11:15:46.356Z"
   },
   {
    "duration": 6,
    "start_time": "2024-05-09T11:15:46.382Z"
   },
   {
    "duration": 19,
    "start_time": "2024-05-09T11:15:46.390Z"
   },
   {
    "duration": 2012,
    "start_time": "2024-05-09T11:15:46.410Z"
   },
   {
    "duration": 639,
    "start_time": "2024-05-09T11:15:48.423Z"
   },
   {
    "duration": 283,
    "start_time": "2024-05-09T11:15:49.064Z"
   },
   {
    "duration": 3490,
    "start_time": "2024-05-09T11:15:49.348Z"
   },
   {
    "duration": 3,
    "start_time": "2024-05-09T11:15:52.840Z"
   },
   {
    "duration": 30,
    "start_time": "2024-05-09T11:15:52.844Z"
   },
   {
    "duration": 21,
    "start_time": "2024-05-09T11:15:52.875Z"
   },
   {
    "duration": 28,
    "start_time": "2024-05-09T11:15:52.897Z"
   },
   {
    "duration": 8220,
    "start_time": "2024-05-09T11:15:52.926Z"
   },
   {
    "duration": 19845,
    "start_time": "2024-05-09T11:16:01.148Z"
   },
   {
    "duration": 7762,
    "start_time": "2024-05-09T11:16:20.995Z"
   },
   {
    "duration": 271203,
    "start_time": "2024-05-09T11:16:28.759Z"
   },
   {
    "duration": 3,
    "start_time": "2024-05-09T11:21:00.046Z"
   },
   {
    "duration": 100,
    "start_time": "2024-05-09T11:21:00.051Z"
   },
   {
    "duration": 102,
    "start_time": "2024-05-09T11:21:00.152Z"
   },
   {
    "duration": 155,
    "start_time": "2024-05-09T11:21:00.256Z"
   },
   {
    "duration": 12,
    "start_time": "2024-05-09T11:23:45.110Z"
   },
   {
    "duration": 4,
    "start_time": "2024-05-09T11:24:43.950Z"
   },
   {
    "duration": 3,
    "start_time": "2024-05-09T11:24:50.355Z"
   },
   {
    "duration": 9,
    "start_time": "2024-05-09T11:25:05.723Z"
   },
   {
    "duration": 12,
    "start_time": "2024-05-09T11:26:23.882Z"
   },
   {
    "duration": 9,
    "start_time": "2024-05-09T11:27:47.075Z"
   },
   {
    "duration": 13,
    "start_time": "2024-05-09T11:29:32.912Z"
   },
   {
    "duration": 126,
    "start_time": "2024-05-09T11:30:56.983Z"
   },
   {
    "duration": 137,
    "start_time": "2024-05-09T11:32:31.067Z"
   },
   {
    "duration": 15,
    "start_time": "2024-05-09T11:41:14.375Z"
   },
   {
    "duration": 13,
    "start_time": "2024-05-09T11:44:16.575Z"
   },
   {
    "duration": 18,
    "start_time": "2024-05-09T11:44:52.046Z"
   },
   {
    "duration": 101,
    "start_time": "2024-05-09T11:45:47.059Z"
   },
   {
    "duration": 189,
    "start_time": "2024-05-09T11:46:49.296Z"
   },
   {
    "duration": 342,
    "start_time": "2024-05-09T11:47:44.169Z"
   },
   {
    "duration": 253,
    "start_time": "2024-05-09T11:48:08.752Z"
   },
   {
    "duration": 231,
    "start_time": "2024-05-09T11:48:59.367Z"
   },
   {
    "duration": 198,
    "start_time": "2024-05-09T11:58:27.206Z"
   },
   {
    "duration": 179,
    "start_time": "2024-05-09T11:58:32.501Z"
   },
   {
    "duration": 460,
    "start_time": "2024-05-09T11:58:56.530Z"
   },
   {
    "duration": 181,
    "start_time": "2024-05-09T11:59:36.522Z"
   },
   {
    "duration": 274,
    "start_time": "2024-05-09T12:00:46.728Z"
   },
   {
    "duration": 17,
    "start_time": "2024-05-09T12:01:42.992Z"
   },
   {
    "duration": 16,
    "start_time": "2024-05-09T12:02:01.722Z"
   },
   {
    "duration": 15,
    "start_time": "2024-05-09T12:02:12.359Z"
   },
   {
    "duration": 16,
    "start_time": "2024-05-09T12:02:19.823Z"
   },
   {
    "duration": 6,
    "start_time": "2024-05-09T12:07:27.224Z"
   },
   {
    "duration": 226,
    "start_time": "2024-05-09T12:07:36.489Z"
   },
   {
    "duration": 5,
    "start_time": "2024-05-09T12:08:33.544Z"
   },
   {
    "duration": 245,
    "start_time": "2024-05-09T12:08:34.838Z"
   },
   {
    "duration": 17,
    "start_time": "2024-05-09T12:21:54.374Z"
   },
   {
    "duration": 287,
    "start_time": "2024-05-09T12:22:24.951Z"
   },
   {
    "duration": 140,
    "start_time": "2024-05-09T12:23:43.938Z"
   },
   {
    "duration": 10,
    "start_time": "2024-05-09T12:41:21.853Z"
   },
   {
    "duration": 10,
    "start_time": "2024-05-09T12:41:49.674Z"
   },
   {
    "duration": 9,
    "start_time": "2024-05-09T12:42:37.999Z"
   },
   {
    "duration": 10,
    "start_time": "2024-05-09T12:43:35.802Z"
   },
   {
    "duration": 11,
    "start_time": "2024-05-09T12:44:17.630Z"
   },
   {
    "duration": 11,
    "start_time": "2024-05-09T12:44:35.217Z"
   },
   {
    "duration": 10,
    "start_time": "2024-05-09T12:46:17.844Z"
   },
   {
    "duration": 7490,
    "start_time": "2024-05-09T12:53:35.566Z"
   },
   {
    "duration": 628,
    "start_time": "2024-05-09T12:53:43.059Z"
   },
   {
    "duration": 626,
    "start_time": "2024-05-09T12:53:43.689Z"
   },
   {
    "duration": 66,
    "start_time": "2024-05-09T12:53:44.316Z"
   },
   {
    "duration": 39,
    "start_time": "2024-05-09T12:53:44.384Z"
   },
   {
    "duration": 55,
    "start_time": "2024-05-09T12:53:44.424Z"
   },
   {
    "duration": 35,
    "start_time": "2024-05-09T12:53:44.481Z"
   },
   {
    "duration": 8,
    "start_time": "2024-05-09T12:53:44.518Z"
   },
   {
    "duration": 39,
    "start_time": "2024-05-09T12:53:44.527Z"
   },
   {
    "duration": 38,
    "start_time": "2024-05-09T12:53:44.568Z"
   },
   {
    "duration": 24,
    "start_time": "2024-05-09T12:53:44.607Z"
   },
   {
    "duration": 15,
    "start_time": "2024-05-09T12:53:44.632Z"
   },
   {
    "duration": 15,
    "start_time": "2024-05-09T12:53:44.649Z"
   },
   {
    "duration": 3,
    "start_time": "2024-05-09T12:53:44.666Z"
   },
   {
    "duration": 26,
    "start_time": "2024-05-09T12:53:44.671Z"
   },
   {
    "duration": 6,
    "start_time": "2024-05-09T12:53:44.699Z"
   },
   {
    "duration": 11,
    "start_time": "2024-05-09T12:53:44.706Z"
   },
   {
    "duration": 6,
    "start_time": "2024-05-09T12:53:44.718Z"
   },
   {
    "duration": 31,
    "start_time": "2024-05-09T12:53:44.725Z"
   },
   {
    "duration": 7,
    "start_time": "2024-05-09T12:53:44.758Z"
   },
   {
    "duration": 20,
    "start_time": "2024-05-09T12:53:44.766Z"
   },
   {
    "duration": 29,
    "start_time": "2024-05-09T12:53:44.787Z"
   },
   {
    "duration": 12,
    "start_time": "2024-05-09T12:53:44.817Z"
   },
   {
    "duration": 37,
    "start_time": "2024-05-09T12:53:44.830Z"
   },
   {
    "duration": 15,
    "start_time": "2024-05-09T12:53:44.868Z"
   },
   {
    "duration": 24,
    "start_time": "2024-05-09T12:53:44.884Z"
   },
   {
    "duration": 48,
    "start_time": "2024-05-09T12:53:44.910Z"
   },
   {
    "duration": 12,
    "start_time": "2024-05-09T12:53:44.962Z"
   },
   {
    "duration": 9,
    "start_time": "2024-05-09T12:53:44.976Z"
   },
   {
    "duration": 60,
    "start_time": "2024-05-09T12:53:44.986Z"
   },
   {
    "duration": 17,
    "start_time": "2024-05-09T12:53:45.048Z"
   },
   {
    "duration": 52,
    "start_time": "2024-05-09T12:53:45.067Z"
   },
   {
    "duration": 65,
    "start_time": "2024-05-09T12:53:45.121Z"
   },
   {
    "duration": 25,
    "start_time": "2024-05-09T12:53:45.188Z"
   },
   {
    "duration": 6,
    "start_time": "2024-05-09T12:53:45.214Z"
   },
   {
    "duration": 34,
    "start_time": "2024-05-09T12:53:45.222Z"
   },
   {
    "duration": 1946,
    "start_time": "2024-05-09T12:53:45.258Z"
   },
   {
    "duration": 665,
    "start_time": "2024-05-09T12:53:47.206Z"
   },
   {
    "duration": 290,
    "start_time": "2024-05-09T12:53:47.873Z"
   },
   {
    "duration": 3617,
    "start_time": "2024-05-09T12:53:48.165Z"
   },
   {
    "duration": 3,
    "start_time": "2024-05-09T12:53:51.784Z"
   },
   {
    "duration": 15,
    "start_time": "2024-05-09T12:53:51.788Z"
   },
   {
    "duration": 11,
    "start_time": "2024-05-09T12:53:51.804Z"
   },
   {
    "duration": 34,
    "start_time": "2024-05-09T12:53:51.816Z"
   },
   {
    "duration": 8303,
    "start_time": "2024-05-09T12:53:51.851Z"
   },
   {
    "duration": 20078,
    "start_time": "2024-05-09T12:54:00.246Z"
   },
   {
    "duration": 7575,
    "start_time": "2024-05-09T12:54:20.326Z"
   },
   {
    "duration": 275159,
    "start_time": "2024-05-09T12:54:27.903Z"
   },
   {
    "duration": 82,
    "start_time": "2024-05-09T12:59:03.064Z"
   },
   {
    "duration": 105,
    "start_time": "2024-05-09T12:59:03.147Z"
   },
   {
    "duration": 106,
    "start_time": "2024-05-09T12:59:03.254Z"
   },
   {
    "duration": 218,
    "start_time": "2024-05-09T12:59:03.361Z"
   },
   {
    "duration": 5,
    "start_time": "2024-05-09T12:59:03.581Z"
   },
   {
    "duration": 257,
    "start_time": "2024-05-09T12:59:03.588Z"
   },
   {
    "duration": 250,
    "start_time": "2024-05-09T12:59:03.846Z"
   },
   {
    "duration": 132,
    "start_time": "2024-05-09T13:04:11.942Z"
   },
   {
    "duration": 122,
    "start_time": "2024-05-09T13:05:04.330Z"
   },
   {
    "duration": 4,
    "start_time": "2024-05-09T13:41:56.815Z"
   },
   {
    "duration": 143,
    "start_time": "2024-05-09T13:42:48.968Z"
   },
   {
    "duration": 11,
    "start_time": "2024-05-09T13:44:33.043Z"
   },
   {
    "duration": 145,
    "start_time": "2024-05-09T13:44:38.338Z"
   },
   {
    "duration": 132,
    "start_time": "2024-05-09T13:44:55.895Z"
   },
   {
    "duration": 138,
    "start_time": "2024-05-09T13:46:15.050Z"
   },
   {
    "duration": 132,
    "start_time": "2024-05-09T13:46:21.231Z"
   },
   {
    "duration": 128,
    "start_time": "2024-05-09T13:47:14.365Z"
   },
   {
    "duration": 239,
    "start_time": "2024-05-09T13:48:13.107Z"
   },
   {
    "duration": 5,
    "start_time": "2024-05-09T13:53:52.159Z"
   },
   {
    "duration": 12,
    "start_time": "2024-05-09T13:54:01.785Z"
   },
   {
    "duration": 5,
    "start_time": "2024-05-09T13:54:13.102Z"
   },
   {
    "duration": 7507,
    "start_time": "2024-05-09T13:57:14.149Z"
   },
   {
    "duration": 671,
    "start_time": "2024-05-09T13:57:21.659Z"
   },
   {
    "duration": 623,
    "start_time": "2024-05-09T13:57:22.331Z"
   },
   {
    "duration": 65,
    "start_time": "2024-05-09T13:57:22.956Z"
   },
   {
    "duration": 37,
    "start_time": "2024-05-09T13:57:23.023Z"
   },
   {
    "duration": 55,
    "start_time": "2024-05-09T13:57:23.062Z"
   },
   {
    "duration": 35,
    "start_time": "2024-05-09T13:57:23.118Z"
   },
   {
    "duration": 7,
    "start_time": "2024-05-09T13:57:23.155Z"
   },
   {
    "duration": 6,
    "start_time": "2024-05-09T13:57:23.163Z"
   },
   {
    "duration": 36,
    "start_time": "2024-05-09T13:57:23.172Z"
   },
   {
    "duration": 4,
    "start_time": "2024-05-09T13:57:23.210Z"
   },
   {
    "duration": 15,
    "start_time": "2024-05-09T13:57:23.215Z"
   },
   {
    "duration": 27,
    "start_time": "2024-05-09T13:57:23.232Z"
   },
   {
    "duration": 7,
    "start_time": "2024-05-09T13:57:23.260Z"
   },
   {
    "duration": 17,
    "start_time": "2024-05-09T13:57:23.268Z"
   },
   {
    "duration": 20,
    "start_time": "2024-05-09T13:57:23.286Z"
   },
   {
    "duration": 36,
    "start_time": "2024-05-09T13:57:23.307Z"
   },
   {
    "duration": 32,
    "start_time": "2024-05-09T13:57:23.344Z"
   },
   {
    "duration": 46,
    "start_time": "2024-05-09T13:57:23.377Z"
   },
   {
    "duration": 18,
    "start_time": "2024-05-09T13:57:23.425Z"
   },
   {
    "duration": 10,
    "start_time": "2024-05-09T13:57:23.444Z"
   },
   {
    "duration": 19,
    "start_time": "2024-05-09T13:57:23.456Z"
   },
   {
    "duration": 5,
    "start_time": "2024-05-09T13:57:23.477Z"
   },
   {
    "duration": 41,
    "start_time": "2024-05-09T13:57:23.483Z"
   },
   {
    "duration": 34,
    "start_time": "2024-05-09T13:57:23.525Z"
   },
   {
    "duration": 28,
    "start_time": "2024-05-09T13:57:23.561Z"
   },
   {
    "duration": 30,
    "start_time": "2024-05-09T13:57:23.590Z"
   },
   {
    "duration": 33,
    "start_time": "2024-05-09T13:57:23.623Z"
   },
   {
    "duration": 15,
    "start_time": "2024-05-09T13:57:23.657Z"
   },
   {
    "duration": 46,
    "start_time": "2024-05-09T13:57:23.674Z"
   },
   {
    "duration": 27,
    "start_time": "2024-05-09T13:57:23.722Z"
   },
   {
    "duration": 29,
    "start_time": "2024-05-09T13:57:23.750Z"
   },
   {
    "duration": 26,
    "start_time": "2024-05-09T13:57:23.780Z"
   },
   {
    "duration": 44,
    "start_time": "2024-05-09T13:57:23.807Z"
   },
   {
    "duration": 5,
    "start_time": "2024-05-09T13:57:23.853Z"
   },
   {
    "duration": 22,
    "start_time": "2024-05-09T13:57:23.860Z"
   },
   {
    "duration": 1897,
    "start_time": "2024-05-09T13:57:23.884Z"
   },
   {
    "duration": 648,
    "start_time": "2024-05-09T13:57:25.782Z"
   },
   {
    "duration": 287,
    "start_time": "2024-05-09T13:57:26.432Z"
   },
   {
    "duration": 3585,
    "start_time": "2024-05-09T13:57:26.721Z"
   },
   {
    "duration": 3,
    "start_time": "2024-05-09T13:57:30.308Z"
   },
   {
    "duration": 43,
    "start_time": "2024-05-09T13:57:30.313Z"
   },
   {
    "duration": 33,
    "start_time": "2024-05-09T13:57:30.357Z"
   },
   {
    "duration": 36,
    "start_time": "2024-05-09T13:57:30.392Z"
   },
   {
    "duration": 8516,
    "start_time": "2024-05-09T13:57:30.430Z"
   },
   {
    "duration": 19880,
    "start_time": "2024-05-09T13:57:38.948Z"
   },
   {
    "duration": 8260,
    "start_time": "2024-05-09T13:57:58.833Z"
   },
   {
    "duration": 279464,
    "start_time": "2024-05-09T13:58:07.095Z"
   },
   {
    "duration": 3,
    "start_time": "2024-05-09T14:02:46.561Z"
   },
   {
    "duration": 93,
    "start_time": "2024-05-09T14:02:46.566Z"
   },
   {
    "duration": 87,
    "start_time": "2024-05-09T14:02:46.661Z"
   },
   {
    "duration": 101,
    "start_time": "2024-05-09T14:02:46.750Z"
   },
   {
    "duration": 179,
    "start_time": "2024-05-09T14:02:46.852Z"
   },
   {
    "duration": 12,
    "start_time": "2024-05-09T14:02:47.034Z"
   },
   {
    "duration": 318,
    "start_time": "2024-05-09T14:02:47.047Z"
   },
   {
    "duration": 173,
    "start_time": "2024-05-09T14:02:47.367Z"
   },
   {
    "duration": 65,
    "start_time": "2024-05-10T13:18:16.801Z"
   },
   {
    "duration": 7,
    "start_time": "2024-05-10T13:18:27.682Z"
   },
   {
    "duration": 6,
    "start_time": "2024-05-10T13:18:50.380Z"
   },
   {
    "duration": 4,
    "start_time": "2024-05-10T13:19:16.211Z"
   },
   {
    "duration": 9,
    "start_time": "2024-05-10T13:19:28.267Z"
   },
   {
    "duration": 15822,
    "start_time": "2024-05-10T13:22:04.017Z"
   },
   {
    "duration": 636,
    "start_time": "2024-05-10T13:22:19.842Z"
   },
   {
    "duration": 884,
    "start_time": "2024-05-10T13:22:20.479Z"
   },
   {
    "duration": 180,
    "start_time": "2024-05-10T13:22:21.365Z"
   },
   {
    "duration": 89,
    "start_time": "2024-05-10T13:22:21.547Z"
   },
   {
    "duration": 110,
    "start_time": "2024-05-10T13:22:21.637Z"
   },
   {
    "duration": 92,
    "start_time": "2024-05-10T13:22:21.749Z"
   },
   {
    "duration": 8,
    "start_time": "2024-05-10T13:22:21.842Z"
   },
   {
    "duration": 30,
    "start_time": "2024-05-10T13:22:21.852Z"
   },
   {
    "duration": 37,
    "start_time": "2024-05-10T13:22:21.885Z"
   },
   {
    "duration": 27,
    "start_time": "2024-05-10T13:22:21.923Z"
   },
   {
    "duration": 25,
    "start_time": "2024-05-10T13:22:21.951Z"
   },
   {
    "duration": 51,
    "start_time": "2024-05-10T13:22:21.978Z"
   },
   {
    "duration": 6,
    "start_time": "2024-05-10T13:22:22.031Z"
   },
   {
    "duration": 20,
    "start_time": "2024-05-10T13:22:22.038Z"
   },
   {
    "duration": 45,
    "start_time": "2024-05-10T13:22:22.060Z"
   },
   {
    "duration": 28,
    "start_time": "2024-05-10T13:22:22.107Z"
   },
   {
    "duration": 10,
    "start_time": "2024-05-10T13:22:22.137Z"
   },
   {
    "duration": 31,
    "start_time": "2024-05-10T13:22:22.148Z"
   },
   {
    "duration": 48,
    "start_time": "2024-05-10T13:22:22.181Z"
   },
   {
    "duration": 55,
    "start_time": "2024-05-10T13:22:22.230Z"
   },
   {
    "duration": 67,
    "start_time": "2024-05-10T13:22:22.287Z"
   },
   {
    "duration": 9,
    "start_time": "2024-05-10T13:22:22.356Z"
   },
   {
    "duration": 73,
    "start_time": "2024-05-10T13:22:22.367Z"
   },
   {
    "duration": 66,
    "start_time": "2024-05-10T13:22:22.441Z"
   },
   {
    "duration": 83,
    "start_time": "2024-05-10T13:22:22.509Z"
   },
   {
    "duration": 48,
    "start_time": "2024-05-10T13:22:22.594Z"
   },
   {
    "duration": 13,
    "start_time": "2024-05-10T13:22:22.645Z"
   },
   {
    "duration": 16,
    "start_time": "2024-05-10T13:22:22.659Z"
   },
   {
    "duration": 69,
    "start_time": "2024-05-10T13:22:22.676Z"
   },
   {
    "duration": 17,
    "start_time": "2024-05-10T13:22:22.747Z"
   },
   {
    "duration": 76,
    "start_time": "2024-05-10T13:22:22.765Z"
   },
   {
    "duration": 45,
    "start_time": "2024-05-10T13:22:22.842Z"
   },
   {
    "duration": 41,
    "start_time": "2024-05-10T13:22:22.889Z"
   },
   {
    "duration": 7,
    "start_time": "2024-05-10T13:22:22.931Z"
   },
   {
    "duration": 56,
    "start_time": "2024-05-10T13:22:22.940Z"
   },
   {
    "duration": 2394,
    "start_time": "2024-05-10T13:22:22.998Z"
   },
   {
    "duration": 782,
    "start_time": "2024-05-10T13:22:25.393Z"
   },
   {
    "duration": 362,
    "start_time": "2024-05-10T13:22:26.178Z"
   },
   {
    "duration": 4246,
    "start_time": "2024-05-10T13:22:26.542Z"
   },
   {
    "duration": 5,
    "start_time": "2024-05-10T13:22:30.789Z"
   },
   {
    "duration": 188,
    "start_time": "2024-05-10T13:22:30.797Z"
   },
   {
    "duration": 347,
    "start_time": "2024-05-10T13:22:30.987Z"
   },
   {
    "duration": 563,
    "start_time": "2024-05-10T13:22:31.335Z"
   },
   {
    "duration": 9408,
    "start_time": "2024-05-10T13:22:31.901Z"
   },
   {
    "duration": 23234,
    "start_time": "2024-05-10T13:22:41.311Z"
   },
   {
    "duration": 11496,
    "start_time": "2024-05-10T13:23:04.546Z"
   },
   {
    "duration": 12564,
    "start_time": "2024-09-07T23:01:56.398Z"
   },
   {
    "duration": 658,
    "start_time": "2024-09-07T23:02:08.964Z"
   },
   {
    "duration": 825,
    "start_time": "2024-09-07T23:02:09.624Z"
   },
   {
    "duration": 220,
    "start_time": "2024-09-07T23:02:10.452Z"
   },
   {
    "duration": 98,
    "start_time": "2024-09-07T23:02:10.673Z"
   },
   {
    "duration": 115,
    "start_time": "2024-09-07T23:02:10.772Z"
   },
   {
    "duration": 106,
    "start_time": "2024-09-07T23:02:10.889Z"
   },
   {
    "duration": 7,
    "start_time": "2024-09-07T23:02:10.997Z"
   },
   {
    "duration": 10,
    "start_time": "2024-09-07T23:02:11.005Z"
   },
   {
    "duration": 17,
    "start_time": "2024-09-07T23:02:11.017Z"
   },
   {
    "duration": 4,
    "start_time": "2024-09-07T23:02:11.036Z"
   },
   {
    "duration": 8,
    "start_time": "2024-09-07T23:02:11.041Z"
   },
   {
    "duration": 14,
    "start_time": "2024-09-07T23:02:11.050Z"
   },
   {
    "duration": 26,
    "start_time": "2024-09-07T23:02:11.065Z"
   },
   {
    "duration": 12,
    "start_time": "2024-09-07T23:02:11.093Z"
   },
   {
    "duration": 19,
    "start_time": "2024-09-07T23:02:11.106Z"
   },
   {
    "duration": 8,
    "start_time": "2024-09-07T23:02:11.126Z"
   },
   {
    "duration": 8,
    "start_time": "2024-09-07T23:02:11.135Z"
   },
   {
    "duration": 10,
    "start_time": "2024-09-07T23:02:11.145Z"
   },
   {
    "duration": 4,
    "start_time": "2024-09-07T23:02:11.156Z"
   },
   {
    "duration": 13,
    "start_time": "2024-09-07T23:02:11.161Z"
   },
   {
    "duration": 29,
    "start_time": "2024-09-07T23:02:11.175Z"
   },
   {
    "duration": 3,
    "start_time": "2024-09-07T23:02:11.205Z"
   },
   {
    "duration": 43,
    "start_time": "2024-09-07T23:02:11.209Z"
   },
   {
    "duration": 14,
    "start_time": "2024-09-07T23:02:11.254Z"
   },
   {
    "duration": 37,
    "start_time": "2024-09-07T23:02:11.269Z"
   },
   {
    "duration": 27,
    "start_time": "2024-09-07T23:02:11.308Z"
   },
   {
    "duration": 12,
    "start_time": "2024-09-07T23:02:11.338Z"
   },
   {
    "duration": 26,
    "start_time": "2024-09-07T23:02:11.351Z"
   },
   {
    "duration": 56,
    "start_time": "2024-09-07T23:02:11.379Z"
   },
   {
    "duration": 17,
    "start_time": "2024-09-07T23:02:11.437Z"
   },
   {
    "duration": 37,
    "start_time": "2024-09-07T23:02:11.455Z"
   },
   {
    "duration": 23,
    "start_time": "2024-09-07T23:02:11.494Z"
   },
   {
    "duration": 24,
    "start_time": "2024-09-07T23:02:11.520Z"
   },
   {
    "duration": 7,
    "start_time": "2024-09-07T23:02:11.546Z"
   },
   {
    "duration": 47,
    "start_time": "2024-09-07T23:02:11.554Z"
   },
   {
    "duration": 1949,
    "start_time": "2024-09-07T23:02:11.602Z"
   },
   {
    "duration": 619,
    "start_time": "2024-09-07T23:02:13.553Z"
   },
   {
    "duration": 270,
    "start_time": "2024-09-07T23:02:14.174Z"
   },
   {
    "duration": 3388,
    "start_time": "2024-09-07T23:02:14.446Z"
   },
   {
    "duration": 3,
    "start_time": "2024-09-07T23:02:17.836Z"
   },
   {
    "duration": 15,
    "start_time": "2024-09-07T23:02:17.840Z"
   },
   {
    "duration": 39,
    "start_time": "2024-09-07T23:02:17.857Z"
   },
   {
    "duration": 8593,
    "start_time": "2024-09-07T23:02:17.897Z"
   },
   {
    "duration": 19549,
    "start_time": "2024-09-07T23:02:26.492Z"
   },
   {
    "duration": 8272,
    "start_time": "2024-09-07T23:02:46.042Z"
   },
   {
    "duration": 175593,
    "start_time": "2024-09-07T23:02:54.315Z"
   },
   {
    "duration": 83,
    "start_time": "2024-09-07T23:05:49.909Z"
   },
   {
    "duration": 102,
    "start_time": "2024-09-07T23:05:49.993Z"
   },
   {
    "duration": 5,
    "start_time": "2024-09-07T23:05:50.096Z"
   },
   {
    "duration": 189,
    "start_time": "2024-09-07T23:05:50.102Z"
   },
   {
    "duration": 5,
    "start_time": "2024-09-07T23:05:50.293Z"
   },
   {
    "duration": 251,
    "start_time": "2024-09-07T23:05:50.299Z"
   },
   {
    "duration": 136,
    "start_time": "2024-09-07T23:05:50.552Z"
   },
   {
    "duration": 127,
    "start_time": "2024-09-07T23:06:51.049Z"
   },
   {
    "duration": 104,
    "start_time": "2024-09-07T23:29:10.459Z"
   },
   {
    "duration": 5,
    "start_time": "2024-09-07T23:31:36.959Z"
   },
   {
    "duration": 6,
    "start_time": "2024-09-07T23:35:30.711Z"
   },
   {
    "duration": 214,
    "start_time": "2024-09-07T23:35:42.112Z"
   },
   {
    "duration": 7,
    "start_time": "2024-09-07T23:36:32.794Z"
   },
   {
    "duration": 175,
    "start_time": "2024-09-07T23:36:34.770Z"
   },
   {
    "duration": 9,
    "start_time": "2024-09-07T23:37:32.525Z"
   },
   {
    "duration": 191,
    "start_time": "2024-09-07T23:37:34.448Z"
   },
   {
    "duration": 5,
    "start_time": "2024-09-07T23:38:27.755Z"
   },
   {
    "duration": 5420,
    "start_time": "2024-09-07T23:38:38.643Z"
   },
   {
    "duration": 648,
    "start_time": "2024-09-07T23:38:44.065Z"
   },
   {
    "duration": 610,
    "start_time": "2024-09-07T23:38:44.714Z"
   },
   {
    "duration": 70,
    "start_time": "2024-09-07T23:38:45.326Z"
   },
   {
    "duration": 40,
    "start_time": "2024-09-07T23:38:45.397Z"
   },
   {
    "duration": 57,
    "start_time": "2024-09-07T23:38:45.439Z"
   },
   {
    "duration": 38,
    "start_time": "2024-09-07T23:38:45.498Z"
   },
   {
    "duration": 8,
    "start_time": "2024-09-07T23:38:45.537Z"
   },
   {
    "duration": 25,
    "start_time": "2024-09-07T23:38:45.547Z"
   },
   {
    "duration": 21,
    "start_time": "2024-09-07T23:38:45.575Z"
   },
   {
    "duration": 10,
    "start_time": "2024-09-07T23:38:45.598Z"
   },
   {
    "duration": 10,
    "start_time": "2024-09-07T23:38:45.609Z"
   },
   {
    "duration": 14,
    "start_time": "2024-09-07T23:38:45.621Z"
   },
   {
    "duration": 5,
    "start_time": "2024-09-07T23:38:45.636Z"
   },
   {
    "duration": 11,
    "start_time": "2024-09-07T23:38:45.642Z"
   },
   {
    "duration": 4,
    "start_time": "2024-09-07T23:38:45.655Z"
   },
   {
    "duration": 36,
    "start_time": "2024-09-07T23:38:45.660Z"
   },
   {
    "duration": 11,
    "start_time": "2024-09-07T23:38:45.698Z"
   },
   {
    "duration": 10,
    "start_time": "2024-09-07T23:38:45.710Z"
   },
   {
    "duration": 4,
    "start_time": "2024-09-07T23:38:45.721Z"
   },
   {
    "duration": 11,
    "start_time": "2024-09-07T23:38:45.726Z"
   },
   {
    "duration": 15,
    "start_time": "2024-09-07T23:38:45.738Z"
   },
   {
    "duration": 3,
    "start_time": "2024-09-07T23:38:45.754Z"
   },
   {
    "duration": 52,
    "start_time": "2024-09-07T23:38:45.758Z"
   },
   {
    "duration": 15,
    "start_time": "2024-09-07T23:38:45.811Z"
   },
   {
    "duration": 29,
    "start_time": "2024-09-07T23:38:45.828Z"
   },
   {
    "duration": 47,
    "start_time": "2024-09-07T23:38:45.858Z"
   },
   {
    "duration": 12,
    "start_time": "2024-09-07T23:38:45.908Z"
   },
   {
    "duration": 20,
    "start_time": "2024-09-07T23:38:45.921Z"
   },
   {
    "duration": 49,
    "start_time": "2024-09-07T23:38:45.943Z"
   },
   {
    "duration": 29,
    "start_time": "2024-09-07T23:38:45.993Z"
   },
   {
    "duration": 45,
    "start_time": "2024-09-07T23:38:46.023Z"
   },
   {
    "duration": 29,
    "start_time": "2024-09-07T23:38:46.070Z"
   },
   {
    "duration": 14,
    "start_time": "2024-09-07T23:38:46.100Z"
   },
   {
    "duration": 23,
    "start_time": "2024-09-07T23:38:46.115Z"
   },
   {
    "duration": 1847,
    "start_time": "2024-09-07T23:38:46.139Z"
   },
   {
    "duration": 617,
    "start_time": "2024-09-07T23:38:47.990Z"
   },
   {
    "duration": 268,
    "start_time": "2024-09-07T23:38:48.608Z"
   },
   {
    "duration": 3443,
    "start_time": "2024-09-07T23:38:48.878Z"
   },
   {
    "duration": 4,
    "start_time": "2024-09-07T23:38:52.322Z"
   },
   {
    "duration": 23,
    "start_time": "2024-09-07T23:38:52.327Z"
   },
   {
    "duration": 26,
    "start_time": "2024-09-07T23:38:52.351Z"
   },
   {
    "duration": 8618,
    "start_time": "2024-09-07T23:38:52.378Z"
   },
   {
    "duration": 19020,
    "start_time": "2024-09-07T23:39:00.998Z"
   },
   {
    "duration": 8441,
    "start_time": "2024-09-07T23:39:20.019Z"
   },
   {
    "duration": 174336,
    "start_time": "2024-09-07T23:39:28.461Z"
   },
   {
    "duration": 4,
    "start_time": "2024-09-07T23:42:22.799Z"
   },
   {
    "duration": 95,
    "start_time": "2024-09-07T23:42:22.804Z"
   },
   {
    "duration": 5,
    "start_time": "2024-09-07T23:42:22.901Z"
   },
   {
    "duration": 190,
    "start_time": "2024-09-07T23:42:22.907Z"
   },
   {
    "duration": 5,
    "start_time": "2024-09-07T23:42:23.099Z"
   },
   {
    "duration": 263,
    "start_time": "2024-09-07T23:42:23.106Z"
   },
   {
    "duration": 139,
    "start_time": "2024-09-07T23:42:23.370Z"
   },
   {
    "duration": 19,
    "start_time": "2024-09-07T23:50:29.922Z"
   },
   {
    "duration": 5358,
    "start_time": "2024-09-08T00:07:37.881Z"
   },
   {
    "duration": 561,
    "start_time": "2024-09-08T00:07:43.241Z"
   },
   {
    "duration": 604,
    "start_time": "2024-09-08T00:07:43.804Z"
   },
   {
    "duration": 69,
    "start_time": "2024-09-08T00:07:44.410Z"
   },
   {
    "duration": 40,
    "start_time": "2024-09-08T00:07:44.480Z"
   },
   {
    "duration": 55,
    "start_time": "2024-09-08T00:07:44.521Z"
   },
   {
    "duration": 38,
    "start_time": "2024-09-08T00:07:44.577Z"
   },
   {
    "duration": 7,
    "start_time": "2024-09-08T00:07:44.616Z"
   },
   {
    "duration": 7,
    "start_time": "2024-09-08T00:07:44.624Z"
   },
   {
    "duration": 14,
    "start_time": "2024-09-08T00:07:44.633Z"
   },
   {
    "duration": 4,
    "start_time": "2024-09-08T00:07:44.648Z"
   },
   {
    "duration": 6,
    "start_time": "2024-09-08T00:07:44.653Z"
   },
   {
    "duration": 33,
    "start_time": "2024-09-08T00:07:44.660Z"
   },
   {
    "duration": 3,
    "start_time": "2024-09-08T00:07:44.694Z"
   },
   {
    "duration": 14,
    "start_time": "2024-09-08T00:07:44.699Z"
   },
   {
    "duration": 11,
    "start_time": "2024-09-08T00:07:44.715Z"
   },
   {
    "duration": 7,
    "start_time": "2024-09-08T00:07:44.727Z"
   },
   {
    "duration": 4,
    "start_time": "2024-09-08T00:07:44.735Z"
   },
   {
    "duration": 10,
    "start_time": "2024-09-08T00:07:44.740Z"
   },
   {
    "duration": 4,
    "start_time": "2024-09-08T00:07:44.751Z"
   },
   {
    "duration": 6,
    "start_time": "2024-09-08T00:07:44.756Z"
   },
   {
    "duration": 38,
    "start_time": "2024-09-08T00:07:44.763Z"
   },
   {
    "duration": 36,
    "start_time": "2024-09-08T00:07:44.803Z"
   },
   {
    "duration": 29,
    "start_time": "2024-09-08T00:07:44.841Z"
   },
   {
    "duration": 14,
    "start_time": "2024-09-08T00:07:44.871Z"
   },
   {
    "duration": 22,
    "start_time": "2024-09-08T00:07:44.887Z"
   },
   {
    "duration": 27,
    "start_time": "2024-09-08T00:07:44.911Z"
   },
   {
    "duration": 13,
    "start_time": "2024-09-08T00:07:44.941Z"
   },
   {
    "duration": 6,
    "start_time": "2024-09-08T00:07:44.955Z"
   },
   {
    "duration": 68,
    "start_time": "2024-09-08T00:07:44.963Z"
   },
   {
    "duration": 29,
    "start_time": "2024-09-08T00:07:45.032Z"
   },
   {
    "duration": 35,
    "start_time": "2024-09-08T00:07:45.062Z"
   },
   {
    "duration": 25,
    "start_time": "2024-09-08T00:07:45.098Z"
   },
   {
    "duration": 6,
    "start_time": "2024-09-08T00:07:45.125Z"
   },
   {
    "duration": 21,
    "start_time": "2024-09-08T00:07:45.133Z"
   },
   {
    "duration": 1869,
    "start_time": "2024-09-08T00:07:45.156Z"
   },
   {
    "duration": 612,
    "start_time": "2024-09-08T00:07:47.027Z"
   },
   {
    "duration": 266,
    "start_time": "2024-09-08T00:07:47.641Z"
   },
   {
    "duration": 3363,
    "start_time": "2024-09-08T00:07:47.909Z"
   },
   {
    "duration": 2,
    "start_time": "2024-09-08T00:07:51.274Z"
   },
   {
    "duration": 20,
    "start_time": "2024-09-08T00:07:51.277Z"
   },
   {
    "duration": 27,
    "start_time": "2024-09-08T00:07:51.298Z"
   },
   {
    "duration": 8365,
    "start_time": "2024-09-08T00:07:51.327Z"
   },
   {
    "duration": 19313,
    "start_time": "2024-09-08T00:07:59.694Z"
   },
   {
    "duration": 8258,
    "start_time": "2024-09-08T00:08:19.009Z"
   },
   {
    "duration": 172926,
    "start_time": "2024-09-08T00:08:27.268Z"
   },
   {
    "duration": 9,
    "start_time": "2024-09-08T00:11:20.198Z"
   },
   {
    "duration": 95,
    "start_time": "2024-09-08T00:11:20.209Z"
   },
   {
    "duration": 4,
    "start_time": "2024-09-08T00:11:20.305Z"
   },
   {
    "duration": 195,
    "start_time": "2024-09-08T00:11:20.311Z"
   },
   {
    "duration": 253,
    "start_time": "2024-09-08T00:11:20.508Z"
   },
   {
    "duration": 132,
    "start_time": "2024-09-08T00:11:20.762Z"
   }
  ],
  "kernelspec": {
   "display_name": "Python 3 (ipykernel)",
   "language": "python",
   "name": "python3"
  },
  "language_info": {
   "codemirror_mode": {
    "name": "ipython",
    "version": 3
   },
   "file_extension": ".py",
   "mimetype": "text/x-python",
   "name": "python",
   "nbconvert_exporter": "python",
   "pygments_lexer": "ipython3",
   "version": "3.9.5"
  },
  "toc": {
   "base_numbering": 1,
   "nav_menu": {},
   "number_sections": true,
   "sideBar": false,
   "skip_h1_title": true,
   "title_cell": "Содержание",
   "title_sidebar": "Содержание",
   "toc_cell": true,
   "toc_position": {},
   "toc_section_display": false,
   "toc_window_display": false
  }
 },
 "nbformat": 4,
 "nbformat_minor": 5
}
