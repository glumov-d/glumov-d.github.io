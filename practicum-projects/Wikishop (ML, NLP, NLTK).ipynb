{
 "cells": [
  {
   "cell_type": "markdown",
   "metadata": {},
   "source": [
    "# ПРОЕКТ ДЛЯ \"ВИКИШОП\" 📊"
   ]
  },
  {
   "cell_type": "markdown",
   "metadata": {
    "toc": true
   },
   "source": [
    "<h1>Содержание<span class=\"tocSkip\"></span></h1>\n",
    "<div class=\"toc\"><ul class=\"toc-item\"><li><span><a href=\"#Подготовка\" data-toc-modified-id=\"Подготовка-1\"><span class=\"toc-item-num\">1&nbsp;&nbsp;</span>Подготовка</a></span></li><li><span><a href=\"#Обучение\" data-toc-modified-id=\"Обучение-2\"><span class=\"toc-item-num\">2&nbsp;&nbsp;</span>Обучение</a></span></li><li><span><a href=\"#Выводы\" data-toc-modified-id=\"Выводы-3\"><span class=\"toc-item-num\">3&nbsp;&nbsp;</span>Выводы</a></span></li><li><span><a href=\"#Чек-лист-проверки\" data-toc-modified-id=\"Чек-лист-проверки-4\"><span class=\"toc-item-num\">4&nbsp;&nbsp;</span>Чек-лист проверки</a></span></li></ul></div>"
   ]
  },
  {
   "cell_type": "markdown",
   "metadata": {},
   "source": [
    "# Описание проекта: 📝"
   ]
  },
  {
   "cell_type": "markdown",
   "metadata": {},
   "source": [
    "<div style=\"border:solid green 3px; padding: 20px\">\n",
    "    \n",
    "Интернет-магазин «Викишоп» запускает новый сервис. Теперь пользователи могут редактировать и дополнять описания товаров, как в вики-сообществах. То есть клиенты предлагают свои правки и комментируют изменения других. Магазину нужен инструмент, который будет искать токсичные комментарии и отправлять их на модерацию. \n",
    "\n",
    "Обучите модель классифицировать комментарии на позитивные и негативные. В вашем распоряжении набор данных с разметкой о токсичности правок.\n",
    "\n",
    "**Описание данных**\n",
    "\n",
    "Данные находятся в файле `toxic_comments.csv`. Столбец *text* в нём содержит текст комментария, а *toxic* — целевой признак."
   ]
  },
  {
   "cell_type": "markdown",
   "metadata": {},
   "source": [
    "# Цель проекта: 🎯"
   ]
  },
  {
   "cell_type": "markdown",
   "metadata": {},
   "source": [
    "<div style=\"border:solid green 3px; padding: 20px\">\n",
    "\n",
    "Постройть модель, которая будет искать токсичные комментарии и отправлять их на модерацию.\n",
    "\n",
    "Значение метрики качества F1 должно быть не меньше 0.75."
   ]
  },
  {
   "cell_type": "markdown",
   "metadata": {},
   "source": [
    "# План действий: 📅"
   ]
  },
  {
   "cell_type": "markdown",
   "metadata": {},
   "source": [
    "<div style=\"border:solid green 3px; padding: 20px\">\n",
    "    \n",
    "1. Загрузить и подготовить данные.\n",
    "2. Обучить разные модели. \n",
    "3. Сделать выводы."
   ]
  },
  {
   "cell_type": "markdown",
   "metadata": {},
   "source": [
    "## Подготовка"
   ]
  },
  {
   "cell_type": "markdown",
   "metadata": {},
   "source": [
    "<div style=\"border:solid green 2px; padding: 5px\">\n",
    "    загружаем актуальную версию scikit-learn, а также библиотеку для работы с дисбалансом:"
   ]
  },
  {
   "cell_type": "code",
   "execution_count": 1,
   "metadata": {},
   "outputs": [],
   "source": [
    "!pip install --upgrade -q pip\n",
    "\n",
    "!pip install --upgrade -q scikit-learn\n",
    "\n",
    "!pip install -U -q imbalanced-learn"
   ]
  },
  {
   "cell_type": "markdown",
   "metadata": {},
   "source": [
    "<div style=\"border:solid green 2px; padding: 5px\">\n",
    "проверяем, что версия sklearn обновилась до последней:\n"
   ]
  },
  {
   "cell_type": "code",
   "execution_count": 2,
   "metadata": {},
   "outputs": [
    {
     "name": "stdout",
     "output_type": "stream",
     "text": [
      "1.4.1.post1\n"
     ]
    }
   ],
   "source": [
    "import sklearn\n",
    "print(sklearn.__version__)"
   ]
  },
  {
   "cell_type": "markdown",
   "metadata": {},
   "source": [
    "<div style=\"border:solid green 2px; padding: 5px\">\n",
    "    \n",
    "выгружаем библиотеки, необходимые нам в работе, фиксируем RS:"
   ]
  },
  {
   "cell_type": "code",
   "execution_count": 3,
   "metadata": {},
   "outputs": [
    {
     "name": "stderr",
     "output_type": "stream",
     "text": [
      "[nltk_data] Downloading package averaged_perceptron_tagger to\n",
      "[nltk_data]     /home/jovyan/nltk_data...\n",
      "[nltk_data]   Unzipping taggers/averaged_perceptron_tagger.zip.\n"
     ]
    }
   ],
   "source": [
    "import os\n",
    "import re\n",
    "import pandas as pd\n",
    "import numpy as np\n",
    "import matplotlib.pyplot as plt\n",
    "import seaborn as sns\n",
    "import lightgbm as lgb\n",
    "\n",
    "from sklearn.model_selection import train_test_split, GridSearchCV\n",
    "from sklearn.feature_extraction.text import TfidfVectorizer\n",
    "from sklearn.metrics import f1_score\n",
    "from sklearn.pipeline import Pipeline\n",
    "\n",
    "from sklearn.ensemble import RandomForestClassifier\n",
    "from sklearn.linear_model import LogisticRegression\n",
    "from catboost import CatBoostClassifier\n",
    "\n",
    "import nltk\n",
    "from nltk.corpus import stopwords\n",
    "from nltk.corpus import wordnet\n",
    "from nltk.stem import WordNetLemmatizer\n",
    "from nltk import pos_tag, word_tokenize\n",
    "nltk.download('averaged_perceptron_tagger')\n",
    "\n",
    "RS = 42"
   ]
  },
  {
   "cell_type": "markdown",
   "metadata": {},
   "source": [
    "<div style=\"border:solid green 2px; padding: 5px\">\n",
    "подгружаем готовый файл, сохраняем в переменную и выводим в виде таблиц и детализированных отчётов для изучения:"
   ]
  },
  {
   "cell_type": "code",
   "execution_count": 4,
   "metadata": {},
   "outputs": [
    {
     "name": "stdout",
     "output_type": "stream",
     "text": [
      "Файл toxic_comments.csv найден на сервере и сохранён в переменную data\n"
     ]
    }
   ],
   "source": [
    "data_serv = '/datasets/toxic_comments.csv'\n",
    "data_local = '/any_name/toxic_comments.csv'\n",
    "\n",
    "if os.path.exists(data_serv):\n",
    "    data = pd.read_csv(data_serv)\n",
    "    print('Файл toxic_comments.csv найден на сервере и сохранён в переменную data')\n",
    "elif os.path.exists(data_local):\n",
    "    data = pd.read_csv(data_local)\n",
    "    print('Файл toxic_comments.csv найден в локальной папке и сохранён в переменную data')\n",
    "else:\n",
    "    print('Файл toxic_comments.csv не найден')"
   ]
  },
  {
   "cell_type": "code",
   "execution_count": 5,
   "metadata": {},
   "outputs": [
    {
     "name": "stdout",
     "output_type": "stream",
     "text": [
      "<class 'pandas.core.frame.DataFrame'>\n",
      "RangeIndex: 159292 entries, 0 to 159291\n",
      "Data columns (total 3 columns):\n",
      " #   Column      Non-Null Count   Dtype \n",
      "---  ------      --------------   ----- \n",
      " 0   Unnamed: 0  159292 non-null  int64 \n",
      " 1   text        159292 non-null  object\n",
      " 2   toxic       159292 non-null  int64 \n",
      "dtypes: int64(2), object(1)\n",
      "memory usage: 3.6+ MB\n",
      "\n",
      "          Unnamed: 0          toxic\n",
      "count  159292.000000  159292.000000\n",
      "mean    79725.697242       0.101612\n",
      "std     46028.837471       0.302139\n",
      "min         0.000000       0.000000\n",
      "25%     39872.750000       0.000000\n",
      "50%     79721.500000       0.000000\n",
      "75%    119573.250000       0.000000\n",
      "max    159450.000000       1.000000\n",
      "\n"
     ]
    },
    {
     "data": {
      "text/html": [
       "<div>\n",
       "<style scoped>\n",
       "    .dataframe tbody tr th:only-of-type {\n",
       "        vertical-align: middle;\n",
       "    }\n",
       "\n",
       "    .dataframe tbody tr th {\n",
       "        vertical-align: top;\n",
       "    }\n",
       "\n",
       "    .dataframe thead th {\n",
       "        text-align: right;\n",
       "    }\n",
       "</style>\n",
       "<table border=\"1\" class=\"dataframe\">\n",
       "  <thead>\n",
       "    <tr style=\"text-align: right;\">\n",
       "      <th></th>\n",
       "      <th>Unnamed: 0</th>\n",
       "      <th>text</th>\n",
       "      <th>toxic</th>\n",
       "    </tr>\n",
       "  </thead>\n",
       "  <tbody>\n",
       "    <tr>\n",
       "      <th>0</th>\n",
       "      <td>0</td>\n",
       "      <td>Explanation\\nWhy the edits made under my usern...</td>\n",
       "      <td>0</td>\n",
       "    </tr>\n",
       "    <tr>\n",
       "      <th>1</th>\n",
       "      <td>1</td>\n",
       "      <td>D'aww! He matches this background colour I'm s...</td>\n",
       "      <td>0</td>\n",
       "    </tr>\n",
       "    <tr>\n",
       "      <th>2</th>\n",
       "      <td>2</td>\n",
       "      <td>Hey man, I'm really not trying to edit war. It...</td>\n",
       "      <td>0</td>\n",
       "    </tr>\n",
       "    <tr>\n",
       "      <th>3</th>\n",
       "      <td>3</td>\n",
       "      <td>\"\\nMore\\nI can't make any real suggestions on ...</td>\n",
       "      <td>0</td>\n",
       "    </tr>\n",
       "    <tr>\n",
       "      <th>4</th>\n",
       "      <td>4</td>\n",
       "      <td>You, sir, are my hero. Any chance you remember...</td>\n",
       "      <td>0</td>\n",
       "    </tr>\n",
       "  </tbody>\n",
       "</table>\n",
       "</div>"
      ],
      "text/plain": [
       "   Unnamed: 0                                               text  toxic\n",
       "0           0  Explanation\\nWhy the edits made under my usern...      0\n",
       "1           1  D'aww! He matches this background colour I'm s...      0\n",
       "2           2  Hey man, I'm really not trying to edit war. It...      0\n",
       "3           3  \"\\nMore\\nI can't make any real suggestions on ...      0\n",
       "4           4  You, sir, are my hero. Any chance you remember...      0"
      ]
     },
     "metadata": {},
     "output_type": "display_data"
    }
   ],
   "source": [
    "data.info()\n",
    "print()\n",
    "print(data.describe())\n",
    "print()\n",
    "display(data.head())"
   ]
  },
  {
   "cell_type": "markdown",
   "metadata": {},
   "source": [
    "<div style=\"border:solid green 2px; padding: 5px\">\n",
    "    \n",
    "Видим табличку с текстом и обозначением, является ли текст токсичным (цифра 1, если \"да\"), видим 159292 строк и отсутствие пропусков;\n",
    "    \n",
    "Посмотрим на соотношение количества токсичных комментариев в цифрах и на графике:"
   ]
  },
  {
   "cell_type": "code",
   "execution_count": 6,
   "metadata": {},
   "outputs": [
    {
     "name": "stdout",
     "output_type": "stream",
     "text": [
      "0    143106\n",
      "1     16186\n",
      "Name: toxic, dtype: int64\n"
     ]
    },
    {
     "data": {
      "image/png": "[encoded data removed]",
      "text/plain": [
       "<Figure size 504x288 with 1 Axes>"
      ]
     },
     "metadata": {
      "needs_background": "light"
     },
     "output_type": "display_data"
    }
   ],
   "source": [
    "print(data['toxic'].value_counts())\n",
    "\n",
    "plt.figure(figsize=(7, 4))\n",
    "sns.countplot(x='toxic', data=data)\n",
    "plt.title('Соотношение токсичных и нетоксичных комментариев')\n",
    "plt.xlabel('Категория')\n",
    "plt.ylabel('Количество')\n",
    "plt.show()"
   ]
  },
  {
   "cell_type": "markdown",
   "metadata": {},
   "source": [
    "<div style=\"border:solid green 2px; padding: 5px\"> \n",
    "    \n",
    "Видим большую диспропорцию в соотношении токсичных комментариев от нетоксичных (1 к 9).\n",
    "    \n",
    "Для корректного и более качественного обучения модели потребуется уменьшить диспропорцию при помощи весов классов, сохраним вес классов в отдельную переменную:"
   ]
  },
  {
   "cell_type": "code",
   "execution_count": 7,
   "metadata": {},
   "outputs": [],
   "source": [
    "class_weights = {0: 0.3, 1: 1}"
   ]
  },
  {
   "cell_type": "markdown",
   "metadata": {},
   "source": [
    "<div style=\"border:solid green 2px; padding: 5px\"> \n",
    "    \n",
    "Проведём пробную лемматизацию текста и удостоверимся, что преобразование работает как надо:"
   ]
  },
  {
   "cell_type": "code",
   "execution_count": 8,
   "metadata": {},
   "outputs": [
    {
     "name": "stdout",
     "output_type": "stream",
     "text": [
      "foot\n",
      "['The', 'strip', 'bat', 'be', 'hang', 'on', 'their', 'foot', 'for', 'best']\n"
     ]
    }
   ],
   "source": [
    "lemmatizer = WordNetLemmatizer()\n",
    "\n",
    "def get_wordnet_pos(word):\n",
    "    tag = pos_tag([word])[0][1][0].upper()\n",
    "    tag_dict = {\"J\": wordnet.ADJ,\n",
    "                \"N\": wordnet.NOUN,\n",
    "                \"V\": wordnet.VERB,\n",
    "                \"R\": wordnet.ADV}\n",
    "    return tag_dict.get(tag, wordnet.NOUN)\n",
    "\n",
    "stopwords = set(nltk.corpus.stopwords.words(\"english\"))\n",
    "\n",
    "word = 'feet'\n",
    "print(lemmatizer.lemmatize(word, get_wordnet_pos(word)))\n",
    "\n",
    "sentence = \"The striped bats are hanging on their feet for best\"\n",
    "print([lemmatizer.lemmatize(w, get_wordnet_pos(w)) for w in word_tokenize(sentence)])"
   ]
  },
  {
   "cell_type": "markdown",
   "metadata": {},
   "source": [
    "<div style=\"border:solid green 2px; padding: 5px\"> \n",
    "    \n",
    "Все нужные нам слова для проверки лемматизированы, лемматизация пройдена успешно\n",
    "    \n",
    "Теперь можно очистить, лемматизировать и векторизировать наш исконный текст, ввиду того что текстовый массив огромен, ограничимся 50000 строк текстов для ускорения обработки, после лемматизации поделим на выборки, чтоб уже выборки далее векторизировать:"
   ]
  },
  {
   "cell_type": "code",
   "execution_count": 11,
   "metadata": {},
   "outputs": [],
   "source": [
    "def clean_text(text):\n",
    "    cleaned_text = re.sub(r'[^a-zA-Z]', ' ', text)\n",
    "    cleaned_text = cleaned_text.lower()\n",
    "    return cleaned_text\n",
    "\n",
    "texts = data['text'].tolist()\n",
    "\n",
    "num_texts_to_process = 50000\n",
    "\n",
    "cleaned_texts = [clean_text(text) for text in texts[:num_texts_to_process]]\n",
    "lemmatized_texts = []\n",
    "for text in texts[:num_texts_to_process]:\n",
    "    lemmatized_text = [lemmatizer.lemmatize(word, get_wordnet_pos(word)) for word in word_tokenize(text)]\n",
    "    lemmatized_texts.append(lemmatized_text)\n",
    "\n",
    "X = lemmatized_texts\n",
    "y = data['toxic'][:num_texts_to_process]\n",
    "\n",
    "X_train, X_test, y_train, y_test = train_test_split(X, y, test_size=0.1, random_state=RS)\n",
    "\n",
    "X_train = [' '.join(text).lower() for text in X_train]\n",
    "X_test = [' '.join(text).lower() for text in X_test]\n",
    "\n",
    "tfidf = TfidfVectorizer(max_features=8500, stop_words='english')\n",
    "X_train_tfidf = tfidf.fit_transform(X_train)\n",
    "X_test_tfidf = tfidf.transform(X_test)"
   ]
  },
  {
   "cell_type": "code",
   "execution_count": 13,
   "metadata": {},
   "outputs": [
    {
     "name": "stdout",
     "output_type": "stream",
     "text": [
      "Проверка преобразования: ['Explanation', 'Why', 'the', 'edits', 'make', 'under', 'my', 'username', 'Hardcore', 'Metallica', 'Fan', 'be', 'revert', '?', 'They', 'be', \"n't\", 'vandalism', ',', 'just', 'closure', 'on', 'some', 'GAs', 'after', 'I', 'vote', 'at', 'New', 'York', 'Dolls', 'FAC', '.', 'And', 'please', 'do', \"n't\", 'remove', 'the', 'template', 'from', 'the', 'talk', 'page', 'since', 'I', \"'m\", 'retire', 'now.89.205.38.27']\n"
     ]
    }
   ],
   "source": [
    "print(\"Проверка преобразования:\", lemmatized_texts[0])"
   ]
  },
  {
   "cell_type": "markdown",
   "metadata": {},
   "source": [
    "<div style=\"border:solid green 2px; padding: 5px\"> \n",
    "    \n",
    "Преобразование очищено и лемматизировано, можно приступить к обучению моделей"
   ]
  },
  {
   "cell_type": "markdown",
   "metadata": {},
   "source": [
    "<div style=\"border:solid green 3px; padding: 15px\"> \n",
    "\n",
    "# Промежуточный вывод:\n",
    "    \n",
    "1. обновили scikit-learn\n",
    "2. подгрузили необходимые библиотеки\n",
    "3. изучили файл toxic_comments.csv, построили столбчатую диаграмму, проанализировали диспропорцию\n",
    "4. перебором определили оптимальные веса классов для лучшего прогнозирования моделей\n",
    "5. провели очистку, лемматизацию и векторизацию текста\n"
   ]
  },
  {
   "cell_type": "markdown",
   "metadata": {},
   "source": [
    "## Обучение"
   ]
  },
  {
   "cell_type": "markdown",
   "metadata": {},
   "source": [
    "<div style=\"border:solid green 2px; padding: 5px\"> \n",
    "    \n",
    "При помощи GridSearchCV определим наилучшие гиперпараметры и обучим модель LogisticRegression:"
   ]
  },
  {
   "cell_type": "code",
   "execution_count": 20,
   "metadata": {},
   "outputs": [
    {
     "name": "stdout",
     "output_type": "stream",
     "text": [
      "Наилучшие параметры модели LogisticRegression: {'lr__C': 1, 'lr__penalty': 'l1', 'lr__solver': 'liblinear'}\n",
      "Качество модели по кросс-валидации: 0.7567089127505119\n",
      "CPU times: user 1min 32s, sys: 591 ms, total: 1min 32s\n",
      "Wall time: 1min 32s\n"
     ]
    }
   ],
   "source": [
    "%%time\n",
    "\n",
    "lr = LogisticRegression(random_state=RS, class_weight={0: 0.3, 1: 1})\n",
    "\n",
    "pipeline = Pipeline([\n",
    "    ('tfidf', tfidf),\n",
    "    ('lr', lr)\n",
    "])\n",
    "\n",
    "param_grid = {\n",
    "    'lr__C': [0.001, 0.01, 0.1, 1, 10],\n",
    "    'lr__penalty': ['l1', 'l2'],\n",
    "    'lr__solver': ['liblinear']\n",
    "}\n",
    "\n",
    "grid_search_lr = GridSearchCV(pipeline, param_grid, cv=5, scoring='f1')\n",
    "grid_search_lr.fit(X_train, y_train)\n",
    "\n",
    "best_params = grid_search_lr.best_params_\n",
    "\n",
    "print('Наилучшие параметры модели LogisticRegression:', best_params)\n",
    "print(f'Качество модели по кросс-валидации: {grid_search_lr.best_score_}')\n",
    "\n",
    "# Наилучшие параметры модели LogisticRegression: {'lr__C': 1, 'lr__penalty': 'l1', 'lr__solver': 'liblinear'}"
   ]
  },
  {
   "cell_type": "markdown",
   "metadata": {},
   "source": [
    "<div style=\"border:solid green 2px; padding: 5px\"> \n",
    "    \n",
    "При помощи GridSearchCV определим наилучшие гиперпараметры и обучим модель RandomForestClassifier:"
   ]
  },
  {
   "cell_type": "code",
   "execution_count": 21,
   "metadata": {},
   "outputs": [
    {
     "name": "stdout",
     "output_type": "stream",
     "text": [
      "Наилучшие параметры модели RandomForestClassifier: {'rf__max_depth': 20, 'rf__min_samples_leaf': 1, 'rf__min_samples_split': 2, 'rf__n_estimators': 100}\n",
      "Качество модели по кросс-валидации: 0.12123554331322257\n",
      "CPU times: user 6min 1s, sys: 417 ms, total: 6min 2s\n",
      "Wall time: 6min 2s\n"
     ]
    }
   ],
   "source": [
    "%%time\n",
    "\n",
    "rf = RandomForestClassifier(random_state=RS)\n",
    "\n",
    "pipeline = Pipeline([\n",
    "    ('tfidf', tfidf),\n",
    "    ('rf', rf)\n",
    "])\n",
    "\n",
    "param_grid = {\n",
    "    'rf__n_estimators': [100, 200],\n",
    "    'rf__max_depth': [10, 20],\n",
    "    'rf__min_samples_split': [2, 5],\n",
    "    'rf__min_samples_leaf': [1, 2]\n",
    "}\n",
    "\n",
    "grid_search_rf = GridSearchCV(pipeline, param_grid, cv=5, scoring='f1')\n",
    "grid_search_rf.fit(X_train, y_train)\n",
    "\n",
    "best_params = grid_search_rf.best_params_\n",
    "\n",
    "print('Наилучшие параметры модели RandomForestClassifier:', best_params)\n",
    "print(f'Качество модели по кросс-валидации: {grid_search_rf.best_score_}')\n",
    "\n",
    "#Наилучшие параметры модели RandomForestClassifier: \n",
    "#{'rf__max_depth': 20, 'rf__min_samples_leaf': 1, #'rf__min_samples_split': 2, 'rf__n_estimators': 100}"
   ]
  },
  {
   "cell_type": "markdown",
   "metadata": {},
   "source": [
    "<div style=\"border:solid green 2px; padding: 5px\"> \n",
    "    \n",
    "При помощи GridSearchCV определим наилучшие гиперпараметры и обучим модель CatBoostClassifier:"
   ]
  },
  {
   "cell_type": "code",
   "execution_count": 22,
   "metadata": {},
   "outputs": [
    {
     "name": "stdout",
     "output_type": "stream",
     "text": [
      "Наилучшие параметры модели CatBoostClassifier: {'cb__iterations': 50, 'cb__learning_rate': 1}\n",
      "Качество модели по кросс-валидации: 0.722062167766912\n",
      "CPU times: user 6min 11s, sys: 5.14 s, total: 6min 16s\n",
      "Wall time: 6min 27s\n"
     ]
    }
   ],
   "source": [
    "%%time\n",
    "\n",
    "cb = CatBoostClassifier(loss_function=\"Logloss\", verbose=False)\n",
    "\n",
    "pipeline = Pipeline([\n",
    "    ('tfidf', tfidf),\n",
    "    ('cb', cb)\n",
    "])\n",
    "\n",
    "param_grid = {\n",
    "    'cb__learning_rate': [0.01, 1],\n",
    "    'cb__iterations': [10, 50]\n",
    "}\n",
    "\n",
    "grid_search_cb = GridSearchCV(pipeline, param_grid, cv=5, scoring='f1')\n",
    "grid_search_cb.fit(X_train, y_train)\n",
    "\n",
    "best_params = grid_search_cb.best_params_\n",
    "\n",
    "print('Наилучшие параметры модели CatBoostClassifier:', best_params)\n",
    "print(f'Качество модели по кросс-валидации: {grid_search_cb.best_score_}')\n",
    "\n",
    "#Лучшие параметры модели CatBoostClassifier: {'iterations': 50, 'learning_rate': 1}"
   ]
  },
  {
   "cell_type": "markdown",
   "metadata": {},
   "source": [
    "<div style=\"border:solid green 2px; padding: 5px\"> \n",
    "    \n",
    "При помощи GridSearchCV определим наилучшие гиперпараметры и обучим модель LGBMClassifier:"
   ]
  },
  {
   "cell_type": "code",
   "execution_count": 24,
   "metadata": {},
   "outputs": [
    {
     "name": "stdout",
     "output_type": "stream",
     "text": [
      "Наилучшие параметры модели LGBMClassifier: {'lg__boosting_type': 'gbdt', 'lg__learning_rate': 0.1, 'lg__max_depth': 20, 'lg__metric': 'binary_logloss', 'lg__num_leaves': 31, 'lg__objective': 'binary'}\n",
      "Качество модели по кросс-валидации: 0.71664059145468\n",
      "CPU times: user 26min 47s, sys: 2.11 s, total: 26min 49s\n",
      "Wall time: 26min 51s\n"
     ]
    }
   ],
   "source": [
    "%%time\n",
    "\n",
    "lg = lgb.LGBMClassifier()\n",
    "\n",
    "pipeline = Pipeline([\n",
    "    ('tfidf', tfidf),\n",
    "    ('lg', lg)\n",
    "])\n",
    "\n",
    "param_grid = {\n",
    "    'lg__objective': ['binary'],\n",
    "    'lg__metric': ['binary_logloss'],\n",
    "    'lg__boosting_type': ['gbdt'],\n",
    "    'lg__learning_rate': [0.1, 1],\n",
    "    'lg__num_leaves': [31, 50],\n",
    "    'lg__max_depth': [10, 20]\n",
    "}\n",
    "\n",
    "grid_search_lg = GridSearchCV(pipeline, param_grid, cv=5, scoring='f1')\n",
    "grid_search_lg.fit(X_train, y_train)\n",
    "\n",
    "best_params = grid_search_lg.best_params_\n",
    "\n",
    "print('Наилучшие параметры модели LGBMClassifier:', best_params)\n",
    "print(f'Качество модели по кросс-валидации: {grid_search_lg.best_score_}')\n",
    "\n",
    "# Наилучшие параметры модели LGBMClassifier: {'lg__boosting_type': 'gbdt', 'lg__learning_rate': 0.1, \n",
    "#'lg__max_depth': 20, 'lg__metric': 'binary_logloss', 'lg__num_leaves': 31, 'lg__objective': 'binary'}"
   ]
  },
  {
   "cell_type": "markdown",
   "metadata": {},
   "source": [
    "<div style=\"border:solid green 3px; padding: 15px\"> \n",
    "\n",
    "# Промежуточный вывод:\n",
    "    \n",
    "1. выделили признаки, сохранили в переменные\n",
    "2. разбили данные на выборки, провели векторизацию тренировочных данных\n",
    "3. обучили 4 различные модели на наилучших гиперпараметрах"
   ]
  },
  {
   "cell_type": "markdown",
   "metadata": {},
   "source": [
    "## Выводы"
   ]
  },
  {
   "cell_type": "markdown",
   "metadata": {},
   "source": [
    "<div style=\"border:solid green 2px; padding: 5px\"> \n",
    "    \n",
    "Исходя из метрик оценки при кросс-валидации, наиболее удачная модель оказалась LogisticRegression с результатом 0.77, проверим данную модель на тестовых данных:"
   ]
  },
  {
   "cell_type": "code",
   "execution_count": 27,
   "metadata": {},
   "outputs": [
    {
     "name": "stdout",
     "output_type": "stream",
     "text": [
      "F1 лучшей модели LogisticRegression на тестовой выборке - 0.78\n"
     ]
    }
   ],
   "source": [
    "pred_lr = grid_search_lr.predict(X_test)\n",
    "f1_lr = f1_score(y_test, pred_lr)\n",
    "print('F1 лучшей модели LogisticRegression на тестовой выборке - {:.2f}'.format(f1_lr))"
   ]
  },
  {
   "cell_type": "markdown",
   "metadata": {},
   "source": [
    "<div style=\"border:solid green 2px; padding: 5px\"> \n",
    "    \n",
    "Лучшей моделью по значению метрики F1 является LogisticRegression с показателем 0.78, что подходит условию задачи (> 0.75), также эта модель показывает наиболее быструю скорость обучения на данных, а значит, данную модель можно использовать в сервисе в дальнейшем."
   ]
  },
  {
   "cell_type": "markdown",
   "metadata": {},
   "source": [
    "<div style=\"border:solid green 4px; padding: 15px\"> \n",
    "\n",
    "# Итоговый вывод:\n",
    "    \n",
    "1. Провели подготовку данных:\n",
    "    \n",
    "    а) Обновили scikit-learn, подгрузили необходимые библиотеки;\n",
    "    \n",
    "    б) Изучили файл toxic_comments.csv;\n",
    "    \n",
    "    в) Провели визуализацию, исследовали диспропорцию, определили оптимальный вес классов;\n",
    "    \n",
    "2. Провели обучение моделей:\n",
    "    \n",
    "    а) Выделили признаки, разбили данные на выборки, векторизировали тренировочные данные;\n",
    "    \n",
    "    б) Обучили 4 разные модели;\n",
    "    \n",
    "    в) Отобрали наилучшую модель по лучшему показателю F1 для дальнейшего прогнозирования;\n",
    "    \n",
    "ЗАКЛЮЧЕНИЕ: Для наилучшего предсказания точности определения токсичных текстов с наиболее быстрой обучаемостью рекомендуется использовать модель LogisticRegression.\n"
   ]
  },
  {
   "cell_type": "markdown",
   "metadata": {},
   "source": [
    "## Чек-лист проверки"
   ]
  },
  {
   "cell_type": "markdown",
   "metadata": {},
   "source": [
    "- [x]  Jupyter Notebook открыт\n",
    "- [x]  Весь код выполняется без ошибок\n",
    "- [x]  Ячейки с кодом расположены в порядке исполнения\n",
    "- [x]  Данные загружены и подготовлены\n",
    "- [x]  Модели обучены\n",
    "- [x]  Значение метрики *F1* не меньше 0.75\n",
    "- [x]  Выводы написаны"
   ]
  }
 ],
 "metadata": {
  "ExecuteTimeLog": [
   {
    "duration": 12244,
    "start_time": "2024-03-28T19:07:58.337Z"
   },
   {
    "duration": 659,
    "start_time": "2024-03-28T19:08:30.802Z"
   },
   {
    "duration": 80,
    "start_time": "2024-03-28T19:08:46.009Z"
   },
   {
    "duration": 905,
    "start_time": "2024-03-28T19:11:50.281Z"
   },
   {
    "duration": 3555,
    "start_time": "2024-03-28T19:13:29.508Z"
   },
   {
    "duration": 1089,
    "start_time": "2024-03-28T19:13:44.364Z"
   },
   {
    "duration": 50,
    "start_time": "2024-03-28T19:14:07.648Z"
   },
   {
    "duration": 1641,
    "start_time": "2024-03-28T19:18:35.641Z"
   },
   {
    "duration": 348,
    "start_time": "2024-03-28T19:18:55.824Z"
   },
   {
    "duration": 196,
    "start_time": "2024-03-28T19:21:01.398Z"
   },
   {
    "duration": 291,
    "start_time": "2024-03-28T19:21:14.314Z"
   },
   {
    "duration": 222,
    "start_time": "2024-03-28T19:23:05.813Z"
   },
   {
    "duration": 19,
    "start_time": "2024-03-28T19:23:48.150Z"
   },
   {
    "duration": 187,
    "start_time": "2024-03-28T19:23:55.692Z"
   },
   {
    "duration": 178,
    "start_time": "2024-03-28T19:24:03.081Z"
   },
   {
    "duration": 176,
    "start_time": "2024-03-28T19:24:12.105Z"
   },
   {
    "duration": 159,
    "start_time": "2024-03-28T19:24:20.805Z"
   },
   {
    "duration": 154,
    "start_time": "2024-03-28T19:24:26.055Z"
   },
   {
    "duration": 128,
    "start_time": "2024-03-28T19:24:34.410Z"
   },
   {
    "duration": 144,
    "start_time": "2024-03-28T19:24:40.178Z"
   },
   {
    "duration": 145,
    "start_time": "2024-03-28T19:24:45.864Z"
   },
   {
    "duration": 139,
    "start_time": "2024-03-28T19:25:04.887Z"
   },
   {
    "duration": 138,
    "start_time": "2024-03-28T19:26:07.460Z"
   },
   {
    "duration": 144,
    "start_time": "2024-03-28T19:35:31.042Z"
   },
   {
    "duration": 152,
    "start_time": "2024-03-28T19:35:36.920Z"
   },
   {
    "duration": 241,
    "start_time": "2024-03-28T19:35:40.298Z"
   },
   {
    "duration": 10,
    "start_time": "2024-03-28T19:49:54.923Z"
   },
   {
    "duration": 6020,
    "start_time": "2024-03-28T19:50:26.501Z"
   },
   {
    "duration": 619,
    "start_time": "2024-03-28T19:50:32.524Z"
   },
   {
    "duration": 692,
    "start_time": "2024-03-28T19:50:33.145Z"
   },
   {
    "duration": 1218,
    "start_time": "2024-03-28T19:50:33.839Z"
   },
   {
    "duration": 47,
    "start_time": "2024-03-28T19:50:35.059Z"
   },
   {
    "duration": 157,
    "start_time": "2024-03-28T19:50:35.108Z"
   },
   {
    "duration": 155,
    "start_time": "2024-03-28T19:50:35.267Z"
   },
   {
    "duration": 40,
    "start_time": "2024-03-28T20:03:57.529Z"
   },
   {
    "duration": 5948,
    "start_time": "2024-03-28T20:04:07.059Z"
   },
   {
    "duration": 641,
    "start_time": "2024-03-28T20:04:13.010Z"
   },
   {
    "duration": 700,
    "start_time": "2024-03-28T20:04:13.653Z"
   },
   {
    "duration": 1212,
    "start_time": "2024-03-28T20:04:14.355Z"
   },
   {
    "duration": 49,
    "start_time": "2024-03-28T20:04:15.569Z"
   },
   {
    "duration": 159,
    "start_time": "2024-03-28T20:04:15.619Z"
   },
   {
    "duration": 9800,
    "start_time": "2024-03-28T20:04:15.780Z"
   },
   {
    "duration": 4,
    "start_time": "2024-03-28T20:04:25.581Z"
   },
   {
    "duration": 126,
    "start_time": "2024-03-28T20:12:23.797Z"
   },
   {
    "duration": 11,
    "start_time": "2024-03-28T20:14:20.173Z"
   },
   {
    "duration": 24,
    "start_time": "2024-03-28T20:15:03.795Z"
   },
   {
    "duration": 18114,
    "start_time": "2024-03-28T20:15:55.661Z"
   },
   {
    "duration": 9175,
    "start_time": "2024-03-28T20:16:18.762Z"
   },
   {
    "duration": 9137,
    "start_time": "2024-03-28T20:16:31.977Z"
   },
   {
    "duration": 9205,
    "start_time": "2024-03-28T20:16:44.857Z"
   },
   {
    "duration": 9377,
    "start_time": "2024-03-28T20:16:58.524Z"
   },
   {
    "duration": 9327,
    "start_time": "2024-03-28T20:17:12.322Z"
   },
   {
    "duration": 10099,
    "start_time": "2024-03-28T20:17:50.221Z"
   },
   {
    "duration": 9562,
    "start_time": "2024-03-28T20:18:04.663Z"
   },
   {
    "duration": 9683,
    "start_time": "2024-03-28T20:18:38.362Z"
   },
   {
    "duration": 10018,
    "start_time": "2024-03-28T20:18:50.930Z"
   },
   {
    "duration": 9802,
    "start_time": "2024-03-28T20:19:05.078Z"
   },
   {
    "duration": 9643,
    "start_time": "2024-03-28T20:19:27.398Z"
   },
   {
    "duration": 9610,
    "start_time": "2024-03-28T20:19:41.047Z"
   },
   {
    "duration": 9605,
    "start_time": "2024-03-28T20:19:58.446Z"
   },
   {
    "duration": 9727,
    "start_time": "2024-03-28T20:20:23.652Z"
   },
   {
    "duration": 9629,
    "start_time": "2024-03-28T20:27:03.140Z"
   },
   {
    "duration": 9700,
    "start_time": "2024-03-28T20:27:36.368Z"
   },
   {
    "duration": 9710,
    "start_time": "2024-03-28T20:28:02.611Z"
   },
   {
    "duration": 10,
    "start_time": "2024-03-28T20:33:10.217Z"
   },
   {
    "duration": 6014,
    "start_time": "2024-03-28T20:34:06.838Z"
   },
   {
    "duration": 737,
    "start_time": "2024-03-28T20:34:12.854Z"
   },
   {
    "duration": 723,
    "start_time": "2024-03-28T20:34:13.593Z"
   },
   {
    "duration": 1168,
    "start_time": "2024-03-28T20:34:14.318Z"
   },
   {
    "duration": 51,
    "start_time": "2024-03-28T20:34:15.487Z"
   },
   {
    "duration": 165,
    "start_time": "2024-03-28T20:34:15.540Z"
   },
   {
    "duration": 9814,
    "start_time": "2024-03-28T20:34:15.706Z"
   },
   {
    "duration": 328839,
    "start_time": "2024-03-28T20:34:25.521Z"
   },
   {
    "duration": 5916,
    "start_time": "2024-03-28T21:25:04.798Z"
   },
   {
    "duration": 675,
    "start_time": "2024-03-28T21:25:10.716Z"
   },
   {
    "duration": 707,
    "start_time": "2024-03-28T21:25:11.393Z"
   },
   {
    "duration": 1159,
    "start_time": "2024-03-28T21:25:12.103Z"
   },
   {
    "duration": 44,
    "start_time": "2024-03-28T21:25:13.264Z"
   },
   {
    "duration": 164,
    "start_time": "2024-03-28T21:25:13.310Z"
   },
   {
    "duration": 3,
    "start_time": "2024-03-28T21:25:13.476Z"
   },
   {
    "duration": 8998,
    "start_time": "2024-03-28T21:25:13.481Z"
   },
   {
    "duration": 5876,
    "start_time": "2024-03-28T21:27:04.093Z"
   },
   {
    "duration": 744,
    "start_time": "2024-03-28T21:27:09.972Z"
   },
   {
    "duration": 676,
    "start_time": "2024-03-28T21:27:10.718Z"
   },
   {
    "duration": 1152,
    "start_time": "2024-03-28T21:27:11.396Z"
   },
   {
    "duration": 53,
    "start_time": "2024-03-28T21:27:12.549Z"
   },
   {
    "duration": 166,
    "start_time": "2024-03-28T21:27:12.604Z"
   },
   {
    "duration": 3,
    "start_time": "2024-03-28T21:27:12.772Z"
   },
   {
    "duration": 9312,
    "start_time": "2024-03-28T21:27:12.777Z"
   },
   {
    "duration": 9313,
    "start_time": "2024-03-28T21:27:32.725Z"
   },
   {
    "duration": 9235,
    "start_time": "2024-03-28T21:27:59.205Z"
   },
   {
    "duration": 2,
    "start_time": "2024-03-28T21:28:19.585Z"
   },
   {
    "duration": 9249,
    "start_time": "2024-03-28T21:28:32.012Z"
   },
   {
    "duration": 9181,
    "start_time": "2024-03-28T21:28:46.341Z"
   },
   {
    "duration": 9373,
    "start_time": "2024-03-28T21:29:06.314Z"
   },
   {
    "duration": 9138,
    "start_time": "2024-03-28T21:29:21.093Z"
   },
   {
    "duration": 10076,
    "start_time": "2024-03-28T21:29:37.468Z"
   },
   {
    "duration": 9631,
    "start_time": "2024-03-28T21:29:59.114Z"
   },
   {
    "duration": 9476,
    "start_time": "2024-03-28T21:30:16.784Z"
   },
   {
    "duration": 9846,
    "start_time": "2024-03-28T21:30:37.273Z"
   },
   {
    "duration": 10151,
    "start_time": "2024-03-28T21:30:51.307Z"
   },
   {
    "duration": 10081,
    "start_time": "2024-03-28T21:31:05.143Z"
   },
   {
    "duration": 9771,
    "start_time": "2024-03-28T21:31:19.054Z"
   },
   {
    "duration": 9120,
    "start_time": "2024-03-28T21:31:44.616Z"
   },
   {
    "duration": 9372,
    "start_time": "2024-03-28T21:31:56.443Z"
   },
   {
    "duration": 9326,
    "start_time": "2024-03-28T21:32:09.219Z"
   },
   {
    "duration": 9125,
    "start_time": "2024-03-28T21:32:20.217Z"
   },
   {
    "duration": 9485,
    "start_time": "2024-03-28T21:32:32.950Z"
   },
   {
    "duration": 9078,
    "start_time": "2024-03-28T21:32:47.596Z"
   },
   {
    "duration": 9396,
    "start_time": "2024-03-28T21:33:00.747Z"
   },
   {
    "duration": 9340,
    "start_time": "2024-03-28T21:33:15.149Z"
   },
   {
    "duration": 9346,
    "start_time": "2024-03-28T21:33:29.218Z"
   },
   {
    "duration": 9625,
    "start_time": "2024-03-28T21:33:43.339Z"
   },
   {
    "duration": 9638,
    "start_time": "2024-03-28T21:33:57.485Z"
   },
   {
    "duration": 9652,
    "start_time": "2024-03-28T21:34:13.024Z"
   },
   {
    "duration": 214,
    "start_time": "2024-03-28T21:37:20.189Z"
   },
   {
    "duration": 9728,
    "start_time": "2024-03-28T21:39:32.787Z"
   },
   {
    "duration": 662,
    "start_time": "2024-03-28T21:39:42.517Z"
   },
   {
    "duration": 746,
    "start_time": "2024-03-28T21:39:43.181Z"
   },
   {
    "duration": 1202,
    "start_time": "2024-03-28T21:39:43.930Z"
   },
   {
    "duration": 60,
    "start_time": "2024-03-28T21:39:45.134Z"
   },
   {
    "duration": 156,
    "start_time": "2024-03-28T21:39:45.196Z"
   },
   {
    "duration": 9832,
    "start_time": "2024-03-28T21:39:45.354Z"
   },
   {
    "duration": 77645,
    "start_time": "2024-03-28T21:39:55.188Z"
   },
   {
    "duration": 9021,
    "start_time": "2024-03-28T22:21:48.024Z"
   },
   {
    "duration": 703,
    "start_time": "2024-03-28T22:21:57.048Z"
   },
   {
    "duration": 1217,
    "start_time": "2024-03-28T22:21:57.752Z"
   },
   {
    "duration": 1086,
    "start_time": "2024-03-28T22:21:58.972Z"
   },
   {
    "duration": 57,
    "start_time": "2024-03-28T22:22:00.059Z"
   },
   {
    "duration": 215,
    "start_time": "2024-03-28T22:22:00.118Z"
   },
   {
    "duration": 8607,
    "start_time": "2024-03-28T22:22:00.335Z"
   },
   {
    "duration": 68001,
    "start_time": "2024-03-28T22:22:08.943Z"
   },
   {
    "duration": 246,
    "start_time": "2024-03-28T22:24:25.204Z"
   },
   {
    "duration": 174871,
    "start_time": "2024-03-28T22:24:38.371Z"
   },
   {
    "duration": 110732,
    "start_time": "2024-03-28T22:27:49.361Z"
   },
   {
    "duration": 85985,
    "start_time": "2024-03-28T22:29:49.995Z"
   },
   {
    "duration": 51654,
    "start_time": "2024-03-28T22:31:38.524Z"
   },
   {
    "duration": 173669,
    "start_time": "2024-03-28T22:32:47.270Z"
   },
   {
    "duration": 16335,
    "start_time": "2024-03-30T19:37:03.057Z"
   },
   {
    "duration": 682,
    "start_time": "2024-03-30T19:37:19.394Z"
   },
   {
    "duration": 1397,
    "start_time": "2024-03-30T19:37:20.080Z"
   },
   {
    "duration": 3451,
    "start_time": "2024-03-30T19:37:21.479Z"
   },
   {
    "duration": 58,
    "start_time": "2024-03-30T19:37:24.932Z"
   },
   {
    "duration": 168,
    "start_time": "2024-03-30T19:37:24.992Z"
   },
   {
    "duration": 8256,
    "start_time": "2024-03-30T19:37:25.162Z"
   },
   {
    "duration": 171503,
    "start_time": "2024-03-30T19:37:33.419Z"
   },
   {
    "duration": 231,
    "start_time": "2024-03-30T19:40:24.924Z"
   },
   {
    "duration": 1721,
    "start_time": "2024-03-30T19:41:45.278Z"
   },
   {
    "duration": 5,
    "start_time": "2024-03-30T19:46:41.956Z"
   },
   {
    "duration": 7,
    "start_time": "2024-03-30T19:46:59.511Z"
   },
   {
    "duration": 10,
    "start_time": "2024-03-30T19:47:23.788Z"
   },
   {
    "duration": 14,
    "start_time": "2024-03-30T19:49:06.610Z"
   },
   {
    "duration": 1582,
    "start_time": "2024-03-30T20:16:26.361Z"
   },
   {
    "duration": 9695,
    "start_time": "2024-03-30T20:20:58.575Z"
   },
   {
    "duration": 9346,
    "start_time": "2024-03-30T20:22:21.517Z"
   },
   {
    "duration": 927,
    "start_time": "2024-03-30T20:22:30.865Z"
   },
   {
    "duration": 1933,
    "start_time": "2024-03-30T20:22:31.797Z"
   },
   {
    "duration": 3441,
    "start_time": "2024-03-30T20:22:33.731Z"
   },
   {
    "duration": 53,
    "start_time": "2024-03-30T20:22:37.174Z"
   },
   {
    "duration": 170,
    "start_time": "2024-03-30T20:22:37.229Z"
   },
   {
    "duration": 3,
    "start_time": "2024-03-30T20:22:37.401Z"
   },
   {
    "duration": 8182,
    "start_time": "2024-03-30T20:22:37.405Z"
   },
   {
    "duration": 163433,
    "start_time": "2024-03-30T20:22:45.589Z"
   },
   {
    "duration": 11,
    "start_time": "2024-03-30T20:25:29.024Z"
   },
   {
    "duration": 9349,
    "start_time": "2024-03-30T20:25:29.036Z"
   },
   {
    "duration": 324,
    "start_time": "2024-03-30T20:54:41.195Z"
   },
   {
    "duration": 9407,
    "start_time": "2024-03-30T20:54:53.961Z"
   },
   {
    "duration": 9165,
    "start_time": "2024-03-30T20:59:54.519Z"
   },
   {
    "duration": 892,
    "start_time": "2024-03-30T21:00:03.687Z"
   },
   {
    "duration": 2425,
    "start_time": "2024-03-30T21:00:04.581Z"
   },
   {
    "duration": 3455,
    "start_time": "2024-03-30T21:00:07.008Z"
   },
   {
    "duration": 55,
    "start_time": "2024-03-30T21:00:10.464Z"
   },
   {
    "duration": 155,
    "start_time": "2024-03-30T21:00:10.520Z"
   },
   {
    "duration": 3,
    "start_time": "2024-03-30T21:00:10.679Z"
   },
   {
    "duration": 8286,
    "start_time": "2024-03-30T21:00:10.683Z"
   },
   {
    "duration": 161596,
    "start_time": "2024-03-30T21:00:18.971Z"
   },
   {
    "duration": 358393,
    "start_time": "2024-03-30T21:03:00.570Z"
   },
   {
    "duration": 23372,
    "start_time": "2024-03-30T21:09:18.337Z"
   },
   {
    "duration": 49,
    "start_time": "2024-03-30T21:10:31.438Z"
   },
   {
    "duration": 47,
    "start_time": "2024-03-30T21:10:46.271Z"
   },
   {
    "duration": 24542,
    "start_time": "2024-03-30T21:11:00.820Z"
   },
   {
    "duration": 23503,
    "start_time": "2024-03-30T21:11:42.303Z"
   },
   {
    "duration": 31846,
    "start_time": "2024-03-30T21:12:11.822Z"
   },
   {
    "duration": 40156,
    "start_time": "2024-03-30T21:12:57.781Z"
   },
   {
    "duration": 48769,
    "start_time": "2024-03-30T21:13:43.146Z"
   },
   {
    "duration": 58936,
    "start_time": "2024-03-30T21:14:37.178Z"
   },
   {
    "duration": 67442,
    "start_time": "2024-03-30T21:15:53.121Z"
   },
   {
    "duration": 75215,
    "start_time": "2024-03-30T21:17:25.243Z"
   },
   {
    "duration": 82181,
    "start_time": "2024-03-30T21:19:03.209Z"
   },
   {
    "duration": 109467,
    "start_time": "2024-03-30T21:22:10.801Z"
   },
   {
    "duration": 143685,
    "start_time": "2024-03-30T21:24:16.131Z"
   },
   {
    "duration": 178100,
    "start_time": "2024-03-30T21:26:45.970Z"
   },
   {
    "duration": 76205,
    "start_time": "2024-03-30T21:30:01.813Z"
   },
   {
    "duration": 76518,
    "start_time": "2024-03-30T21:34:27.026Z"
   },
   {
    "duration": 75413,
    "start_time": "2024-03-30T21:35:53.989Z"
   },
   {
    "duration": 75256,
    "start_time": "2024-03-30T21:37:33.322Z"
   },
   {
    "duration": 178827,
    "start_time": "2024-03-30T21:39:06.114Z"
   },
   {
    "duration": 66784,
    "start_time": "2024-03-30T21:42:20.251Z"
   },
   {
    "duration": 58485,
    "start_time": "2024-03-30T21:43:42.674Z"
   },
   {
    "duration": 49896,
    "start_time": "2024-03-30T21:46:18.078Z"
   },
   {
    "duration": 40073,
    "start_time": "2024-03-30T21:58:19.289Z"
   },
   {
    "duration": 165,
    "start_time": "2024-03-30T22:02:50.355Z"
   },
   {
    "duration": 19,
    "start_time": "2024-03-30T22:03:01.440Z"
   },
   {
    "duration": 14,
    "start_time": "2024-03-30T22:04:37.616Z"
   },
   {
    "duration": 13,
    "start_time": "2024-03-30T22:05:57.657Z"
   },
   {
    "duration": 12,
    "start_time": "2024-03-30T22:07:25.564Z"
   },
   {
    "duration": 12,
    "start_time": "2024-03-30T22:08:46.558Z"
   },
   {
    "duration": 11,
    "start_time": "2024-03-30T22:10:00.969Z"
   },
   {
    "duration": 15,
    "start_time": "2024-03-30T22:10:37.099Z"
   },
   {
    "duration": 231350,
    "start_time": "2024-03-30T22:10:57.355Z"
   },
   {
    "duration": 38,
    "start_time": "2024-03-30T22:16:13.071Z"
   },
   {
    "duration": 12,
    "start_time": "2024-03-30T22:16:20.428Z"
   },
   {
    "duration": 12,
    "start_time": "2024-03-30T22:17:43.975Z"
   },
   {
    "duration": 12,
    "start_time": "2024-03-30T22:18:49.924Z"
   },
   {
    "duration": 56501,
    "start_time": "2024-03-30T22:18:56.589Z"
   },
   {
    "duration": 56187,
    "start_time": "2024-03-30T22:20:40.108Z"
   },
   {
    "duration": 40004,
    "start_time": "2024-03-30T22:22:44.783Z"
   },
   {
    "duration": 39897,
    "start_time": "2024-03-30T22:25:55.691Z"
   },
   {
    "duration": 40204,
    "start_time": "2024-03-30T22:27:21.990Z"
   },
   {
    "duration": 39047,
    "start_time": "2024-03-30T22:28:54.348Z"
   },
   {
    "duration": 39559,
    "start_time": "2024-03-30T22:29:50.832Z"
   },
   {
    "duration": 48104,
    "start_time": "2024-03-30T22:31:53.892Z"
   },
   {
    "duration": 38511,
    "start_time": "2024-03-30T22:32:58.591Z"
   },
   {
    "duration": 49163,
    "start_time": "2024-03-30T22:33:51.337Z"
   },
   {
    "duration": 54320,
    "start_time": "2024-03-30T22:34:50.685Z"
   },
   {
    "duration": 78071,
    "start_time": "2024-03-30T22:35:50.617Z"
   },
   {
    "duration": 51690,
    "start_time": "2024-03-30T22:37:22.803Z"
   },
   {
    "duration": 4,
    "start_time": "2024-03-30T22:40:30.379Z"
   },
   {
    "duration": 5,
    "start_time": "2024-03-30T22:41:03.848Z"
   },
   {
    "duration": 4,
    "start_time": "2024-03-30T22:41:24.468Z"
   },
   {
    "duration": 4,
    "start_time": "2024-03-30T22:41:40.756Z"
   },
   {
    "duration": 5,
    "start_time": "2024-03-30T22:41:47.756Z"
   },
   {
    "duration": 8551,
    "start_time": "2024-03-30T22:42:30.339Z"
   },
   {
    "duration": 635,
    "start_time": "2024-03-30T22:42:38.892Z"
   },
   {
    "duration": 707,
    "start_time": "2024-03-30T22:42:39.528Z"
   },
   {
    "duration": 571,
    "start_time": "2024-03-30T22:42:40.237Z"
   },
   {
    "duration": 0,
    "start_time": "2024-03-30T22:42:40.809Z"
   },
   {
    "duration": 0,
    "start_time": "2024-03-30T22:42:40.810Z"
   },
   {
    "duration": 0,
    "start_time": "2024-03-30T22:42:40.811Z"
   },
   {
    "duration": 0,
    "start_time": "2024-03-30T22:42:40.812Z"
   },
   {
    "duration": 0,
    "start_time": "2024-03-30T22:42:40.813Z"
   },
   {
    "duration": 0,
    "start_time": "2024-03-30T22:42:40.814Z"
   },
   {
    "duration": 0,
    "start_time": "2024-03-30T22:42:40.815Z"
   },
   {
    "duration": 0,
    "start_time": "2024-03-30T22:42:40.816Z"
   },
   {
    "duration": 0,
    "start_time": "2024-03-30T22:42:40.817Z"
   },
   {
    "duration": 0,
    "start_time": "2024-03-30T22:42:40.818Z"
   },
   {
    "duration": 6,
    "start_time": "2024-03-30T22:44:02.959Z"
   },
   {
    "duration": 4,
    "start_time": "2024-03-30T22:46:18.346Z"
   },
   {
    "duration": 8473,
    "start_time": "2024-03-30T22:49:42.482Z"
   },
   {
    "duration": 670,
    "start_time": "2024-03-30T22:49:50.957Z"
   },
   {
    "duration": 685,
    "start_time": "2024-03-30T22:49:51.628Z"
   },
   {
    "duration": 3,
    "start_time": "2024-03-30T22:49:52.315Z"
   },
   {
    "duration": 470,
    "start_time": "2024-03-30T22:49:52.319Z"
   },
   {
    "duration": 1074,
    "start_time": "2024-03-30T22:49:52.791Z"
   },
   {
    "duration": 51,
    "start_time": "2024-03-30T22:49:53.866Z"
   },
   {
    "duration": 143,
    "start_time": "2024-03-30T22:49:53.919Z"
   },
   {
    "duration": 2,
    "start_time": "2024-03-30T22:49:54.064Z"
   },
   {
    "duration": 39,
    "start_time": "2024-03-30T22:49:54.068Z"
   },
   {
    "duration": 205,
    "start_time": "2024-03-30T22:49:54.109Z"
   },
   {
    "duration": 93,
    "start_time": "2024-03-30T22:49:54.315Z"
   },
   {
    "duration": 94,
    "start_time": "2024-03-30T22:49:54.409Z"
   },
   {
    "duration": 98,
    "start_time": "2024-03-30T22:49:54.505Z"
   },
   {
    "duration": 14,
    "start_time": "2024-03-30T22:49:54.605Z"
   },
   {
    "duration": 3,
    "start_time": "2024-03-30T22:51:16.674Z"
   },
   {
    "duration": 3,
    "start_time": "2024-03-30T22:51:25.909Z"
   },
   {
    "duration": 8503,
    "start_time": "2024-03-30T22:52:08.654Z"
   },
   {
    "duration": 708,
    "start_time": "2024-03-30T22:52:17.160Z"
   },
   {
    "duration": 951,
    "start_time": "2024-03-30T22:52:17.869Z"
   },
   {
    "duration": 1073,
    "start_time": "2024-03-30T22:52:18.822Z"
   },
   {
    "duration": 45,
    "start_time": "2024-03-30T22:52:19.897Z"
   },
   {
    "duration": 155,
    "start_time": "2024-03-30T22:52:19.944Z"
   },
   {
    "duration": 2,
    "start_time": "2024-03-30T22:52:20.101Z"
   },
   {
    "duration": 39,
    "start_time": "2024-03-30T22:52:20.104Z"
   },
   {
    "duration": 7993,
    "start_time": "2024-03-30T22:52:20.144Z"
   },
   {
    "duration": 160387,
    "start_time": "2024-03-30T22:52:28.139Z"
   },
   {
    "duration": 50456,
    "start_time": "2024-03-30T22:55:08.527Z"
   },
   {
    "duration": 49903,
    "start_time": "2024-03-30T22:55:58.985Z"
   },
   {
    "duration": 4,
    "start_time": "2024-03-30T22:56:48.889Z"
   },
   {
    "duration": 9470,
    "start_time": "2024-03-30T23:00:59.214Z"
   },
   {
    "duration": 723,
    "start_time": "2024-03-30T23:01:08.686Z"
   },
   {
    "duration": 979,
    "start_time": "2024-03-30T23:01:09.411Z"
   },
   {
    "duration": 1127,
    "start_time": "2024-03-30T23:01:10.392Z"
   },
   {
    "duration": 60,
    "start_time": "2024-03-30T23:01:11.521Z"
   },
   {
    "duration": 146,
    "start_time": "2024-03-30T23:01:11.583Z"
   },
   {
    "duration": 3,
    "start_time": "2024-03-30T23:01:11.731Z"
   },
   {
    "duration": 45,
    "start_time": "2024-03-30T23:01:11.735Z"
   },
   {
    "duration": 42821,
    "start_time": "2024-03-30T23:01:11.782Z"
   },
   {
    "duration": 132,
    "start_time": "2024-03-30T23:01:54.605Z"
   },
   {
    "duration": 0,
    "start_time": "2024-03-30T23:01:54.739Z"
   },
   {
    "duration": 0,
    "start_time": "2024-03-30T23:01:54.740Z"
   },
   {
    "duration": 0,
    "start_time": "2024-03-30T23:01:54.741Z"
   },
   {
    "duration": 0,
    "start_time": "2024-03-30T23:01:54.743Z"
   },
   {
    "duration": 8547,
    "start_time": "2024-03-30T23:56:47.347Z"
   },
   {
    "duration": 686,
    "start_time": "2024-03-30T23:56:55.897Z"
   },
   {
    "duration": 943,
    "start_time": "2024-03-30T23:56:56.585Z"
   },
   {
    "duration": 1046,
    "start_time": "2024-03-30T23:56:57.530Z"
   },
   {
    "duration": 47,
    "start_time": "2024-03-30T23:56:58.580Z"
   },
   {
    "duration": 174,
    "start_time": "2024-03-30T23:56:58.629Z"
   },
   {
    "duration": 3,
    "start_time": "2024-03-30T23:56:58.804Z"
   },
   {
    "duration": 7887,
    "start_time": "2024-03-30T23:56:58.809Z"
   },
   {
    "duration": 185919,
    "start_time": "2024-03-30T23:57:06.698Z"
   },
   {
    "duration": 152,
    "start_time": "2024-03-31T00:00:12.620Z"
   },
   {
    "duration": 0,
    "start_time": "2024-03-31T00:00:12.773Z"
   },
   {
    "duration": 0,
    "start_time": "2024-03-31T00:00:12.774Z"
   },
   {
    "duration": 0,
    "start_time": "2024-03-31T00:00:12.775Z"
   },
   {
    "duration": 12496,
    "start_time": "2024-03-31T00:12:43.600Z"
   },
   {
    "duration": 118,
    "start_time": "2024-03-31T00:13:17.920Z"
   },
   {
    "duration": 9192,
    "start_time": "2024-03-31T00:13:32.802Z"
   },
   {
    "duration": 7552,
    "start_time": "2024-03-31T00:13:48.682Z"
   },
   {
    "duration": 6997,
    "start_time": "2024-03-31T00:14:03.048Z"
   },
   {
    "duration": 6220,
    "start_time": "2024-03-31T00:14:15.747Z"
   },
   {
    "duration": 5585,
    "start_time": "2024-03-31T00:14:27.513Z"
   },
   {
    "duration": 5374,
    "start_time": "2024-03-31T00:14:38.767Z"
   },
   {
    "duration": 5272,
    "start_time": "2024-03-31T00:14:49.527Z"
   },
   {
    "duration": 5507,
    "start_time": "2024-03-31T00:15:01.943Z"
   },
   {
    "duration": 5612,
    "start_time": "2024-03-31T00:15:14.469Z"
   },
   {
    "duration": 5184,
    "start_time": "2024-03-31T00:15:25.686Z"
   },
   {
    "duration": 5405,
    "start_time": "2024-03-31T00:15:36.760Z"
   },
   {
    "duration": 117,
    "start_time": "2024-03-31T00:16:05.885Z"
   },
   {
    "duration": 5300,
    "start_time": "2024-03-31T00:16:14.162Z"
   },
   {
    "duration": 68053,
    "start_time": "2024-03-31T00:16:36.778Z"
   },
   {
    "duration": 134264,
    "start_time": "2024-03-31T00:18:39.088Z"
   },
   {
    "duration": 716692,
    "start_time": "2024-03-31T00:22:55.677Z"
   },
   {
    "duration": 585633,
    "start_time": "2024-03-31T00:38:47.160Z"
   },
   {
    "duration": 108,
    "start_time": "2024-03-31T00:54:25.004Z"
   },
   {
    "duration": 869853,
    "start_time": "2024-03-31T00:56:07.742Z"
   },
   {
    "duration": 313204,
    "start_time": "2024-03-31T01:11:52.686Z"
   },
   {
    "duration": 8580,
    "start_time": "2024-03-31T01:18:22.497Z"
   },
   {
    "duration": 684,
    "start_time": "2024-03-31T01:18:31.079Z"
   },
   {
    "duration": 941,
    "start_time": "2024-03-31T01:18:31.765Z"
   },
   {
    "duration": 1085,
    "start_time": "2024-03-31T01:18:32.709Z"
   },
   {
    "duration": 50,
    "start_time": "2024-03-31T01:18:33.796Z"
   },
   {
    "duration": 151,
    "start_time": "2024-03-31T01:18:33.847Z"
   },
   {
    "duration": 3,
    "start_time": "2024-03-31T01:18:33.999Z"
   },
   {
    "duration": 7558,
    "start_time": "2024-03-31T01:18:34.003Z"
   },
   {
    "duration": 34234,
    "start_time": "2024-03-31T01:18:41.562Z"
   },
   {
    "duration": 132882,
    "start_time": "2024-03-31T01:19:15.799Z"
   },
   {
    "duration": 1217139,
    "start_time": "2024-03-31T01:21:28.683Z"
   },
   {
    "duration": 219,
    "start_time": "2024-03-31T01:41:45.825Z"
   },
   {
    "duration": 12,
    "start_time": "2024-03-31T01:41:46.046Z"
   },
   {
    "duration": 8581,
    "start_time": "2024-03-31T03:17:03.861Z"
   },
   {
    "duration": 589,
    "start_time": "2024-03-31T03:17:12.444Z"
   },
   {
    "duration": 946,
    "start_time": "2024-03-31T03:17:13.038Z"
   },
   {
    "duration": 1023,
    "start_time": "2024-03-31T03:17:13.985Z"
   },
   {
    "duration": 49,
    "start_time": "2024-03-31T03:17:15.010Z"
   },
   {
    "duration": 180,
    "start_time": "2024-03-31T03:17:15.061Z"
   },
   {
    "duration": 3,
    "start_time": "2024-03-31T03:17:15.243Z"
   },
   {
    "duration": 7539,
    "start_time": "2024-03-31T03:17:15.248Z"
   },
   {
    "duration": 35293,
    "start_time": "2024-03-31T03:17:22.789Z"
   },
   {
    "duration": 133210,
    "start_time": "2024-03-31T03:17:58.084Z"
   },
   {
    "duration": 1227914,
    "start_time": "2024-03-31T03:20:11.296Z"
   },
   {
    "duration": 9317,
    "start_time": "2024-03-31T04:21:29.027Z"
   },
   {
    "duration": 707,
    "start_time": "2024-03-31T04:21:38.347Z"
   },
   {
    "duration": 1004,
    "start_time": "2024-03-31T04:21:39.056Z"
   },
   {
    "duration": 1118,
    "start_time": "2024-03-31T04:21:40.062Z"
   },
   {
    "duration": 51,
    "start_time": "2024-03-31T04:21:41.182Z"
   },
   {
    "duration": 176,
    "start_time": "2024-03-31T04:21:41.235Z"
   },
   {
    "duration": 3,
    "start_time": "2024-03-31T04:21:41.413Z"
   },
   {
    "duration": 8208,
    "start_time": "2024-03-31T04:21:41.418Z"
   },
   {
    "duration": 36570,
    "start_time": "2024-03-31T04:21:49.628Z"
   },
   {
    "duration": 143426,
    "start_time": "2024-03-31T04:22:26.200Z"
   },
   {
    "duration": 1260540,
    "start_time": "2024-03-31T04:24:49.627Z"
   },
   {
    "duration": 3555731,
    "start_time": "2024-03-31T04:45:50.168Z"
   },
   {
    "duration": 5,
    "start_time": "2024-03-31T05:45:05.901Z"
   },
   {
    "duration": 14720,
    "start_time": "2024-03-31T14:18:27.321Z"
   },
   {
    "duration": 663,
    "start_time": "2024-03-31T14:18:42.043Z"
   },
   {
    "duration": 1080,
    "start_time": "2024-03-31T14:18:42.707Z"
   },
   {
    "duration": 2305,
    "start_time": "2024-03-31T14:18:43.789Z"
   },
   {
    "duration": 53,
    "start_time": "2024-03-31T14:18:52.688Z"
   },
   {
    "duration": 51,
    "start_time": "2024-03-31T14:19:32.202Z"
   },
   {
    "duration": 8637,
    "start_time": "2024-03-31T14:23:10.711Z"
   },
   {
    "duration": 709,
    "start_time": "2024-03-31T14:23:19.351Z"
   },
   {
    "duration": 927,
    "start_time": "2024-03-31T14:23:20.062Z"
   },
   {
    "duration": 886,
    "start_time": "2024-03-31T14:23:20.991Z"
   },
   {
    "duration": 61,
    "start_time": "2024-03-31T14:23:21.879Z"
   },
   {
    "duration": 145,
    "start_time": "2024-03-31T14:23:21.958Z"
   },
   {
    "duration": 0,
    "start_time": "2024-03-31T14:23:22.104Z"
   },
   {
    "duration": 0,
    "start_time": "2024-03-31T14:23:22.105Z"
   },
   {
    "duration": 0,
    "start_time": "2024-03-31T14:23:22.107Z"
   },
   {
    "duration": 0,
    "start_time": "2024-03-31T14:23:22.108Z"
   },
   {
    "duration": 0,
    "start_time": "2024-03-31T14:23:22.109Z"
   },
   {
    "duration": 0,
    "start_time": "2024-03-31T14:23:22.110Z"
   },
   {
    "duration": 0,
    "start_time": "2024-03-31T14:23:22.111Z"
   },
   {
    "duration": 0,
    "start_time": "2024-03-31T14:23:22.112Z"
   },
   {
    "duration": 152,
    "start_time": "2024-03-31T14:34:10.121Z"
   },
   {
    "duration": 16,
    "start_time": "2024-03-31T14:34:18.738Z"
   },
   {
    "duration": 14,
    "start_time": "2024-03-31T14:35:16.240Z"
   },
   {
    "duration": 8546,
    "start_time": "2024-03-31T14:36:23.201Z"
   },
   {
    "duration": 709,
    "start_time": "2024-03-31T14:36:31.751Z"
   },
   {
    "duration": 922,
    "start_time": "2024-03-31T14:36:32.461Z"
   },
   {
    "duration": 870,
    "start_time": "2024-03-31T14:36:33.385Z"
   },
   {
    "duration": 56,
    "start_time": "2024-03-31T14:36:34.257Z"
   },
   {
    "duration": 170,
    "start_time": "2024-03-31T14:36:34.315Z"
   },
   {
    "duration": 145,
    "start_time": "2024-03-31T14:36:34.487Z"
   },
   {
    "duration": 0,
    "start_time": "2024-03-31T14:36:34.634Z"
   },
   {
    "duration": 0,
    "start_time": "2024-03-31T14:36:34.635Z"
   },
   {
    "duration": 0,
    "start_time": "2024-03-31T14:36:34.636Z"
   },
   {
    "duration": 0,
    "start_time": "2024-03-31T14:36:34.637Z"
   },
   {
    "duration": 0,
    "start_time": "2024-03-31T14:36:34.638Z"
   },
   {
    "duration": 0,
    "start_time": "2024-03-31T14:36:34.639Z"
   },
   {
    "duration": 0,
    "start_time": "2024-03-31T14:36:34.640Z"
   },
   {
    "duration": 153,
    "start_time": "2024-03-31T14:37:37.668Z"
   },
   {
    "duration": 302,
    "start_time": "2024-03-31T14:37:57.832Z"
   },
   {
    "duration": 9463,
    "start_time": "2024-03-31T14:39:57.197Z"
   },
   {
    "duration": 737,
    "start_time": "2024-03-31T14:40:06.662Z"
   },
   {
    "duration": 940,
    "start_time": "2024-03-31T14:40:07.401Z"
   },
   {
    "duration": 896,
    "start_time": "2024-03-31T14:40:08.343Z"
   },
   {
    "duration": 58,
    "start_time": "2024-03-31T14:40:09.241Z"
   },
   {
    "duration": 9124,
    "start_time": "2024-03-31T14:41:07.980Z"
   },
   {
    "duration": 698,
    "start_time": "2024-03-31T14:41:17.107Z"
   },
   {
    "duration": 938,
    "start_time": "2024-03-31T14:41:17.807Z"
   },
   {
    "duration": 903,
    "start_time": "2024-03-31T14:41:18.747Z"
   },
   {
    "duration": 59,
    "start_time": "2024-03-31T14:41:19.652Z"
   },
   {
    "duration": 8474,
    "start_time": "2024-03-31T14:43:38.381Z"
   },
   {
    "duration": 738,
    "start_time": "2024-03-31T14:43:46.857Z"
   },
   {
    "duration": 930,
    "start_time": "2024-03-31T14:43:47.599Z"
   },
   {
    "duration": 864,
    "start_time": "2024-03-31T14:43:48.531Z"
   },
   {
    "duration": 50,
    "start_time": "2024-03-31T14:43:49.397Z"
   },
   {
    "duration": 164,
    "start_time": "2024-03-31T14:43:49.449Z"
   },
   {
    "duration": 8527,
    "start_time": "2024-03-31T14:45:02.256Z"
   },
   {
    "duration": 632,
    "start_time": "2024-03-31T14:45:10.785Z"
   },
   {
    "duration": 932,
    "start_time": "2024-03-31T14:45:11.418Z"
   },
   {
    "duration": 884,
    "start_time": "2024-03-31T14:45:12.352Z"
   },
   {
    "duration": 60,
    "start_time": "2024-03-31T14:45:13.238Z"
   },
   {
    "duration": 1276,
    "start_time": "2024-03-31T14:45:13.299Z"
   },
   {
    "duration": 138,
    "start_time": "2024-03-31T14:45:14.577Z"
   },
   {
    "duration": 0,
    "start_time": "2024-03-31T14:45:14.716Z"
   },
   {
    "duration": 0,
    "start_time": "2024-03-31T14:45:14.718Z"
   },
   {
    "duration": 0,
    "start_time": "2024-03-31T14:45:14.719Z"
   },
   {
    "duration": 0,
    "start_time": "2024-03-31T14:45:14.720Z"
   },
   {
    "duration": 0,
    "start_time": "2024-03-31T14:45:14.721Z"
   },
   {
    "duration": 0,
    "start_time": "2024-03-31T14:45:14.722Z"
   },
   {
    "duration": 0,
    "start_time": "2024-03-31T14:45:14.723Z"
   },
   {
    "duration": 128,
    "start_time": "2024-03-31T14:45:51.016Z"
   },
   {
    "duration": 131,
    "start_time": "2024-03-31T14:51:05.763Z"
   },
   {
    "duration": 127,
    "start_time": "2024-03-31T14:51:10.380Z"
   },
   {
    "duration": 130,
    "start_time": "2024-03-31T14:51:14.475Z"
   },
   {
    "duration": 123,
    "start_time": "2024-03-31T14:51:21.776Z"
   },
   {
    "duration": 120,
    "start_time": "2024-03-31T14:51:28.245Z"
   },
   {
    "duration": 126,
    "start_time": "2024-03-31T14:51:32.814Z"
   },
   {
    "duration": 3,
    "start_time": "2024-03-31T20:21:45.625Z"
   },
   {
    "duration": 17,
    "start_time": "2024-03-31T20:21:47.434Z"
   },
   {
    "duration": 9210,
    "start_time": "2024-03-31T20:22:17.305Z"
   },
   {
    "duration": 723,
    "start_time": "2024-03-31T20:22:26.518Z"
   },
   {
    "duration": 958,
    "start_time": "2024-03-31T20:22:27.243Z"
   },
   {
    "duration": 901,
    "start_time": "2024-03-31T20:22:28.203Z"
   },
   {
    "duration": 65,
    "start_time": "2024-03-31T20:22:29.106Z"
   },
   {
    "duration": 139,
    "start_time": "2024-03-31T20:22:29.173Z"
   },
   {
    "duration": 2,
    "start_time": "2024-03-31T20:22:29.314Z"
   },
   {
    "duration": 153,
    "start_time": "2024-03-31T20:22:29.318Z"
   },
   {
    "duration": 0,
    "start_time": "2024-03-31T20:22:29.473Z"
   },
   {
    "duration": 0,
    "start_time": "2024-03-31T20:22:29.474Z"
   },
   {
    "duration": 0,
    "start_time": "2024-03-31T20:22:29.475Z"
   },
   {
    "duration": 0,
    "start_time": "2024-03-31T20:22:29.476Z"
   },
   {
    "duration": 0,
    "start_time": "2024-03-31T20:22:29.477Z"
   },
   {
    "duration": 0,
    "start_time": "2024-03-31T20:22:29.478Z"
   },
   {
    "duration": 0,
    "start_time": "2024-03-31T20:22:29.479Z"
   },
   {
    "duration": 12,
    "start_time": "2024-03-31T20:28:19.327Z"
   },
   {
    "duration": 12,
    "start_time": "2024-03-31T20:30:20.784Z"
   },
   {
    "duration": 8342,
    "start_time": "2024-03-31T20:30:44.656Z"
   },
   {
    "duration": 613,
    "start_time": "2024-03-31T20:30:53.000Z"
   },
   {
    "duration": 904,
    "start_time": "2024-03-31T20:30:53.614Z"
   },
   {
    "duration": 867,
    "start_time": "2024-03-31T20:30:54.521Z"
   },
   {
    "duration": 55,
    "start_time": "2024-03-31T20:30:55.390Z"
   },
   {
    "duration": 152,
    "start_time": "2024-03-31T20:30:55.446Z"
   },
   {
    "duration": 2,
    "start_time": "2024-03-31T20:30:55.600Z"
   },
   {
    "duration": 151,
    "start_time": "2024-03-31T20:30:55.604Z"
   },
   {
    "duration": 0,
    "start_time": "2024-03-31T20:30:55.758Z"
   },
   {
    "duration": 0,
    "start_time": "2024-03-31T20:30:55.759Z"
   },
   {
    "duration": 0,
    "start_time": "2024-03-31T20:30:55.761Z"
   },
   {
    "duration": 0,
    "start_time": "2024-03-31T20:30:55.762Z"
   },
   {
    "duration": 0,
    "start_time": "2024-03-31T20:30:55.763Z"
   },
   {
    "duration": 0,
    "start_time": "2024-03-31T20:30:55.764Z"
   },
   {
    "duration": 0,
    "start_time": "2024-03-31T20:30:55.765Z"
   },
   {
    "duration": 22,
    "start_time": "2024-03-31T20:32:18.676Z"
   },
   {
    "duration": 1723,
    "start_time": "2024-03-31T20:33:39.613Z"
   },
   {
    "duration": 7,
    "start_time": "2024-03-31T20:33:59.321Z"
   },
   {
    "duration": 7602,
    "start_time": "2024-03-31T21:18:49.930Z"
   },
   {
    "duration": 97,
    "start_time": "2024-03-31T21:21:01.918Z"
   },
   {
    "duration": 8315,
    "start_time": "2024-03-31T21:21:43.700Z"
   },
   {
    "duration": 612,
    "start_time": "2024-03-31T21:21:52.018Z"
   },
   {
    "duration": 935,
    "start_time": "2024-03-31T21:21:52.632Z"
   },
   {
    "duration": 877,
    "start_time": "2024-03-31T21:21:53.569Z"
   },
   {
    "duration": 56,
    "start_time": "2024-03-31T21:21:54.447Z"
   },
   {
    "duration": 140,
    "start_time": "2024-03-31T21:21:54.504Z"
   },
   {
    "duration": 2,
    "start_time": "2024-03-31T21:21:54.646Z"
   },
   {
    "duration": 1305,
    "start_time": "2024-03-31T21:21:54.658Z"
   },
   {
    "duration": 7634,
    "start_time": "2024-03-31T21:21:55.965Z"
   },
   {
    "duration": 385933,
    "start_time": "2024-03-31T21:22:03.602Z"
   },
   {
    "duration": 153,
    "start_time": "2024-03-31T21:28:29.536Z"
   },
   {
    "duration": 0,
    "start_time": "2024-03-31T21:28:29.690Z"
   },
   {
    "duration": 0,
    "start_time": "2024-03-31T21:28:29.692Z"
   },
   {
    "duration": 0,
    "start_time": "2024-03-31T21:28:29.693Z"
   },
   {
    "duration": 0,
    "start_time": "2024-03-31T21:28:29.694Z"
   },
   {
    "duration": 0,
    "start_time": "2024-03-31T21:28:29.695Z"
   },
   {
    "duration": 8349,
    "start_time": "2024-03-31T21:36:57.207Z"
   },
   {
    "duration": 649,
    "start_time": "2024-03-31T21:37:05.559Z"
   },
   {
    "duration": 915,
    "start_time": "2024-03-31T21:37:06.212Z"
   },
   {
    "duration": 863,
    "start_time": "2024-03-31T21:37:07.129Z"
   },
   {
    "duration": 48,
    "start_time": "2024-03-31T21:37:07.994Z"
   },
   {
    "duration": 126,
    "start_time": "2024-03-31T21:37:08.059Z"
   },
   {
    "duration": 3,
    "start_time": "2024-03-31T21:37:08.187Z"
   },
   {
    "duration": 1341,
    "start_time": "2024-03-31T21:37:08.191Z"
   },
   {
    "duration": 7600,
    "start_time": "2024-03-31T21:37:09.535Z"
   },
   {
    "duration": 8,
    "start_time": "2024-03-31T21:37:17.136Z"
   },
   {
    "duration": 0,
    "start_time": "2024-03-31T21:37:17.145Z"
   },
   {
    "duration": 0,
    "start_time": "2024-03-31T21:37:17.147Z"
   },
   {
    "duration": 0,
    "start_time": "2024-03-31T21:37:17.159Z"
   },
   {
    "duration": 0,
    "start_time": "2024-03-31T21:37:17.160Z"
   },
   {
    "duration": 0,
    "start_time": "2024-03-31T21:37:17.161Z"
   },
   {
    "duration": 0,
    "start_time": "2024-03-31T21:37:17.162Z"
   },
   {
    "duration": 13275,
    "start_time": "2024-04-01T01:08:45.270Z"
   },
   {
    "duration": 616,
    "start_time": "2024-04-01T01:08:58.547Z"
   },
   {
    "duration": 895,
    "start_time": "2024-04-01T01:08:59.164Z"
   },
   {
    "duration": 2116,
    "start_time": "2024-04-01T01:09:00.061Z"
   },
   {
    "duration": 39,
    "start_time": "2024-04-01T01:09:02.178Z"
   },
   {
    "duration": 116,
    "start_time": "2024-04-01T01:09:02.219Z"
   },
   {
    "duration": 3,
    "start_time": "2024-04-01T01:09:02.336Z"
   },
   {
    "duration": 151,
    "start_time": "2024-04-01T01:09:02.340Z"
   },
   {
    "duration": 0,
    "start_time": "2024-04-01T01:09:02.493Z"
   },
   {
    "duration": 0,
    "start_time": "2024-04-01T01:09:02.494Z"
   },
   {
    "duration": 0,
    "start_time": "2024-04-01T01:09:02.495Z"
   },
   {
    "duration": 0,
    "start_time": "2024-04-01T01:09:02.501Z"
   },
   {
    "duration": 0,
    "start_time": "2024-04-01T01:09:02.502Z"
   },
   {
    "duration": 0,
    "start_time": "2024-04-01T01:09:02.503Z"
   },
   {
    "duration": 0,
    "start_time": "2024-04-01T01:09:02.504Z"
   },
   {
    "duration": 0,
    "start_time": "2024-04-01T01:09:02.504Z"
   },
   {
    "duration": 7890,
    "start_time": "2024-04-01T01:10:17.842Z"
   },
   {
    "duration": 564,
    "start_time": "2024-04-01T01:10:25.734Z"
   },
   {
    "duration": 739,
    "start_time": "2024-04-01T01:10:26.301Z"
   },
   {
    "duration": 745,
    "start_time": "2024-04-01T01:10:27.042Z"
   },
   {
    "duration": 41,
    "start_time": "2024-04-01T01:10:27.788Z"
   },
   {
    "duration": 118,
    "start_time": "2024-04-01T01:10:27.830Z"
   },
   {
    "duration": 2,
    "start_time": "2024-04-01T01:10:27.950Z"
   },
   {
    "duration": 1488,
    "start_time": "2024-04-01T01:10:27.953Z"
   },
   {
    "duration": 6118,
    "start_time": "2024-04-01T01:10:29.443Z"
   },
   {
    "duration": 7938,
    "start_time": "2024-04-01T01:11:49.713Z"
   },
   {
    "duration": 550,
    "start_time": "2024-04-01T01:11:57.653Z"
   },
   {
    "duration": 735,
    "start_time": "2024-04-01T01:11:58.204Z"
   },
   {
    "duration": 723,
    "start_time": "2024-04-01T01:11:58.940Z"
   },
   {
    "duration": 40,
    "start_time": "2024-04-01T01:11:59.664Z"
   },
   {
    "duration": 104,
    "start_time": "2024-04-01T01:11:59.705Z"
   },
   {
    "duration": 2,
    "start_time": "2024-04-01T01:11:59.810Z"
   },
   {
    "duration": 1278,
    "start_time": "2024-04-01T01:11:59.813Z"
   },
   {
    "duration": 6018,
    "start_time": "2024-04-01T01:12:01.093Z"
   },
   {
    "duration": 340241,
    "start_time": "2024-04-01T01:12:07.113Z"
   },
   {
    "duration": 122,
    "start_time": "2024-04-01T01:17:47.356Z"
   },
   {
    "duration": 0,
    "start_time": "2024-04-01T01:17:47.479Z"
   },
   {
    "duration": 0,
    "start_time": "2024-04-01T01:17:47.480Z"
   },
   {
    "duration": 0,
    "start_time": "2024-04-01T01:17:47.481Z"
   },
   {
    "duration": 0,
    "start_time": "2024-04-01T01:17:47.482Z"
   },
   {
    "duration": 0,
    "start_time": "2024-04-01T01:17:47.482Z"
   },
   {
    "duration": 112,
    "start_time": "2024-04-01T01:28:34.689Z"
   },
   {
    "duration": 1483621,
    "start_time": "2024-04-01T01:30:23.347Z"
   },
   {
    "duration": 8290,
    "start_time": "2024-04-01T02:07:48.158Z"
   },
   {
    "duration": 561,
    "start_time": "2024-04-01T02:07:56.450Z"
   },
   {
    "duration": 865,
    "start_time": "2024-04-01T02:07:57.012Z"
   },
   {
    "duration": 753,
    "start_time": "2024-04-01T02:07:57.879Z"
   },
   {
    "duration": 33,
    "start_time": "2024-04-01T02:07:58.634Z"
   },
   {
    "duration": 114,
    "start_time": "2024-04-01T02:07:58.669Z"
   },
   {
    "duration": 2,
    "start_time": "2024-04-01T02:07:58.785Z"
   },
   {
    "duration": 1158,
    "start_time": "2024-04-01T02:07:58.788Z"
   },
   {
    "duration": 6561,
    "start_time": "2024-04-01T02:07:59.947Z"
   },
   {
    "duration": 54768,
    "start_time": "2024-04-01T02:08:06.511Z"
   },
   {
    "duration": 8,
    "start_time": "2024-04-01T02:09:01.280Z"
   },
   {
    "duration": 1,
    "start_time": "2024-04-01T02:09:01.289Z"
   },
   {
    "duration": 0,
    "start_time": "2024-04-01T02:09:01.290Z"
   },
   {
    "duration": 59782,
    "start_time": "2024-04-01T02:11:03.025Z"
   },
   {
    "duration": 1298936,
    "start_time": "2024-04-01T02:18:43.844Z"
   },
   {
    "duration": 126,
    "start_time": "2024-04-01T02:46:04.731Z"
   },
   {
    "duration": 13377815,
    "start_time": "2024-04-01T02:47:50.898Z"
   },
   {
    "duration": 8424,
    "start_time": "2024-04-01T06:31:36.636Z"
   },
   {
    "duration": 607,
    "start_time": "2024-04-01T06:31:45.062Z"
   },
   {
    "duration": 920,
    "start_time": "2024-04-01T06:31:45.673Z"
   },
   {
    "duration": 792,
    "start_time": "2024-04-01T06:31:46.594Z"
   },
   {
    "duration": 42,
    "start_time": "2024-04-01T06:31:47.388Z"
   },
   {
    "duration": 124,
    "start_time": "2024-04-01T06:31:47.433Z"
   },
   {
    "duration": 2,
    "start_time": "2024-04-01T06:31:47.559Z"
   },
   {
    "duration": 1212,
    "start_time": "2024-04-01T06:31:47.563Z"
   },
   {
    "duration": 6623,
    "start_time": "2024-04-01T06:31:48.777Z"
   },
   {
    "duration": 457,
    "start_time": "2024-04-01T06:31:55.402Z"
   },
   {
    "duration": 7,
    "start_time": "2024-04-01T06:31:55.861Z"
   },
   {
    "duration": 0,
    "start_time": "2024-04-01T06:31:55.870Z"
   },
   {
    "duration": 0,
    "start_time": "2024-04-01T06:31:55.871Z"
   },
   {
    "duration": 0,
    "start_time": "2024-04-01T06:31:55.873Z"
   },
   {
    "duration": 130,
    "start_time": "2024-04-01T06:42:41.012Z"
   },
   {
    "duration": 136,
    "start_time": "2024-04-01T06:43:00.283Z"
   },
   {
    "duration": 8314,
    "start_time": "2024-04-01T08:03:03.943Z"
   },
   {
    "duration": 554,
    "start_time": "2024-04-01T08:03:12.259Z"
   },
   {
    "duration": 916,
    "start_time": "2024-04-01T08:03:12.815Z"
   },
   {
    "duration": 778,
    "start_time": "2024-04-01T08:03:13.733Z"
   },
   {
    "duration": 42,
    "start_time": "2024-04-01T08:03:14.512Z"
   },
   {
    "duration": 124,
    "start_time": "2024-04-01T08:03:14.556Z"
   },
   {
    "duration": 2,
    "start_time": "2024-04-01T08:03:14.681Z"
   },
   {
    "duration": 1156,
    "start_time": "2024-04-01T08:03:14.684Z"
   },
   {
    "duration": 6405,
    "start_time": "2024-04-01T08:03:15.842Z"
   },
   {
    "duration": 8218,
    "start_time": "2024-04-01T08:03:49.717Z"
   },
   {
    "duration": 573,
    "start_time": "2024-04-01T08:03:57.937Z"
   },
   {
    "duration": 984,
    "start_time": "2024-04-01T08:03:58.512Z"
   },
   {
    "duration": 769,
    "start_time": "2024-04-01T08:03:59.497Z"
   },
   {
    "duration": 54,
    "start_time": "2024-04-01T08:04:00.268Z"
   },
   {
    "duration": 213,
    "start_time": "2024-04-01T08:04:00.324Z"
   },
   {
    "duration": 2,
    "start_time": "2024-04-01T08:04:00.539Z"
   },
   {
    "duration": 1205,
    "start_time": "2024-04-01T08:04:00.542Z"
   },
   {
    "duration": 6527,
    "start_time": "2024-04-01T08:04:01.748Z"
   },
   {
    "duration": 7728039,
    "start_time": "2024-04-01T08:04:08.277Z"
   },
   {
    "duration": 201,
    "start_time": "2024-04-01T10:12:56.317Z"
   },
   {
    "duration": 0,
    "start_time": "2024-04-01T10:12:56.520Z"
   },
   {
    "duration": 0,
    "start_time": "2024-04-01T10:12:56.521Z"
   },
   {
    "duration": 0,
    "start_time": "2024-04-01T10:12:56.523Z"
   },
   {
    "duration": 8094,
    "start_time": "2024-04-01T13:34:07.754Z"
   },
   {
    "duration": 630,
    "start_time": "2024-04-01T13:34:15.851Z"
   },
   {
    "duration": 926,
    "start_time": "2024-04-01T13:34:16.482Z"
   },
   {
    "duration": 720,
    "start_time": "2024-04-01T13:34:17.410Z"
   },
   {
    "duration": 32,
    "start_time": "2024-04-01T13:34:18.132Z"
   },
   {
    "duration": 116,
    "start_time": "2024-04-01T13:34:18.165Z"
   },
   {
    "duration": 3,
    "start_time": "2024-04-01T13:34:18.282Z"
   },
   {
    "duration": 1142,
    "start_time": "2024-04-01T13:34:18.286Z"
   },
   {
    "duration": 127,
    "start_time": "2024-04-01T13:34:19.429Z"
   },
   {
    "duration": 0,
    "start_time": "2024-04-01T13:34:19.557Z"
   },
   {
    "duration": 0,
    "start_time": "2024-04-01T13:34:19.559Z"
   },
   {
    "duration": 0,
    "start_time": "2024-04-01T13:34:19.560Z"
   },
   {
    "duration": 0,
    "start_time": "2024-04-01T13:34:19.561Z"
   },
   {
    "duration": 0,
    "start_time": "2024-04-01T13:34:19.561Z"
   },
   {
    "duration": 0,
    "start_time": "2024-04-01T13:34:19.562Z"
   },
   {
    "duration": 0,
    "start_time": "2024-04-01T13:34:19.563Z"
   },
   {
    "duration": 2577,
    "start_time": "2024-04-01T13:36:11.928Z"
   },
   {
    "duration": 36702,
    "start_time": "2024-04-01T13:37:16.443Z"
   },
   {
    "duration": 35,
    "start_time": "2024-04-01T13:39:09.315Z"
   },
   {
    "duration": 1130,
    "start_time": "2024-04-01T13:39:31.090Z"
   },
   {
    "duration": 7,
    "start_time": "2024-04-01T13:39:59.128Z"
   },
   {
    "duration": 1097,
    "start_time": "2024-04-01T13:40:50.627Z"
   },
   {
    "duration": 1247,
    "start_time": "2024-04-01T13:41:12.845Z"
   },
   {
    "duration": 3,
    "start_time": "2024-04-01T13:42:19.414Z"
   },
   {
    "duration": 3,
    "start_time": "2024-04-01T13:42:30.145Z"
   },
   {
    "duration": 8273,
    "start_time": "2024-04-01T13:51:57.176Z"
   },
   {
    "duration": 555,
    "start_time": "2024-04-01T13:52:05.451Z"
   },
   {
    "duration": 911,
    "start_time": "2024-04-01T13:52:06.010Z"
   },
   {
    "duration": 755,
    "start_time": "2024-04-01T13:52:06.922Z"
   },
   {
    "duration": 42,
    "start_time": "2024-04-01T13:52:07.679Z"
   },
   {
    "duration": 123,
    "start_time": "2024-04-01T13:52:07.722Z"
   },
   {
    "duration": 3,
    "start_time": "2024-04-01T13:52:07.847Z"
   },
   {
    "duration": 1186,
    "start_time": "2024-04-01T13:52:07.851Z"
   },
   {
    "duration": 37653,
    "start_time": "2024-04-01T13:52:09.039Z"
   },
   {
    "duration": 124,
    "start_time": "2024-04-01T13:52:46.694Z"
   },
   {
    "duration": 0,
    "start_time": "2024-04-01T13:52:46.819Z"
   },
   {
    "duration": 0,
    "start_time": "2024-04-01T13:52:46.820Z"
   },
   {
    "duration": 0,
    "start_time": "2024-04-01T13:52:46.821Z"
   },
   {
    "duration": 0,
    "start_time": "2024-04-01T13:52:46.822Z"
   },
   {
    "duration": 0,
    "start_time": "2024-04-01T13:52:46.823Z"
   },
   {
    "duration": 0,
    "start_time": "2024-04-01T13:52:46.824Z"
   },
   {
    "duration": 5,
    "start_time": "2024-04-01T13:53:31.298Z"
   },
   {
    "duration": 8115,
    "start_time": "2024-04-01T14:03:24.450Z"
   },
   {
    "duration": 653,
    "start_time": "2024-04-01T14:03:32.566Z"
   },
   {
    "duration": 853,
    "start_time": "2024-04-01T14:03:33.223Z"
   },
   {
    "duration": 740,
    "start_time": "2024-04-01T14:03:34.078Z"
   },
   {
    "duration": 37,
    "start_time": "2024-04-01T14:03:34.820Z"
   },
   {
    "duration": 114,
    "start_time": "2024-04-01T14:03:34.858Z"
   },
   {
    "duration": 2,
    "start_time": "2024-04-01T14:03:34.973Z"
   },
   {
    "duration": 1121,
    "start_time": "2024-04-01T14:03:34.976Z"
   },
   {
    "duration": 120,
    "start_time": "2024-04-01T14:03:36.098Z"
   },
   {
    "duration": 0,
    "start_time": "2024-04-01T14:03:36.220Z"
   },
   {
    "duration": 0,
    "start_time": "2024-04-01T14:03:36.221Z"
   },
   {
    "duration": 0,
    "start_time": "2024-04-01T14:03:36.222Z"
   },
   {
    "duration": 0,
    "start_time": "2024-04-01T14:03:36.223Z"
   },
   {
    "duration": 0,
    "start_time": "2024-04-01T14:03:36.224Z"
   },
   {
    "duration": 0,
    "start_time": "2024-04-01T14:03:36.225Z"
   },
   {
    "duration": 0,
    "start_time": "2024-04-01T14:03:36.226Z"
   },
   {
    "duration": 0,
    "start_time": "2024-04-01T14:03:36.227Z"
   },
   {
    "duration": 0,
    "start_time": "2024-04-01T14:03:36.228Z"
   },
   {
    "duration": 16,
    "start_time": "2024-04-01T14:06:55.064Z"
   },
   {
    "duration": 18,
    "start_time": "2024-04-01T14:07:28.904Z"
   },
   {
    "duration": 7,
    "start_time": "2024-04-01T14:13:15.454Z"
   },
   {
    "duration": 8100,
    "start_time": "2024-04-01T14:29:19.143Z"
   },
   {
    "duration": 558,
    "start_time": "2024-04-01T14:29:27.245Z"
   },
   {
    "duration": 923,
    "start_time": "2024-04-01T14:29:27.804Z"
   },
   {
    "duration": 733,
    "start_time": "2024-04-01T14:29:28.729Z"
   },
   {
    "duration": 40,
    "start_time": "2024-04-01T14:29:29.463Z"
   },
   {
    "duration": 110,
    "start_time": "2024-04-01T14:29:29.504Z"
   },
   {
    "duration": 2,
    "start_time": "2024-04-01T14:29:29.615Z"
   },
   {
    "duration": 1166,
    "start_time": "2024-04-01T14:29:29.618Z"
   },
   {
    "duration": 338449,
    "start_time": "2024-04-01T14:29:30.786Z"
   },
   {
    "duration": 122,
    "start_time": "2024-04-01T14:35:09.237Z"
   },
   {
    "duration": 0,
    "start_time": "2024-04-01T14:35:09.360Z"
   },
   {
    "duration": 0,
    "start_time": "2024-04-01T14:35:09.361Z"
   },
   {
    "duration": 0,
    "start_time": "2024-04-01T14:35:09.362Z"
   },
   {
    "duration": 0,
    "start_time": "2024-04-01T14:35:09.362Z"
   },
   {
    "duration": 0,
    "start_time": "2024-04-01T14:35:09.363Z"
   },
   {
    "duration": 0,
    "start_time": "2024-04-01T14:35:09.364Z"
   },
   {
    "duration": 0,
    "start_time": "2024-04-01T14:35:09.364Z"
   },
   {
    "duration": 0,
    "start_time": "2024-04-01T14:35:09.365Z"
   },
   {
    "duration": 8457,
    "start_time": "2024-04-01T14:41:08.006Z"
   },
   {
    "duration": 637,
    "start_time": "2024-04-01T14:41:16.465Z"
   },
   {
    "duration": 944,
    "start_time": "2024-04-01T14:41:17.107Z"
   },
   {
    "duration": 743,
    "start_time": "2024-04-01T14:41:18.052Z"
   },
   {
    "duration": 36,
    "start_time": "2024-04-01T14:41:18.797Z"
   },
   {
    "duration": 118,
    "start_time": "2024-04-01T14:41:18.835Z"
   },
   {
    "duration": 3,
    "start_time": "2024-04-01T14:41:18.954Z"
   },
   {
    "duration": 1159,
    "start_time": "2024-04-01T14:41:18.958Z"
   },
   {
    "duration": 988,
    "start_time": "2024-04-01T14:41:20.119Z"
   },
   {
    "duration": 0,
    "start_time": "2024-04-01T14:41:21.109Z"
   },
   {
    "duration": 0,
    "start_time": "2024-04-01T14:41:21.110Z"
   },
   {
    "duration": 0,
    "start_time": "2024-04-01T14:41:21.111Z"
   },
   {
    "duration": 0,
    "start_time": "2024-04-01T14:41:21.112Z"
   },
   {
    "duration": 0,
    "start_time": "2024-04-01T14:41:21.114Z"
   },
   {
    "duration": 0,
    "start_time": "2024-04-01T14:41:21.115Z"
   },
   {
    "duration": 0,
    "start_time": "2024-04-01T14:41:21.116Z"
   },
   {
    "duration": 0,
    "start_time": "2024-04-01T14:41:21.117Z"
   },
   {
    "duration": 8207,
    "start_time": "2024-04-01T14:43:23.858Z"
   },
   {
    "duration": 627,
    "start_time": "2024-04-01T14:43:32.067Z"
   },
   {
    "duration": 930,
    "start_time": "2024-04-01T14:43:32.696Z"
   },
   {
    "duration": 723,
    "start_time": "2024-04-01T14:43:33.628Z"
   },
   {
    "duration": 34,
    "start_time": "2024-04-01T14:43:34.352Z"
   },
   {
    "duration": 118,
    "start_time": "2024-04-01T14:43:34.387Z"
   },
   {
    "duration": 2,
    "start_time": "2024-04-01T14:43:34.506Z"
   },
   {
    "duration": 1138,
    "start_time": "2024-04-01T14:43:34.509Z"
   },
   {
    "duration": 339691,
    "start_time": "2024-04-01T14:43:35.648Z"
   },
   {
    "duration": 0,
    "start_time": "2024-04-01T14:49:15.341Z"
   },
   {
    "duration": 0,
    "start_time": "2024-04-01T14:49:15.342Z"
   },
   {
    "duration": 0,
    "start_time": "2024-04-01T14:49:15.342Z"
   },
   {
    "duration": 0,
    "start_time": "2024-04-01T14:49:15.343Z"
   },
   {
    "duration": 0,
    "start_time": "2024-04-01T14:49:15.344Z"
   },
   {
    "duration": 0,
    "start_time": "2024-04-01T14:49:15.345Z"
   },
   {
    "duration": 0,
    "start_time": "2024-04-01T14:49:15.346Z"
   },
   {
    "duration": 0,
    "start_time": "2024-04-01T14:49:15.347Z"
   },
   {
    "duration": 8039,
    "start_time": "2024-04-01T15:05:50.155Z"
   },
   {
    "duration": 604,
    "start_time": "2024-04-01T15:05:58.196Z"
   },
   {
    "duration": 955,
    "start_time": "2024-04-01T15:05:58.801Z"
   },
   {
    "duration": 758,
    "start_time": "2024-04-01T15:05:59.757Z"
   },
   {
    "duration": 37,
    "start_time": "2024-04-01T15:06:00.517Z"
   },
   {
    "duration": 134,
    "start_time": "2024-04-01T15:06:00.556Z"
   },
   {
    "duration": 20,
    "start_time": "2024-04-01T15:06:00.692Z"
   },
   {
    "duration": 1166,
    "start_time": "2024-04-01T15:06:00.713Z"
   },
   {
    "duration": 338979,
    "start_time": "2024-04-01T15:06:01.881Z"
   },
   {
    "duration": 0,
    "start_time": "2024-04-01T15:11:40.862Z"
   },
   {
    "duration": 0,
    "start_time": "2024-04-01T15:11:40.862Z"
   },
   {
    "duration": 0,
    "start_time": "2024-04-01T15:11:40.863Z"
   },
   {
    "duration": 0,
    "start_time": "2024-04-01T15:11:40.864Z"
   },
   {
    "duration": 0,
    "start_time": "2024-04-01T15:11:40.865Z"
   },
   {
    "duration": 0,
    "start_time": "2024-04-01T15:11:40.866Z"
   },
   {
    "duration": 0,
    "start_time": "2024-04-01T15:11:40.866Z"
   },
   {
    "duration": 0,
    "start_time": "2024-04-01T15:11:40.867Z"
   },
   {
    "duration": 339543,
    "start_time": "2024-04-01T15:14:22.686Z"
   },
   {
    "duration": 341205,
    "start_time": "2024-04-01T15:24:24.188Z"
   },
   {
    "duration": 3,
    "start_time": "2024-04-01T15:36:40.322Z"
   },
   {
    "duration": 3,
    "start_time": "2024-04-01T15:37:19.401Z"
   },
   {
    "duration": 276,
    "start_time": "2024-04-01T15:39:09.951Z"
   },
   {
    "duration": 92871,
    "start_time": "2024-04-01T15:39:35.128Z"
   },
   {
    "duration": 187,
    "start_time": "2024-04-01T15:46:27.651Z"
   },
   {
    "duration": 94762,
    "start_time": "2024-04-01T15:47:37.402Z"
   },
   {
    "duration": 92337,
    "start_time": "2024-04-01T15:49:43.156Z"
   },
   {
    "duration": 81,
    "start_time": "2024-04-01T15:51:59.727Z"
   },
   {
    "duration": 92973,
    "start_time": "2024-04-01T15:53:01.477Z"
   },
   {
    "duration": 362376,
    "start_time": "2024-04-01T15:55:13.294Z"
   },
   {
    "duration": 387089,
    "start_time": "2024-04-01T16:07:39.485Z"
   },
   {
    "duration": 46,
    "start_time": "2024-04-01T16:15:01.965Z"
   },
   {
    "duration": 1611206,
    "start_time": "2024-04-01T16:15:16.411Z"
   },
   {
    "duration": 14,
    "start_time": "2024-04-01T17:04:23.451Z"
   },
   {
    "duration": 183,
    "start_time": "2024-04-01T17:04:37.109Z"
   },
   {
    "duration": 185,
    "start_time": "2024-04-01T17:06:47.178Z"
   },
   {
    "duration": 14158,
    "start_time": "2024-04-02T09:16:49.046Z"
   },
   {
    "duration": 588,
    "start_time": "2024-04-02T09:17:03.206Z"
   },
   {
    "duration": 1301,
    "start_time": "2024-04-02T09:17:03.795Z"
   },
   {
    "duration": 2134,
    "start_time": "2024-04-02T09:17:13.027Z"
   }
  ],
  "kernelspec": {
   "display_name": "Python 3 (ipykernel)",
   "language": "python",
   "name": "python3"
  },
  "language_info": {
   "codemirror_mode": {
    "name": "ipython",
    "version": 3
   },
   "file_extension": ".py",
   "mimetype": "text/x-python",
   "name": "python",
   "nbconvert_exporter": "python",
   "pygments_lexer": "ipython3",
   "version": "3.9.5"
  },
  "toc": {
   "base_numbering": 1,
   "nav_menu": {},
   "number_sections": true,
   "sideBar": true,
   "skip_h1_title": true,
   "title_cell": "Содержание",
   "title_sidebar": "Contents",
   "toc_cell": true,
   "toc_position": {
    "height": "calc(100% - 180px)",
    "left": "10px",
    "top": "150px",
    "width": "302.391px"
   },
   "toc_section_display": true,
   "toc_window_display": false
  }
 },
 "nbformat": 4,
 "nbformat_minor": 2
}
